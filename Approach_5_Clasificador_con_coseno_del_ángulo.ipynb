{
  "cells": [
    {
      "cell_type": "markdown",
      "metadata": {
        "id": "GA6YPW4PV5y6"
      },
      "source": [
        "# Detector de plagio \n",
        "### (Clasificador con coseno del ángulo)\n",
        "\n",
        "En este trabajo se busca realizar un detector de plagio de código utilizando técnicas del Deep Learning\n",
        "\n",
        "\n",
        "**Autores:**\n",
        "\n",
        "*   Michelle Aylin Calzada Montes\n",
        "*   Manolo Ramírez Pintor\n",
        "*   Eduardo Rodríguez Gill"
      ]
    },
    {
      "cell_type": "markdown",
      "metadata": {
        "id": "xkmgLWIkToyd"
      },
      "source": [
        "### Cada vez que se quiera trabajar, se tiene que correr esta celda para tener acceso a los archivos"
      ]
    },
    {
      "cell_type": "code",
      "execution_count": null,
      "metadata": {
        "colab": {
          "base_uri": "https://localhost:8080/"
        },
        "id": "m5r2DWf7SUB2",
        "outputId": "da23d6c8-8de7-4c98-802b-10490ded94e5"
      },
      "outputs": [
        {
          "output_type": "stream",
          "name": "stdout",
          "text": [
            "Mounted at /content/drive\n",
            "/content/drive/Shareddrives/AI/Reto\n",
            " Approach3_Mich.ipynb\t\t   Reto.ipynb\n",
            "'Approach4 (no modificar).ipynb'   version_2_tokenized_dicc.zip\n",
            "'Approach5_(no_modificar).ipynb'   version_2_tokenized.zip\n",
            " Plagios_IA.zip\n"
          ]
        }
      ],
      "source": [
        "# Accesar a Google Drive\n",
        "from google.colab import drive\n",
        "drive.mount('/content/drive')\n",
        "\n",
        "# Ir al directorio de los archivos\n",
        "%cd \"/content/drive/Shareddrives/AI/Reto\"\n",
        "!ls"
      ]
    },
    {
      "cell_type": "code",
      "execution_count": null,
      "metadata": {
        "id": "3xfa-NIQ_hAa"
      },
      "outputs": [],
      "source": [
        "# Eliminar todo por si queremos reiniciar\n",
        "!rm -rf \"/content/Plagios IA\"\n",
        "\n",
        "# Copiar zip de las carpetas al almacenamiento de colab\n",
        "!cp -r /content/drive/Shareddrives/AI/Reto/Plagios_IA.zip /content\n",
        "\n",
        "# Nuevo - Copiar zip del codigo tokenizado al almacenamiento de colab\n",
        "!cp -r /content/drive/Shareddrives/AI/Reto/version_2_tokenized_dicc.zip /content"
      ]
    },
    {
      "cell_type": "code",
      "execution_count": null,
      "metadata": {
        "id": "NTJvSNyuVomu"
      },
      "outputs": [],
      "source": [
        "# Extraer zip de Plagios IA\n",
        "%%capture\n",
        "%cd /content\n",
        "!unzip Plagios_IA.zip\n",
        "!unzip version_2_tokenized_dicc.zip"
      ]
    },
    {
      "cell_type": "code",
      "execution_count": null,
      "metadata": {
        "id": "5uoxIlKYVbtP"
      },
      "outputs": [],
      "source": [
        "# Eliminar archivos distractores\n",
        "!rm -rf sample_data\n",
        "!rm Plagios_IA.zip"
      ]
    },
    {
      "cell_type": "markdown",
      "metadata": {
        "id": "XNFBj05eavwH"
      },
      "source": [
        "# **Ya no correr las siguientes celdas**\n",
        "## Revisando la info que contiene conplag en sus tablas\n",
        "\n"
      ]
    },
    {
      "cell_type": "code",
      "execution_count": null,
      "metadata": {
        "id": "gfbZisWR1-Oi"
      },
      "outputs": [],
      "source": [
        "# Ver info de conplag\n",
        "import pandas as pd\n",
        "df_conplag_labels = pd.read_csv(\"./Plagios IA/conplag/versions/labels.csv\")\n",
        "df_conplag_test = pd.read_csv(\"./Plagios IA/conplag/versions/test_pairs.csv\")\n",
        "df_conplag_train = pd.read_csv(\"./Plagios IA/conplag/versions/train_pairs.csv\")"
      ]
    },
    {
      "cell_type": "code",
      "execution_count": null,
      "metadata": {
        "colab": {
          "base_uri": "https://localhost:8080/",
          "height": 423
        },
        "id": "Tf15QUuy3TR3",
        "outputId": "6685f8be-598d-4bd7-874b-b94e35507e8b"
      },
      "outputs": [
        {
          "output_type": "execute_result",
          "data": {
            "text/plain": [
              "         sub1      sub2  problem  verdict\n",
              "0    0fd5b95a  6490bbe8       19        0\n",
              "1    464a03b8  ff1fc018       20        0\n",
              "2    3e6def38  548ffb07       14        1\n",
              "3    0b91922c  71a4f6d2        6        0\n",
              "4    9291ca83  d6fb3b9e       15        0\n",
              "..        ...       ...      ...      ...\n",
              "906  11c2ab99  28c2d81a        8        1\n",
              "907  550335a3  6d7d5dd7        4        0\n",
              "908  558df7d4  d8654140       17        0\n",
              "909  3088ca9c  6f393cfe       15        1\n",
              "910  213340b3  870e16d9        4        0\n",
              "\n",
              "[911 rows x 4 columns]"
            ],
            "text/html": [
              "\n",
              "  <div id=\"df-cf772bbc-e6e5-42c7-bc22-04a821592c32\">\n",
              "    <div class=\"colab-df-container\">\n",
              "      <div>\n",
              "<style scoped>\n",
              "    .dataframe tbody tr th:only-of-type {\n",
              "        vertical-align: middle;\n",
              "    }\n",
              "\n",
              "    .dataframe tbody tr th {\n",
              "        vertical-align: top;\n",
              "    }\n",
              "\n",
              "    .dataframe thead th {\n",
              "        text-align: right;\n",
              "    }\n",
              "</style>\n",
              "<table border=\"1\" class=\"dataframe\">\n",
              "  <thead>\n",
              "    <tr style=\"text-align: right;\">\n",
              "      <th></th>\n",
              "      <th>sub1</th>\n",
              "      <th>sub2</th>\n",
              "      <th>problem</th>\n",
              "      <th>verdict</th>\n",
              "    </tr>\n",
              "  </thead>\n",
              "  <tbody>\n",
              "    <tr>\n",
              "      <th>0</th>\n",
              "      <td>0fd5b95a</td>\n",
              "      <td>6490bbe8</td>\n",
              "      <td>19</td>\n",
              "      <td>0</td>\n",
              "    </tr>\n",
              "    <tr>\n",
              "      <th>1</th>\n",
              "      <td>464a03b8</td>\n",
              "      <td>ff1fc018</td>\n",
              "      <td>20</td>\n",
              "      <td>0</td>\n",
              "    </tr>\n",
              "    <tr>\n",
              "      <th>2</th>\n",
              "      <td>3e6def38</td>\n",
              "      <td>548ffb07</td>\n",
              "      <td>14</td>\n",
              "      <td>1</td>\n",
              "    </tr>\n",
              "    <tr>\n",
              "      <th>3</th>\n",
              "      <td>0b91922c</td>\n",
              "      <td>71a4f6d2</td>\n",
              "      <td>6</td>\n",
              "      <td>0</td>\n",
              "    </tr>\n",
              "    <tr>\n",
              "      <th>4</th>\n",
              "      <td>9291ca83</td>\n",
              "      <td>d6fb3b9e</td>\n",
              "      <td>15</td>\n",
              "      <td>0</td>\n",
              "    </tr>\n",
              "    <tr>\n",
              "      <th>...</th>\n",
              "      <td>...</td>\n",
              "      <td>...</td>\n",
              "      <td>...</td>\n",
              "      <td>...</td>\n",
              "    </tr>\n",
              "    <tr>\n",
              "      <th>906</th>\n",
              "      <td>11c2ab99</td>\n",
              "      <td>28c2d81a</td>\n",
              "      <td>8</td>\n",
              "      <td>1</td>\n",
              "    </tr>\n",
              "    <tr>\n",
              "      <th>907</th>\n",
              "      <td>550335a3</td>\n",
              "      <td>6d7d5dd7</td>\n",
              "      <td>4</td>\n",
              "      <td>0</td>\n",
              "    </tr>\n",
              "    <tr>\n",
              "      <th>908</th>\n",
              "      <td>558df7d4</td>\n",
              "      <td>d8654140</td>\n",
              "      <td>17</td>\n",
              "      <td>0</td>\n",
              "    </tr>\n",
              "    <tr>\n",
              "      <th>909</th>\n",
              "      <td>3088ca9c</td>\n",
              "      <td>6f393cfe</td>\n",
              "      <td>15</td>\n",
              "      <td>1</td>\n",
              "    </tr>\n",
              "    <tr>\n",
              "      <th>910</th>\n",
              "      <td>213340b3</td>\n",
              "      <td>870e16d9</td>\n",
              "      <td>4</td>\n",
              "      <td>0</td>\n",
              "    </tr>\n",
              "  </tbody>\n",
              "</table>\n",
              "<p>911 rows × 4 columns</p>\n",
              "</div>\n",
              "      <button class=\"colab-df-convert\" onclick=\"convertToInteractive('df-cf772bbc-e6e5-42c7-bc22-04a821592c32')\"\n",
              "              title=\"Convert this dataframe to an interactive table.\"\n",
              "              style=\"display:none;\">\n",
              "        \n",
              "  <svg xmlns=\"http://www.w3.org/2000/svg\" height=\"24px\"viewBox=\"0 0 24 24\"\n",
              "       width=\"24px\">\n",
              "    <path d=\"M0 0h24v24H0V0z\" fill=\"none\"/>\n",
              "    <path d=\"M18.56 5.44l.94 2.06.94-2.06 2.06-.94-2.06-.94-.94-2.06-.94 2.06-2.06.94zm-11 1L8.5 8.5l.94-2.06 2.06-.94-2.06-.94L8.5 2.5l-.94 2.06-2.06.94zm10 10l.94 2.06.94-2.06 2.06-.94-2.06-.94-.94-2.06-.94 2.06-2.06.94z\"/><path d=\"M17.41 7.96l-1.37-1.37c-.4-.4-.92-.59-1.43-.59-.52 0-1.04.2-1.43.59L10.3 9.45l-7.72 7.72c-.78.78-.78 2.05 0 2.83L4 21.41c.39.39.9.59 1.41.59.51 0 1.02-.2 1.41-.59l7.78-7.78 2.81-2.81c.8-.78.8-2.07 0-2.86zM5.41 20L4 18.59l7.72-7.72 1.47 1.35L5.41 20z\"/>\n",
              "  </svg>\n",
              "      </button>\n",
              "      \n",
              "  <style>\n",
              "    .colab-df-container {\n",
              "      display:flex;\n",
              "      flex-wrap:wrap;\n",
              "      gap: 12px;\n",
              "    }\n",
              "\n",
              "    .colab-df-convert {\n",
              "      background-color: #E8F0FE;\n",
              "      border: none;\n",
              "      border-radius: 50%;\n",
              "      cursor: pointer;\n",
              "      display: none;\n",
              "      fill: #1967D2;\n",
              "      height: 32px;\n",
              "      padding: 0 0 0 0;\n",
              "      width: 32px;\n",
              "    }\n",
              "\n",
              "    .colab-df-convert:hover {\n",
              "      background-color: #E2EBFA;\n",
              "      box-shadow: 0px 1px 2px rgba(60, 64, 67, 0.3), 0px 1px 3px 1px rgba(60, 64, 67, 0.15);\n",
              "      fill: #174EA6;\n",
              "    }\n",
              "\n",
              "    [theme=dark] .colab-df-convert {\n",
              "      background-color: #3B4455;\n",
              "      fill: #D2E3FC;\n",
              "    }\n",
              "\n",
              "    [theme=dark] .colab-df-convert:hover {\n",
              "      background-color: #434B5C;\n",
              "      box-shadow: 0px 1px 3px 1px rgba(0, 0, 0, 0.15);\n",
              "      filter: drop-shadow(0px 1px 2px rgba(0, 0, 0, 0.3));\n",
              "      fill: #FFFFFF;\n",
              "    }\n",
              "  </style>\n",
              "\n",
              "      <script>\n",
              "        const buttonEl =\n",
              "          document.querySelector('#df-cf772bbc-e6e5-42c7-bc22-04a821592c32 button.colab-df-convert');\n",
              "        buttonEl.style.display =\n",
              "          google.colab.kernel.accessAllowed ? 'block' : 'none';\n",
              "\n",
              "        async function convertToInteractive(key) {\n",
              "          const element = document.querySelector('#df-cf772bbc-e6e5-42c7-bc22-04a821592c32');\n",
              "          const dataTable =\n",
              "            await google.colab.kernel.invokeFunction('convertToInteractive',\n",
              "                                                     [key], {});\n",
              "          if (!dataTable) return;\n",
              "\n",
              "          const docLinkHtml = 'Like what you see? Visit the ' +\n",
              "            '<a target=\"_blank\" href=https://colab.research.google.com/notebooks/data_table.ipynb>data table notebook</a>'\n",
              "            + ' to learn more about interactive tables.';\n",
              "          element.innerHTML = '';\n",
              "          dataTable['output_type'] = 'display_data';\n",
              "          await google.colab.output.renderOutput(dataTable, element);\n",
              "          const docLink = document.createElement('div');\n",
              "          docLink.innerHTML = docLinkHtml;\n",
              "          element.appendChild(docLink);\n",
              "        }\n",
              "      </script>\n",
              "    </div>\n",
              "  </div>\n",
              "  "
            ]
          },
          "metadata": {},
          "execution_count": 6
        }
      ],
      "source": [
        "# Head de labels conplag\n",
        "df_conplag_labels"
      ]
    },
    {
      "cell_type": "code",
      "execution_count": null,
      "metadata": {
        "id": "yE8A7TjP8VqC"
      },
      "outputs": [],
      "source": [
        "# Quitar archivos si no lo hicimos bien\n",
        "!rm -rf \"Plagios IA/conplag/versions/version_2_tokenized\""
      ]
    },
    {
      "cell_type": "markdown",
      "metadata": {
        "id": "ilScD3s7l8wx"
      },
      "source": [
        "## Este bloque de código toma todos los archivos de conplag y los tokeniza\n",
        "* Los tokens se convierten a valores numéricos únicos con una función hash de 32 bits"
      ]
    },
    {
      "cell_type": "code",
      "execution_count": null,
      "metadata": {
        "id": "ZpRC4w1sci3m"
      },
      "outputs": [],
      "source": [
        "# Instalar code_tokenize\n",
        "%%capture\n",
        "!pip install code-tokenize"
      ]
    },
    {
      "cell_type": "code",
      "execution_count": null,
      "metadata": {
        "id": "CsMK3ujR3wAi",
        "colab": {
          "base_uri": "https://localhost:8080/"
        },
        "outputId": "33e8ca32-239f-48be-a770-28d1fb9c2b28"
      },
      "outputs": [
        {
          "output_type": "execute_result",
          "data": {
            "text/plain": [
              "1822"
            ]
          },
          "metadata": {},
          "execution_count": 9
        }
      ],
      "source": [
        "# Tokenización de código:\n",
        "import code_tokenize as ctok\n",
        "import os\n",
        "\n",
        "path = \"./Plagios IA/conplag/versions/version_2\"\n",
        "new_path = \"./Plagios IA/conplag/versions/version_2_tokenized\"\n",
        "folders = [x[0] for x in os.walk(path)]\n",
        "todos_los_archivos = []\n",
        "\n",
        "for folder in folders:\n",
        "    files = os.listdir(folder)\n",
        "    new_folder = folder.replace(path, new_path) # replace the original path with the new one\n",
        "    if not os.path.exists(new_folder): # check if the folder exists\n",
        "        os.mkdir(new_folder) # create the folder only if it doesn't exist\n",
        "        for file in files:\n",
        "            file_path = os.path.join(folder, file)\n",
        "            if os.path.isdir(file_path): # check if the file is actually a subfolder\n",
        "                subfiles = os.listdir(file_path) # get the files in the subfolder\n",
        "                new_subfolder = os.path.join(new_folder, file) # create a new subfolder with the same name\n",
        "                os.mkdir(new_subfolder)\n",
        "                for subfile in subfiles: # loop over the files in the subfolder\n",
        "                    subfile_path = os.path.join(file_path, subfile)\n",
        "                    todos_los_archivos.append(subfile_path)\n",
        "            else: # if the file is not a subfolder, proceed as before\n",
        "                with open(file_path, \"r\") as f:\n",
        "                    content = f.read()\n",
        "                todos_los_archivos.append(subfile_path)\n",
        "\n",
        "len(todos_los_archivos)"
      ]
    },
    {
      "cell_type": "code",
      "source": [
        "# Quitar carpetas\n",
        "!rm -rf \"Plagios IA/conplag/versions/version_2_tokenized\""
      ],
      "metadata": {
        "id": "Um_WH3sLCrju"
      },
      "execution_count": null,
      "outputs": []
    },
    {
      "cell_type": "code",
      "source": [
        "# Instalar tokenizers para hacer un diccionario\n",
        "%%capture\n",
        "!pip install tokenizers"
      ],
      "metadata": {
        "id": "1KA0w6LC__yu"
      },
      "execution_count": null,
      "outputs": []
    },
    {
      "cell_type": "code",
      "source": [
        "# Crear directorio para el diccionario\n",
        "!mkdir mi_tokenizer"
      ],
      "metadata": {
        "id": "a63LLgX-AOvF"
      },
      "execution_count": null,
      "outputs": []
    },
    {
      "cell_type": "code",
      "source": [
        "# Importar libreria del diccionario\n",
        "from tokenizers import CharBPETokenizer\n",
        "\n",
        "# Crear un tokenizer vacío\n",
        "tokenizer = CharBPETokenizer()\n",
        "# Entrenar el tokenizer con un conjunto de archivos de código (por ejemplo, en C++)\n",
        "tokenizer.train(files=todos_los_archivos, vocab_size=0)\n",
        "# Guardar el tokenizer y su vocabulario\n",
        "tokenizer.save_model(\"./mi_tokenizer\")\n",
        "\n",
        "# Cargar el tokenizer desde el disco a una variable\n",
        "tokenizer = CharBPETokenizer(\"mi_tokenizer/vocab.json\", \"mi_tokenizer/merges.txt\")\n",
        "\n",
        "# Probar con algún código de Java\n",
        "#tokens = tokenizer.encode(\"\"\"    static class Pair implements Comparable<Pair> {\n",
        "#        int id;\n",
        "#        long sum=0;\n",
        "#        public Pair(int id) {\n",
        "#            this.id=id;\n",
        "#        }\"\"\")\n",
        "#print(tokens.ids) # [1, 2, 3, 4]\n",
        "# print(tokens.tokens) # [\"print\", \"(\", \"\\\"Hola\\\"\", \")\"]\n"
      ],
      "metadata": {
        "id": "zOkVmahMAEw9"
      },
      "execution_count": null,
      "outputs": []
    },
    {
      "cell_type": "code",
      "source": [
        "# Tokenizar un nuevo archivo de código\n",
        "\n",
        "# Tokenización de código:\n",
        "import code_tokenize as ctok\n",
        "import os\n",
        "\n",
        "path = \"./Plagios IA/conplag/versions/version_2\"\n",
        "new_path = \"./Plagios IA/conplag/versions/version_2_tokenized\"\n",
        "folders = [x[0] for x in os.walk(path)]\n",
        "todos_los_archivos = []\n",
        "\n",
        "for folder in folders:\n",
        "    files = os.listdir(folder)\n",
        "    new_folder = folder.replace(path, new_path) # replace the original path with the new one\n",
        "    if not os.path.exists(new_folder): # check if the folder exists\n",
        "        os.mkdir(new_folder) # create the folder only if it doesn't exist\n",
        "        for file in files:\n",
        "            file_path = os.path.join(folder, file)\n",
        "            if os.path.isdir(file_path): # check if the file is actually a subfolder\n",
        "                subfiles = os.listdir(file_path) # get the files in the subfolder\n",
        "                new_subfolder = os.path.join(new_folder, file) # create a new subfolder with the same name\n",
        "                os.mkdir(new_subfolder)\n",
        "                for subfile in subfiles: # loop over the files in the subfolder\n",
        "                    subfile_path = os.path.join(file_path, subfile)\n",
        "                    todos_los_archivos.append(subfile_path)\n",
        "                    with open(subfile_path, \"r\") as f:\n",
        "                        content = f.read()\n",
        "                    tokens = tokenizer.encode(content)\n",
        "                    tokens_finales = str(tokens.ids).strip(\"[]\")\n",
        "                    new_subfile_path = os.path.join(new_subfolder, subfile[:-4] + \"tok\")\n",
        "                    with open(new_subfile_path, \"w\") as f:\n",
        "                        f.write(\"\".join(tokens_finales))\n",
        "            else: # if the file is not a subfolder, proceed as before\n",
        "                with open(file_path, \"r\") as f:\n",
        "                    content = f.read()\n",
        "                #print(file_path)\n",
        "                tokens = tokenizer.encode(content)\n",
        "                new_file_path = os.path.join(new_folder, file[:-4] + \"tok\")\n",
        "                todos_los_archivos.append(subfile_path)\n",
        "                tokens_finales = str(tokens.ids).strip(\"[]\")\n",
        "                with open(new_file_path, \"w\") as f:\n",
        "                    f.write(\"\".join(tokens_finales))"
      ],
      "metadata": {
        "id": "FNPtpheKBUzD"
      },
      "execution_count": null,
      "outputs": []
    },
    {
      "cell_type": "markdown",
      "metadata": {
        "id": "tg8_AYH5i2EX"
      },
      "source": [
        "## Estos (4) bloques de código almacena el código tokenizado a un zip y lo copia a Google Drive"
      ]
    },
    {
      "cell_type": "code",
      "execution_count": null,
      "metadata": {
        "colab": {
          "base_uri": "https://localhost:8080/"
        },
        "id": "qoT_QwpTYP0r",
        "outputId": "12707d94-1767-46f7-a00b-c08577658720"
      },
      "outputs": [
        {
          "output_type": "stream",
          "name": "stdout",
          "text": [
            "/content/Plagios IA/conplag/versions\n"
          ]
        }
      ],
      "source": [
        "# Nos dirigimos a la carpeta para almacenaje\n",
        "%cd \"/content/Plagios IA/conplag/versions/\""
      ]
    },
    {
      "cell_type": "code",
      "execution_count": null,
      "metadata": {
        "id": "olkXxuhthYdG"
      },
      "outputs": [],
      "source": [
        "# Lo zippeamos\n",
        "%%capture\n",
        "!zip -r /content/version_2_tokenized_dicc.zip \"version_2_tokenized\""
      ]
    },
    {
      "cell_type": "code",
      "execution_count": null,
      "metadata": {
        "colab": {
          "base_uri": "https://localhost:8080/"
        },
        "id": "xl-weNRmhaYh",
        "outputId": "626fa630-f1f7-4036-f7f6-09c30ef89091"
      },
      "outputs": [
        {
          "output_type": "stream",
          "name": "stdout",
          "text": [
            "/content\n"
          ]
        }
      ],
      "source": [
        "# Nos regresamos a nuestra raiz para evitar accidentes\n",
        "%cd /content"
      ]
    },
    {
      "cell_type": "code",
      "execution_count": null,
      "metadata": {
        "id": "Nc74fWZNjVbP"
      },
      "outputs": [],
      "source": [
        "!cp version_2_tokenized_dicc.zip /content/drive/Shareddrives/AI/Reto # Copy to GDrive"
      ]
    },
    {
      "cell_type": "code",
      "source": [
        "%%capture\n",
        "!rm -rf version_2_tokenized"
      ],
      "metadata": {
        "id": "Qzx-X-o2Ik1j"
      },
      "execution_count": null,
      "outputs": []
    },
    {
      "cell_type": "markdown",
      "metadata": {
        "id": "oULdY58dndxA"
      },
      "source": [
        "### Método de verificación (por si acaso)\n",
        "Valida que el número de carpetas y de archivos sea el mismo entre la carpeta original y la carpeta tokenizada."
      ]
    },
    {
      "cell_type": "code",
      "execution_count": null,
      "metadata": {
        "colab": {
          "base_uri": "https://localhost:8080/"
        },
        "id": "RqcHcPHHXTlQ",
        "outputId": "a8dc3734-db18-4362-c5b6-f965b36f6a89"
      },
      "outputs": [
        {
          "output_type": "stream",
          "name": "stdout",
          "text": [
            "Number of folders in ./Plagios IA/conplag/versions/version_2: 912\n",
            "Number of files in ./Plagios IA/conplag/versions/version_2: 1822\n",
            "Number of folders in ./Plagios IA/conplag/versions/version_2_tokenized: 0\n",
            "Number of files in ./Plagios IA/conplag/versions/version_2_tokenized: 0\n"
          ]
        }
      ],
      "source": [
        "# Verificar que todo está correcto en carpetas y archivos\n",
        "import os\n",
        "\n",
        "path1 = \"./Plagios IA/conplag/versions/version_2\"\n",
        "path2 = \"./Plagios IA/conplag/versions/version_2_tokenized\"\n",
        "\n",
        "folder_count1 = 0\n",
        "file_count1 = 0\n",
        "folder_count2 = 0\n",
        "file_count2 = 0\n",
        "\n",
        "for folder, subfolders, files in os.walk(path1):\n",
        "    folder_count1 += 1 # increment the folder count\n",
        "    file_count1 += len(files) # add the number of files in the folder\n",
        "\n",
        "for folder, subfolders, files in os.walk(path2):\n",
        "    folder_count2 += 1 # increment the folder count\n",
        "    file_count2 += len(files) # add the number of files in the folder\n",
        "\n",
        "print(f\"Number of folders in {path1}: {folder_count1}\")\n",
        "print(f\"Number of files in {path1}: {file_count1}\")\n",
        "print(f\"Number of folders in {path2}: {folder_count2}\")\n",
        "print(f\"Number of files in {path2}: {file_count2}\")"
      ]
    },
    {
      "cell_type": "markdown",
      "metadata": {
        "id": "_YFU4J1ZoxoJ"
      },
      "source": [
        "# **Continuar ejecución de celdas a partir de aquí:**\n",
        "## Creación de un dataframe para iniciar el entrenamiento"
      ]
    },
    {
      "cell_type": "code",
      "execution_count": null,
      "metadata": {
        "id": "2PdXddOSc3UH"
      },
      "outputs": [],
      "source": [
        "# Retomar los paths de trabajo \n",
        "import os\n",
        "path = \"./Plagios IA/conplag/versions/version_2\"\n",
        "new_path = \"./version_2_tokenized\""
      ]
    },
    {
      "cell_type": "code",
      "source": [
        "import pandas as pd\n",
        "\n",
        "# Lee el dataframe\n",
        "df_conplag_labels = pd.read_csv(\"./Plagios IA/conplag/versions/labels.csv\")\n",
        "\n",
        "# Separa los valores de verdict que sean 0 y 1 en dataframes separados\n",
        "df_verdict_0 = df_conplag_labels[df_conplag_labels['verdict'] == 0]\n",
        "df_verdict_1 = df_conplag_labels[df_conplag_labels['verdict'] == 1]\n",
        "\n",
        "# Selecciona aleatoriamente 251 filas de cada dataframe sin reemplazo\n",
        "df_verdict_0_sampled = df_verdict_0.sample(n=251, replace=False)\n",
        "df_verdict_1_sampled = df_verdict_1.sample(n=251, replace=False)\n",
        "\n",
        "# Concatena los dos dataframes resultantes en uno solo\n",
        "df_balanced = pd.concat([df_verdict_0_sampled, df_verdict_1_sampled])\n",
        "\n",
        "print(df_balanced)\n",
        "\n",
        "# Contar el número de 1s y 0s en la columna veredicto\n",
        "conteo = df_balanced['verdict'].value_counts()\n",
        "print(conteo)\n"
      ],
      "metadata": {
        "colab": {
          "base_uri": "https://localhost:8080/"
        },
        "id": "rwKrmRj5ZP1b",
        "outputId": "ea7cb089-4b01-44bb-f7ac-f57ab23e06e4"
      },
      "execution_count": null,
      "outputs": [
        {
          "output_type": "stream",
          "name": "stdout",
          "text": [
            "         sub1      sub2  problem  verdict\n",
            "470  a7e7f371  f8e7b886       21        0\n",
            "735  28820c82  8637bb90       18        0\n",
            "250  83b44c9c  8d9871a9       18        0\n",
            "381  5d175166  d1391025        3        0\n",
            "849  12309af3  390d2f23       17        0\n",
            "..        ...       ...      ...      ...\n",
            "662  1c8bb204  4b7646f4       18        1\n",
            "364  51cc7026  e81b2d16       16        1\n",
            "266  0df4050e  6f02c6d9       20        1\n",
            "595  a3ebea91  f80f6d8d        6        1\n",
            "560  1b372750  fdd41565       15        1\n",
            "\n",
            "[502 rows x 4 columns]\n",
            "0    251\n",
            "1    251\n",
            "Name: verdict, dtype: int64\n"
          ]
        }
      ]
    },
    {
      "cell_type": "code",
      "source": [
        "# create a dictionary that maps each pair of files to their verdict\n",
        "verdict_dict = {}\n",
        "for index, row in df_balanced.iterrows():\n",
        "    sub1 = row[\"sub1\"]\n",
        "    sub2 = row[\"sub2\"]\n",
        "    verdict = row[\"verdict\"]\n",
        "    verdict_dict[f\"{sub1}_{sub2}\"] = verdict\n",
        "\n",
        "print(verdict_dict)"
      ],
      "metadata": {
        "colab": {
          "base_uri": "https://localhost:8080/"
        },
        "id": "x5Qkz-APWRlk",
        "outputId": "b824d597-8db8-4a60-edb4-08c709e39080"
      },
      "execution_count": null,
      "outputs": [
        {
          "output_type": "stream",
          "name": "stdout",
          "text": [
            "{'a7e7f371_f8e7b886': 0, '28820c82_8637bb90': 0, '83b44c9c_8d9871a9': 0, '5d175166_d1391025': 0, '12309af3_390d2f23': 0, '5756162d_808f7516': 0, '3bd7275e_8635bc10': 0, 'c9159d9c_f0ede32a': 0, 'a5d5a95f_c4ca2ff3': 0, '1dab88fb_7b5f64b7': 0, '00af3420_d92c5342': 0, '1097b326_b45d28b2': 0, '24afd00e_279e274a': 0, '169e34bf_609af028': 0, '3a318b43_90b71536': 0, 'ca3128ab_e270e909': 0, '18d20d2e_d8a171a3': 0, '11373c16_7011024d': 0, 'b08b1c3c_d92b4600': 0, 'a3e272af_f7fc2e94': 0, '6f393cfe_b185d034': 0, '3380fa52_e1a5831a': 0, '7011024d_e6b7a899': 0, '8703709f_d2901569': 0, '2fdcf0ad_d20e861b': 0, 'a3e272af_d1cd194e': 0, '3d88acb8_b6023b26': 0, '29210e56_46e9aed4': 0, '11373c16_69b2fd22': 0, 'a368f345_b434c275': 0, '67241a76_8a39dbf5': 0, 'ba468e1f_d9199dfd': 0, '67996c4c_9028caf7': 0, '4138b081_f729338f': 0, '5a81e159_866a2d52': 0, '4da08761_6f393cfe': 0, 'c34bb733_ea899386': 0, '3a12e509_52cd85f2': 0, '13441e8f_2ebeae13': 0, '44428e63_c850e422': 0, '2db37cb1_875ed4c8': 0, '7c220622_a06631ff': 0, '72d9eb5b_884f5678': 0, '141effef_9cea10af': 0, '10bbe9de_48993e07': 0, '169e34bf_2bbf754b': 0, 'c9159d9c_fae0662f': 0, '6f02c6d9_c9159d9c': 0, 'ba468e1f_fb312dc6': 0, 'ae4d5b49_f665e87b': 0, '54eb12ca_949502c2': 0, '0ea5a836_732c98a0': 0, '7d7cf9a7_e45446bc': 0, '0951d079_b2bae06a': 0, '60c85a4f_8926151a': 0, '73f1c5f5_da0b7cb2': 0, '930dd1f1_f4b87cc2': 0, '80881cae_9555b9d1': 0, '05f939b3_e647bef7': 0, 'e2fe9d7d_ece1820d': 0, '54e71b9b_fd16f5b0': 0, '0588b869_11373c16': 0, '0d4d22e0_f898cee0': 0, '9069684f_bf85ab7b': 0, '722e318f_d9199dfd': 0, '90d0ffd0_b21c7532': 0, '11c2ab99_259c1ea4': 0, '9862c742_d9199dfd': 0, '46e9aed4_8ddb5587': 0, '00db6701_0c1143f7': 0, '1dab88fb_9c55bc1b': 0, '46e9aed4_ee4f7b06': 0, '42c7b9df_adbb2f71': 0, '4da08761_d6fb3b9e': 0, '7814575b_8cfe3ee0': 0, '31f29772_b728ba1d': 0, '1dab88fb_99ccaa44': 0, '45e38fad_5be7547e': 0, 'ec607ca1_ed37ba7d': 0, '7bcacc97_e431de28': 0, 'ae6567fb_d22a53cd': 0, '3a12e509_47310b0e': 0, '9756f13a_ea899386': 0, '4a570de6_9852706b': 0, '53551ea0_6be98ece': 0, '0048a372_0adb1ee5': 0, '3a12e509_c9159d9c': 0, '2470b521_f6ca6fc8': 0, '11d91f31_eea69e7f': 0, '0017d438_ac180326': 0, '69b2fd22_e6b7a899': 0, '2f8c3bf3_3c667d4f': 0, '298ee961_392218ef': 0, '2a35cd81_97a7fab5': 0, '608ee4fb_be7b6026': 0, '3368f340_d8a171a3': 0, '01b911ac_a195911e': 0, 'a101df86_f0d91796': 0, '5aebbb1b_e647bef7': 0, '18e2441c_792863db': 0, '595f5d6c_ae775964': 0, '624b8db5_e9986d44': 0, '018c9543_d1dbc56a': 0, '90f01508_ec8566b8': 0, '0df4050e_f5fde094': 0, '884f5678_cf27732e': 0, '6db218a2_8ad1ad84': 0, '26ad111c_b0a01ee7': 0, '26e699de_90dc2b20': 0, 'c4ca2ff3_d6fb3b9e': 0, '5db541bd_5e3089fa': 0, '34aa6a45_dd5fd2a2': 0, '7814575b_b55888de': 0, '585af783_f7a0ea6d': 0, '9be0602e_c4ca2ff3': 0, '72d9eb5b_9862c742': 0, '339fdc7f_6be4dcef': 0, '856a8eda_c354b74f': 0, '5449d33c_dff5ff0a': 0, '05ca89ed_5b9a0551': 0, '3dd65549_90dc2b20': 0, '4552d8a0_ec4c7e8e': 0, '00c0b82a_1ea771ea': 0, 'b7de5c19_c022c315': 0, 'e431de28_eb6cfca7': 0, '31cdf5fe_80cc284c': 0, '71c7ac71_bdfe8110': 0, '4e28b45e_fc1771af': 0, '49e94e7e_fcc7e8fa': 0, '161b4a40_49e94e7e': 0, '49b94994_558df7d4': 0, 'd221162a_ee4f7b06': 0, 'd12f26f0_df594a00': 0, '0e68e463_29cf2e70': 0, 'eea69e7f_f6ca6fc8': 0, '11d91f31_4323e2bd': 0, '81a9086f_baebdc56': 0, '99ccaa44_e7a997b5': 0, '98950986_b9595381': 0, '80881cae_f8e7b886': 0, '2560850b_76791c9f': 0, 'c73cd266_d2eb953e': 0, '5ee4d2f9_b38468e8': 0, '5af25bd7_cbbbed5f': 0, '32ff22fe_f0d91796': 0, '3ff25f43_a195911e': 0, '25597bcb_5fcbdd19': 0, '35f0c004_8d6f1bf5': 0, '0ca738ce_931faca2': 0, 'b2590225_f7fc2e94': 0, 'abd16ff0_db1ef8b3': 0, 'ca8f11a4_e19376ca': 0, '4e9c4bf9_f9e08a46': 0, 'd5dc6626_f59d9b6e': 0, '213340b3_870e16d9': 0, '99bc7da3_b3638571': 0, 'c57997b6_ff10b574': 0, '2c7a0000_69b2fd22': 0, '1adac634_ee0bc145': 0, '22dff786_624529e3': 0, '16857116_e185bce5': 0, '13860c31_870e16d9': 0, '4685c420_77448a05': 0, '8e990c75_96b3758b': 0, '0c9d4def_d3415fc5': 0, 'b7de5c19_ee65f7f5': 0, '35bb6075_ed728769': 0, '529d9642_8ad1ad84': 0, '5289e80a_d82fa7e3': 0, '38601291_3bcd2014': 0, '43b85d63_a37923d1': 0, '8c011cb9_e0f6aad6': 0, '1386da0e_f87eb1b3': 0, '2da4b3fe_f4b87cc2': 0, '4e87c35b_f1f600d9': 0, '0889dcfb_22138fad': 0, '71c7ac71_8f778337': 0, '487c9f62_54488276': 0, '6f393cfe_d3a0b8d2': 0, '3afcc566_90dc2b20': 0, '16a2a867_3951966f': 0, '547ee69b_5ce1fe32': 0, '1230c43e_2bbf754b': 0, 'a7063d01_ac4d0fc5': 0, 'c4ca2ff3_ccc8ef27': 0, '722e318f_ff1fc018': 0, '4a5b029f_fb05904c': 0, '1a6f8b20_f6ed6826': 0, '3e191f3b_595f5d6c': 0, 'a4d6775d_eea69e7f': 0, '27ec4acc_ddcadc64': 0, '0ea5a836_3c74c140': 0, '0b5cff5a_4fb09c5f': 0, '1410e423_da5cf40b': 0, '680ba922_6e207cbf': 0, 'e185bce5_f3d7ce08': 0, '1f6b81b1_51151974': 0, '6f393cfe_f38ae053': 0, 'cdb801a1_dcdaf666': 0, 'ae716b8f_f1a42a42': 0, '4ea10951_7c11511f': 0, '4d279121_856a8eda': 0, '354d060f_e1c4f3db': 0, '35857a5a_ab7507bf': 0, '3a12e509_e812ee0b': 0, '49b94994_d8654140': 0, '1162c08f_eea69e7f': 0, '16857116_6e207cbf': 0, '2eb89317_d4a3869e': 0, '6d55e68b_d8a171a3': 0, '8c591975_b6724dd9': 0, '5a81e159_d82fa7e3': 0, '550335a3_6d7d5dd7': 0, '94b3b86d_efe594c3': 0, '1c8bb204_7d7cf9a7': 0, '034030f3_9e4ddc38': 0, '3951966f_9bc690ef': 0, 'fadc1365_fdd85afb': 0, '2bda1866_e4ab72e5': 0, '69b2fd22_d221162a': 0, '49b94994_f0d91796': 0, '29210e56_4323e2bd': 0, 'd2a4c1fb_dcdaf666': 0, '643e22cc_bd7281dc': 0, '69b2fd22_764484c3': 0, '67996c4c_7bc92b7f': 0, '28d8c381_417833c3': 0, '1ea771ea_2f8c3bf3': 0, '51e5a1a5_960a4c0f': 0, '6de04ee2_d9199dfd': 0, '29cb9b0e_c77654b8': 0, '2bbf754b_3a12e509': 0, 'cdb801a1_ed610dc9': 0, 'baa8e497_cc9230d3': 0, '25151980_3b5cec19': 0, '3b498a39_69b2fd22': 0, '29d865c3_5cfa2861': 0, '69b2fd22_7bc92b7f': 0, '00af3420_5449d33c': 0, '07043d35_97a7fab5': 0, 'bf0df1d5_d1cd194e': 0, '5f3a2a70_e7a997b5': 0, '0f09b843_45e41c6d': 0, 'd9199dfd_ff1fc018': 0, '5c54f087_c6c7fa0c': 0, '68cdd55d_c18048bf': 0, '7c11511f_f3d7ce08': 0, '1230c43e_ce0b2178': 0, '69c97258_db01da00': 0, '565f77b7_856a8eda': 0, '1410e423_e90a198b': 0, '6b97058e_921b6e4a': 1, '21c9b214_d5a20936': 1, '77d22fc3_d3528b2a': 1, 'd9199dfd_fb312dc6': 1, '0cedec8a_ac8acb97': 1, '829d2024_9852706b': 1, '08cf0478_9291ca83': 1, 'a4d6775d_cb87df79': 1, '04ed33a5_0c173033': 1, '36f1b52a_558df7d4': 1, '8a39dbf5_ff3283cf': 1, '9399204d_b434c275': 1, '28c2d81a_fa484fdd': 1, '6e7cd58b_7279bcb3': 1, '1162c08f_f6ca6fc8': 1, 'a4c98ae1_ee4f7b06': 1, '55ab9b5d_c6113c06': 1, '43ca682a_baebdc56': 1, 'b434c275_fdc4f384': 1, '21123500_fbd26aa0': 1, '5dbd0a07_bdc08e6f': 1, '6e7cd58b_cfba313d': 1, '1c90c367_f0801d53': 1, '8a729537_e270e909': 1, '6946f466_ce7027ee': 1, '4e28b45e_d7a8434f': 1, '8a729537_abd16ff0': 1, 'af2b138c_e45446bc': 1, '16857116_f3d7ce08': 1, 'e1c4f3db_e81b2d16': 1, '0ee2f8f1_c2b7b017': 1, '3e6def38_e7dce35b': 1, '2c7a0000_f4f1b18f': 1, '29cf2e70_2f4509a0': 1, '3088ca9c_6f393cfe': 1, '04df7bb8_1ea771ea': 1, '69b2fd22_9028caf7': 1, '6bcc5afd_734a94be': 1, '5e8d1aaa_c4d04ce7': 1, '3412b353_528a6162': 1, '0ecf356d_71a4f6d2': 1, '2c7a0000_bd50e3fe': 1, '42fe7dd0_c4ca2ff3': 1, '51d88c51_c2b7b017': 1, '8d9871a9_e431de28': 1, '1480a727_a7d1ce58': 1, '63bfa731_7974ffba': 1, '810fd282_ec558d69': 1, '63a24497_6e5ab1d2': 1, '584b0e9e_d9199dfd': 1, '53196443_e496d229': 1, '403e3270_58d18fca': 1, '18e2441c_24b20554': 1, '05ca89ed_163d0dde': 1, '0017d438_9852706b': 1, '80881cae_a7e7f371': 1, '2120328e_464a03b8': 1, '317a209c_9ab3c0e1': 1, '5af25bd7_77ec956f': 1, '18e2441c_43b10dec': 1, '3ff60986_d0b4b96c': 1, '034030f3_bf992c91': 1, '0c173033_6b83b22e': 1, '4241f473_77448a05': 1, '3380fa52_f28b8cb4': 1, '11c2ab99_e6a6e318': 1, '317a209c_921b6e4a': 1, '116765b1_38601291': 1, '089b7f00_fb20d298': 1, 'bdfe8110_fadc1365': 1, '54d7c21e_80881cae': 1, '921b6e4a_e7dce35b': 1, '2f8c3bf3_a3abac01': 1, '63bfa731_949502c2': 1, '734a94be_cb87df79': 1, '1013b392_5a340556': 1, '4212c4b9_829d2024': 1, '8f6421f3_bdfe8110': 1, '3c667d4f_be3b1289': 1, '7686c854_abd16ff0': 1, '9fc811f7_cff39394': 1, '0f6ca337_6843cc19': 1, '80c384e4_967b67b0': 1, 'e6a6e318_fadc1365': 1, '3cbcb1cc_6045e5d1': 1, '2da4b3fe_3d06b643': 1, '04df7bb8_ee270b2a': 1, '1469697d_69c86b61': 1, '04df7bb8_85125ecb': 1, 'aa8091b0_eec856c0': 1, '0f3a2acf_16e6d8bb': 1, 'ccc8ef27_d6fb3b9e': 1, 'b728ba1d_d04e5afb': 1, '47d54299_63bfa731': 1, '201e3463_de599e42': 1, '0df4050e_d9199dfd': 1, '54d7c21e_a7e7f371': 1, '8f6421f3_ea2fc2bc': 1, '9debf95c_ac596a43': 1, '66565156_6f393cfe': 1, '8aadde13_fb20d298': 1, '6825260d_c972dd00': 1, '3088ca9c_7a9c69d8': 1, '480de7be_f4757480': 1, 'fc7dfa16_fe94ee2f': 1, '9261620f_f0881ab5': 1, '079ad09e_20012377': 1, '80881cae_ad4c7a20': 1, '28c2d81a_48c5f745': 1, 'a7894e0b_fadc1365': 1, '39210347_68dff461': 1, '873828f7_ac8acb97': 1, '115c99cb_921b6e4a': 1, '2120328e_b790ef12': 1, '24b20554_43b10dec': 1, 'd23b398c_e14d1ba0': 1, '548ffb07_921b6e4a': 1, '2b7b2d45_a0b406e6': 1, '6f02c6d9_c2242c42': 1, '11c2ab99_28c2d81a': 1, '2bd5c798_317baeaf': 1, '1162c08f_6bcc5afd': 1, '2e1109d7_e7000ac2': 1, '7686c854_edce3e39': 1, '41e69083_54eb1a6b': 1, '3c667d4f_a7894e0b': 1, '9e7551da_f0e13442': 1, '530f01c2_f41057db': 1, '0951d079_71a4f6d2': 1, '0ee2f8f1_587307f2': 1, '548ffb07_9ab3c0e1': 1, '29cf2e70_584b0e9e': 1, '115c99cb_548ffb07': 1, '3d06b643_db7f80a5': 1, '3e6def38_548ffb07': 1, '4548305b_be3b1289': 1, '11c2ab99_bdfe8110': 1, '6653a758_6bcc5afd': 1, '132281e9_f415c0bf': 1, '6f02c6d9_ff34fab2': 1, '7c11511f_ca8f11a4': 1, '2b9dfed3_351c9206': 1, 'c57a973e_fa484fdd': 1, '1071f735_cd835290': 1, '48993e07_96cd6ee9': 1, '317a209c_6b97058e': 1, '7279bcb3_cfba313d': 1, '3d06b643_f6ca6fc8': 1, 'a7e7f371_ad4c7a20': 1, '45f46b14_7b162d33': 1, '8b490132_db09b3f9': 1, '8a5fe3d9_ea899386': 1, '2b2d3b84_aaccc000': 1, 'b9595381_d6fb3b9e': 1, '12c1cc56_7b71234c': 1, '3b5cec19_8f31b279': 1, 'a101df86_dffa45ac': 1, '46bde295_8a858867': 1, '3d245498_7838095f': 1, '1ea771ea_ee270b2a': 1, '1162c08f_734a94be': 1, '597195ee_5f3a196a': 1, '722e318f_b790ef12': 1, '1dab88fb_f59d9b6e': 1, '47d54299_da0b7cb2': 1, '38129877_7493a104': 1, '11c2ab99_4f7af821': 1, '6bcc5afd_f6ca6fc8': 1, 'b8b08542_d783d815': 1, '04df7bb8_aaccc000': 1, '4da08761_c4ca2ff3': 1, 'd55c238c_ebce9e39': 1, '6f393cfe_d61f51c5': 1, '0f14b12d_7d12d33c': 1, '0b04b41e_9291ca83': 1, 'bdfe8110_c57a973e': 1, '4fd752f7_c7239c97': 1, '3d06b643_cb87df79': 1, '04ed33a5_6b83b22e': 1, 'cc9230d3_ec558d69': 1, '0951d079_0ecf356d': 1, '548ffb07_e7dce35b': 1, '2bbc6c80_4e58558c': 1, '3368f340_a8f7c8b7': 1, '3380fa52_48993e07': 1, '1162c08f_6653a758': 1, '3d88acb8_8aadde13': 1, '4f7af821_8f6421f3': 1, '53d782a0_5769b7b3': 1, '317a209c_548ffb07': 1, '7686c854_8a729537': 1, '99afdfb3_e152c1ff': 1, '829d2024_8a20e743': 1, 'aa266c38_b5fbe7a2': 1, '8f30bfc3_af1b152e': 1, 'bf0df1d5_ea899386': 1, '22b41936_9cea10af': 1, '34b9ed7f_8311f375': 1, '29cf2e70_72d9eb5b': 1, '12c1cc56_c06c758d': 1, '9291ca83_b185d034': 1, '2695ce73_ac8acb97': 1, '28c2d81a_8f6421f3': 1, '54129ce9_607d5541': 1, '54d7c21e_ad4c7a20': 1, '0fdc80c5_28c2d81a': 1, '3c74c140_732c98a0': 1, '317a209c_3e6def38': 1, '949502c2_9fc811f7': 1, '6c4ac8d3_829d2024': 1, 'c9da41af_f59d9b6e': 1, '6f393cfe_7a9c69d8': 1, '11c2ab99_fadc1365': 1, '0b27be88_3f4a5b64': 1, '6bcc5afd_cb87df79': 1, 'ac144188_e899614e': 1, '6f02c6d9_884f5678': 1, '1162c08f_a4d6775d': 1, '63bfa731_9fc811f7': 1, 'ca0c55ad_e14d1ba0': 1, '3d06b643_6bcc5afd': 1, '48c5f745_4d25818e': 1, '464a03b8_f0ede32a': 1, '558df7d4_f0d91796': 1, '2c7a0000_4201fdf7': 1, 'bdfe8110_e6a6e318': 1, '29cf2e70_b2001d68': 1, '14b0fb8e_d221162a': 1, '3e93b259_a60fba84': 1, '2a655afe_692a4496': 1, '927384f2_b2bae06a': 1, '6815a099_f41057db': 1, 'bd3051e3_e2e37533': 1, '29cb9b0e_d3da65ff': 1, '42fe7dd0_9291ca83': 1, '4eac0eea_f4d6d28d': 1, '2120328e_6de04ee2': 1, '6db218a2_90b71536': 1, '11c2ab99_8f6421f3': 1, '2915ac5b_9b8c6bd7': 1, '9ab3c0e1_d5fa4746': 1, '2d1553b5_656d0f78': 1, '734a94be_f6ca6fc8': 1, '4b398e3e_94690b36': 1, '169e34bf_fae0662f': 1, '6653a758_f6ca6fc8': 1, '1c8bb204_4b7646f4': 1, '51cc7026_e81b2d16': 1, '0df4050e_6f02c6d9': 1, 'a3ebea91_f80f6d8d': 1, '1b372750_fdd41565': 1}\n"
          ]
        }
      ]
    },
    {
      "cell_type": "code",
      "source": [
        "import numpy as np\n",
        "# create empty lists to store the inputs and targets\n",
        "inputs = []\n",
        "targets = []\n",
        "lenght = 0\n",
        "for subfolder in os.listdir(new_path):\n",
        "    if subfolder in verdict_dict:\n",
        "      verdict = verdict_dict[subfolder]\n",
        "    else:\n",
        "      continue\n",
        "    file1 = len(np.loadtxt(os.path.join(new_path, subfolder, subfolder[:8] + \".tok\"), dtype=int, delimiter=\",\"))\n",
        "    file2 = len(np.loadtxt(os.path.join(new_path, subfolder, subfolder[9:] + \".tok\"), dtype=int, delimiter=\",\"))\n",
        "    if file1 > lenght:\n",
        "      lenght = file1\n",
        "    if file2 > lenght:\n",
        "      lenght = file2\n",
        "\n",
        "lenght"
      ],
      "metadata": {
        "colab": {
          "base_uri": "https://localhost:8080/"
        },
        "id": "3qiMs_BGhWOy",
        "outputId": "c944cf20-be8e-4e97-d1b5-799ceb10024e"
      },
      "execution_count": null,
      "outputs": [
        {
          "output_type": "execute_result",
          "data": {
            "text/plain": [
              "3934"
            ]
          },
          "metadata": {},
          "execution_count": 8
        }
      ]
    },
    {
      "cell_type": "code",
      "execution_count": null,
      "metadata": {
        "colab": {
          "base_uri": "https://localhost:8080/"
        },
        "id": "85Ri27Rucok7",
        "outputId": "6f7cd811-2b20-41f0-937c-2f517080e1e3"
      },
      "outputs": [
        {
          "output_type": "execute_result",
          "data": {
            "text/plain": [
              "(502, 2, 3934)"
            ]
          },
          "metadata": {},
          "execution_count": 9
        }
      ],
      "source": [
        "import numpy as np\n",
        "# create empty lists to store the inputs and targets\n",
        "inputs = []\n",
        "targets = []\n",
        "# loop over the subfolders in the tokenized folder\n",
        "for subfolder in os.listdir(new_path):\n",
        "    # get the verdict from the dictionary\n",
        "    if subfolder in verdict_dict:\n",
        "      verdict = verdict_dict[subfolder]\n",
        "      #print(verdict)\n",
        "    else:\n",
        "      continue\n",
        "      #print(\"La clave no existe en el diccionario.\")\n",
        "    # load the two files and pad them with zeros\n",
        "    #print(new_path)\n",
        "    #print(subfolder)\n",
        "    file1 = np.loadtxt(os.path.join(new_path, subfolder, subfolder[:8] + \".tok\"), dtype=int, delimiter=\",\")\n",
        "    pad_width1 = lenght - len(file1)\n",
        "    file1 = np.pad(file1, (0, pad_width1), mode='constant')\n",
        "    file2 = np.loadtxt(os.path.join(new_path, subfolder, subfolder[9:] + \".tok\"), dtype=int, delimiter=\",\")\n",
        "    pad_width2 = lenght - len(file2)\n",
        "    file2 = np.pad(file2, (0, pad_width2), mode='constant')\n",
        "    # stack the arrays horizontally\n",
        "    input = file1, file2\n",
        "    # append the input and target to the lists\n",
        "    inputs.append(input)\n",
        "    targets.append(verdict)\n",
        "# convert the lists to arrays\n",
        "inputs = np.array(inputs)\n",
        "targets = np.array(targets)\n",
        "\n",
        "inputs.shape"
      ]
    },
    {
      "cell_type": "code",
      "source": [
        "inputs"
      ],
      "metadata": {
        "colab": {
          "base_uri": "https://localhost:8080/"
        },
        "id": "cnSoFT33JXMo",
        "outputId": "fe36d701-729e-489c-d08b-030eec5ecdd0"
      },
      "execution_count": null,
      "outputs": [
        {
          "output_type": "execute_result",
          "data": {
            "text/plain": [
              "array([[[72, 76, 79, ...,  0,  0,  0],\n",
              "        [72, 76, 79, ...,  0,  0,  0]],\n",
              "\n",
              "       [[72, 76, 79, ...,  0,  0,  0],\n",
              "        [72, 76, 79, ...,  0,  0,  0]],\n",
              "\n",
              "       [[72, 76, 79, ...,  0,  0,  0],\n",
              "        [72, 76, 79, ...,  0,  0,  0]],\n",
              "\n",
              "       ...,\n",
              "\n",
              "       [[72, 76, 79, ...,  0,  0,  0],\n",
              "        [72, 76, 79, ...,  0,  0,  0]],\n",
              "\n",
              "       [[72, 76, 79, ...,  0,  0,  0],\n",
              "        [72, 76, 79, ...,  0,  0,  0]],\n",
              "\n",
              "       [[72, 76, 79, ...,  0,  0,  0],\n",
              "        [72, 76, 79, ...,  0,  0,  0]]])"
            ]
          },
          "metadata": {},
          "execution_count": 10
        }
      ]
    },
    {
      "cell_type": "code",
      "source": [
        "# Dividir la columna de program por 305\n",
        "inputs = inputs \n",
        "print(inputs[1])"
      ],
      "metadata": {
        "colab": {
          "base_uri": "https://localhost:8080/"
        },
        "id": "IDOkIfYeTiiw",
        "outputId": "c5a48dc5-4e52-4a38-eabb-32f94256a56b"
      },
      "execution_count": null,
      "outputs": [
        {
          "output_type": "stream",
          "name": "stdout",
          "text": [
            "[[72 76 79 ...  0  0  0]\n",
            " [72 76 79 ...  0  0  0]]\n"
          ]
        }
      ]
    },
    {
      "cell_type": "code",
      "source": [
        "cos_ang = []\n",
        "\n",
        "#print(inputs[0][0])\n",
        "\n",
        "\n",
        "print(\"Predicción \\t Veredicto\")\n",
        "\n",
        "for i in range(len(inputs)):\n",
        "  A = np.array(inputs[i][0])\n",
        "  B = np.array(inputs[i][1])\n",
        "\n",
        "  # Calcular el producto escalar\n",
        "  dot_product = np.dot(A, B)\n",
        "\n",
        "  # Calcular las normas de los vectores\n",
        "  norm_A = np.linalg.norm(A)\n",
        "  norm_B = np.linalg.norm(B)\n",
        "\n",
        "  # Calcular el coseno del ángulo\n",
        "  cos_angle = dot_product / (norm_A * norm_B)\n",
        "\n",
        "  # Calcular el ángulo en radianes\n",
        "  angle_rad = np.arccos(cos_angle)\n",
        "\n",
        "  # Convertir el ángulo a grados\n",
        "  angle_deg = np.degrees(angle_rad)\n",
        "\n",
        "  \n",
        "\n",
        "  print(angle_deg, targets[i])\n",
        "  cos_ang.append(angle_deg/100)\n",
        "\n",
        "\n",
        "cos_ang = np.array(cos_ang)   "
      ],
      "metadata": {
        "colab": {
          "base_uri": "https://localhost:8080/"
        },
        "id": "Brr_rdkJQJFc",
        "outputId": "d759fc0e-d986-4397-b278-b0a92fb41080"
      },
      "execution_count": null,
      "outputs": [
        {
          "output_type": "stream",
          "name": "stdout",
          "text": [
            "Predicción \t Veredicto\n",
            "42.11323655504453 1\n",
            "66.151177116222 0\n",
            "50.50564540574933 0\n",
            "58.0759835532789 1\n",
            "59.172096022121394 0\n",
            "33.661317134017835 1\n",
            "42.35227749753709 1\n",
            "59.01853321945645 0\n",
            "61.54164238686728 0\n",
            "41.762745443610406 0\n",
            "46.62777288785249 0\n",
            "51.55422463312273 0\n",
            "0.0 1\n",
            "45.64453665990246 1\n",
            "56.05037934137224 0\n",
            "43.73580588720757 0\n",
            "42.95742286671006 0\n",
            "1.2074182697257333e-06 1\n",
            "48.28705847066257 0\n",
            "45.014437940008776 0\n",
            "45.759024671483175 0\n",
            "0.0 1\n",
            "2.077526719810097 1\n",
            "56.03191467236127 1\n",
            "50.24477925799052 0\n",
            "51.10511531555111 1\n",
            "42.7307321681747 0\n",
            "40.02925654253016 1\n",
            "48.545670732901044 1\n",
            "57.94086252340076 0\n",
            "46.36554122898142 1\n",
            "49.1937219459452 0\n",
            "46.98030793708786 0\n",
            "45.75015646672657 1\n",
            "57.43888004243021 1\n",
            "47.28656926261517 1\n",
            "59.947654055794395 0\n",
            "52.86587776747661 0\n",
            "62.822041202188664 0\n",
            "57.98979228141929 1\n",
            "0.0 1\n",
            "44.758857407118896 1\n",
            "39.93728487255446 0\n",
            "44.971035071432965 0\n",
            "42.344093084930876 1\n",
            "1.2074182697257333e-06 1\n",
            "49.5960657481728 0\n",
            "46.60474682516057 0\n",
            "45.67810304362389 1\n",
            "44.233833722128395 0\n",
            "50.36799130433348 1\n",
            "48.72639095929033 0\n",
            "42.36133169711945 1\n",
            "0.0 1\n",
            "42.044292319983214 0\n",
            "44.1727960473205 1\n",
            "52.42314074126034 0\n",
            "55.81343112391691 0\n",
            "44.66144862667654 1\n",
            "44.59949891727148 0\n",
            "57.48355415257978 0\n",
            "43.646745747834856 0\n",
            "43.30733416023451 1\n",
            "39.29012742071335 1\n",
            "61.99822929176563 0\n",
            "42.891854010180055 1\n",
            "55.481826615639164 0\n",
            "36.754455460904865 1\n",
            "58.52417762054939 1\n",
            "47.27249815323152 1\n",
            "58.78187006773085 0\n",
            "56.98086972689698 0\n",
            "47.37874574288821 1\n",
            "49.413824995136444 1\n",
            "66.99899915919495 1\n",
            "60.05300188226194 1\n",
            "43.584893602066984 1\n",
            "37.51471441426806 1\n",
            "48.237104022907396 0\n",
            "58.50570370588582 1\n",
            "41.79573745659046 1\n",
            "42.29176319655522 1\n",
            "48.5742886729233 0\n",
            "42.22970985419518 1\n",
            "nan 1\n",
            "nan 1\n",
            "50.73677973721096 1\n",
            "41.41076658736969 0\n",
            "42.47956414120455 0\n",
            "43.03826162040674 0\n",
            "40.94461581181684 0\n",
            "60.09304748377644 1\n",
            "40.711245031312785 0\n",
            "50.21856717992911 1\n",
            "38.504223149314186 1\n",
            "65.24983385283032 0\n",
            "53.903185585925485 1\n",
            "40.7361247833476 1\n",
            "51.54315093008993 0\n",
            "45.15540226487763 1\n",
            "52.501246148084476 0\n",
            "58.49379364336341 1\n",
            "nan 1\n",
            "nan 1\n",
            "41.833760176597536 1\n",
            "58.696935797584864 0\n",
            "53.62546733777181 1\n",
            "46.696487371776456 1\n",
            "60.35650708377126 0\n",
            "51.03532640260391 0\n",
            "56.27623407578207 1\n",
            "0.0 1\n",
            "65.6402776859927 0\n",
            "42.6013187176759 1\n",
            "45.63406738117446 1\n",
            "57.23077082722305 1\n",
            "8.537736462515939e-07 1\n",
            "48.363472250213356 1\n",
            "51.05085862413277 1\n",
            "59.508684927441195 0\n",
            "1.2074182697257333e-06 1\n",
            "51.66050148934685 1\n",
            "58.139438155113936 0\n",
            "nan 1\n",
            "46.35122279051021 0\n",
            "47.74471196137725 1\n",
            "59.864097394390114 0\n",
            "60.50037875438145 1\n",
            "57.09042890678004 0\n",
            "8.537736462515939e-07 1\n",
            "43.63270741123186 0\n",
            "44.804079167905115 1\n",
            "45.529327260134245 0\n",
            "48.68278256968857 0\n",
            "47.130720182586266 0\n",
            "46.96023142578955 1\n",
            "34.27036360968524 1\n",
            "45.46098039416915 1\n",
            "45.138571276950465 0\n",
            "nan 1\n",
            "53.84377163032953 1\n",
            "64.33258715614332 0\n",
            "44.49905164461452 0\n",
            "44.31941102715911 0\n",
            "50.104282696638336 0\n",
            "44.5053822754171 0\n",
            "47.49827625102887 1\n",
            "53.940006325447044 1\n",
            "60.35899136922646 0\n",
            "46.5804571042863 0\n",
            "45.73301032288952 0\n",
            "50.37218356130313 0\n",
            "43.36481928916944 1\n",
            "48.53521687148697 0\n",
            "51.65658859384815 0\n",
            "50.421574946979376 0\n",
            "41.22021335825066 0\n",
            "43.81427467732008 0\n",
            "65.50201880883647 0\n",
            "42.659929973075776 0\n",
            "0.0 1\n",
            "50.09455327640723 1\n",
            "44.43172140752976 0\n",
            "29.535499017602234 1\n",
            "39.009954640734904 1\n",
            "49.4182374158668 1\n",
            "0.0 1\n",
            "45.65172367964614 1\n",
            "55.06767921619004 1\n",
            "53.25236315611936 1\n",
            "43.153079586321695 0\n",
            "64.30964336844235 0\n",
            "45.17650490290305 0\n",
            "49.06635552870105 1\n",
            "50.30274585935579 0\n",
            "53.59705115006585 0\n",
            "65.51366411588555 1\n",
            "57.465101094787556 0\n",
            "48.0932406611665 0\n",
            "39.462499173273144 1\n",
            "44.492261878023186 0\n",
            "41.198491880557775 1\n",
            "45.51968511062544 1\n",
            "51.98344480067471 0\n",
            "44.840059626674936 1\n",
            "nan 1\n",
            "45.86858043435251 1\n",
            "0.0 1\n",
            "49.576587185604645 1\n",
            "43.57125256355637 0\n",
            "45.65917849166107 0\n",
            "45.62057001986827 0\n",
            "nan 1\n",
            "49.64028708606593 0\n",
            "55.52439245685739 0\n",
            "42.713466929292146 0\n",
            "45.97149080481959 0\n",
            "55.6344787887065 1\n",
            "43.80924887007598 0\n",
            "45.118000168049896 0\n",
            "53.52266473987515 0\n",
            "60.60135823566339 0\n",
            "0.0 1\n",
            "65.93775959429341 1\n",
            "48.27957791113788 0\n",
            "45.171705276694425 1\n",
            "46.91458398092577 1\n",
            "49.25596465260328 1\n",
            "38.391332832589434 0\n",
            "45.59223320262512 0\n",
            "38.168824806514344 1\n",
            "30.10431428797575 1\n",
            "63.90272168578937 1\n",
            "51.810704909660416 1\n",
            "43.65403792615799 0\n",
            "42.035926328635945 1\n",
            "49.69268070737945 0\n",
            "60.85776507675374 0\n",
            "43.66298657756268 0\n",
            "44.54989338049103 0\n",
            "45.719815615582334 0\n",
            "38.68389684683981 1\n",
            "1.2074182697257333e-06 1\n",
            "47.59551725903117 0\n",
            "59.10773665345602 0\n",
            "51.0034975584252 0\n",
            "41.62993579137261 1\n",
            "44.38600730615078 0\n",
            "53.269211000811815 0\n",
            "63.83204321955187 0\n",
            "nan 1\n",
            "46.745590147738795 0\n",
            "56.86965792082234 1\n",
            "40.56165839273805 1\n",
            "54.98017576152805 1\n",
            "42.2406044652301 0\n",
            "46.85768873618585 1\n",
            "45.188301837839326 0\n",
            "43.268715876088244 0\n",
            "0.0 1\n",
            "29.470906839117262 1\n",
            "41.93676597389508 0\n",
            "50.54634708241782 1\n",
            "46.229443337425856 1\n",
            "65.54158669658925 1\n",
            "55.95848328118459 0\n",
            "49.4146311686663 1\n",
            "0.0 1\n",
            "0.0 1\n",
            "53.25177244841121 0\n",
            "66.75069592805173 0\n",
            "66.36323374745542 0\n",
            "39.65288632887053 1\n",
            "42.164462679153786 0\n",
            "47.14839312121859 0\n",
            "40.56165839273805 1\n",
            "8.537736462515939e-07 1\n",
            "40.11146885501169 0\n",
            "50.189259557619074 0\n",
            "18.662733789298613 1\n",
            "51.59601326975672 0\n",
            "48.34439704313757 1\n",
            "62.03563290184444 1\n",
            "52.658900412900834 0\n",
            "52.06806446703823 1\n",
            "44.21824119884586 0\n",
            "66.3158189236363 0\n",
            "48.0423663969009 1\n",
            "40.36981214570188 1\n",
            "62.68848689649068 1\n",
            "52.39633988719991 1\n",
            "45.360300169232744 1\n",
            "8.537736462515939e-07 1\n",
            "49.6313747159624 0\n",
            "45.1131331810243 0\n",
            "53.328467981562795 0\n",
            "nan 1\n",
            "53.76942422475999 0\n",
            "44.03076278862989 0\n",
            "43.530748615041375 0\n",
            "48.39942041723248 0\n",
            "46.196372690752106 0\n",
            "50.44484165432136 0\n",
            "50.13644075510627"
          ]
        },
        {
          "output_type": "stream",
          "name": "stderr",
          "text": [
            "<ipython-input-52-af01189e72ba>:23: RuntimeWarning: invalid value encountered in arccos\n",
            "  angle_rad = np.arccos(cos_angle)\n"
          ]
        },
        {
          "output_type": "stream",
          "name": "stdout",
          "text": [
            " 0\n",
            "46.24636554116376 0\n",
            "57.08559885660127 0\n",
            "50.604561473257625 0\n",
            "47.85702060590357 1\n",
            "48.16421800045297 0\n",
            "46.01811801956621 0\n",
            "41.66144565982738 1\n",
            "1.2074182697257333e-06 1\n",
            "64.04110675500921 0\n",
            "44.1727960473205 1\n",
            "40.56165839273805 1\n",
            "39.287332618381406 1\n",
            "0.0 1\n",
            "48.56210912847231 1\n",
            "57.4570781565542 0\n",
            "50.39787455225431 1\n",
            "43.30492290054105 0\n",
            "53.20676461265603 0\n",
            "49.95857903885504 1\n",
            "61.68353926701248 0\n",
            "42.976557337584175 0\n",
            "54.69205594183085 0\n",
            "49.87448454145156 1\n",
            "56.94483272895278 0\n",
            "52.5167661721013 0\n",
            "51.660311659634004 1\n",
            "56.447671023304004 1\n",
            "41.08820054486335 0\n",
            "47.94721217822035 1\n",
            "0.0 1\n",
            "42.83933609009352 1\n",
            "44.23951289246529 0\n",
            "55.55464495041503 1\n",
            "51.492957750440624 0\n",
            "54.713466246610324 0\n",
            "56.88327461299047 1\n",
            "49.802342440864386 0\n",
            "57.25369463650333 0\n",
            "44.75932795754311 1\n",
            "42.278282784710214 1\n",
            "48.4158898030589 0\n",
            "55.43769499094879 1\n",
            "50.5437641180631 1\n",
            "45.27697673002744 0\n",
            "38.197813265289106 1\n",
            "51.55906873780035 0\n",
            "51.63907493610826 0\n",
            "49.711248733943094 0\n",
            "56.905330488942084 0\n",
            "51.81736302746322 0\n",
            "49.75867023871488 1\n",
            "40.039518323453166 1\n",
            "49.94203672587757 1\n",
            "46.65027706826441 0\n",
            "8.537736462515939e-07 1\n",
            "46.0085221790766 1\n",
            "51.14139260272879 0\n",
            "47.32825474016315 0\n",
            "0.0 1\n",
            "45.57070208653099 1\n",
            "52.01714362469794 1\n",
            "44.184116073698235 1\n",
            "45.239767668941475 0\n",
            "61.35011086341362 1\n",
            "56.31135456172844 1\n",
            "50.19259532860211 0\n",
            "47.5838011924563 0\n",
            "47.16854259961056 0\n",
            "43.899597014419236 0\n",
            "41.57473765743003 1\n",
            "47.53603032495021 0\n",
            "63.42649149301861 1\n",
            "59.02652632477677 0\n",
            "42.32726208027199 1\n",
            "54.11389460951291 0\n",
            "42.25701205322309 1\n",
            "48.165063972599754 0\n",
            "55.308206587710885 0\n",
            "55.37214667390569 0\n",
            "49.56966977933289 0\n",
            "46.389929483707064 1\n",
            "63.09293197710933 0\n",
            "51.50102302435036 0\n",
            "53.580200714689454 0\n",
            "45.90059623005538 0\n",
            "43.44174587168852 0\n",
            "49.65966315707502 0\n",
            "60.06780591243722 0\n",
            "45.68105880051389 1\n",
            "8.537736462515939e-07 1\n",
            "50.13238563822127 0\n",
            "52.31266943613034 1\n",
            "54.71600530219055 0\n",
            "0.0 1\n",
            "48.26029542857166 0\n",
            "33.63624190615181 1\n",
            "47.4336236961255 1\n",
            "59.01052177875751 0\n",
            "45.62431685619885 0\n",
            "61.0301263103917 0\n",
            "68.26429387845323 1\n",
            "47.84928252113937 0\n",
            "57.715714528452985 1\n",
            "39.867658266745 1\n",
            "48.33099676738925 1\n",
            "44.47947739718015 0\n",
            "45.68895909816798 1\n",
            "70.58000180982498 0\n",
            "42.79996713645955 0\n",
            "41.68043711978824 0\n",
            "54.076704535168915 0\n",
            "0.0 1\n",
            "53.4456824743008 0\n",
            "56.291862302034346 1\n",
            "51.923452543483705 1\n",
            "40.89869725265194 1\n",
            "47.67544160522462 0\n",
            "44.75986573632871 0\n",
            "56.242687715992595 1\n",
            "54.166843538374614 0\n",
            "48.363472250213356 1\n",
            "56.64298944566842 1\n",
            "44.39267904541552 1\n",
            "54.832319961000856 0\n",
            "45.940523682163004 1\n",
            "47.33609048469859 1\n",
            "55.286818049830806 1\n",
            "39.67809367780755 0\n",
            "42.36100646511627 1\n",
            "46.92550298673702 0\n",
            "52.965823242098054 0\n",
            "1.2074182697257333e-06 1\n",
            "43.625253105165534 1\n",
            "53.69867873019698 0\n",
            "66.50714636449797 1\n",
            "0.0 1\n",
            "42.714803099042534 1\n",
            "46.15580230543213 1\n",
            "45.33114430614815 1\n",
            "36.92357663036788 0\n",
            "46.152139358775834 1\n",
            "63.8612053573716 0\n",
            "50.12267663317819 1\n",
            "39.46129106675784 0\n",
            "41.945213138002444 1\n",
            "43.6742094060175 0\n",
            "37.5704205976964 1\n",
            "50.91786451748972 0\n",
            "60.954646313846474 0\n",
            "0.0 1\n",
            "40.89869725265194 1\n",
            "53.7431145356849 0\n",
            "62.328623256626685 0\n",
            "42.25033988521951 0\n",
            "55.20461566812744 0\n",
            "44.822200201651974 0\n",
            "59.913649835054954 0\n",
            "49.421072175830425 1\n",
            "51.9478058101506 1\n",
            "46.45694143325027 0\n",
            "8.537736462515939e-07 1\n",
            "0.0 1\n",
            "47.69161536658364 1\n",
            "46.2244349687477 1\n",
            "42.317792093983066 1\n",
            "46.40906412039936 0\n",
            "51.05879230605877 0\n",
            "65.30786657995752 1\n",
            "54.9278626517833 0\n",
            "0.0 1\n",
            "53.68427353543809 0\n",
            "46.58730042479795 0\n",
            "48.38326464657861 0\n",
            "43.27597561260069 0\n",
            "45.819462930047955 0\n",
            "50.66739382855666 1\n",
            "54.319224442871764 1\n",
            "39.65288632887053 1\n",
            "0.0 1\n",
            "8.537736462515939e-07 1\n",
            "40.56165839273805 1\n",
            "48.58440079419548 0\n",
            "49.65392199003826 1\n",
            "36.363336295740496 0\n",
            "68.8859864729937 0\n",
            "43.475479306054915 1\n",
            "62.297507048290385 0\n",
            "0.0 1\n",
            "0.0 1\n",
            "49.615934936879924 0\n",
            "50.06690692468833 0\n",
            "42.12363782355115 0\n",
            "46.93464311712383 1\n",
            "44.81374642082702 0\n",
            "40.78309316056285 1\n",
            "47.215730502459586 1\n",
            "59.19238318934897 0\n",
            "46.20722858388027 1\n",
            "57.04723937829365 1\n",
            "0.0 1\n",
            "53.841198604779926 0\n",
            "44.562301610848856 0\n",
            "nan 1\n",
            "47.522995111424684 0\n",
            "54.01905782941551 1\n",
            "39.37483911302159 1\n",
            "42.76376927069487 0\n",
            "46.44711653292165 1\n",
            "43.5798879250289 0\n",
            "44.90501741542318 0\n",
            "51.61532356607269 0\n",
            "45.82741618987351 1\n",
            "51.86505336286995 1\n",
            "nan 1\n",
            "57.60338575295478 1\n",
            "58.08782080551823 0\n",
            "48.28705847066257 0\n",
            "52.484676794828175 0\n"
          ]
        }
      ]
    },
    {
      "cell_type": "code",
      "source": [
        "targets[0]"
      ],
      "metadata": {
        "colab": {
          "base_uri": "https://localhost:8080/"
        },
        "id": "6_HDxwoQSdnL",
        "outputId": "ee8e4da9-bf41-4a9d-e4f9-ce29cf53b312"
      },
      "execution_count": null,
      "outputs": [
        {
          "output_type": "execute_result",
          "data": {
            "text/plain": [
              "1"
            ]
          },
          "metadata": {},
          "execution_count": 15
        }
      ]
    },
    {
      "cell_type": "markdown",
      "metadata": {
        "id": "jdGammOitsm3"
      },
      "source": [
        "## Preparación de datos"
      ]
    },
    {
      "cell_type": "code",
      "execution_count": null,
      "metadata": {
        "id": "fSGiixoseC70"
      },
      "outputs": [],
      "source": [
        "from keras.engine import input_spec\n",
        "# Almacenar la columna program en una variable X\n",
        "#X = inputs\n",
        "X = cos_ang\n",
        "\n",
        "# Almacenar la columna verdict en una variable y\n",
        "y = targets"
      ]
    },
    {
      "cell_type": "code",
      "execution_count": null,
      "metadata": {
        "id": "07rrEljixmNw",
        "colab": {
          "base_uri": "https://localhost:8080/"
        },
        "outputId": "67fc981f-c9db-477f-c4d3-896581f674b1"
      },
      "outputs": [
        {
          "output_type": "execute_result",
          "data": {
            "text/plain": [
              "(401,)"
            ]
          },
          "metadata": {},
          "execution_count": 54
        }
      ],
      "source": [
        "from sklearn.model_selection import train_test_split\n",
        "# split the data into training and testing sets\n",
        "X_train, X_test, y_train, y_test = train_test_split(X, y, test_size=0.2)\n",
        "X_train.shape"
      ]
    },
    {
      "cell_type": "code",
      "source": [
        "y_train.shape"
      ],
      "metadata": {
        "colab": {
          "base_uri": "https://localhost:8080/"
        },
        "id": "LJfKwMAlD0oU",
        "outputId": "c1b66ee4-837e-421a-da03-086adf3a8d72"
      },
      "execution_count": null,
      "outputs": [
        {
          "output_type": "execute_result",
          "data": {
            "text/plain": [
              "(401,)"
            ]
          },
          "metadata": {},
          "execution_count": 43
        }
      ]
    },
    {
      "cell_type": "code",
      "source": [
        "X_train"
      ],
      "metadata": {
        "colab": {
          "base_uri": "https://localhost:8080/"
        },
        "id": "F1vvUGFTL3FN",
        "outputId": "820caa25-aefe-4605-a46e-8e041e5295fc"
      },
      "execution_count": null,
      "outputs": [
        {
          "output_type": "execute_result",
          "data": {
            "text/plain": [
              "array([6.20356329e-01, 4.23522775e-01, 4.55922332e-01, 5.74570782e-01,\n",
              "       4.36467457e-01, 5.23126694e-01, 4.66964874e-01, 4.21644627e-01,\n",
              "       4.41727960e-01, 4.20442923e-01, 4.51883018e-01, 5.15960133e-01,\n",
              "       5.29658232e-01, 4.69602314e-01, 4.62463655e-01, 4.90663555e-01,\n",
              "       5.80878208e-01, 4.01114689e-01, 6.39027217e-01, 3.99372849e-01,\n",
              "       4.05616584e-01, 4.12202134e-01, 4.07830932e-01, 5.04448417e-01,\n",
              "       5.10587923e-01, 5.01323856e-01, 0.00000000e+00, 3.90099546e-01,\n",
              "       4.00395183e-01, 6.06013582e-01, 0.00000000e+00, 4.65873004e-01,\n",
              "       4.11984919e-01, 5.54376950e-01, 6.38320432e-01, 4.94210722e-01,\n",
              "       5.62762341e-01, 4.17957375e-01, 3.36362419e-01, 0.00000000e+00,\n",
              "       5.49278627e-01, 5.53721467e-01, 4.43926790e-01, 4.57198156e-01,\n",
              "       4.83634723e-01, 4.43194110e-01, 4.23440931e-01, 5.72307708e-01,\n",
              "       5.16390749e-01, 4.32759756e-01, 4.51765049e-01, 0.00000000e+00,\n",
              "       4.16299358e-01, 6.03565071e-01, 4.36540379e-01, 4.85352169e-01,\n",
              "                  nan, 5.16605015e-01, 5.74835542e-01, 4.79472122e-01,\n",
              "       4.48400596e-01, 5.79897923e-01, 5.36842735e-01, 4.83309968e-01,\n",
              "       4.48137464e-01, 5.39400063e-01, 5.60503793e-01, 4.29574229e-01,\n",
              "       4.45994989e-01, 4.20359263e-01, 5.86969358e-01, 6.05003788e-01,\n",
              "       4.73360905e-01, 8.53773646e-09, 4.38092489e-01, 4.36742094e-01,\n",
              "       4.74982763e-01, 5.19834448e-01, 4.64569414e-01, 7.05800018e-01,\n",
              "       4.64090641e-01, 4.49050174e-01, 0.00000000e+00, 0.00000000e+00,\n",
              "       5.23963399e-01, 3.81688248e-01, 5.68832746e-01, 5.55243925e-01,\n",
              "       4.34754793e-01, 6.82642939e-01, 4.31530796e-01, 4.41841161e-01,\n",
              "       6.55136641e-01, 0.00000000e+00, 5.99476541e-01, 4.59405237e-01,\n",
              "       6.63632337e-01, 4.50144379e-01, 5.33284680e-01, 4.82795779e-01,\n",
              "       4.51554023e-01, 4.55196851e-01,            nan, 4.57590247e-01,\n",
              "       5.24231407e-01, 5.77157145e-01, 3.96528863e-01, 3.98676583e-01,\n",
              "       5.70855989e-01, 4.71483931e-01, 4.42395129e-01, 0.00000000e+00,\n",
              "       4.17627454e-01, 4.53311443e-01, 4.47588574e-01, 4.63899295e-01,\n",
              "       4.05616584e-01, 5.81394382e-01, 4.47598657e-01, 1.20741827e-08,\n",
              "       4.94138250e-01, 5.59584833e-01, 5.00945533e-01, 4.59714908e-01,\n",
              "       6.10301263e-01, 4.05616584e-01, 5.16153236e-01, 4.22917632e-01,\n",
              "       4.41727960e-01, 5.38411986e-01, 6.40411068e-01, 0.00000000e+00,\n",
              "       4.96313747e-01, 4.97112487e-01, 1.20741827e-08, 4.27148031e-01,\n",
              "       4.55707021e-01, 4.96539220e-01, 4.99585790e-01, 4.86827826e-01,\n",
              "       5.09178645e-01, 5.91923832e-01, 5.38437716e-01, 4.08986973e-01,\n",
              "       4.56810588e-01, 4.69346431e-01, 4.33049229e-01, 5.40190578e-01,\n",
              "       6.67506959e-01, 5.58134311e-01, 4.65804571e-01, 4.83994204e-01,\n",
              "       0.00000000e+00, 4.91937219e-01, 5.62918623e-01, 8.53773646e-09,\n",
              "       5.41138946e-01, 4.33648193e-01, 0.00000000e+00, 5.05056454e-01,\n",
              "       5.99136498e-01, 4.32687159e-01, 4.63655412e-01, 4.55293273e-01,\n",
              "       6.65071464e-01, 4.69803079e-01, 6.34264915e-01, 5.34456825e-01,\n",
              "       5.32692110e-01, 4.96159349e-01, 4.76754416e-01, 4.38995970e-01,\n",
              "       4.83832646e-01, 5.32523632e-01, 4.15747377e-01, 5.43192244e-01,\n",
              "       8.53773646e-09, 4.36252531e-01, 0.00000000e+00, 4.49710351e-01,\n",
              "       4.37358059e-01, 4.22503399e-01, 5.69053305e-01, 4.42182412e-01,\n",
              "       4.72724982e-01, 4.10882005e-01, 8.53773646e-09, 4.14107666e-01,\n",
              "       5.84937936e-01, 0.00000000e+00, 5.41668435e-01, 4.62072286e-01,\n",
              "       4.84158898e-01, 0.00000000e+00, 4.23613317e-01, 4.27637693e-01,\n",
              "       6.09546463e-01, 3.63633363e-01, 5.14929578e-01, 5.54818266e-01,\n",
              "       4.35712526e-01, 4.71685426e-01, 5.85241776e-01, 4.56781030e-01,\n",
              "       3.01043143e-01, 4.63512228e-01, 4.52397677e-01, 4.58194629e-01,\n",
              "       4.21236378e-01, 6.55020188e-01, 5.01042827e-01, 5.04215749e-01,\n",
              "       4.23610065e-01,            nan, 4.19452131e-01, 4.07361248e-01,\n",
              "       4.64471165e-01, 4.85621091e-01,            nan, 6.88859865e-01,\n",
              "       4.27999671e-01, 4.57501565e-01, 5.64476710e-01, 3.42703636e-01,\n",
              "       6.00930475e-01, 4.35848936e-01, 4.56340674e-01, 5.32067646e-01,\n",
              "                  nan, 4.18337602e-01, 5.00669069e-01, 5.35802007e-01,\n",
              "       5.74388800e-01, 4.83443970e-01, 4.82371040e-01, 4.54609804e-01,\n",
              "       3.75147144e-01, 4.58685804e-01, 4.45053823e-01, 4.76916154e-01,\n",
              "       4.09446158e-01, 4.48040792e-01, 4.81650640e-01, 5.95086849e-01,\n",
              "       4.78570206e-01, 4.62294433e-01, 6.00530019e-01, 4.75229951e-01,\n",
              "       5.35226647e-01, 1.20741827e-08, 5.49801758e-01, 4.85456707e-01,\n",
              "       6.61511771e-01, 5.10034976e-01, 5.15542246e-01, 4.75360303e-01,\n",
              "       4.72157305e-01, 5.32517724e-01, 3.86838968e-01, 0.00000000e+00,\n",
              "       4.85742887e-01, 4.56243169e-01, 4.98023424e-01,            nan,\n",
              "       4.60181180e-01, 4.80932407e-01, 4.73282547e-01, 5.06673938e-01,\n",
              "       4.59005962e-01, 5.68696579e-01, 5.03679913e-01, 5.46920559e-01,\n",
              "       1.20741827e-08, 4.43860073e-01, 4.95696698e-01, 4.58274162e-01,\n",
              "       8.53773646e-09, 4.16804371e-01, 6.43096434e-01, 3.92901274e-01,\n",
              "       4.35307486e-01, 6.55415867e-01, 3.94624992e-01, 4.62244350e-01,\n",
              "       4.96596632e-01, 3.96780937e-01, 2.95354990e-01, 4.82870585e-01,\n",
              "       3.36613171e-01, 5.07367797e-01, 5.74651011e-01, 5.10508586e-01,\n",
              "       4.51385713e-01, 6.19982293e-01, 5.70904289e-01, 4.77447120e-01,\n",
              "       0.00000000e+00, 4.46614486e-01, 5.90105218e-01, 5.60319147e-01,\n",
              "       6.52498339e-01, 5.55546450e-01, 4.67455901e-01, 6.30929320e-01,\n",
              "       5.85057037e-01, 4.61558023e-01, 3.93748391e-01, 4.35798879e-01,\n",
              "                  nan, 5.47134662e-01, 4.45623016e-01, 4.74336237e-01,\n",
              "       5.01226766e-01, 4.98744845e-01, 5.18173630e-01, 1.20741827e-08,\n",
              "       3.92873326e-01, 6.23286233e-01, 5.50676792e-01, 5.01364408e-01,\n",
              "       6.26884869e-01, 2.07752672e-02, 4.44990516e-01, 3.67544555e-01,\n",
              "       4.28393361e-01, 5.98640974e-01, 4.66047468e-01, 4.30382616e-01,\n",
              "       4.08986973e-01, 4.78492825e-01, 4.69145840e-01, 4.60085222e-01,\n",
              "       4.33073342e-01, 6.53078666e-01, 4.07112450e-01, 5.39031856e-01,\n",
              "       4.05616584e-01, 4.71307202e-01, 4.44794774e-01, 5.11413926e-01,\n",
              "       6.63158189e-01, 4.42338337e-01, 4.61963727e-01, 4.23272621e-01,\n",
              "       5.19234525e-01, 4.36327074e-01, 4.56889591e-01, 6.00678059e-01,\n",
              "       5.16603117e-01, 4.38142747e-01, 5.40767045e-01, 3.94612911e-01,\n",
              "       4.96402871e-01, 5.70472394e-01, 4.73787457e-01, 6.08577651e-01,\n",
              "       4.66502771e-01, 4.56445367e-01, 8.53773646e-09, 5.62426877e-01,\n",
              "                  nan, 4.83634723e-01, 3.85042231e-01, 5.01925953e-01,\n",
              "       5.06045615e-01, 1.20741827e-08, 6.69989992e-01, 4.52769767e-01,\n",
              "       4.00292565e-01, 0.00000000e+00, 4.96926807e-01, 4.75955173e-01,\n",
              "       4.81642180e-01, 6.15416424e-01, 5.03721836e-01, 0.00000000e+00,\n",
              "       4.92559647e-01, 4.19367660e-01, 5.01892596e-01, 5.69448327e-01,\n",
              "       6.56402777e-01, 4.23177921e-01, 5.69808697e-01, 5.02185672e-01,\n",
              "       5.18107049e-01, 5.80759836e-01, 5.66429894e-01, 4.16614457e-01,\n",
              "       4.61521394e-01, 4.56591785e-01, 5.25167662e-01, 4.28918540e-01,\n",
              "       4.94146312e-01, 4.82602954e-01, 3.83913328e-01, 4.56517237e-01,\n",
              "       5.91720960e-01, 4.51131332e-01, 4.72865693e-01, 4.48222002e-01,\n",
              "       6.03589914e-01])"
            ]
          },
          "metadata": {},
          "execution_count": 55
        }
      ]
    },
    {
      "cell_type": "markdown",
      "metadata": {
        "id": "PE7isFZ-xfSZ"
      },
      "source": [
        "# Modelo de Capas Densas\n",
        "\n"
      ]
    },
    {
      "cell_type": "code",
      "execution_count": null,
      "metadata": {
        "colab": {
          "base_uri": "https://localhost:8080/"
        },
        "id": "q1imPUSjdozZ",
        "outputId": "6026e1d9-4dab-41f8-a0f6-c03c8cb041af"
      },
      "outputs": [
        {
          "output_type": "stream",
          "name": "stdout",
          "text": [
            "Epoch 1/20\n",
            "201/201 [==============================] - 1s 3ms/step - loss: nan - acc: 0.4863\n",
            "Epoch 2/20\n",
            "201/201 [==============================] - 1s 2ms/step - loss: nan - acc: 0.4938\n",
            "Epoch 3/20\n",
            "201/201 [==============================] - 1s 3ms/step - loss: nan - acc: 0.4938\n",
            "Epoch 4/20\n",
            "201/201 [==============================] - 1s 3ms/step - loss: nan - acc: 0.4938\n",
            "Epoch 5/20\n",
            "201/201 [==============================] - 1s 3ms/step - loss: nan - acc: 0.4938\n",
            "Epoch 6/20\n",
            "201/201 [==============================] - 1s 3ms/step - loss: nan - acc: 0.4938\n",
            "Epoch 7/20\n",
            "201/201 [==============================] - 1s 3ms/step - loss: nan - acc: 0.4938\n",
            "Epoch 8/20\n",
            "201/201 [==============================] - 0s 2ms/step - loss: nan - acc: 0.4938\n",
            "Epoch 9/20\n",
            "201/201 [==============================] - 1s 3ms/step - loss: nan - acc: 0.4938\n",
            "Epoch 10/20\n",
            "201/201 [==============================] - 1s 3ms/step - loss: nan - acc: 0.4938\n",
            "Epoch 11/20\n",
            "201/201 [==============================] - 1s 3ms/step - loss: nan - acc: 0.4938\n",
            "Epoch 12/20\n",
            "201/201 [==============================] - 1s 3ms/step - loss: nan - acc: 0.4938\n",
            "Epoch 13/20\n",
            "201/201 [==============================] - 1s 3ms/step - loss: nan - acc: 0.4938\n",
            "Epoch 14/20\n",
            "201/201 [==============================] - 1s 3ms/step - loss: nan - acc: 0.4938\n",
            "Epoch 15/20\n",
            "201/201 [==============================] - 1s 3ms/step - loss: nan - acc: 0.4938\n",
            "Epoch 16/20\n",
            "201/201 [==============================] - 0s 2ms/step - loss: nan - acc: 0.4938\n",
            "Epoch 17/20\n",
            "201/201 [==============================] - 1s 3ms/step - loss: nan - acc: 0.4938\n",
            "Epoch 18/20\n",
            "201/201 [==============================] - 1s 4ms/step - loss: nan - acc: 0.4938\n",
            "Epoch 19/20\n",
            "201/201 [==============================] - 1s 4ms/step - loss: nan - acc: 0.4938\n",
            "Epoch 20/20\n",
            "201/201 [==============================] - 1s 4ms/step - loss: nan - acc: 0.4938\n"
          ]
        }
      ],
      "source": [
        "import tensorflow as tf\n",
        "from tensorflow.keras import optimizers\n",
        "from keras.models import Sequential\n",
        "from keras.layers import LSTM, Dense\n",
        "\n",
        "\n",
        "model = Sequential()\n",
        "model.add(Dense(64, input_dim=1))\n",
        "model.add(Dense(32, activation='relu'))\n",
        "model.add(Dense(1, activation='sigmoid'))\n",
        "\n",
        "model.compile(optimizer='Adam', loss=\"binary_crossentropy\", metrics=[\"acc\"])\n",
        "\n",
        "history = model.fit(X_train, y_train,\n",
        "                    batch_size=2,\n",
        "                    epochs = 20,\n",
        "                    verbose = 1,\n",
        "                    shuffle = False)"
      ]
    },
    {
      "cell_type": "code",
      "execution_count": null,
      "metadata": {
        "id": "UVoZBPKq2cOB",
        "colab": {
          "base_uri": "https://localhost:8080/",
          "height": 887
        },
        "outputId": "a7892cb1-343f-4efd-d3db-1a5f05e12523"
      },
      "outputs": [
        {
          "output_type": "display_data",
          "data": {
            "text/plain": [
              "<Figure size 640x480 with 1 Axes>"
            ],
            "image/png": "[encoded data removed]"
          },
          "metadata": {}
        },
        {
          "output_type": "display_data",
          "data": {
            "text/plain": [
              "<Figure size 640x480 with 1 Axes>"
            ],
            "image/png": "[encoded data removed]"
          },
          "metadata": {}
        }
      ],
      "source": [
        "import matplotlib.pyplot as plt\n",
        "\n",
        "acc = history.history['acc']\n",
        "loss = history.history['loss']\n",
        "\n",
        "epochs = range(1, len(acc)+1)\n",
        "\n",
        "plt.plot(epochs, acc, 'b*-', label='train accuracy')\n",
        "plt.title('train acc')\n",
        "plt.legend()\n",
        "\n",
        "plt.figure()\n",
        "\n",
        "plt.plot(epochs, loss, 'b*-', label ='training loss')\n",
        "plt.title('train loss')\n",
        "plt.legend()\n",
        "\n",
        "plt.show()"
      ]
    },
    {
      "cell_type": "code",
      "execution_count": null,
      "metadata": {
        "colab": {
          "base_uri": "https://localhost:8080/"
        },
        "id": "uFgBW-onPu4k",
        "outputId": "5ef605a5-56ea-4026-ae50-911929f088fa"
      },
      "outputs": [
        {
          "output_type": "stream",
          "name": "stdout",
          "text": [
            "25/25 [==============================] - 0s 2ms/step - loss: nan - acc: 0.5000\n",
            "\n",
            "test acc :\n",
            " 0.5\n"
          ]
        }
      ],
      "source": [
        "test_loss, test_acc = model.evaluate(X_test, y_test, batch_size=2, steps = 25)\n",
        "print('\\ntest acc :\\n', test_acc)"
      ]
    },
    {
      "cell_type": "markdown",
      "source": [
        "## Matriz de confusión"
      ],
      "metadata": {
        "id": "r2k_9omZ_9aH"
      }
    },
    {
      "cell_type": "code",
      "source": [
        "predictions = model.predict(X_test)\n",
        "classes_x = predictions.T\n",
        "classes_x = np.rint(classes_x)\n",
        "classes_x"
      ],
      "metadata": {
        "colab": {
          "base_uri": "https://localhost:8080/"
        },
        "id": "0vG3i0BzApDl",
        "outputId": "596b0b01-e78d-4803-c75d-baa2ef0de8d2"
      },
      "execution_count": null,
      "outputs": [
        {
          "output_type": "stream",
          "name": "stdout",
          "text": [
            "4/4 [==============================] - 0s 3ms/step\n"
          ]
        },
        {
          "output_type": "execute_result",
          "data": {
            "text/plain": [
              "array([[nan, nan, nan, nan, nan, nan, nan, nan, nan, nan, nan, nan, nan,\n",
              "        nan, nan, nan, nan, nan, nan, nan, nan, nan, nan, nan, nan, nan,\n",
              "        nan, nan, nan, nan, nan, nan, nan, nan, nan, nan, nan, nan, nan,\n",
              "        nan, nan, nan, nan, nan, nan, nan, nan, nan, nan, nan, nan, nan,\n",
              "        nan, nan, nan, nan, nan, nan, nan, nan, nan, nan, nan, nan, nan,\n",
              "        nan, nan, nan, nan, nan, nan, nan, nan, nan, nan, nan, nan, nan,\n",
              "        nan, nan, nan, nan, nan, nan, nan, nan, nan, nan, nan, nan, nan,\n",
              "        nan, nan, nan, nan, nan, nan, nan, nan, nan, nan]], dtype=float32)"
            ]
          },
          "metadata": {},
          "execution_count": 59
        }
      ]
    },
    {
      "cell_type": "code",
      "source": [
        "import seaborn as sns\n",
        "from sklearn import datasets\n",
        "from sklearn.linear_model import LogisticRegression\n",
        "from sklearn.model_selection import train_test_split\n",
        "from sklearn.metrics import confusion_matrix\n",
        "import pandas as pd\n",
        "\n",
        "mat = confusion_matrix(classes_x[0], y_test)\n",
        "\n",
        "df = pd.DataFrame(mat, index=['Pred Original', 'Pred Plagio'], columns=['Label Original', 'Label Plagio'])\n",
        "\n",
        "sns.heatmap(df, annot=True, cbar=None, cmap=\"Blues\")\n",
        "plt.title(\"Matriz de confusión\"), plt.tight_layout()\n",
        "plt.show()"
      ],
      "metadata": {
        "colab": {
          "base_uri": "https://localhost:8080/",
          "height": 394
        },
        "id": "2hJuQQkb__s0",
        "outputId": "1b4f779a-ba6e-4659-a84d-65386d8aca82"
      },
      "execution_count": null,
      "outputs": [
        {
          "output_type": "error",
          "ename": "ValueError",
          "evalue": "ignored",
          "traceback": [
            "\u001b[0;31m---------------------------------------------------------------------------\u001b[0m",
            "\u001b[0;31mValueError\u001b[0m                                Traceback (most recent call last)",
            "\u001b[0;32m<ipython-input-60-4164ca6ff798>\u001b[0m in \u001b[0;36m<cell line: 8>\u001b[0;34m()\u001b[0m\n\u001b[1;32m      6\u001b[0m \u001b[0;32mimport\u001b[0m \u001b[0mpandas\u001b[0m \u001b[0;32mas\u001b[0m \u001b[0mpd\u001b[0m\u001b[0;34m\u001b[0m\u001b[0;34m\u001b[0m\u001b[0m\n\u001b[1;32m      7\u001b[0m \u001b[0;34m\u001b[0m\u001b[0m\n\u001b[0;32m----> 8\u001b[0;31m \u001b[0mmat\u001b[0m \u001b[0;34m=\u001b[0m \u001b[0mconfusion_matrix\u001b[0m\u001b[0;34m(\u001b[0m\u001b[0mclasses_x\u001b[0m\u001b[0;34m[\u001b[0m\u001b[0;36m0\u001b[0m\u001b[0;34m]\u001b[0m\u001b[0;34m,\u001b[0m \u001b[0my_test\u001b[0m\u001b[0;34m)\u001b[0m\u001b[0;34m\u001b[0m\u001b[0;34m\u001b[0m\u001b[0m\n\u001b[0m\u001b[1;32m      9\u001b[0m \u001b[0;34m\u001b[0m\u001b[0m\n\u001b[1;32m     10\u001b[0m \u001b[0mdf\u001b[0m \u001b[0;34m=\u001b[0m \u001b[0mpd\u001b[0m\u001b[0;34m.\u001b[0m\u001b[0mDataFrame\u001b[0m\u001b[0;34m(\u001b[0m\u001b[0mmat\u001b[0m\u001b[0;34m,\u001b[0m \u001b[0mindex\u001b[0m\u001b[0;34m=\u001b[0m\u001b[0;34m[\u001b[0m\u001b[0;34m'Pred Original'\u001b[0m\u001b[0;34m,\u001b[0m \u001b[0;34m'Pred Plagio'\u001b[0m\u001b[0;34m]\u001b[0m\u001b[0;34m,\u001b[0m \u001b[0mcolumns\u001b[0m\u001b[0;34m=\u001b[0m\u001b[0;34m[\u001b[0m\u001b[0;34m'Label Original'\u001b[0m\u001b[0;34m,\u001b[0m \u001b[0;34m'Label Plagio'\u001b[0m\u001b[0;34m]\u001b[0m\u001b[0;34m)\u001b[0m\u001b[0;34m\u001b[0m\u001b[0;34m\u001b[0m\u001b[0m\n",
            "\u001b[0;32m/usr/local/lib/python3.10/dist-packages/sklearn/metrics/_classification.py\u001b[0m in \u001b[0;36mconfusion_matrix\u001b[0;34m(y_true, y_pred, labels, sample_weight, normalize)\u001b[0m\n\u001b[1;32m    315\u001b[0m     \u001b[0;34m(\u001b[0m\u001b[0;36m0\u001b[0m\u001b[0;34m,\u001b[0m \u001b[0;36m2\u001b[0m\u001b[0;34m,\u001b[0m \u001b[0;36m1\u001b[0m\u001b[0;34m,\u001b[0m \u001b[0;36m1\u001b[0m\u001b[0;34m)\u001b[0m\u001b[0;34m\u001b[0m\u001b[0;34m\u001b[0m\u001b[0m\n\u001b[1;32m    316\u001b[0m     \"\"\"\n\u001b[0;32m--> 317\u001b[0;31m     \u001b[0my_type\u001b[0m\u001b[0;34m,\u001b[0m \u001b[0my_true\u001b[0m\u001b[0;34m,\u001b[0m \u001b[0my_pred\u001b[0m \u001b[0;34m=\u001b[0m \u001b[0m_check_targets\u001b[0m\u001b[0;34m(\u001b[0m\u001b[0my_true\u001b[0m\u001b[0;34m,\u001b[0m \u001b[0my_pred\u001b[0m\u001b[0;34m)\u001b[0m\u001b[0;34m\u001b[0m\u001b[0;34m\u001b[0m\u001b[0m\n\u001b[0m\u001b[1;32m    318\u001b[0m     \u001b[0;32mif\u001b[0m \u001b[0my_type\u001b[0m \u001b[0;32mnot\u001b[0m \u001b[0;32min\u001b[0m \u001b[0;34m(\u001b[0m\u001b[0;34m\"binary\"\u001b[0m\u001b[0;34m,\u001b[0m \u001b[0;34m\"multiclass\"\u001b[0m\u001b[0;34m)\u001b[0m\u001b[0;34m:\u001b[0m\u001b[0;34m\u001b[0m\u001b[0;34m\u001b[0m\u001b[0m\n\u001b[1;32m    319\u001b[0m         \u001b[0;32mraise\u001b[0m \u001b[0mValueError\u001b[0m\u001b[0;34m(\u001b[0m\u001b[0;34m\"%s is not supported\"\u001b[0m \u001b[0;34m%\u001b[0m \u001b[0my_type\u001b[0m\u001b[0;34m)\u001b[0m\u001b[0;34m\u001b[0m\u001b[0;34m\u001b[0m\u001b[0m\n",
            "\u001b[0;32m/usr/local/lib/python3.10/dist-packages/sklearn/metrics/_classification.py\u001b[0m in \u001b[0;36m_check_targets\u001b[0;34m(y_true, y_pred)\u001b[0m\n\u001b[1;32m     85\u001b[0m     \"\"\"\n\u001b[1;32m     86\u001b[0m     \u001b[0mcheck_consistent_length\u001b[0m\u001b[0;34m(\u001b[0m\u001b[0my_true\u001b[0m\u001b[0;34m,\u001b[0m \u001b[0my_pred\u001b[0m\u001b[0;34m)\u001b[0m\u001b[0;34m\u001b[0m\u001b[0;34m\u001b[0m\u001b[0m\n\u001b[0;32m---> 87\u001b[0;31m     \u001b[0mtype_true\u001b[0m \u001b[0;34m=\u001b[0m \u001b[0mtype_of_target\u001b[0m\u001b[0;34m(\u001b[0m\u001b[0my_true\u001b[0m\u001b[0;34m,\u001b[0m \u001b[0minput_name\u001b[0m\u001b[0;34m=\u001b[0m\u001b[0;34m\"y_true\"\u001b[0m\u001b[0;34m)\u001b[0m\u001b[0;34m\u001b[0m\u001b[0;34m\u001b[0m\u001b[0m\n\u001b[0m\u001b[1;32m     88\u001b[0m     \u001b[0mtype_pred\u001b[0m \u001b[0;34m=\u001b[0m \u001b[0mtype_of_target\u001b[0m\u001b[0;34m(\u001b[0m\u001b[0my_pred\u001b[0m\u001b[0;34m,\u001b[0m \u001b[0minput_name\u001b[0m\u001b[0;34m=\u001b[0m\u001b[0;34m\"y_pred\"\u001b[0m\u001b[0;34m)\u001b[0m\u001b[0;34m\u001b[0m\u001b[0;34m\u001b[0m\u001b[0m\n\u001b[1;32m     89\u001b[0m \u001b[0;34m\u001b[0m\u001b[0m\n",
            "\u001b[0;32m/usr/local/lib/python3.10/dist-packages/sklearn/utils/multiclass.py\u001b[0m in \u001b[0;36mtype_of_target\u001b[0;34m(y, input_name)\u001b[0m\n\u001b[1;32m    379\u001b[0m         \u001b[0mdata\u001b[0m \u001b[0;34m=\u001b[0m \u001b[0my\u001b[0m\u001b[0;34m.\u001b[0m\u001b[0mdata\u001b[0m \u001b[0;32mif\u001b[0m \u001b[0missparse\u001b[0m\u001b[0;34m(\u001b[0m\u001b[0my\u001b[0m\u001b[0;34m)\u001b[0m \u001b[0;32melse\u001b[0m \u001b[0my\u001b[0m\u001b[0;34m\u001b[0m\u001b[0;34m\u001b[0m\u001b[0m\n\u001b[1;32m    380\u001b[0m         \u001b[0;32mif\u001b[0m \u001b[0mxp\u001b[0m\u001b[0;34m.\u001b[0m\u001b[0many\u001b[0m\u001b[0;34m(\u001b[0m\u001b[0mdata\u001b[0m \u001b[0;34m!=\u001b[0m \u001b[0mdata\u001b[0m\u001b[0;34m.\u001b[0m\u001b[0mastype\u001b[0m\u001b[0;34m(\u001b[0m\u001b[0mint\u001b[0m\u001b[0;34m)\u001b[0m\u001b[0;34m)\u001b[0m\u001b[0;34m:\u001b[0m\u001b[0;34m\u001b[0m\u001b[0;34m\u001b[0m\u001b[0m\n\u001b[0;32m--> 381\u001b[0;31m             \u001b[0m_assert_all_finite\u001b[0m\u001b[0;34m(\u001b[0m\u001b[0mdata\u001b[0m\u001b[0;34m,\u001b[0m \u001b[0minput_name\u001b[0m\u001b[0;34m=\u001b[0m\u001b[0minput_name\u001b[0m\u001b[0;34m)\u001b[0m\u001b[0;34m\u001b[0m\u001b[0;34m\u001b[0m\u001b[0m\n\u001b[0m\u001b[1;32m    382\u001b[0m             \u001b[0;32mreturn\u001b[0m \u001b[0;34m\"continuous\"\u001b[0m \u001b[0;34m+\u001b[0m \u001b[0msuffix\u001b[0m\u001b[0;34m\u001b[0m\u001b[0;34m\u001b[0m\u001b[0m\n\u001b[1;32m    383\u001b[0m \u001b[0;34m\u001b[0m\u001b[0m\n",
            "\u001b[0;32m/usr/local/lib/python3.10/dist-packages/sklearn/utils/validation.py\u001b[0m in \u001b[0;36m_assert_all_finite\u001b[0;34m(X, allow_nan, msg_dtype, estimator_name, input_name)\u001b[0m\n\u001b[1;32m    159\u001b[0m                 \u001b[0;34m\"#estimators-that-handle-nan-values\"\u001b[0m\u001b[0;34m\u001b[0m\u001b[0;34m\u001b[0m\u001b[0m\n\u001b[1;32m    160\u001b[0m             )\n\u001b[0;32m--> 161\u001b[0;31m         \u001b[0;32mraise\u001b[0m \u001b[0mValueError\u001b[0m\u001b[0;34m(\u001b[0m\u001b[0mmsg_err\u001b[0m\u001b[0;34m)\u001b[0m\u001b[0;34m\u001b[0m\u001b[0;34m\u001b[0m\u001b[0m\n\u001b[0m\u001b[1;32m    162\u001b[0m \u001b[0;34m\u001b[0m\u001b[0m\n\u001b[1;32m    163\u001b[0m \u001b[0;34m\u001b[0m\u001b[0m\n",
            "\u001b[0;31mValueError\u001b[0m: Input y_true contains NaN."
          ]
        }
      ]
    }
  ],
  "metadata": {
    "colab": {
      "provenance": [],
      "gpuType": "T4"
    },
    "kernelspec": {
      "display_name": "Python 3",
      "name": "python3"
    },
    "language_info": {
      "name": "python"
    },
    "accelerator": "GPU"
  },
  "nbformat": 4,
  "nbformat_minor": 0
}