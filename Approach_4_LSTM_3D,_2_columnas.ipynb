{
  "cells": [
    {
      "cell_type": "markdown",
      "metadata": {
        "id": "GA6YPW4PV5y6"
      },
      "source": [
        "# Detector de plagio\n",
        "\n",
        "### (LSTM con Diccionario y dos arrays en columnas)\n",
        "\n",
        "En este trabajo se busca realizar un detector de plagio de código utilizando técnicas del Deep Learning\n",
        "\n",
        "\n",
        "**Autores:**\n",
        "\n",
        "*   Michelle Aylin Calzada Montes\n",
        "*   Manolo Ramírez Pintor\n",
        "*   Eduardo Rodríguez Gill"
      ]
    },
    {
      "cell_type": "markdown",
      "metadata": {
        "id": "xkmgLWIkToyd"
      },
      "source": [
        "### Cada vez que se quiera trabajar, se tiene que correr esta celda para tener acceso a los archivos"
      ]
    },
    {
      "cell_type": "code",
      "execution_count": null,
      "metadata": {
        "colab": {
          "base_uri": "https://localhost:8080/"
        },
        "id": "m5r2DWf7SUB2",
        "outputId": "4d23f76f-5bf3-41df-ebd2-dd6f4c262a30"
      },
      "outputs": [
        {
          "output_type": "stream",
          "name": "stdout",
          "text": [
            "Mounted at /content/drive\n",
            "/content/drive/Shareddrives/AI/Reto\n",
            "Approach3_Mich.ipynb  Plagios_IA.zip  version_2_tokenized_dicc.zip\n",
            "Approach4.ipynb       Reto.ipynb      version_2_tokenized.zip\n"
          ]
        }
      ],
      "source": [
        "# Accesar a Google Drive\n",
        "from google.colab import drive\n",
        "drive.mount('/content/drive')\n",
        "\n",
        "# Ir al directorio de los archivos\n",
        "%cd \"/content/drive/Shareddrives/AI/Reto\"\n",
        "!ls"
      ]
    },
    {
      "cell_type": "code",
      "execution_count": null,
      "metadata": {
        "id": "3xfa-NIQ_hAa"
      },
      "outputs": [],
      "source": [
        "# Eliminar todo por si queremos reiniciar\n",
        "!rm -rf \"/content/Plagios IA\"\n",
        "\n",
        "# Copiar zip de las carpetas al almacenamiento de colab\n",
        "!cp -r /content/drive/Shareddrives/AI/Reto/Plagios_IA.zip /content\n",
        "\n",
        "# Nuevo - Copiar zip del codigo tokenizado al almacenamiento de colab\n",
        "!cp -r /content/drive/Shareddrives/AI/Reto/version_2_tokenized_dicc.zip /content"
      ]
    },
    {
      "cell_type": "code",
      "execution_count": null,
      "metadata": {
        "id": "NTJvSNyuVomu"
      },
      "outputs": [],
      "source": [
        "# Extraer zip de Plagios IA\n",
        "%%capture\n",
        "%cd /content\n",
        "!unzip Plagios_IA.zip\n",
        "!unzip version_2_tokenized_dicc.zip"
      ]
    },
    {
      "cell_type": "code",
      "execution_count": null,
      "metadata": {
        "id": "5uoxIlKYVbtP"
      },
      "outputs": [],
      "source": [
        "# Eliminar archivos distractores\n",
        "!rm -rf sample_data\n",
        "!rm Plagios_IA.zip"
      ]
    },
    {
      "cell_type": "markdown",
      "metadata": {
        "id": "XNFBj05eavwH"
      },
      "source": [
        "# **Ya no correr las siguientes celdas**\n",
        "## Revisando la info que contiene conplag en sus tablas\n",
        "\n"
      ]
    },
    {
      "cell_type": "code",
      "execution_count": null,
      "metadata": {
        "id": "gfbZisWR1-Oi"
      },
      "outputs": [],
      "source": [
        "# Ver info de conplag\n",
        "import pandas as pd\n",
        "df_conplag_labels = pd.read_csv(\"./Plagios IA/conplag/versions/labels.csv\")\n",
        "df_conplag_test = pd.read_csv(\"./Plagios IA/conplag/versions/test_pairs.csv\")\n",
        "df_conplag_train = pd.read_csv(\"./Plagios IA/conplag/versions/train_pairs.csv\")"
      ]
    },
    {
      "cell_type": "code",
      "execution_count": null,
      "metadata": {
        "colab": {
          "base_uri": "https://localhost:8080/",
          "height": 423
        },
        "id": "Tf15QUuy3TR3",
        "outputId": "6685f8be-598d-4bd7-874b-b94e35507e8b"
      },
      "outputs": [
        {
          "output_type": "execute_result",
          "data": {
            "text/plain": [
              "         sub1      sub2  problem  verdict\n",
              "0    0fd5b95a  6490bbe8       19        0\n",
              "1    464a03b8  ff1fc018       20        0\n",
              "2    3e6def38  548ffb07       14        1\n",
              "3    0b91922c  71a4f6d2        6        0\n",
              "4    9291ca83  d6fb3b9e       15        0\n",
              "..        ...       ...      ...      ...\n",
              "906  11c2ab99  28c2d81a        8        1\n",
              "907  550335a3  6d7d5dd7        4        0\n",
              "908  558df7d4  d8654140       17        0\n",
              "909  3088ca9c  6f393cfe       15        1\n",
              "910  213340b3  870e16d9        4        0\n",
              "\n",
              "[911 rows x 4 columns]"
            ],
            "text/html": [
              "\n",
              "  <div id=\"df-cf772bbc-e6e5-42c7-bc22-04a821592c32\">\n",
              "    <div class=\"colab-df-container\">\n",
              "      <div>\n",
              "<style scoped>\n",
              "    .dataframe tbody tr th:only-of-type {\n",
              "        vertical-align: middle;\n",
              "    }\n",
              "\n",
              "    .dataframe tbody tr th {\n",
              "        vertical-align: top;\n",
              "    }\n",
              "\n",
              "    .dataframe thead th {\n",
              "        text-align: right;\n",
              "    }\n",
              "</style>\n",
              "<table border=\"1\" class=\"dataframe\">\n",
              "  <thead>\n",
              "    <tr style=\"text-align: right;\">\n",
              "      <th></th>\n",
              "      <th>sub1</th>\n",
              "      <th>sub2</th>\n",
              "      <th>problem</th>\n",
              "      <th>verdict</th>\n",
              "    </tr>\n",
              "  </thead>\n",
              "  <tbody>\n",
              "    <tr>\n",
              "      <th>0</th>\n",
              "      <td>0fd5b95a</td>\n",
              "      <td>6490bbe8</td>\n",
              "      <td>19</td>\n",
              "      <td>0</td>\n",
              "    </tr>\n",
              "    <tr>\n",
              "      <th>1</th>\n",
              "      <td>464a03b8</td>\n",
              "      <td>ff1fc018</td>\n",
              "      <td>20</td>\n",
              "      <td>0</td>\n",
              "    </tr>\n",
              "    <tr>\n",
              "      <th>2</th>\n",
              "      <td>3e6def38</td>\n",
              "      <td>548ffb07</td>\n",
              "      <td>14</td>\n",
              "      <td>1</td>\n",
              "    </tr>\n",
              "    <tr>\n",
              "      <th>3</th>\n",
              "      <td>0b91922c</td>\n",
              "      <td>71a4f6d2</td>\n",
              "      <td>6</td>\n",
              "      <td>0</td>\n",
              "    </tr>\n",
              "    <tr>\n",
              "      <th>4</th>\n",
              "      <td>9291ca83</td>\n",
              "      <td>d6fb3b9e</td>\n",
              "      <td>15</td>\n",
              "      <td>0</td>\n",
              "    </tr>\n",
              "    <tr>\n",
              "      <th>...</th>\n",
              "      <td>...</td>\n",
              "      <td>...</td>\n",
              "      <td>...</td>\n",
              "      <td>...</td>\n",
              "    </tr>\n",
              "    <tr>\n",
              "      <th>906</th>\n",
              "      <td>11c2ab99</td>\n",
              "      <td>28c2d81a</td>\n",
              "      <td>8</td>\n",
              "      <td>1</td>\n",
              "    </tr>\n",
              "    <tr>\n",
              "      <th>907</th>\n",
              "      <td>550335a3</td>\n",
              "      <td>6d7d5dd7</td>\n",
              "      <td>4</td>\n",
              "      <td>0</td>\n",
              "    </tr>\n",
              "    <tr>\n",
              "      <th>908</th>\n",
              "      <td>558df7d4</td>\n",
              "      <td>d8654140</td>\n",
              "      <td>17</td>\n",
              "      <td>0</td>\n",
              "    </tr>\n",
              "    <tr>\n",
              "      <th>909</th>\n",
              "      <td>3088ca9c</td>\n",
              "      <td>6f393cfe</td>\n",
              "      <td>15</td>\n",
              "      <td>1</td>\n",
              "    </tr>\n",
              "    <tr>\n",
              "      <th>910</th>\n",
              "      <td>213340b3</td>\n",
              "      <td>870e16d9</td>\n",
              "      <td>4</td>\n",
              "      <td>0</td>\n",
              "    </tr>\n",
              "  </tbody>\n",
              "</table>\n",
              "<p>911 rows × 4 columns</p>\n",
              "</div>\n",
              "      <button class=\"colab-df-convert\" onclick=\"convertToInteractive('df-cf772bbc-e6e5-42c7-bc22-04a821592c32')\"\n",
              "              title=\"Convert this dataframe to an interactive table.\"\n",
              "              style=\"display:none;\">\n",
              "        \n",
              "  <svg xmlns=\"http://www.w3.org/2000/svg\" height=\"24px\"viewBox=\"0 0 24 24\"\n",
              "       width=\"24px\">\n",
              "    <path d=\"M0 0h24v24H0V0z\" fill=\"none\"/>\n",
              "    <path d=\"M18.56 5.44l.94 2.06.94-2.06 2.06-.94-2.06-.94-.94-2.06-.94 2.06-2.06.94zm-11 1L8.5 8.5l.94-2.06 2.06-.94-2.06-.94L8.5 2.5l-.94 2.06-2.06.94zm10 10l.94 2.06.94-2.06 2.06-.94-2.06-.94-.94-2.06-.94 2.06-2.06.94z\"/><path d=\"M17.41 7.96l-1.37-1.37c-.4-.4-.92-.59-1.43-.59-.52 0-1.04.2-1.43.59L10.3 9.45l-7.72 7.72c-.78.78-.78 2.05 0 2.83L4 21.41c.39.39.9.59 1.41.59.51 0 1.02-.2 1.41-.59l7.78-7.78 2.81-2.81c.8-.78.8-2.07 0-2.86zM5.41 20L4 18.59l7.72-7.72 1.47 1.35L5.41 20z\"/>\n",
              "  </svg>\n",
              "      </button>\n",
              "      \n",
              "  <style>\n",
              "    .colab-df-container {\n",
              "      display:flex;\n",
              "      flex-wrap:wrap;\n",
              "      gap: 12px;\n",
              "    }\n",
              "\n",
              "    .colab-df-convert {\n",
              "      background-color: #E8F0FE;\n",
              "      border: none;\n",
              "      border-radius: 50%;\n",
              "      cursor: pointer;\n",
              "      display: none;\n",
              "      fill: #1967D2;\n",
              "      height: 32px;\n",
              "      padding: 0 0 0 0;\n",
              "      width: 32px;\n",
              "    }\n",
              "\n",
              "    .colab-df-convert:hover {\n",
              "      background-color: #E2EBFA;\n",
              "      box-shadow: 0px 1px 2px rgba(60, 64, 67, 0.3), 0px 1px 3px 1px rgba(60, 64, 67, 0.15);\n",
              "      fill: #174EA6;\n",
              "    }\n",
              "\n",
              "    [theme=dark] .colab-df-convert {\n",
              "      background-color: #3B4455;\n",
              "      fill: #D2E3FC;\n",
              "    }\n",
              "\n",
              "    [theme=dark] .colab-df-convert:hover {\n",
              "      background-color: #434B5C;\n",
              "      box-shadow: 0px 1px 3px 1px rgba(0, 0, 0, 0.15);\n",
              "      filter: drop-shadow(0px 1px 2px rgba(0, 0, 0, 0.3));\n",
              "      fill: #FFFFFF;\n",
              "    }\n",
              "  </style>\n",
              "\n",
              "      <script>\n",
              "        const buttonEl =\n",
              "          document.querySelector('#df-cf772bbc-e6e5-42c7-bc22-04a821592c32 button.colab-df-convert');\n",
              "        buttonEl.style.display =\n",
              "          google.colab.kernel.accessAllowed ? 'block' : 'none';\n",
              "\n",
              "        async function convertToInteractive(key) {\n",
              "          const element = document.querySelector('#df-cf772bbc-e6e5-42c7-bc22-04a821592c32');\n",
              "          const dataTable =\n",
              "            await google.colab.kernel.invokeFunction('convertToInteractive',\n",
              "                                                     [key], {});\n",
              "          if (!dataTable) return;\n",
              "\n",
              "          const docLinkHtml = 'Like what you see? Visit the ' +\n",
              "            '<a target=\"_blank\" href=https://colab.research.google.com/notebooks/data_table.ipynb>data table notebook</a>'\n",
              "            + ' to learn more about interactive tables.';\n",
              "          element.innerHTML = '';\n",
              "          dataTable['output_type'] = 'display_data';\n",
              "          await google.colab.output.renderOutput(dataTable, element);\n",
              "          const docLink = document.createElement('div');\n",
              "          docLink.innerHTML = docLinkHtml;\n",
              "          element.appendChild(docLink);\n",
              "        }\n",
              "      </script>\n",
              "    </div>\n",
              "  </div>\n",
              "  "
            ]
          },
          "metadata": {},
          "execution_count": 6
        }
      ],
      "source": [
        "# Head de labels conplag\n",
        "df_conplag_labels"
      ]
    },
    {
      "cell_type": "code",
      "execution_count": null,
      "metadata": {
        "id": "yE8A7TjP8VqC"
      },
      "outputs": [],
      "source": [
        "# Quitar archivos si no lo hicimos bien\n",
        "!rm -rf \"Plagios IA/conplag/versions/version_2_tokenized\""
      ]
    },
    {
      "cell_type": "markdown",
      "metadata": {
        "id": "ilScD3s7l8wx"
      },
      "source": [
        "## Este bloque de código toma todos los archivos de conplag y los tokeniza\n",
        "* Los tokens se convierten a valores numéricos únicos con una función hash de 32 bits"
      ]
    },
    {
      "cell_type": "code",
      "execution_count": null,
      "metadata": {
        "id": "ZpRC4w1sci3m"
      },
      "outputs": [],
      "source": [
        "# Instalar code_tokenize\n",
        "%%capture\n",
        "!pip install code-tokenize"
      ]
    },
    {
      "cell_type": "code",
      "execution_count": null,
      "metadata": {
        "id": "CsMK3ujR3wAi",
        "colab": {
          "base_uri": "https://localhost:8080/"
        },
        "outputId": "33e8ca32-239f-48be-a770-28d1fb9c2b28"
      },
      "outputs": [
        {
          "output_type": "execute_result",
          "data": {
            "text/plain": [
              "1822"
            ]
          },
          "metadata": {},
          "execution_count": 9
        }
      ],
      "source": [
        "# Tokenización de código:\n",
        "import code_tokenize as ctok\n",
        "import os\n",
        "\n",
        "path = \"./Plagios IA/conplag/versions/version_2\"\n",
        "new_path = \"./Plagios IA/conplag/versions/version_2_tokenized\"\n",
        "folders = [x[0] for x in os.walk(path)]\n",
        "todos_los_archivos = []\n",
        "\n",
        "for folder in folders:\n",
        "    files = os.listdir(folder)\n",
        "    new_folder = folder.replace(path, new_path) # replace the original path with the new one\n",
        "    if not os.path.exists(new_folder): # check if the folder exists\n",
        "        os.mkdir(new_folder) # create the folder only if it doesn't exist\n",
        "        for file in files:\n",
        "            file_path = os.path.join(folder, file)\n",
        "            if os.path.isdir(file_path): # check if the file is actually a subfolder\n",
        "                subfiles = os.listdir(file_path) # get the files in the subfolder\n",
        "                new_subfolder = os.path.join(new_folder, file) # create a new subfolder with the same name\n",
        "                os.mkdir(new_subfolder)\n",
        "                for subfile in subfiles: # loop over the files in the subfolder\n",
        "                    subfile_path = os.path.join(file_path, subfile)\n",
        "                    todos_los_archivos.append(subfile_path)\n",
        "            else: # if the file is not a subfolder, proceed as before\n",
        "                with open(file_path, \"r\") as f:\n",
        "                    content = f.read()\n",
        "                todos_los_archivos.append(subfile_path)\n",
        "\n",
        "len(todos_los_archivos)"
      ]
    },
    {
      "cell_type": "code",
      "source": [
        "# Quitar carpetas\n",
        "!rm -rf \"Plagios IA/conplag/versions/version_2_tokenized\""
      ],
      "metadata": {
        "id": "Um_WH3sLCrju"
      },
      "execution_count": null,
      "outputs": []
    },
    {
      "cell_type": "code",
      "source": [
        "# Instalar tokenizers para hacer un diccionario\n",
        "%%capture\n",
        "!pip install tokenizers"
      ],
      "metadata": {
        "id": "1KA0w6LC__yu"
      },
      "execution_count": null,
      "outputs": []
    },
    {
      "cell_type": "code",
      "source": [
        "# Crear directorio para el diccionario\n",
        "!mkdir mi_tokenizer"
      ],
      "metadata": {
        "id": "a63LLgX-AOvF"
      },
      "execution_count": null,
      "outputs": []
    },
    {
      "cell_type": "code",
      "source": [
        "# Importar libreria del diccionario\n",
        "from tokenizers import CharBPETokenizer\n",
        "\n",
        "# Crear un tokenizer vacío\n",
        "tokenizer = CharBPETokenizer()\n",
        "# Entrenar el tokenizer con un conjunto de archivos de código (por ejemplo, en C++)\n",
        "tokenizer.train(files=todos_los_archivos, vocab_size=0)\n",
        "# Guardar el tokenizer y su vocabulario\n",
        "tokenizer.save_model(\"./mi_tokenizer\")\n",
        "\n",
        "# Cargar el tokenizer desde el disco a una variable\n",
        "tokenizer = CharBPETokenizer(\"mi_tokenizer/vocab.json\", \"mi_tokenizer/merges.txt\")\n",
        "\n",
        "# Probar con algún código de Java\n",
        "#tokens = tokenizer.encode(\"\"\"    static class Pair implements Comparable<Pair> {\n",
        "#        int id;\n",
        "#        long sum=0;\n",
        "#        public Pair(int id) {\n",
        "#            this.id=id;\n",
        "#        }\"\"\")\n",
        "#print(tokens.ids) # [1, 2, 3, 4]\n",
        "# print(tokens.tokens) # [\"print\", \"(\", \"\\\"Hola\\\"\", \")\"]\n"
      ],
      "metadata": {
        "id": "zOkVmahMAEw9"
      },
      "execution_count": null,
      "outputs": []
    },
    {
      "cell_type": "code",
      "source": [
        "# Tokenizar un nuevo archivo de código\n",
        "\n",
        "# Tokenización de código:\n",
        "import code_tokenize as ctok\n",
        "import os\n",
        "\n",
        "path = \"./Plagios IA/conplag/versions/version_2\"\n",
        "new_path = \"./Plagios IA/conplag/versions/version_2_tokenized\"\n",
        "folders = [x[0] for x in os.walk(path)]\n",
        "todos_los_archivos = []\n",
        "\n",
        "for folder in folders:\n",
        "    files = os.listdir(folder)\n",
        "    new_folder = folder.replace(path, new_path) # replace the original path with the new one\n",
        "    if not os.path.exists(new_folder): # check if the folder exists\n",
        "        os.mkdir(new_folder) # create the folder only if it doesn't exist\n",
        "        for file in files:\n",
        "            file_path = os.path.join(folder, file)\n",
        "            if os.path.isdir(file_path): # check if the file is actually a subfolder\n",
        "                subfiles = os.listdir(file_path) # get the files in the subfolder\n",
        "                new_subfolder = os.path.join(new_folder, file) # create a new subfolder with the same name\n",
        "                os.mkdir(new_subfolder)\n",
        "                for subfile in subfiles: # loop over the files in the subfolder\n",
        "                    subfile_path = os.path.join(file_path, subfile)\n",
        "                    todos_los_archivos.append(subfile_path)\n",
        "                    with open(subfile_path, \"r\") as f:\n",
        "                        content = f.read()\n",
        "                    tokens = tokenizer.encode(content)\n",
        "                    tokens_finales = str(tokens.ids).strip(\"[]\")\n",
        "                    new_subfile_path = os.path.join(new_subfolder, subfile[:-4] + \"tok\")\n",
        "                    with open(new_subfile_path, \"w\") as f:\n",
        "                        f.write(\"\".join(tokens_finales))\n",
        "            else: # if the file is not a subfolder, proceed as before\n",
        "                with open(file_path, \"r\") as f:\n",
        "                    content = f.read()\n",
        "                #print(file_path)\n",
        "                tokens = tokenizer.encode(content)\n",
        "                new_file_path = os.path.join(new_folder, file[:-4] + \"tok\")\n",
        "                todos_los_archivos.append(subfile_path)\n",
        "                tokens_finales = str(tokens.ids).strip(\"[]\")\n",
        "                with open(new_file_path, \"w\") as f:\n",
        "                    f.write(\"\".join(tokens_finales))"
      ],
      "metadata": {
        "id": "FNPtpheKBUzD"
      },
      "execution_count": null,
      "outputs": []
    },
    {
      "cell_type": "markdown",
      "metadata": {
        "id": "1lpgCcfhmybF"
      },
      "source": [
        "### 🔔 No hacer caso al elol chino si el código de arriba no tuvo un error"
      ]
    },
    {
      "cell_type": "code",
      "execution_count": null,
      "metadata": {
        "colab": {
          "base_uri": "https://localhost:8080/"
        },
        "id": "ZC9mtRonQrSg",
        "outputId": "4773b610-da4d-4918-a5c0-533f69505687"
      },
      "outputs": [
        {
          "output_type": "stream",
          "name": "stdout",
          "text": [
            "🉐 Elol chino, me atolé en:\n",
            "📃 ./Plagios IA/conplag/versions/version_2/4e28b45e_fc1771af/4e28b45e.java \n",
            "🙏 Aléglame polfa 😠😠\n"
          ]
        }
      ],
      "source": [
        "print(\"🉐 Elol chino, me atolé en:\\n📃\", subfile_path, \"\\n🙏 Aléglame polfa 😠😠\")"
      ]
    },
    {
      "cell_type": "markdown",
      "metadata": {
        "id": "tg8_AYH5i2EX"
      },
      "source": [
        "## Estos (4) bloques de código almacena el código tokenizado a un zip y lo copia a Google Drive"
      ]
    },
    {
      "cell_type": "code",
      "execution_count": null,
      "metadata": {
        "colab": {
          "base_uri": "https://localhost:8080/"
        },
        "id": "qoT_QwpTYP0r",
        "outputId": "12707d94-1767-46f7-a00b-c08577658720"
      },
      "outputs": [
        {
          "output_type": "stream",
          "name": "stdout",
          "text": [
            "/content/Plagios IA/conplag/versions\n"
          ]
        }
      ],
      "source": [
        "# Nos dirigimos a la carpeta para almacenaje\n",
        "%cd \"/content/Plagios IA/conplag/versions/\""
      ]
    },
    {
      "cell_type": "code",
      "execution_count": null,
      "metadata": {
        "id": "olkXxuhthYdG"
      },
      "outputs": [],
      "source": [
        "# Lo zippeamos\n",
        "%%capture\n",
        "!zip -r /content/version_2_tokenized_dicc.zip \"version_2_tokenized\""
      ]
    },
    {
      "cell_type": "code",
      "execution_count": null,
      "metadata": {
        "colab": {
          "base_uri": "https://localhost:8080/"
        },
        "id": "xl-weNRmhaYh",
        "outputId": "626fa630-f1f7-4036-f7f6-09c30ef89091"
      },
      "outputs": [
        {
          "output_type": "stream",
          "name": "stdout",
          "text": [
            "/content\n"
          ]
        }
      ],
      "source": [
        "# Nos regresamos a nuestra raiz para evitar accidentes\n",
        "%cd /content"
      ]
    },
    {
      "cell_type": "code",
      "execution_count": null,
      "metadata": {
        "id": "Nc74fWZNjVbP"
      },
      "outputs": [],
      "source": [
        "!cp version_2_tokenized_dicc.zip /content/drive/Shareddrives/AI/Reto # Copy to GDrive"
      ]
    },
    {
      "cell_type": "code",
      "source": [
        "%%capture\n",
        "!rm -rf version_2_tokenized"
      ],
      "metadata": {
        "id": "Qzx-X-o2Ik1j"
      },
      "execution_count": null,
      "outputs": []
    },
    {
      "cell_type": "markdown",
      "metadata": {
        "id": "oULdY58dndxA"
      },
      "source": [
        "### Método de verificación (por si acaso)\n",
        "Valida que el número de carpetas y de archivos sea el mismo entre la carpeta original y la carpeta tokenizada."
      ]
    },
    {
      "cell_type": "code",
      "execution_count": null,
      "metadata": {
        "colab": {
          "base_uri": "https://localhost:8080/"
        },
        "id": "RqcHcPHHXTlQ",
        "outputId": "a8dc3734-db18-4362-c5b6-f965b36f6a89"
      },
      "outputs": [
        {
          "output_type": "stream",
          "name": "stdout",
          "text": [
            "Number of folders in ./Plagios IA/conplag/versions/version_2: 912\n",
            "Number of files in ./Plagios IA/conplag/versions/version_2: 1822\n",
            "Number of folders in ./Plagios IA/conplag/versions/version_2_tokenized: 0\n",
            "Number of files in ./Plagios IA/conplag/versions/version_2_tokenized: 0\n"
          ]
        }
      ],
      "source": [
        "# Verificar que todo está correcto en carpetas y archivos\n",
        "import os\n",
        "\n",
        "path1 = \"./Plagios IA/conplag/versions/version_2\"\n",
        "path2 = \"./Plagios IA/conplag/versions/version_2_tokenized\"\n",
        "\n",
        "folder_count1 = 0\n",
        "file_count1 = 0\n",
        "folder_count2 = 0\n",
        "file_count2 = 0\n",
        "\n",
        "for folder, subfolders, files in os.walk(path1):\n",
        "    folder_count1 += 1 # increment the folder count\n",
        "    file_count1 += len(files) # add the number of files in the folder\n",
        "\n",
        "for folder, subfolders, files in os.walk(path2):\n",
        "    folder_count2 += 1 # increment the folder count\n",
        "    file_count2 += len(files) # add the number of files in the folder\n",
        "\n",
        "print(f\"Number of folders in {path1}: {folder_count1}\")\n",
        "print(f\"Number of files in {path1}: {file_count1}\")\n",
        "print(f\"Number of folders in {path2}: {folder_count2}\")\n",
        "print(f\"Number of files in {path2}: {file_count2}\")"
      ]
    },
    {
      "cell_type": "markdown",
      "metadata": {
        "id": "_YFU4J1ZoxoJ"
      },
      "source": [
        "# **Continuar ejecución de celdas a partir de aquí:**\n",
        "## Creación de un dataframe para iniciar el entrenamiento"
      ]
    },
    {
      "cell_type": "code",
      "execution_count": null,
      "metadata": {
        "id": "2PdXddOSc3UH"
      },
      "outputs": [],
      "source": [
        "# Retomar los paths de trabajo \n",
        "import os\n",
        "path = \"./Plagios IA/conplag/versions/version_2\"\n",
        "new_path = \"./version_2_tokenized\""
      ]
    },
    {
      "cell_type": "code",
      "source": [
        "import pandas as pd\n",
        "\n",
        "# Lee el dataframe\n",
        "df_conplag_labels = pd.read_csv(\"./Plagios IA/conplag/versions/labels.csv\")\n",
        "\n",
        "# Separa los valores de verdict que sean 0 y 1 en dataframes separados\n",
        "df_verdict_0 = df_conplag_labels[df_conplag_labels['verdict'] == 0]\n",
        "df_verdict_1 = df_conplag_labels[df_conplag_labels['verdict'] == 1]\n",
        "\n",
        "# Selecciona aleatoriamente 251 filas de cada dataframe sin reemplazo\n",
        "df_verdict_0_sampled = df_verdict_0.sample(n=251, replace=False)\n",
        "df_verdict_1_sampled = df_verdict_1.sample(n=251, replace=False)\n",
        "\n",
        "# Concatena los dos dataframes resultantes en uno solo\n",
        "df_balanced = pd.concat([df_verdict_0_sampled, df_verdict_1_sampled])\n",
        "\n",
        "print(df_balanced)\n",
        "\n",
        "# Contar el número de 1s y 0s en la columna veredicto\n",
        "conteo = df_balanced['verdict'].value_counts()\n",
        "print(conteo)\n"
      ],
      "metadata": {
        "colab": {
          "base_uri": "https://localhost:8080/"
        },
        "id": "rwKrmRj5ZP1b",
        "outputId": "fb6ca407-b0f9-4e48-937a-87ef8f32ef18"
      },
      "execution_count": null,
      "outputs": [
        {
          "output_type": "stream",
          "name": "stdout",
          "text": [
            "         sub1      sub2  problem  verdict\n",
            "462  a7063d01  ac4d0fc5        3        0\n",
            "289  016510dc  f1540246       10        0\n",
            "619  29d865c3  5cfa2861        4        0\n",
            "815  46e9aed4  7011024d       19        0\n",
            "683  6db218a2  8ad1ad84        1        0\n",
            "..        ...       ...      ...      ...\n",
            "242  2120328e  6de04ee2       20        1\n",
            "211  bdfe8110  c57a973e        8        1\n",
            "23   a4d6775d  cb87df79       19        1\n",
            "498  bdfe8110  fadc1365        8        1\n",
            "581  4da08761  c4ca2ff3       15        1\n",
            "\n",
            "[502 rows x 4 columns]\n",
            "0    251\n",
            "1    251\n",
            "Name: verdict, dtype: int64\n"
          ]
        }
      ]
    },
    {
      "cell_type": "code",
      "source": [
        "# create a dictionary that maps each pair of files to their verdict\n",
        "verdict_dict = {}\n",
        "for index, row in df_balanced.iterrows():\n",
        "    sub1 = row[\"sub1\"]\n",
        "    sub2 = row[\"sub2\"]\n",
        "    verdict = row[\"verdict\"]\n",
        "    verdict_dict[f\"{sub1}_{sub2}\"] = verdict\n",
        "\n",
        "print(verdict_dict)"
      ],
      "metadata": {
        "colab": {
          "base_uri": "https://localhost:8080/"
        },
        "id": "x5Qkz-APWRlk",
        "outputId": "f0650268-f618-4956-f236-6c7b43543980"
      },
      "execution_count": null,
      "outputs": [
        {
          "output_type": "stream",
          "name": "stdout",
          "text": [
            "{'a7063d01_ac4d0fc5': 0, '016510dc_f1540246': 0, '29d865c3_5cfa2861': 0, '46e9aed4_7011024d': 0, '6db218a2_8ad1ad84': 0, '487c9f62_54488276': 0, '464a03b8_cf27732e': 0, '0e68e463_29cf2e70': 0, '3d88acb8_b6023b26': 0, '17e67976_656b62de': 0, '16857116_e185bce5': 0, '0f09b843_45e41c6d': 0, '7c11511f_f3d7ce08': 0, '624b8db5_e9986d44': 0, '90f01508_ec8566b8': 0, '9fd33d5a_c220c822': 0, '1d43139f_fdd41565': 0, '69b2fd22_d018b49f': 0, '4da08761_a5d5a95f': 0, 'ae4d5b49_f665e87b': 0, '26e699de_90dc2b20': 0, '701c3f35_d56bcb0c': 0, '2eb89317_5f0a176e': 0, '00af3420_d92c5342': 0, '0951d079_927384f2': 0, '0b04b41e_fdd41565': 0, '05ca89ed_5b9a0551': 0, '31cdf5fe_80cc284c': 0, 'bd65846f_d018b49f': 0, '3088ca9c_a2cf5634': 0, '808f7516_9ebe348d': 0, '4d279121_a3e272af': 0, '169e34bf_ba468e1f': 0, '80881cae_f8e7b886': 0, 'abd16ff0_db1ef8b3': 0, '3e8ff074_d9199dfd': 0, '67241a76_8a39dbf5': 0, '464ad4dd_9291ca83': 0, '3dd65549_c1638a45': 0, '778c91af_9399204d': 0, '608ee4fb_be7b6026': 0, '161b4a40_da5cf40b': 0, '66e74577_6e207cbf': 0, '2c865582_2ef4c176': 0, '3e93b259_e431de28': 0, '5db541bd_5e3089fa': 0, '16a2a867_3951966f': 0, 'a3e272af_d1cd194e': 0, '00af3420_86102d81': 0, '00f79486_fb312dc6': 0, '29cb9b0e_c77654b8': 0, '16857116_6e207cbf': 0, '22b41936_8f855b99': 0, '5a81e159_d82fa7e3': 0, '2acaa7df_46e9aed4': 0, '7d9b95c0_9d33ca79': 0, 'b08b1c3c_d92b4600': 0, '69b2fd22_e6b7a899': 0, '0e68e463_2120328e': 0, 'f28b8cb4_ff3283cf': 0, '3a12e509_c9159d9c': 0, '18e2441c_b728ba1d': 0, '40132ebc_d783d815': 0, '7814575b_8cfe3ee0': 0, '5289e80a_d82fa7e3': 0, '680ba922_6d7d5dd7': 0, '6be98ece_e1c4f3db': 0, '4303de0d_c9a316ca': 0, '72d9eb5b_884f5678': 0, 'ca8f11a4_e185bce5': 0, '3951966f_b842cf12': 0, '1dab88fb_4138b081': 0, '169e34bf_609af028': 0, '1dab88fb_b7de5c19': 0, '0b04b41e_4da08761': 0, '13441e8f_2ebeae13': 0, '3bd7275e_8635bc10': 0, '4499e3b9_cbbbed5f': 0, 'd6bbd286_fabb36ff': 0, '0ca738ce_931faca2': 0, '60557643_948e98b6': 0, '8639f6c6_e18ae6a1': 0, '25597bcb_86232d21': 0, '81fb6415_fb69b3b4': 0, '8703709f_d2901569': 0, 'a8e2cefc_ee270b2a': 0, '0b5cff5a_4fb09c5f': 0, 'ac2dfc53_c4187a0e': 0, 'd12f26f0_df594a00': 0, '35bb6075_42fe7dd0': 0, '9069684f_fffc11ee': 0, '83b44c9c_e431de28': 0, 'cc669e02_d88fa51c': 0, '71e0f2e5_b226c49a': 0, '43b85d63_a37923d1': 0, '3b498a39_ae775964': 0, '68d422ec_d77f722c': 0, '71c7ac71_8f778337': 0, '4dc0247e_875ed4c8': 0, '7bcacc97_e431de28': 0, '2e404969_bc46480a': 0, '8703709f_f0801d53': 0, '51d857bc_c392efe7': 0, '392218ef_f0ede32a': 0, '0017d438_ac180326': 0, '7f42483d_c9a316ca': 0, 'a3e272af_f7fc2e94': 0, 'ad2a1ae2_bc46480a': 0, '00f79486_ce0b2178': 0, '01c915a2_480de7be': 0, '646b3abc_8261bd1c': 0, '4138b081_f59d9b6e': 0, '141effef_6653a758': 0, '0588b869_11373c16': 0, 'c9159d9c_fae0662f': 0, 'd2a4c1fb_dcdaf666': 0, '2bbf754b_3a12e509': 0, '307ef2cb_565f77b7': 0, '7974ffba_94b3b86d': 0, '7011024d_e6b7a899': 0, '4da08761_6f393cfe': 0, '8f31b279_a3e272af': 0, 'c34bb733_ea899386': 0, '5647d16e_ea09d197': 0, '3ff25f43_a195911e': 0, '464a03b8_c9159d9c': 0, '4e87c35b_f1f600d9': 0, 'e2fe9d7d_ece1820d': 0, '83b44c9c_ed610dc9': 0, '93ee4612_da5cf40b': 0, '83b44c9c_8d9871a9': 0, 'c9159d9c_f0ede32a': 0, '0889dcfb_22138fad': 0, '24044589_e435b1ac': 0, '99ccaa44_e7a997b5': 0, '07749c65_2bbf754b': 0, '1c8bb204_7ed5a88d': 0, '10584086_f229aa7f': 0, 'ee270b2a_fc80cbe0': 0, 'aa8091b0_ac180326': 0, 'b790ef12_ff34fab2': 0, '99bc7da3_b3638571': 0, '9f354c5c_a6532df9': 0, '1c90c367_e52863b8': 0, 'ba468e1f_ff34fab2': 0, '3e93b259_9d753699': 0, '339fdc7f_6be4dcef': 0, '04a706b1_5b7127bf': 0, '24afd00e_424c930b': 0, '764484c3_9028caf7': 0, '1dab88fb_7b5f64b7': 0, '5b9a0551_9debf95c': 0, '01b911ac_a195911e': 0, '44428e63_c850e422': 0, '1162c08f_eea69e7f': 0, '40cc90ae_9399204d': 0, '1adac634_ad4c7a20': 0, '26e699de_f229aa7f': 0, '3a12e509_e812ee0b': 0, '98950986_b9595381': 0, '547ee69b_5ce1fe32': 0, '71c7ac71_bdfe8110': 0, '04ed33a5_7ea34254': 0, '7c220622_a06631ff': 0, '6de04ee2_d9199dfd': 0, '464a03b8_ff1fc018': 0, '810cf242_968c1e7e': 0, '0d4d22e0_d20e861b': 0, '23594fdf_b185d034': 0, '4fb09c5f_c57a973e': 0, '0b91922c_71a4f6d2': 0, '74f4382e_bd584714': 0, '0b04b41e_c4ca2ff3': 0, 'a368f345_e5d02e93': 0, 'a4e39423_ba8800f5': 0, '175201f9_40cc90ae': 0, '2bbf754b_69b8ffb2': 0, '6255ee79_ac8ef97c': 0, '26e699de_e99c14b9': 0, 'a60fba84_c695a974': 0, '949502c2_e647bef7': 0, '26e699de_76ad805a': 0, '38601291_3bcd2014': 0, '2f8c3bf3_3c667d4f': 0, '1adac634_a7e7f371': 0, '14b0fb8e_8ddb5587': 0, '976fe834_da54dec3': 0, '35857a5a_ab7507bf': 0, '8a39dbf5_e1a5831a': 0, 'c287ea9d_d2901569': 0, '1be078c4_f339ef6f': 0, '1230c43e_2bbf754b': 0, 'a6520606_fb05904c': 0, '7bc92b7f_9028caf7': 0, '3b498a39_9028caf7': 0, '11d91f31_eea69e7f': 0, '6018974f_bdf7bfb2': 0, '9ed0ece8_c48673a6': 0, '00af3420_f4d6d28d': 0, '3f939694_54488276': 0, '80881cae_9555b9d1': 0, '1a6f8b20_77448a05': 0, '3dd65549_90dc2b20': 0, '90d0ffd0_b21c7532': 0, '53551ea0_6be98ece': 0, '3ef54b1a_bac616ee': 0, 'c57997b6_ff10b574': 0, '31cdf5fe_f0801d53': 0, 'c4ca2ff3_d6fb3b9e': 0, '1097b326_f1f600d9': 0, 'ac7187d8_b7a6c59c': 0, '49b94994_558df7d4': 0, '3a318b43_90b71536': 0, '81fb6415_b3d4c5ca': 0, '5756162d_808f7516': 0, 'd2eb953e_dcf09f37': 0, '8c591975_b6724dd9': 0, 'ae6567fb_d22a53cd': 0, '0c9d4def_ef1d196b': 0, '4138b081_f729338f': 0, '1ea771ea_b9219544': 0, '73f57af1_9a20c823': 0, '8ad1ad84_f652c678': 0, '3a12e509_47310b0e': 0, '1f27b677_81fb6415': 0, '69b2fd22_d221162a': 0, '1eda0725_d2901569': 0, '372a4f50_e435b1ac': 0, '49e94e7e_f3d7ce08': 0, '6b83b22e_c59194c7': 0, '35bb6075_76a69f5c': 0, '5766f176_e7a997b5': 0, '3afcc566_fcc7e8fa': 0, '09586ae3_88c90c09': 0, '26ad111c_b0a01ee7': 0, '6e207cbf_dc281165': 0, '73f1c5f5_da0b7cb2': 0, '31f29772_ac180326': 0, '11373c16_7011024d': 0, '49b94994_f0d91796': 0, '10bbe9de_48993e07': 0, '3088ca9c_f6ed6826': 0, 'fadc1365_fdd85afb': 0, '8532d5ed_b9595381': 0, '317baeaf_e17c5159': 0, '4548305b_c0aa6246': 0, '49e94e7e_d7a8434f': 0, '51151974_7d12d33c': 0, '46e9aed4_8ddb5587': 0, '94b3b86d_efe594c3': 0, '11373c16_d8e4eb5e': 0, '11c2ab99_28c2d81a': 1, '3c667d4f_a7894e0b': 1, '3368f340_a8f7c8b7': 1, 'a4c98ae1_ee4f7b06': 1, '6bcc5afd_f6ca6fc8': 1, '2c7a0000_4201fdf7': 1, '39210347_68dff461': 1, '317a209c_9ab3c0e1': 1, '4eac0eea_f4d6d28d': 1, '6e7cd58b_7279bcb3': 1, 'bf0df1d5_ea899386': 1, '6653a758_f6ca6fc8': 1, '115c99cb_548ffb07': 1, '7686c854_abd16ff0': 1, '2120328e_464a03b8': 1, '4e28b45e_d7a8434f': 1, 'a101df86_dffa45ac': 1, 'b9595381_d6fb3b9e': 1, '9e7551da_f0e13442': 1, '2c7a0000_bd50e3fe': 1, '1162c08f_a4d6775d': 1, '36f1b52a_558df7d4': 1, '6825260d_c972dd00': 1, '1162c08f_6bcc5afd': 1, 'c9da41af_f59d9b6e': 1, '2695ce73_ac8acb97': 1, '11c2ab99_e6a6e318': 1, '63bfa731_949502c2': 1, '530f01c2_f41057db': 1, 'ac144188_e899614e': 1, '403e3270_58d18fca': 1, '5dbd0a07_bdc08e6f': 1, '05ca89ed_163d0dde': 1, '8a729537_abd16ff0': 1, '38129877_7493a104': 1, 'd9199dfd_fb312dc6': 1, '21123500_fbd26aa0': 1, '2120328e_b790ef12': 1, 'af2b138c_e45446bc': 1, '9291ca83_b185d034': 1, '132281e9_f415c0bf': 1, '7686c854_edce3e39': 1, '11c2ab99_4f7af821': 1, '5af25bd7_77ec956f': 1, '317a209c_3e6def38': 1, '54d7c21e_a7e7f371': 1, '7686c854_8a729537': 1, '2d1553b5_656d0f78': 1, 'c57a973e_fa484fdd': 1, '11c2ab99_8f6421f3': 1, '3088ca9c_6f393cfe': 1, '14b0fb8e_d221162a': 1, '0951d079_71a4f6d2': 1, '829d2024_8a20e743': 1, '04ed33a5_0c173033': 1, '08cf0478_9291ca83': 1, '77d22fc3_d3528b2a': 1, '949502c2_9fc811f7': 1, '04df7bb8_1ea771ea': 1, '6653a758_6bcc5afd': 1, '9debf95c_ac596a43': 1, '6db218a2_90b71536': 1, '2b9dfed3_351c9206': 1, '9ab3c0e1_d5fa4746': 1, '22b41936_9cea10af': 1, '1480a727_a7d1ce58': 1, '464a03b8_f0ede32a': 1, '1162c08f_734a94be': 1, '0ecf356d_71a4f6d2': 1, '9fc811f7_cff39394': 1, '80c384e4_967b67b0': 1, '7279bcb3_cfba313d': 1, '0b27be88_3f4a5b64': 1, '48993e07_96cd6ee9': 1, '63a24497_6e5ab1d2': 1, '8b490132_db09b3f9': 1, '2da4b3fe_3d06b643': 1, '24b20554_43b10dec': 1, 'bdfe8110_e6a6e318': 1, '53d782a0_5769b7b3': 1, '16857116_f3d7ce08': 1, '1dab88fb_f59d9b6e': 1, '0fdc80c5_28c2d81a': 1, '8f6421f3_ea2fc2bc': 1, '8f30bfc3_af1b152e': 1, '6bcc5afd_cb87df79': 1, '99afdfb3_e152c1ff': 1, '29cf2e70_72d9eb5b': 1, '3d88acb8_8aadde13': 1, '43ca682a_baebdc56': 1, '1162c08f_f6ca6fc8': 1, '4fd752f7_c7239c97': 1, '2bbc6c80_4e58558c': 1, '42fe7dd0_9291ca83': 1, 'b728ba1d_d04e5afb': 1, '6c4ac8d3_829d2024': 1, 'a7e7f371_ad4c7a20': 1, 'aa266c38_b5fbe7a2': 1, '29cf2e70_b2001d68': 1, '0c173033_6b83b22e': 1, '29cf2e70_584b0e9e': 1, '548ffb07_921b6e4a': 1, '1013b392_5a340556': 1, '12c1cc56_c06c758d': 1, '46bde295_8a858867': 1, '548ffb07_9ab3c0e1': 1, '1c8bb204_4b7646f4': 1, '6815a099_f41057db': 1, '480de7be_f4757480': 1, '63bfa731_9fc811f7': 1, '3e6def38_548ffb07': 1, '18e2441c_43b10dec': 1, '51cc7026_e81b2d16': 1, '317a209c_548ffb07': 1, '6e7cd58b_cfba313d': 1, '8d9871a9_e431de28': 1, '734a94be_cb87df79': 1, '3380fa52_48993e07': 1, '04df7bb8_aaccc000': 1, '115c99cb_921b6e4a': 1, '9261620f_f0881ab5': 1, '921b6e4a_e7dce35b': 1, 'b434c275_fdc4f384': 1, '6bcc5afd_734a94be': 1, '4212c4b9_829d2024': 1, '18e2441c_24b20554': 1, '9399204d_b434c275': 1, '0f6ca337_6843cc19': 1, '0951d079_0ecf356d': 1, 'd23b398c_e14d1ba0': 1, '0ee2f8f1_c2b7b017': 1, '53196443_e496d229': 1, '0017d438_9852706b': 1, 'ccc8ef27_d6fb3b9e': 1, '11c2ab99_bdfe8110': 1, '079ad09e_20012377': 1, '2b2d3b84_aaccc000': 1, '1469697d_69c86b61': 1, '34b9ed7f_8311f375': 1, '2e1109d7_e7000ac2': 1, '3412b353_528a6162': 1, '04df7bb8_85125ecb': 1, '28c2d81a_fa484fdd': 1, '42fe7dd0_c4ca2ff3': 1, '66565156_6f393cfe': 1, '2bd5c798_317baeaf': 1, 'cc9230d3_ec558d69': 1, '201e3463_de599e42': 1, '47d54299_da0b7cb2': 1, '8a5fe3d9_ea899386': 1, 'aa8091b0_eec856c0': 1, '54d7c21e_80881cae': 1, '0f14b12d_7d12d33c': 1, 'b8b08542_d783d815': 1, '034030f3_bf992c91': 1, '3c74c140_732c98a0': 1, '4241f473_77448a05': 1, 'e1c4f3db_e81b2d16': 1, '3b5cec19_8f31b279': 1, '04ed33a5_6b83b22e': 1, '317a209c_6b97058e': 1, '3d06b643_f6ca6fc8': 1, '6b97058e_921b6e4a': 1, '54129ce9_607d5541': 1, '12c1cc56_7b71234c': 1, '722e318f_b790ef12': 1, '3ff60986_d0b4b96c': 1, '3088ca9c_7a9c69d8': 1, '3380fa52_f28b8cb4': 1, '829d2024_9852706b': 1, '4548305b_be3b1289': 1, '54d7c21e_ad4c7a20': 1, '1071f735_cd835290': 1, 'e6a6e318_fadc1365': 1, '8a39dbf5_ff3283cf': 1, '873828f7_ac8acb97': 1, '4f7af821_8f6421f3': 1, '169e34bf_fae0662f': 1, '116765b1_38601291': 1, '48c5f745_4d25818e': 1, '21c9b214_d5a20936': 1, 'bd3051e3_e2e37533': 1, '3c667d4f_be3b1289': 1, '2c7a0000_f4f1b18f': 1, '29cf2e70_2f4509a0': 1, '6f393cfe_d61f51c5': 1, '597195ee_5f3a196a': 1, '2f8c3bf3_a3abac01': 1, '47d54299_63bfa731': 1, '7c11511f_ca8f11a4': 1, '8aadde13_fb20d298': 1, '8f6421f3_bdfe8110': 1, '3e93b259_a60fba84': 1, '089b7f00_fb20d298': 1, '6946f466_ce7027ee': 1, '04df7bb8_ee270b2a': 1, '734a94be_f6ca6fc8': 1, '28c2d81a_48c5f745': 1, '0b04b41e_9291ca83': 1, '0df4050e_d9199dfd': 1, '3d06b643_cb87df79': 1, '80881cae_a7e7f371': 1, '51d88c51_c2b7b017': 1, '8a729537_e270e909': 1, '28c2d81a_8f6421f3': 1, 'ca0c55ad_e14d1ba0': 1, '0ee2f8f1_587307f2': 1, 'fc7dfa16_fe94ee2f': 1, '11c2ab99_fadc1365': 1, 'd55c238c_ebce9e39': 1, '6f02c6d9_884f5678': 1, '5e8d1aaa_c4d04ce7': 1, '1c90c367_f0801d53': 1, '41e69083_54eb1a6b': 1, '69b2fd22_9028caf7': 1, '4b398e3e_94690b36': 1, '0cedec8a_ac8acb97': 1, '317a209c_921b6e4a': 1, '2915ac5b_9b8c6bd7': 1, '6f02c6d9_ff34fab2': 1, '548ffb07_e7dce35b': 1, '810fd282_ec558d69': 1, '927384f2_b2bae06a': 1, '2b7b2d45_a0b406e6': 1, '55ab9b5d_c6113c06': 1, '63bfa731_7974ffba': 1, '29cb9b0e_d3da65ff': 1, 'a3ebea91_f80f6d8d': 1, '3d06b643_6bcc5afd': 1, '0f3a2acf_16e6d8bb': 1, '6f02c6d9_c2242c42': 1, '1162c08f_6653a758': 1, '3cbcb1cc_6045e5d1': 1, '3e6def38_e7dce35b': 1, '6f393cfe_7a9c69d8': 1, 'a7894e0b_fadc1365': 1, '45f46b14_7b162d33': 1, '2a655afe_692a4496': 1, '1ea771ea_ee270b2a': 1, '558df7d4_f0d91796': 1, '3d245498_7838095f': 1, '1b372750_fdd41565': 1, '80881cae_ad4c7a20': 1, '584b0e9e_d9199dfd': 1, '3d06b643_db7f80a5': 1, '0df4050e_6f02c6d9': 1, '2120328e_6de04ee2': 1, 'bdfe8110_c57a973e': 1, 'a4d6775d_cb87df79': 1, 'bdfe8110_fadc1365': 1, '4da08761_c4ca2ff3': 1}\n"
          ]
        }
      ]
    },
    {
      "cell_type": "code",
      "source": [
        "import numpy as np\n",
        "# create empty lists to store the inputs and targets\n",
        "inputs = []\n",
        "targets = []\n",
        "lenght = 0\n",
        "for subfolder in os.listdir(new_path):\n",
        "    if subfolder in verdict_dict:\n",
        "      verdict = verdict_dict[subfolder]\n",
        "    else:\n",
        "      continue\n",
        "    file1 = len(np.loadtxt(os.path.join(new_path, subfolder, subfolder[:8] + \".tok\"), dtype=int, delimiter=\",\"))\n",
        "    file2 = len(np.loadtxt(os.path.join(new_path, subfolder, subfolder[9:] + \".tok\"), dtype=int, delimiter=\",\"))\n",
        "    if file1 > lenght:\n",
        "      lenght = file1\n",
        "    if file2 > lenght:\n",
        "      lenght = file2\n",
        "\n",
        "lenght"
      ],
      "metadata": {
        "colab": {
          "base_uri": "https://localhost:8080/"
        },
        "id": "3qiMs_BGhWOy",
        "outputId": "719a72e7-3af3-4a07-e047-86ff520da4b2"
      },
      "execution_count": null,
      "outputs": [
        {
          "output_type": "execute_result",
          "data": {
            "text/plain": [
              "4446"
            ]
          },
          "metadata": {},
          "execution_count": 9
        }
      ]
    },
    {
      "cell_type": "code",
      "execution_count": null,
      "metadata": {
        "colab": {
          "base_uri": "https://localhost:8080/"
        },
        "id": "85Ri27Rucok7",
        "outputId": "c18f5f71-177f-4d8b-f4ef-4062816f11d7"
      },
      "outputs": [
        {
          "output_type": "execute_result",
          "data": {
            "text/plain": [
              "(502, 4446, 2)"
            ]
          },
          "metadata": {},
          "execution_count": 10
        }
      ],
      "source": [
        "import numpy as np\n",
        "# create empty lists to store the inputs and targets\n",
        "inputs = []\n",
        "targets = []\n",
        "# loop over the subfolders in the tokenized folder\n",
        "for subfolder in os.listdir(new_path):\n",
        "    # get the verdict from the dictionary\n",
        "    if subfolder in verdict_dict:\n",
        "      verdict = verdict_dict[subfolder]\n",
        "      #print(verdict)\n",
        "    else:\n",
        "      continue\n",
        "      #print(\"La clave no existe en el diccionario.\")\n",
        "    # load the two files and pad them with zeros\n",
        "    #print(new_path)\n",
        "    #print(subfolder)\n",
        "    file1 = np.loadtxt(os.path.join(new_path, subfolder, subfolder[:8] + \".tok\"), dtype=int, delimiter=\",\")\n",
        "    pad_width1 = lenght - len(file1)\n",
        "    file1 = np.pad(file1, (0, pad_width1), mode='constant')\n",
        "    file2 = np.loadtxt(os.path.join(new_path, subfolder, subfolder[9:] + \".tok\"), dtype=int, delimiter=\",\")\n",
        "    pad_width2 = lenght - len(file2)\n",
        "    file2 = np.pad(file2, (0, pad_width2), mode='constant')\n",
        "    # stack the arrays horizontally\n",
        "    input = np.column_stack((file1, file2))\n",
        "    # append the input and target to the lists\n",
        "    inputs.append(input)\n",
        "    targets.append(verdict)\n",
        "# convert the lists to arrays\n",
        "inputs = np.array(inputs)\n",
        "targets = np.array(targets)\n",
        "\n",
        "inputs.shape"
      ]
    },
    {
      "cell_type": "code",
      "source": [
        "# Dividir la columna de program por 305\n",
        "inputs = inputs / 305\n",
        "print(inputs[1])"
      ],
      "metadata": {
        "colab": {
          "base_uri": "https://localhost:8080/"
        },
        "id": "IDOkIfYeTiiw",
        "outputId": "7728a817-6612-4f86-c2da-b9f58c075208"
      },
      "execution_count": null,
      "outputs": [
        {
          "output_type": "stream",
          "name": "stdout",
          "text": [
            "[[0.23606557 0.23606557]\n",
            " [0.24918033 0.24918033]\n",
            " [0.25901639 0.25901639]\n",
            " ...\n",
            " [0.         0.        ]\n",
            " [0.         0.        ]\n",
            " [0.         0.        ]]\n"
          ]
        }
      ]
    },
    {
      "cell_type": "markdown",
      "metadata": {
        "id": "jdGammOitsm3"
      },
      "source": [
        "## Preparación de datos"
      ]
    },
    {
      "cell_type": "code",
      "execution_count": null,
      "metadata": {
        "id": "fSGiixoseC70"
      },
      "outputs": [],
      "source": [
        "from keras.engine import input_spec\n",
        "# Almacenar la columna program en una variable X\n",
        "X = inputs\n",
        "\n",
        "# Almacenar la columna verdict en una variable y\n",
        "y = targets"
      ]
    },
    {
      "cell_type": "code",
      "execution_count": null,
      "metadata": {
        "id": "07rrEljixmNw",
        "colab": {
          "base_uri": "https://localhost:8080/"
        },
        "outputId": "204405d1-06f3-4285-e798-2bd1a8b82aa4"
      },
      "outputs": [
        {
          "output_type": "execute_result",
          "data": {
            "text/plain": [
              "(401, 4446, 2)"
            ]
          },
          "metadata": {},
          "execution_count": 12
        }
      ],
      "source": [
        "from sklearn.model_selection import train_test_split\n",
        "# split the data into training and testing sets\n",
        "X_train, X_test, y_train, y_test = train_test_split(X, y, test_size=0.2)\n",
        "X_train.shape"
      ]
    },
    {
      "cell_type": "code",
      "source": [
        "X_train[1]"
      ],
      "metadata": {
        "colab": {
          "base_uri": "https://localhost:8080/"
        },
        "id": "F1vvUGFTL3FN",
        "outputId": "20b6c7ea-405e-49b3-e492-dd6ed90cd8d1"
      },
      "execution_count": null,
      "outputs": [
        {
          "output_type": "execute_result",
          "data": {
            "text/plain": [
              "array([[72, 72],\n",
              "       [76, 76],\n",
              "       [79, 79],\n",
              "       ...,\n",
              "       [ 0,  0],\n",
              "       [ 0,  0],\n",
              "       [ 0,  0]])"
            ]
          },
          "metadata": {},
          "execution_count": 13
        }
      ]
    },
    {
      "cell_type": "markdown",
      "metadata": {
        "id": "PE7isFZ-xfSZ"
      },
      "source": [
        "# Modelo LSTM\n",
        "\n"
      ]
    },
    {
      "cell_type": "code",
      "execution_count": null,
      "metadata": {
        "colab": {
          "base_uri": "https://localhost:8080/"
        },
        "id": "q1imPUSjdozZ",
        "outputId": "1e22e677-60c5-435a-9764-4bc698d6fe95"
      },
      "outputs": [
        {
          "output_type": "stream",
          "name": "stdout",
          "text": [
            "Epoch 1/20\n",
            "201/201 [==============================] - 91s 387ms/step - loss: 0.6937 - acc: 0.5287\n",
            "Epoch 2/20\n",
            "201/201 [==============================] - 78s 388ms/step - loss: 0.6937 - acc: 0.5187\n",
            "Epoch 3/20\n",
            "201/201 [==============================] - 78s 389ms/step - loss: 0.6930 - acc: 0.5187\n",
            "Epoch 4/20\n",
            "201/201 [==============================] - 77s 384ms/step - loss: 0.6923 - acc: 0.5187\n",
            "Epoch 5/20\n",
            "201/201 [==============================] - 83s 414ms/step - loss: 0.6921 - acc: 0.5187\n",
            "Epoch 6/20\n",
            "201/201 [==============================] - 77s 386ms/step - loss: 0.6917 - acc: 0.5187\n",
            "Epoch 7/20\n",
            "201/201 [==============================] - 79s 391ms/step - loss: 0.6915 - acc: 0.5187\n",
            "Epoch 8/20\n",
            "201/201 [==============================] - 78s 390ms/step - loss: 0.6914 - acc: 0.5187\n",
            "Epoch 9/20\n",
            "201/201 [==============================] - 79s 392ms/step - loss: 0.6913 - acc: 0.5187\n",
            "Epoch 10/20\n",
            "201/201 [==============================] - 78s 387ms/step - loss: 0.6913 - acc: 0.5187\n",
            "Epoch 11/20\n",
            "201/201 [==============================] - 79s 390ms/step - loss: 0.6912 - acc: 0.5187\n",
            "Epoch 12/20\n",
            "201/201 [==============================] - 78s 388ms/step - loss: 0.6912 - acc: 0.5187\n",
            "Epoch 13/20\n",
            "201/201 [==============================] - 77s 381ms/step - loss: 0.6912 - acc: 0.5187\n",
            "Epoch 14/20\n",
            "201/201 [==============================] - 79s 395ms/step - loss: 0.6912 - acc: 0.5187\n",
            "Epoch 15/20\n",
            "201/201 [==============================] - 77s 382ms/step - loss: 0.6911 - acc: 0.5187\n",
            "Epoch 16/20\n",
            "201/201 [==============================] - 79s 391ms/step - loss: 0.6912 - acc: 0.5187\n",
            "Epoch 17/20\n",
            "201/201 [==============================] - 77s 385ms/step - loss: 0.6911 - acc: 0.5187\n",
            "Epoch 18/20\n",
            "201/201 [==============================] - 78s 388ms/step - loss: 0.6911 - acc: 0.5187\n",
            "Epoch 19/20\n",
            "201/201 [==============================] - 81s 397ms/step - loss: 0.6911 - acc: 0.5187\n",
            "Epoch 20/20\n",
            "201/201 [==============================] - 77s 385ms/step - loss: 0.6911 - acc: 0.5187\n"
          ]
        }
      ],
      "source": [
        "import tensorflow as tf\n",
        "from tensorflow.keras import optimizers\n",
        "from keras.models import Sequential\n",
        "from keras.layers import LSTM, Dense\n",
        "\n",
        "\n",
        "model = Sequential()\n",
        "model.add(LSTM(256, return_sequences=True, batch_input_shape=(X_train.shape)))\n",
        "model.add(LSTM(128, return_sequences=True))\n",
        "model.add(LSTM(64, return_sequences=True))\n",
        "model.add(LSTM(32))\n",
        "model.add(Dense(42, activation='relu'))\n",
        "model.add(Dense(20, activation='relu'))\n",
        "model.add(Dense(1, activation='sigmoid'))\n",
        "\n",
        "model.compile(optimizer=tf.keras.optimizers.Adam(learning_rate=4e-4), loss=\"binary_crossentropy\", metrics=[\"acc\"])\n",
        "\n",
        "\n",
        "history = model.fit(X_train, y_train,\n",
        "                    batch_size=2,\n",
        "                    epochs = 20,\n",
        "                    verbose = 1,\n",
        "                    shuffle = False)"
      ]
    },
    {
      "cell_type": "code",
      "execution_count": null,
      "metadata": {
        "id": "UVoZBPKq2cOB",
        "colab": {
          "base_uri": "https://localhost:8080/",
          "height": 887
        },
        "outputId": "20d2ad81-930b-4d47-9c68-77eba38e20ba"
      },
      "outputs": [
        {
          "output_type": "display_data",
          "data": {
            "text/plain": [
              "<Figure size 640x480 with 1 Axes>"
            ],
            "image/png": "[encoded data removed]"
          },
          "metadata": {}
        },
        {
          "output_type": "display_data",
          "data": {
            "text/plain": [
              "<Figure size 640x480 with 1 Axes>"
            ],
            "image/png": "[encoded data removed]"
          },
          "metadata": {}
        }
      ],
      "source": [
        "import matplotlib.pyplot as plt\n",
        "\n",
        "acc = history.history['acc']\n",
        "loss = history.history['loss']\n",
        "\n",
        "epochs = range(1, len(acc)+1)\n",
        "\n",
        "plt.plot(epochs, acc, 'b*-', label='train accuracy')\n",
        "plt.title('train acc')\n",
        "plt.legend()\n",
        "\n",
        "plt.figure()\n",
        "\n",
        "plt.plot(epochs, loss, 'b*-', label ='training loss')\n",
        "plt.title('train loss')\n",
        "plt.legend()\n",
        "\n",
        "plt.show()"
      ]
    },
    {
      "cell_type": "code",
      "execution_count": null,
      "metadata": {
        "colab": {
          "base_uri": "https://localhost:8080/"
        },
        "id": "uFgBW-onPu4k",
        "outputId": "03f80b9e-9f24-4293-ec3f-d2ecf7e019cb"
      },
      "outputs": [
        {
          "output_type": "stream",
          "name": "stdout",
          "text": [
            "25/25 [==============================] - 5s 191ms/step - loss: 0.6970 - acc: 0.4400\n",
            "\n",
            "test acc :\n",
            " 0.4399999976158142\n"
          ]
        }
      ],
      "source": [
        "test_loss, test_acc = model.evaluate(X_test, y_test, batch_size=2, steps = 25)\n",
        "print('\\ntest acc :\\n', test_acc)"
      ]
    },
    {
      "cell_type": "markdown",
      "source": [
        "## Matriz de confusión"
      ],
      "metadata": {
        "id": "r2k_9omZ_9aH"
      }
    },
    {
      "cell_type": "code",
      "source": [
        "predictions = model.predict(X_test)\n",
        "classes_x = predictions.T\n",
        "classes_x = np.rint(classes_x)\n",
        "classes_x"
      ],
      "metadata": {
        "colab": {
          "base_uri": "https://localhost:8080/"
        },
        "id": "0vG3i0BzApDl",
        "outputId": "1f15b78d-1475-4b67-e015-ccdad7cb8d4c"
      },
      "execution_count": null,
      "outputs": [
        {
          "output_type": "stream",
          "name": "stdout",
          "text": [
            "4/4 [==============================] - 2s 187ms/step\n"
          ]
        },
        {
          "output_type": "execute_result",
          "data": {
            "text/plain": [
              "array([[0., 0., 0., 0., 0., 0., 0., 0., 0., 0., 0., 0., 0., 0., 0., 0.,\n",
              "        0., 0., 0., 0., 0., 0., 0., 0., 0., 0., 0., 0., 0., 0., 0., 0.,\n",
              "        0., 0., 0., 0., 0., 0., 0., 0., 0., 0., 0., 0., 0., 0., 0., 0.,\n",
              "        0., 0., 0., 0., 0., 0., 0., 0., 0., 0., 0., 0., 0., 0., 0., 0.,\n",
              "        0., 0., 0., 0., 0., 0., 0., 0., 0., 0., 0., 0., 0., 0., 0., 0.,\n",
              "        0., 0., 0., 0., 0., 0., 0., 0., 0., 0., 0., 0., 0., 0., 0., 0.,\n",
              "        0., 0., 0., 0., 0.]], dtype=float32)"
            ]
          },
          "metadata": {},
          "execution_count": 23
        }
      ]
    },
    {
      "cell_type": "code",
      "source": [
        "import seaborn as sns\n",
        "from sklearn import datasets\n",
        "from sklearn.linear_model import LogisticRegression\n",
        "from sklearn.model_selection import train_test_split\n",
        "from sklearn.metrics import confusion_matrix\n",
        "import pandas as pd\n",
        "\n",
        "mat = confusion_matrix(classes_x[0], y_test)\n",
        "\n",
        "df = pd.DataFrame(mat, index=['Pred Original', 'Pred Plagio'], columns=['Label Original', 'Label Plagio'])\n",
        "\n",
        "sns.heatmap(df, annot=True, cbar=None, cmap=\"Blues\")\n",
        "plt.title(\"Matriz de confusión\"), plt.tight_layout()\n",
        "plt.show()"
      ],
      "metadata": {
        "colab": {
          "base_uri": "https://localhost:8080/",
          "height": 487
        },
        "id": "2hJuQQkb__s0",
        "outputId": "26dc305c-847d-4f0d-db6b-162cdab96a08"
      },
      "execution_count": null,
      "outputs": [
        {
          "output_type": "display_data",
          "data": {
            "text/plain": [
              "<Figure size 640x480 with 1 Axes>"
            ],
            "image/png": "[encoded data removed]"
          },
          "metadata": {}
        }
      ]
    }
  ],
  "metadata": {
    "colab": {
      "provenance": [],
      "gpuType": "T4"
    },
    "kernelspec": {
      "display_name": "Python 3",
      "name": "python3"
    },
    "language_info": {
      "name": "python"
    },
    "accelerator": "GPU"
  },
  "nbformat": 4,
  "nbformat_minor": 0
}