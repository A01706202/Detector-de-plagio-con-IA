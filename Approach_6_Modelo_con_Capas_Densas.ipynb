{
  "cells": [
    {
      "cell_type": "markdown",
      "metadata": {
        "id": "GA6YPW4PV5y6"
      },
      "source": [
        "# Detector de plagio \n",
        "### (con Capas Densas)\n",
        "\n",
        "En este trabajo se busca realizar un detector de plagio de código utilizando técnicas del Deep Learning\n",
        "\n",
        "\n",
        "**Autores:**\n",
        "\n",
        "*   Michelle Aylin Calzada Montes\n",
        "*   Manolo Ramírez Pintor\n",
        "*   Eduardo Rodríguez Gill"
      ]
    },
    {
      "cell_type": "markdown",
      "metadata": {
        "id": "xkmgLWIkToyd"
      },
      "source": [
        "### Cada vez que se quiera trabajar, se tiene que correr esta celda para tener acceso a los archivos"
      ]
    },
    {
      "cell_type": "code",
      "execution_count": null,
      "metadata": {
        "colab": {
          "base_uri": "https://localhost:8080/"
        },
        "id": "m5r2DWf7SUB2",
        "outputId": "c43d4c3d-3624-4186-e1ef-574e3e21e485"
      },
      "outputs": [
        {
          "output_type": "stream",
          "name": "stdout",
          "text": [
            "Mounted at /content/drive\n",
            "/content/drive/Shareddrives/AI/Reto\n",
            " Approach3_Mich.ipynb\t\t   Reto.ipynb\n",
            "'Approach4 (no modificar).ipynb'   version_2_tokenized_dicc.zip\n",
            " Plagios_IA.zip\t\t\t   version_2_tokenized.zip\n"
          ]
        }
      ],
      "source": [
        "# Accesar a Google Drive\n",
        "from google.colab import drive\n",
        "drive.mount('/content/drive')\n",
        "\n",
        "# Ir al directorio de los archivos\n",
        "%cd \"/content/drive/Shareddrives/AI/Reto\"\n",
        "!ls"
      ]
    },
    {
      "cell_type": "code",
      "execution_count": null,
      "metadata": {
        "id": "3xfa-NIQ_hAa"
      },
      "outputs": [],
      "source": [
        "# Eliminar todo por si queremos reiniciar\n",
        "!rm -rf \"/content/Plagios IA\"\n",
        "\n",
        "# Copiar zip de las carpetas al almacenamiento de colab\n",
        "!cp -r /content/drive/Shareddrives/AI/Reto/Plagios_IA.zip /content\n",
        "\n",
        "# Nuevo - Copiar zip del codigo tokenizado al almacenamiento de colab\n",
        "!cp -r /content/drive/Shareddrives/AI/Reto/version_2_tokenized_dicc.zip /content"
      ]
    },
    {
      "cell_type": "code",
      "execution_count": null,
      "metadata": {
        "id": "NTJvSNyuVomu"
      },
      "outputs": [],
      "source": [
        "# Extraer zip de Plagios IA\n",
        "%%capture\n",
        "%cd /content\n",
        "!unzip Plagios_IA.zip\n",
        "!unzip version_2_tokenized_dicc.zip"
      ]
    },
    {
      "cell_type": "code",
      "execution_count": null,
      "metadata": {
        "id": "5uoxIlKYVbtP"
      },
      "outputs": [],
      "source": [
        "# Eliminar archivos distractores\n",
        "!rm -rf sample_data\n",
        "!rm Plagios_IA.zip"
      ]
    },
    {
      "cell_type": "markdown",
      "metadata": {
        "id": "XNFBj05eavwH"
      },
      "source": [
        "# **Ya no correr las siguientes celdas**\n",
        "## Revisando la info que contiene conplag en sus tablas\n",
        "\n"
      ]
    },
    {
      "cell_type": "code",
      "execution_count": null,
      "metadata": {
        "id": "gfbZisWR1-Oi"
      },
      "outputs": [],
      "source": [
        "# Ver info de conplag\n",
        "import pandas as pd\n",
        "df_conplag_labels = pd.read_csv(\"./Plagios IA/conplag/versions/labels.csv\")\n",
        "df_conplag_test = pd.read_csv(\"./Plagios IA/conplag/versions/test_pairs.csv\")\n",
        "df_conplag_train = pd.read_csv(\"./Plagios IA/conplag/versions/train_pairs.csv\")"
      ]
    },
    {
      "cell_type": "code",
      "execution_count": null,
      "metadata": {
        "colab": {
          "base_uri": "https://localhost:8080/",
          "height": 423
        },
        "id": "Tf15QUuy3TR3",
        "outputId": "6685f8be-598d-4bd7-874b-b94e35507e8b"
      },
      "outputs": [
        {
          "output_type": "execute_result",
          "data": {
            "text/plain": [
              "         sub1      sub2  problem  verdict\n",
              "0    0fd5b95a  6490bbe8       19        0\n",
              "1    464a03b8  ff1fc018       20        0\n",
              "2    3e6def38  548ffb07       14        1\n",
              "3    0b91922c  71a4f6d2        6        0\n",
              "4    9291ca83  d6fb3b9e       15        0\n",
              "..        ...       ...      ...      ...\n",
              "906  11c2ab99  28c2d81a        8        1\n",
              "907  550335a3  6d7d5dd7        4        0\n",
              "908  558df7d4  d8654140       17        0\n",
              "909  3088ca9c  6f393cfe       15        1\n",
              "910  213340b3  870e16d9        4        0\n",
              "\n",
              "[911 rows x 4 columns]"
            ],
            "text/html": [
              "\n",
              "  <div id=\"df-cf772bbc-e6e5-42c7-bc22-04a821592c32\">\n",
              "    <div class=\"colab-df-container\">\n",
              "      <div>\n",
              "<style scoped>\n",
              "    .dataframe tbody tr th:only-of-type {\n",
              "        vertical-align: middle;\n",
              "    }\n",
              "\n",
              "    .dataframe tbody tr th {\n",
              "        vertical-align: top;\n",
              "    }\n",
              "\n",
              "    .dataframe thead th {\n",
              "        text-align: right;\n",
              "    }\n",
              "</style>\n",
              "<table border=\"1\" class=\"dataframe\">\n",
              "  <thead>\n",
              "    <tr style=\"text-align: right;\">\n",
              "      <th></th>\n",
              "      <th>sub1</th>\n",
              "      <th>sub2</th>\n",
              "      <th>problem</th>\n",
              "      <th>verdict</th>\n",
              "    </tr>\n",
              "  </thead>\n",
              "  <tbody>\n",
              "    <tr>\n",
              "      <th>0</th>\n",
              "      <td>0fd5b95a</td>\n",
              "      <td>6490bbe8</td>\n",
              "      <td>19</td>\n",
              "      <td>0</td>\n",
              "    </tr>\n",
              "    <tr>\n",
              "      <th>1</th>\n",
              "      <td>464a03b8</td>\n",
              "      <td>ff1fc018</td>\n",
              "      <td>20</td>\n",
              "      <td>0</td>\n",
              "    </tr>\n",
              "    <tr>\n",
              "      <th>2</th>\n",
              "      <td>3e6def38</td>\n",
              "      <td>548ffb07</td>\n",
              "      <td>14</td>\n",
              "      <td>1</td>\n",
              "    </tr>\n",
              "    <tr>\n",
              "      <th>3</th>\n",
              "      <td>0b91922c</td>\n",
              "      <td>71a4f6d2</td>\n",
              "      <td>6</td>\n",
              "      <td>0</td>\n",
              "    </tr>\n",
              "    <tr>\n",
              "      <th>4</th>\n",
              "      <td>9291ca83</td>\n",
              "      <td>d6fb3b9e</td>\n",
              "      <td>15</td>\n",
              "      <td>0</td>\n",
              "    </tr>\n",
              "    <tr>\n",
              "      <th>...</th>\n",
              "      <td>...</td>\n",
              "      <td>...</td>\n",
              "      <td>...</td>\n",
              "      <td>...</td>\n",
              "    </tr>\n",
              "    <tr>\n",
              "      <th>906</th>\n",
              "      <td>11c2ab99</td>\n",
              "      <td>28c2d81a</td>\n",
              "      <td>8</td>\n",
              "      <td>1</td>\n",
              "    </tr>\n",
              "    <tr>\n",
              "      <th>907</th>\n",
              "      <td>550335a3</td>\n",
              "      <td>6d7d5dd7</td>\n",
              "      <td>4</td>\n",
              "      <td>0</td>\n",
              "    </tr>\n",
              "    <tr>\n",
              "      <th>908</th>\n",
              "      <td>558df7d4</td>\n",
              "      <td>d8654140</td>\n",
              "      <td>17</td>\n",
              "      <td>0</td>\n",
              "    </tr>\n",
              "    <tr>\n",
              "      <th>909</th>\n",
              "      <td>3088ca9c</td>\n",
              "      <td>6f393cfe</td>\n",
              "      <td>15</td>\n",
              "      <td>1</td>\n",
              "    </tr>\n",
              "    <tr>\n",
              "      <th>910</th>\n",
              "      <td>213340b3</td>\n",
              "      <td>870e16d9</td>\n",
              "      <td>4</td>\n",
              "      <td>0</td>\n",
              "    </tr>\n",
              "  </tbody>\n",
              "</table>\n",
              "<p>911 rows × 4 columns</p>\n",
              "</div>\n",
              "      <button class=\"colab-df-convert\" onclick=\"convertToInteractive('df-cf772bbc-e6e5-42c7-bc22-04a821592c32')\"\n",
              "              title=\"Convert this dataframe to an interactive table.\"\n",
              "              style=\"display:none;\">\n",
              "        \n",
              "  <svg xmlns=\"http://www.w3.org/2000/svg\" height=\"24px\"viewBox=\"0 0 24 24\"\n",
              "       width=\"24px\">\n",
              "    <path d=\"M0 0h24v24H0V0z\" fill=\"none\"/>\n",
              "    <path d=\"M18.56 5.44l.94 2.06.94-2.06 2.06-.94-2.06-.94-.94-2.06-.94 2.06-2.06.94zm-11 1L8.5 8.5l.94-2.06 2.06-.94-2.06-.94L8.5 2.5l-.94 2.06-2.06.94zm10 10l.94 2.06.94-2.06 2.06-.94-2.06-.94-.94-2.06-.94 2.06-2.06.94z\"/><path d=\"M17.41 7.96l-1.37-1.37c-.4-.4-.92-.59-1.43-.59-.52 0-1.04.2-1.43.59L10.3 9.45l-7.72 7.72c-.78.78-.78 2.05 0 2.83L4 21.41c.39.39.9.59 1.41.59.51 0 1.02-.2 1.41-.59l7.78-7.78 2.81-2.81c.8-.78.8-2.07 0-2.86zM5.41 20L4 18.59l7.72-7.72 1.47 1.35L5.41 20z\"/>\n",
              "  </svg>\n",
              "      </button>\n",
              "      \n",
              "  <style>\n",
              "    .colab-df-container {\n",
              "      display:flex;\n",
              "      flex-wrap:wrap;\n",
              "      gap: 12px;\n",
              "    }\n",
              "\n",
              "    .colab-df-convert {\n",
              "      background-color: #E8F0FE;\n",
              "      border: none;\n",
              "      border-radius: 50%;\n",
              "      cursor: pointer;\n",
              "      display: none;\n",
              "      fill: #1967D2;\n",
              "      height: 32px;\n",
              "      padding: 0 0 0 0;\n",
              "      width: 32px;\n",
              "    }\n",
              "\n",
              "    .colab-df-convert:hover {\n",
              "      background-color: #E2EBFA;\n",
              "      box-shadow: 0px 1px 2px rgba(60, 64, 67, 0.3), 0px 1px 3px 1px rgba(60, 64, 67, 0.15);\n",
              "      fill: #174EA6;\n",
              "    }\n",
              "\n",
              "    [theme=dark] .colab-df-convert {\n",
              "      background-color: #3B4455;\n",
              "      fill: #D2E3FC;\n",
              "    }\n",
              "\n",
              "    [theme=dark] .colab-df-convert:hover {\n",
              "      background-color: #434B5C;\n",
              "      box-shadow: 0px 1px 3px 1px rgba(0, 0, 0, 0.15);\n",
              "      filter: drop-shadow(0px 1px 2px rgba(0, 0, 0, 0.3));\n",
              "      fill: #FFFFFF;\n",
              "    }\n",
              "  </style>\n",
              "\n",
              "      <script>\n",
              "        const buttonEl =\n",
              "          document.querySelector('#df-cf772bbc-e6e5-42c7-bc22-04a821592c32 button.colab-df-convert');\n",
              "        buttonEl.style.display =\n",
              "          google.colab.kernel.accessAllowed ? 'block' : 'none';\n",
              "\n",
              "        async function convertToInteractive(key) {\n",
              "          const element = document.querySelector('#df-cf772bbc-e6e5-42c7-bc22-04a821592c32');\n",
              "          const dataTable =\n",
              "            await google.colab.kernel.invokeFunction('convertToInteractive',\n",
              "                                                     [key], {});\n",
              "          if (!dataTable) return;\n",
              "\n",
              "          const docLinkHtml = 'Like what you see? Visit the ' +\n",
              "            '<a target=\"_blank\" href=https://colab.research.google.com/notebooks/data_table.ipynb>data table notebook</a>'\n",
              "            + ' to learn more about interactive tables.';\n",
              "          element.innerHTML = '';\n",
              "          dataTable['output_type'] = 'display_data';\n",
              "          await google.colab.output.renderOutput(dataTable, element);\n",
              "          const docLink = document.createElement('div');\n",
              "          docLink.innerHTML = docLinkHtml;\n",
              "          element.appendChild(docLink);\n",
              "        }\n",
              "      </script>\n",
              "    </div>\n",
              "  </div>\n",
              "  "
            ]
          },
          "metadata": {},
          "execution_count": 6
        }
      ],
      "source": [
        "# Head de labels conplag\n",
        "df_conplag_labels"
      ]
    },
    {
      "cell_type": "code",
      "execution_count": null,
      "metadata": {
        "id": "yE8A7TjP8VqC"
      },
      "outputs": [],
      "source": [
        "# Quitar archivos si no lo hicimos bien\n",
        "!rm -rf \"Plagios IA/conplag/versions/version_2_tokenized\""
      ]
    },
    {
      "cell_type": "markdown",
      "metadata": {
        "id": "ilScD3s7l8wx"
      },
      "source": [
        "## Este bloque de código toma todos los archivos de conplag y los tokeniza\n",
        "* Los tokens se convierten a valores numéricos únicos con una función hash de 32 bits"
      ]
    },
    {
      "cell_type": "code",
      "execution_count": null,
      "metadata": {
        "id": "ZpRC4w1sci3m"
      },
      "outputs": [],
      "source": [
        "# Instalar code_tokenize\n",
        "%%capture\n",
        "!pip install code-tokenize"
      ]
    },
    {
      "cell_type": "code",
      "execution_count": null,
      "metadata": {
        "id": "CsMK3ujR3wAi",
        "colab": {
          "base_uri": "https://localhost:8080/"
        },
        "outputId": "33e8ca32-239f-48be-a770-28d1fb9c2b28"
      },
      "outputs": [
        {
          "output_type": "execute_result",
          "data": {
            "text/plain": [
              "1822"
            ]
          },
          "metadata": {},
          "execution_count": 9
        }
      ],
      "source": [
        "# Tokenización de código:\n",
        "import code_tokenize as ctok\n",
        "import os\n",
        "\n",
        "path = \"./Plagios IA/conplag/versions/version_2\"\n",
        "new_path = \"./Plagios IA/conplag/versions/version_2_tokenized\"\n",
        "folders = [x[0] for x in os.walk(path)]\n",
        "todos_los_archivos = []\n",
        "\n",
        "for folder in folders:\n",
        "    files = os.listdir(folder)\n",
        "    new_folder = folder.replace(path, new_path) # replace the original path with the new one\n",
        "    if not os.path.exists(new_folder): # check if the folder exists\n",
        "        os.mkdir(new_folder) # create the folder only if it doesn't exist\n",
        "        for file in files:\n",
        "            file_path = os.path.join(folder, file)\n",
        "            if os.path.isdir(file_path): # check if the file is actually a subfolder\n",
        "                subfiles = os.listdir(file_path) # get the files in the subfolder\n",
        "                new_subfolder = os.path.join(new_folder, file) # create a new subfolder with the same name\n",
        "                os.mkdir(new_subfolder)\n",
        "                for subfile in subfiles: # loop over the files in the subfolder\n",
        "                    subfile_path = os.path.join(file_path, subfile)\n",
        "                    todos_los_archivos.append(subfile_path)\n",
        "            else: # if the file is not a subfolder, proceed as before\n",
        "                with open(file_path, \"r\") as f:\n",
        "                    content = f.read()\n",
        "                todos_los_archivos.append(subfile_path)\n",
        "\n",
        "len(todos_los_archivos)"
      ]
    },
    {
      "cell_type": "code",
      "source": [
        "# Quitar carpetas\n",
        "!rm -rf \"Plagios IA/conplag/versions/version_2_tokenized\""
      ],
      "metadata": {
        "id": "Um_WH3sLCrju"
      },
      "execution_count": null,
      "outputs": []
    },
    {
      "cell_type": "code",
      "source": [
        "# Instalar tokenizers para hacer un diccionario\n",
        "%%capture\n",
        "!pip install tokenizers"
      ],
      "metadata": {
        "id": "1KA0w6LC__yu"
      },
      "execution_count": null,
      "outputs": []
    },
    {
      "cell_type": "code",
      "source": [
        "# Crear directorio para el diccionario\n",
        "!mkdir mi_tokenizer"
      ],
      "metadata": {
        "id": "a63LLgX-AOvF"
      },
      "execution_count": null,
      "outputs": []
    },
    {
      "cell_type": "code",
      "source": [
        "# Importar libreria del diccionario\n",
        "from tokenizers import CharBPETokenizer\n",
        "\n",
        "# Crear un tokenizer vacío\n",
        "tokenizer = CharBPETokenizer()\n",
        "# Entrenar el tokenizer con un conjunto de archivos de código (por ejemplo, en C++)\n",
        "tokenizer.train(files=todos_los_archivos, vocab_size=0)\n",
        "# Guardar el tokenizer y su vocabulario\n",
        "tokenizer.save_model(\"./mi_tokenizer\")\n",
        "\n",
        "# Cargar el tokenizer desde el disco a una variable\n",
        "tokenizer = CharBPETokenizer(\"mi_tokenizer/vocab.json\", \"mi_tokenizer/merges.txt\")\n",
        "\n",
        "# Probar con algún código de Java\n",
        "#tokens = tokenizer.encode(\"\"\"    static class Pair implements Comparable<Pair> {\n",
        "#        int id;\n",
        "#        long sum=0;\n",
        "#        public Pair(int id) {\n",
        "#            this.id=id;\n",
        "#        }\"\"\")\n",
        "#print(tokens.ids) # [1, 2, 3, 4]\n",
        "# print(tokens.tokens) # [\"print\", \"(\", \"\\\"Hola\\\"\", \")\"]\n"
      ],
      "metadata": {
        "id": "zOkVmahMAEw9"
      },
      "execution_count": null,
      "outputs": []
    },
    {
      "cell_type": "code",
      "source": [
        "# Tokenizar un nuevo archivo de código\n",
        "\n",
        "# Tokenización de código:\n",
        "import code_tokenize as ctok\n",
        "import os\n",
        "\n",
        "path = \"./Plagios IA/conplag/versions/version_2\"\n",
        "new_path = \"./Plagios IA/conplag/versions/version_2_tokenized\"\n",
        "folders = [x[0] for x in os.walk(path)]\n",
        "todos_los_archivos = []\n",
        "\n",
        "for folder in folders:\n",
        "    files = os.listdir(folder)\n",
        "    new_folder = folder.replace(path, new_path) # replace the original path with the new one\n",
        "    if not os.path.exists(new_folder): # check if the folder exists\n",
        "        os.mkdir(new_folder) # create the folder only if it doesn't exist\n",
        "        for file in files:\n",
        "            file_path = os.path.join(folder, file)\n",
        "            if os.path.isdir(file_path): # check if the file is actually a subfolder\n",
        "                subfiles = os.listdir(file_path) # get the files in the subfolder\n",
        "                new_subfolder = os.path.join(new_folder, file) # create a new subfolder with the same name\n",
        "                os.mkdir(new_subfolder)\n",
        "                for subfile in subfiles: # loop over the files in the subfolder\n",
        "                    subfile_path = os.path.join(file_path, subfile)\n",
        "                    todos_los_archivos.append(subfile_path)\n",
        "                    with open(subfile_path, \"r\") as f:\n",
        "                        content = f.read()\n",
        "                    tokens = tokenizer.encode(content)\n",
        "                    tokens_finales = str(tokens.ids).strip(\"[]\")\n",
        "                    new_subfile_path = os.path.join(new_subfolder, subfile[:-4] + \"tok\")\n",
        "                    with open(new_subfile_path, \"w\") as f:\n",
        "                        f.write(\"\".join(tokens_finales))\n",
        "            else: # if the file is not a subfolder, proceed as before\n",
        "                with open(file_path, \"r\") as f:\n",
        "                    content = f.read()\n",
        "                #print(file_path)\n",
        "                tokens = tokenizer.encode(content)\n",
        "                new_file_path = os.path.join(new_folder, file[:-4] + \"tok\")\n",
        "                todos_los_archivos.append(subfile_path)\n",
        "                tokens_finales = str(tokens.ids).strip(\"[]\")\n",
        "                with open(new_file_path, \"w\") as f:\n",
        "                    f.write(\"\".join(tokens_finales))"
      ],
      "metadata": {
        "id": "FNPtpheKBUzD"
      },
      "execution_count": null,
      "outputs": []
    },
    {
      "cell_type": "markdown",
      "metadata": {
        "id": "tg8_AYH5i2EX"
      },
      "source": [
        "## Estos (4) bloques de código almacena el código tokenizado a un zip y lo copia a Google Drive"
      ]
    },
    {
      "cell_type": "code",
      "execution_count": null,
      "metadata": {
        "colab": {
          "base_uri": "https://localhost:8080/"
        },
        "id": "qoT_QwpTYP0r",
        "outputId": "12707d94-1767-46f7-a00b-c08577658720"
      },
      "outputs": [
        {
          "output_type": "stream",
          "name": "stdout",
          "text": [
            "/content/Plagios IA/conplag/versions\n"
          ]
        }
      ],
      "source": [
        "# Nos dirigimos a la carpeta para almacenaje\n",
        "%cd \"/content/Plagios IA/conplag/versions/\""
      ]
    },
    {
      "cell_type": "code",
      "execution_count": null,
      "metadata": {
        "id": "olkXxuhthYdG"
      },
      "outputs": [],
      "source": [
        "# Lo zippeamos\n",
        "%%capture\n",
        "!zip -r /content/version_2_tokenized_dicc.zip \"version_2_tokenized\""
      ]
    },
    {
      "cell_type": "code",
      "execution_count": null,
      "metadata": {
        "colab": {
          "base_uri": "https://localhost:8080/"
        },
        "id": "xl-weNRmhaYh",
        "outputId": "626fa630-f1f7-4036-f7f6-09c30ef89091"
      },
      "outputs": [
        {
          "output_type": "stream",
          "name": "stdout",
          "text": [
            "/content\n"
          ]
        }
      ],
      "source": [
        "# Nos regresamos a nuestra raiz para evitar accidentes\n",
        "%cd /content"
      ]
    },
    {
      "cell_type": "code",
      "execution_count": null,
      "metadata": {
        "id": "Nc74fWZNjVbP"
      },
      "outputs": [],
      "source": [
        "!cp version_2_tokenized_dicc.zip /content/drive/Shareddrives/AI/Reto # Copy to GDrive"
      ]
    },
    {
      "cell_type": "code",
      "source": [
        "%%capture\n",
        "!rm -rf version_2_tokenized"
      ],
      "metadata": {
        "id": "Qzx-X-o2Ik1j"
      },
      "execution_count": null,
      "outputs": []
    },
    {
      "cell_type": "markdown",
      "metadata": {
        "id": "oULdY58dndxA"
      },
      "source": [
        "### Método de verificación (por si acaso)\n",
        "Valida que el número de carpetas y de archivos sea el mismo entre la carpeta original y la carpeta tokenizada."
      ]
    },
    {
      "cell_type": "code",
      "execution_count": null,
      "metadata": {
        "colab": {
          "base_uri": "https://localhost:8080/"
        },
        "id": "RqcHcPHHXTlQ",
        "outputId": "a8dc3734-db18-4362-c5b6-f965b36f6a89"
      },
      "outputs": [
        {
          "output_type": "stream",
          "name": "stdout",
          "text": [
            "Number of folders in ./Plagios IA/conplag/versions/version_2: 912\n",
            "Number of files in ./Plagios IA/conplag/versions/version_2: 1822\n",
            "Number of folders in ./Plagios IA/conplag/versions/version_2_tokenized: 0\n",
            "Number of files in ./Plagios IA/conplag/versions/version_2_tokenized: 0\n"
          ]
        }
      ],
      "source": [
        "# Verificar que todo está correcto en carpetas y archivos\n",
        "import os\n",
        "\n",
        "path1 = \"./Plagios IA/conplag/versions/version_2\"\n",
        "path2 = \"./Plagios IA/conplag/versions/version_2_tokenized\"\n",
        "\n",
        "folder_count1 = 0\n",
        "file_count1 = 0\n",
        "folder_count2 = 0\n",
        "file_count2 = 0\n",
        "\n",
        "for folder, subfolders, files in os.walk(path1):\n",
        "    folder_count1 += 1 # increment the folder count\n",
        "    file_count1 += len(files) # add the number of files in the folder\n",
        "\n",
        "for folder, subfolders, files in os.walk(path2):\n",
        "    folder_count2 += 1 # increment the folder count\n",
        "    file_count2 += len(files) # add the number of files in the folder\n",
        "\n",
        "print(f\"Number of folders in {path1}: {folder_count1}\")\n",
        "print(f\"Number of files in {path1}: {file_count1}\")\n",
        "print(f\"Number of folders in {path2}: {folder_count2}\")\n",
        "print(f\"Number of files in {path2}: {file_count2}\")"
      ]
    },
    {
      "cell_type": "markdown",
      "metadata": {
        "id": "_YFU4J1ZoxoJ"
      },
      "source": [
        "# **Continuar ejecución de celdas a partir de aquí:**\n",
        "## Creación de un dataframe para iniciar el entrenamiento"
      ]
    },
    {
      "cell_type": "code",
      "execution_count": null,
      "metadata": {
        "id": "2PdXddOSc3UH"
      },
      "outputs": [],
      "source": [
        "# Retomar los paths de trabajo \n",
        "import os\n",
        "path = \"./Plagios IA/conplag/versions/version_2\"\n",
        "new_path = \"./version_2_tokenized\""
      ]
    },
    {
      "cell_type": "code",
      "source": [
        "import pandas as pd\n",
        "\n",
        "# Lee el dataframe\n",
        "df_conplag_labels = pd.read_csv(\"./Plagios IA/conplag/versions/labels.csv\")\n",
        "\n",
        "# Separa los valores de verdict que sean 0 y 1 en dataframes separados\n",
        "df_verdict_0 = df_conplag_labels[df_conplag_labels['verdict'] == 0]\n",
        "df_verdict_1 = df_conplag_labels[df_conplag_labels['verdict'] == 1]\n",
        "\n",
        "# Selecciona aleatoriamente 251 filas de cada dataframe sin reemplazo\n",
        "df_verdict_0_sampled = df_verdict_0.sample(n=251, replace=False)\n",
        "df_verdict_1_sampled = df_verdict_1.sample(n=251, replace=False)\n",
        "\n",
        "# Concatena los dos dataframes resultantes en uno solo\n",
        "df_balanced = pd.concat([df_verdict_0_sampled, df_verdict_1_sampled])\n",
        "\n",
        "print(df_balanced)\n",
        "\n",
        "# Contar el número de 1s y 0s en la columna veredicto\n",
        "conteo = df_balanced['verdict'].value_counts()\n",
        "print(conteo)\n"
      ],
      "metadata": {
        "colab": {
          "base_uri": "https://localhost:8080/"
        },
        "id": "rwKrmRj5ZP1b",
        "outputId": "c0cabdbc-fdd4-4e14-b3f5-53647e272eff"
      },
      "execution_count": null,
      "outputs": [
        {
          "output_type": "stream",
          "name": "stdout",
          "text": [
            "         sub1      sub2  problem  verdict\n",
            "75   175201f9  40cc90ae       15        0\n",
            "291  2eb89317  fcc7e8fa        4        0\n",
            "490  169e34bf  ba468e1f       20        0\n",
            "510  5a74241a  6490bbe8       19        0\n",
            "774  9fd33d5a  c220c822        8        0\n",
            "..        ...       ...      ...      ...\n",
            "909  3088ca9c  6f393cfe       15        1\n",
            "691  c9da41af  f59d9b6e        3        1\n",
            "214  3380fa52  48993e07        8        1\n",
            "458  29cf2e70  72d9eb5b       20        1\n",
            "366  8a729537  abd16ff0       18        1\n",
            "\n",
            "[502 rows x 4 columns]\n",
            "0    251\n",
            "1    251\n",
            "Name: verdict, dtype: int64\n"
          ]
        }
      ]
    },
    {
      "cell_type": "code",
      "source": [
        "# create a dictionary that maps each pair of files to their verdict\n",
        "verdict_dict = {}\n",
        "for index, row in df_balanced.iterrows():\n",
        "    sub1 = row[\"sub1\"]\n",
        "    sub2 = row[\"sub2\"]\n",
        "    verdict = row[\"verdict\"]\n",
        "    verdict_dict[f\"{sub1}_{sub2}\"] = verdict\n",
        "\n",
        "print(verdict_dict)"
      ],
      "metadata": {
        "colab": {
          "base_uri": "https://localhost:8080/"
        },
        "id": "x5Qkz-APWRlk",
        "outputId": "aa6819d8-63ab-437f-82ee-efbd132db67a"
      },
      "execution_count": null,
      "outputs": [
        {
          "output_type": "stream",
          "name": "stdout",
          "text": [
            "{'175201f9_40cc90ae': 0, '2eb89317_fcc7e8fa': 0, '169e34bf_ba468e1f': 0, '5a74241a_6490bbe8': 0, '9fd33d5a_c220c822': 0, '9028caf7_e6b7a899': 0, '3e93b259_e431de28': 0, 'b7de5c19_c022c315': 0, 'cc669e02_d88fa51c': 0, '2acaa7df_46e9aed4': 0, '1dab88fb_4138b081': 0, '1a6f8b20_77448a05': 0, 'c9159d9c_f0ede32a': 0, '624b8db5_eacc407e': 0, 'baa8e497_cc9230d3': 0, '14b0fb8e_6490bbe8': 0, '49e94e7e_fcc7e8fa': 0, '3d88acb8_b6023b26': 0, '0889dcfb_22138fad': 0, '2eb89317_d4a3869e': 0, '90dc2b20_f229aa7f': 0, '35bb6075_76a69f5c': 0, '3a318b43_90b71536': 0, '39073790_d735b078': 0, '595f5d6c_6653a758': 0, '10584086_f229aa7f': 0, '05ca89ed_5b9a0551': 0, '7d7cf9a7_e45446bc': 0, '808f7516_9ebe348d': 0, 'bf0df1d5_d1cd194e': 0, '14b0fb8e_8ddb5587': 0, '90d0ffd0_b21c7532': 0, '487c9f62_54488276': 0, '0b91922c_71a4f6d2': 0, '2c7a0000_69b2fd22': 0, '3368f340_402aff07': 0, '35bb6075_ed728769': 0, '0e68e463_d9199dfd': 0, '6018974f_bdf7bfb2': 0, '04a706b1_5b7127bf': 0, '18e2441c_792863db': 0, 'd1cd194e_dbffab11': 0, '8f31b279_a3e272af': 0, '71c7ac71_8f778337': 0, '6b83b22e_c59194c7': 0, '26ad111c_b0a01ee7': 0, '0d11fb94_f9e08a46': 0, '4e28b45e_fc1771af': 0, '12309af3_390d2f23': 0, '01c915a2_480de7be': 0, '51cc7026_51d88c51': 0, '46e9aed4_ee4f7b06': 0, '547ee69b_5ce1fe32': 0, '1eda0725_80881cae': 0, '169e34bf_2bbf754b': 0, '46e9aed4_8ddb5587': 0, '680ba922_f3d7ce08': 0, '69b2fd22_764484c3': 0, '11373c16_d8e4eb5e': 0, '66e74577_6e207cbf': 0, '4ea10951_7c11511f': 0, 'a4d6775d_eea69e7f': 0, 'd5dc6626_f59d9b6e': 0, 'bd65846f_d018b49f': 0, '3380fa52_8a39dbf5': 0, '3951966f_9bc690ef': 0, '3ff25f43_a195911e': 0, '856a8eda_c354b74f': 0, '0d4d22e0_f898cee0': 0, '1be078c4_bb0949b3': 0, '0df4050e_f5fde094': 0, '2ef4c176_fa1bf524': 0, '5ee4d2f9_b38468e8': 0, '35eb27da_8559d49e': 0, '90f01508_ec8566b8': 0, 'bf85ab7b_e48933fa': 0, 'b185d034_ccc8ef27': 0, '6a47e491_f2cf6a74': 0, '69b2fd22_d018b49f': 0, 'ca3128ab_e270e909': 0, '13441e8f_2ebeae13': 0, 'a0b406e6_c9b4bb51': 0, 'c1fef98f_fadc1365': 0, '69c97258_db01da00': 0, '392218ef_f0ede32a': 0, '2e404969_597195ee': 0, '5f3a196a_d76e3b9d': 0, '07043d35_97a7fab5': 0, 'eea69e7f_f6ca6fc8': 0, 'ca8f11a4_e19376ca': 0, '584b0e9e_c9159d9c': 0, '722e318f_c9159d9c': 0, 'e185bce5_f3d7ce08': 0, '3cf63146_bdfe8110': 0, '343cc8e7_7f69a9e8': 0, '0fd5b95a_41e72d4f': 0, '80e6c4db_f22a4243': 0, '39098126_3bcd2014': 0, '5f3a2a70_e7a997b5': 0, '1c90c367_e52863b8': 0, '29cb9b0e_c77654b8': 0, 'f229aa7f_fcc7e8fa': 0, 'b08b1c3c_d92b4600': 0, '4fb09c5f_c57a973e': 0, '11373c16_69b2fd22': 0, '4548305b_c0aa6246': 0, 'c287ea9d_d2901569': 0, '316c9955_e7370eec': 0, '44428e63_9debf95c': 0, '4323e2bd_ebd8ff55': 0, '169e34bf_69b8ffb2': 0, 'b56ebada_b95a75a7': 0, '2e404969_bc46480a': 0, '1dab88fb_7b5f64b7': 0, '3afcc566_90dc2b20': 0, '17e67976_656b62de': 0, '10013f73_a8f7c8b7': 0, '1162c08f_eea69e7f': 0, 'd9199dfd_ff1fc018': 0, '69b8ffb2_ba468e1f': 0, '29d865c3_5cfa2861': 0, '2eb89317_5f0a176e': 0, '73f57af1_9a20c823': 0, '0c00d532_521c5645': 0, '3ff25f43_c287ea9d': 0, '0c9d4def_d3415fc5': 0, '4241f473_4685c420': 0, '69b2fd22_d221162a': 0, '550335a3_6d7d5dd7': 0, '4303de0d_c9a316ca': 0, '51e5a1a5_960a4c0f': 0, 'ee270b2a_fc80cbe0': 0, '375489f2_a4c98ae1': 0, '8e990c75_d9f6c257': 0, '065e0cbd_9b449b4f': 0, '52cd85f2_ff34fab2': 0, '1c8bb204_7ed5a88d': 0, '2063ba3e_2ba7edb6': 0, '6e637812_aa8091b0': 0, '9f354c5c_cb032314': 0, '680ba922_6d7d5dd7': 0, 'cdb801a1_ed610dc9': 0, '476e94d3_9310ad0c': 0, '086f0f90_4a570de6': 0, '83b44c9c_e431de28': 0, 'ac180326_b1e9f1f6': 0, '6f02c6d9_d3a96420': 0, 'c4ca2ff3_d83f74f7': 0, '80407703_99e059b8': 0, '24afd00e_810fd282': 0, 'a4e39423_ba8800f5': 0, '0922b7e7_d1cd194e': 0, 'a5d5a95f_c4ca2ff3': 0, 'a60fba84_c695a974': 0, '81fb6415_fb69b3b4': 0, '930dd1f1_f4b87cc2': 0, '1230c43e_2bbf754b': 0, '69b2fd22_7bc92b7f': 0, '00af3420_5449d33c': 0, '565f77b7_856a8eda': 0, '1dab88fb_99ccaa44': 0, '4d279121_a3e272af': 0, '354d060f_e1c4f3db': 0, '49e94e7e_da5cf40b': 0, '4499e3b9_cbbbed5f': 0, '4dc0247e_875ed4c8': 0, 'b2590225_fdcbdf85': 0, 'ad4c7a20_f8e7b886': 0, '1c8bb204_7d7cf9a7': 0, 'a8f7c8b7_f229aa7f': 0, '3368f340_d8a171a3': 0, 'a101df86_f0d91796': 0, '3dd65549_f229aa7f': 0, '0588b869_69b2fd22': 0, '0588b869_9028caf7': 0, '04ed33a5_7ea34254': 0, '3afcc566_fcc7e8fa': 0, '5647d16e_ea09d197': 0, '3088ca9c_a2cf5634': 0, '72d9eb5b_9862c742': 0, '83b44c9c_8d9871a9': 0, 'c73cd266_d2eb953e': 0, '11373c16_7011024d': 0, '25597bcb_86232d21': 0, '4da08761_d6fb3b9e': 0, '1adac634_ad4c7a20': 0, '6be98ece_e1c4f3db': 0, '26e699de_90dc2b20': 0, '141effef_6653a758': 0, 'a6520606_fb05904c': 0, '4d279121_856a8eda': 0, '7c11511f_f3d7ce08': 0, 'c48673a6_ebed1250': 0, '313b42e6_e45446bc': 0, '16857116_6e207cbf': 0, '13860c31_870e16d9': 0, '5b9a0551_db1ef8b3': 0, 'ba8800f5_d8e4eb5e': 0, '4e5ee0f7_d6fb3b9e': 0, '40cc90ae_51151974': 0, 'd2eb953e_dcf09f37': 0, '853acff9_929b98f0': 0, '268eb6c6_3cf63146': 0, '085ddefc_1500a4fa': 0, '49e94e7e_f3d7ce08': 0, '5e3089fa_aea245ba': 0, '8c591975_b6724dd9': 0, '1dab88fb_bac616ee': 0, '11d91f31_4323e2bd': 0, '93ee4612_da5cf40b': 0, 'b790ef12_ff34fab2': 0, '0ecf356d_b2bae06a': 0, '8e990c75_96b3758b': 0, '558df7d4_d8654140': 0, '51d857bc_c392efe7': 0, '505f8562_ed37ba7d': 0, '73f1c5f5_da0b7cb2': 0, '1410e423_da5cf40b': 0, '5288afb7_df594a00': 0, '80881cae_f8e7b886': 0, '22dff786_624529e3': 0, '3f6f1267_cdb7a891': 0, '72d9eb5b_884f5678': 0, '99bc7da3_b3638571': 0, '2bbf754b_3a12e509': 0, '31f29772_b728ba1d': 0, '25151980_3b5cec19': 0, '372a4f50_e435b1ac': 0, '51d857bc_63118334': 0, 'c4ca2ff3_d6fb3b9e': 0, '5289e80a_d82fa7e3': 0, '68d422ec_d77f722c': 0, '34aa6a45_dd5fd2a2': 0, 'ae716b8f_f1a42a42': 0, '49b94994_d8654140': 0, '00af3420_d92c5342': 0, 'b2590225_f7fc2e94': 0, '11d91f31_eea69e7f': 0, '2bbf754b_69b8ffb2': 0, 'c57997b6_ff10b574': 0, 'cdb801a1_dcdaf666': 0, '8d6f1bf5_dc281165': 0, 'ca8f11a4_e185bce5': 0, 'ac180326_b728ba1d': 0, '2db37cb1_875ed4c8': 0, '018c15bd_378bb1ca': 0, '15941165_3b10bd6d': 0, '6d55e68b_d8a171a3': 0, '3bd7275e_8635bc10': 0, '4be01508_b7de5c19': 0, 'ec607ca1_ed37ba7d': 0, '22b41936_9cea10af': 1, '2c7a0000_bd50e3fe': 1, '51cc7026_e81b2d16': 1, 'e1c4f3db_e81b2d16': 1, '6bcc5afd_f6ca6fc8': 1, '317a209c_921b6e4a': 1, '42fe7dd0_c4ca2ff3': 1, '2b9dfed3_351c9206': 1, '3380fa52_f28b8cb4': 1, 'd55c238c_ebce9e39': 1, '034030f3_bf992c91': 1, 'aa266c38_b5fbe7a2': 1, '28c2d81a_8f6421f3': 1, '6f393cfe_7a9c69d8': 1, '921b6e4a_e7dce35b': 1, '079ad09e_20012377': 1, '2bbc6c80_4e58558c': 1, 'ac144188_e899614e': 1, '9291ca83_b185d034': 1, '2d1553b5_656d0f78': 1, '11c2ab99_fadc1365': 1, '53196443_e496d229': 1, 'a4d6775d_cb87df79': 1, 'd9199dfd_fb312dc6': 1, '829d2024_9852706b': 1, '873828f7_ac8acb97': 1, '14b0fb8e_d221162a': 1, 'ca0c55ad_e14d1ba0': 1, '55ab9b5d_c6113c06': 1, '8a5fe3d9_ea899386': 1, 'b8b08542_d783d815': 1, 'bdfe8110_e6a6e318': 1, '4241f473_77448a05': 1, '8a729537_e270e909': 1, '3d06b643_db7f80a5': 1, '12c1cc56_7b71234c': 1, 'c57a973e_fa484fdd': 1, '42fe7dd0_9291ca83': 1, '4b398e3e_94690b36': 1, '11c2ab99_28c2d81a': 1, '04df7bb8_85125ecb': 1, '04ed33a5_0c173033': 1, '12c1cc56_c06c758d': 1, '6db218a2_90b71536': 1, '1ea771ea_ee270b2a': 1, 'b434c275_fdc4f384': 1, '3b5cec19_8f31b279': 1, '4212c4b9_829d2024': 1, '2da4b3fe_3d06b643': 1, '0fdc80c5_28c2d81a': 1, '1071f735_cd835290': 1, 'fc7dfa16_fe94ee2f': 1, '29cf2e70_b2001d68': 1, '810fd282_ec558d69': 1, '829d2024_8a20e743': 1, '722e318f_b790ef12': 1, '9debf95c_ac596a43': 1, '6946f466_ce7027ee': 1, '2120328e_6de04ee2': 1, '3368f340_a8f7c8b7': 1, '6b97058e_921b6e4a': 1, '63a24497_6e5ab1d2': 1, '464a03b8_f0ede32a': 1, '21123500_fbd26aa0': 1, '7279bcb3_cfba313d': 1, '116765b1_38601291': 1, '48993e07_96cd6ee9': 1, '11c2ab99_e6a6e318': 1, '6e7cd58b_cfba313d': 1, '584b0e9e_d9199dfd': 1, '6f02c6d9_c2242c42': 1, '0951d079_0ecf356d': 1, '63bfa731_7974ffba': 1, 'e6a6e318_fadc1365': 1, '24b20554_43b10dec': 1, 'bdfe8110_c57a973e': 1, '6c4ac8d3_829d2024': 1, '132281e9_f415c0bf': 1, '80881cae_a7e7f371': 1, '734a94be_f6ca6fc8': 1, '0c173033_6b83b22e': 1, '04df7bb8_1ea771ea': 1, '0df4050e_6f02c6d9': 1, '2b2d3b84_aaccc000': 1, '6f02c6d9_884f5678': 1, '6e7cd58b_7279bcb3': 1, '3e6def38_e7dce35b': 1, '2120328e_b790ef12': 1, '3d245498_7838095f': 1, 'a3ebea91_f80f6d8d': 1, '548ffb07_921b6e4a': 1, '46bde295_8a858867': 1, '0017d438_9852706b': 1, '4fd752f7_c7239c97': 1, '548ffb07_e7dce35b': 1, '9fc811f7_cff39394': 1, '28c2d81a_48c5f745': 1, '3412b353_528a6162': 1, '2bd5c798_317baeaf': 1, '11c2ab99_4f7af821': 1, '0ecf356d_71a4f6d2': 1, '99afdfb3_e152c1ff': 1, '1162c08f_a4d6775d': 1, '4eac0eea_f4d6d28d': 1, '0df4050e_d9199dfd': 1, '0cedec8a_ac8acb97': 1, '8d9871a9_e431de28': 1, '5e8d1aaa_c4d04ce7': 1, 'a4c98ae1_ee4f7b06': 1, '6815a099_f41057db': 1, '089b7f00_fb20d298': 1, 'bd3051e3_e2e37533': 1, '2695ce73_ac8acb97': 1, '1c8bb204_4b7646f4': 1, '480de7be_f4757480': 1, 'd23b398c_e14d1ba0': 1, '2c7a0000_f4f1b18f': 1, '0f14b12d_7d12d33c': 1, '04df7bb8_aaccc000': 1, '734a94be_cb87df79': 1, 'af2b138c_e45446bc': 1, '6825260d_c972dd00': 1, '317a209c_9ab3c0e1': 1, 'ccc8ef27_d6fb3b9e': 1, '28c2d81a_fa484fdd': 1, '403e3270_58d18fca': 1, '8f30bfc3_af1b152e': 1, '9261620f_f0881ab5': 1, '11c2ab99_bdfe8110': 1, '1162c08f_734a94be': 1, '1162c08f_6bcc5afd': 1, '4548305b_be3b1289': 1, '2f8c3bf3_a3abac01': 1, 'b9595381_d6fb3b9e': 1, '7686c854_8a729537': 1, '3088ca9c_7a9c69d8': 1, '530f01c2_f41057db': 1, '41e69083_54eb1a6b': 1, '69b2fd22_9028caf7': 1, '597195ee_5f3a196a': 1, '0b27be88_3f4a5b64': 1, '4da08761_c4ca2ff3': 1, '0ee2f8f1_587307f2': 1, '63bfa731_9fc811f7': 1, '8f6421f3_bdfe8110': 1, '34b9ed7f_8311f375': 1, '9ab3c0e1_d5fa4746': 1, '3c667d4f_be3b1289': 1, '43ca682a_baebdc56': 1, '08cf0478_9291ca83': 1, '1469697d_69c86b61': 1, '317a209c_3e6def38': 1, '9e7551da_f0e13442': 1, '29cf2e70_584b0e9e': 1, '2120328e_464a03b8': 1, '1013b392_5a340556': 1, '201e3463_de599e42': 1, '2b7b2d45_a0b406e6': 1, '3e6def38_548ffb07': 1, '6653a758_6bcc5afd': 1, '6bcc5afd_cb87df79': 1, '8b490132_db09b3f9': 1, '47d54299_da0b7cb2': 1, '9399204d_b434c275': 1, '7c11511f_ca8f11a4': 1, 'a7e7f371_ad4c7a20': 1, '6bcc5afd_734a94be': 1, '6f393cfe_d61f51c5': 1, '3c667d4f_a7894e0b': 1, '2e1109d7_e7000ac2': 1, '29cb9b0e_d3da65ff': 1, '3e93b259_a60fba84': 1, '317a209c_548ffb07': 1, '80c384e4_967b67b0': 1, 'a101df86_dffa45ac': 1, '0b04b41e_9291ca83': 1, '54129ce9_607d5541': 1, '1c90c367_f0801d53': 1, '8a39dbf5_ff3283cf': 1, '54d7c21e_ad4c7a20': 1, 'aa8091b0_eec856c0': 1, '2915ac5b_9b8c6bd7': 1, '18e2441c_24b20554': 1, '0f6ca337_6843cc19': 1, '949502c2_9fc811f7': 1, '29cf2e70_2f4509a0': 1, '04df7bb8_ee270b2a': 1, '39210347_68dff461': 1, '4f7af821_8f6421f3': 1, '115c99cb_548ffb07': 1, '3d06b643_cb87df79': 1, '0f3a2acf_16e6d8bb': 1, '11c2ab99_8f6421f3': 1, '05ca89ed_163d0dde': 1, 'bf0df1d5_ea899386': 1, '3d06b643_6bcc5afd': 1, '6653a758_f6ca6fc8': 1, '7686c854_abd16ff0': 1, '77d22fc3_d3528b2a': 1, '1162c08f_6653a758': 1, '0ee2f8f1_c2b7b017': 1, '5dbd0a07_bdc08e6f': 1, '21c9b214_d5a20936': 1, '115c99cb_921b6e4a': 1, '1dab88fb_f59d9b6e': 1, '0951d079_71a4f6d2': 1, '558df7d4_f0d91796': 1, '47d54299_63bfa731': 1, '1162c08f_f6ca6fc8': 1, '7686c854_edce3e39': 1, '8f6421f3_ea2fc2bc': 1, 'cc9230d3_ec558d69': 1, '18e2441c_43b10dec': 1, '6f02c6d9_ff34fab2': 1, '48c5f745_4d25818e': 1, '3d88acb8_8aadde13': 1, '38129877_7493a104': 1, '66565156_6f393cfe': 1, '36f1b52a_558df7d4': 1, '3d06b643_f6ca6fc8': 1, '4e28b45e_d7a8434f': 1, '548ffb07_9ab3c0e1': 1, '16857116_f3d7ce08': 1, '2a655afe_692a4496': 1, '8aadde13_fb20d298': 1, '169e34bf_fae0662f': 1, 'bdfe8110_fadc1365': 1, '5af25bd7_77ec956f': 1, '3cbcb1cc_6045e5d1': 1, '53d782a0_5769b7b3': 1, '51d88c51_c2b7b017': 1, '63bfa731_949502c2': 1, '54d7c21e_a7e7f371': 1, '317a209c_6b97058e': 1, 'a7894e0b_fadc1365': 1, '45f46b14_7b162d33': 1, '80881cae_ad4c7a20': 1, '927384f2_b2bae06a': 1, '3c74c140_732c98a0': 1, '04ed33a5_6b83b22e': 1, '3ff60986_d0b4b96c': 1, '54d7c21e_80881cae': 1, 'b728ba1d_d04e5afb': 1, '1480a727_a7d1ce58': 1, '1b372750_fdd41565': 1, '2c7a0000_4201fdf7': 1, '3088ca9c_6f393cfe': 1, 'c9da41af_f59d9b6e': 1, '3380fa52_48993e07': 1, '29cf2e70_72d9eb5b': 1, '8a729537_abd16ff0': 1}\n"
          ]
        }
      ]
    },
    {
      "cell_type": "code",
      "source": [
        "import numpy as np\n",
        "# create empty lists to store the inputs and targets\n",
        "inputs = []\n",
        "targets = []\n",
        "lenght = 0\n",
        "for subfolder in os.listdir(new_path):\n",
        "    if subfolder in verdict_dict:\n",
        "      verdict = verdict_dict[subfolder]\n",
        "    else:\n",
        "      continue\n",
        "    file1 = len(np.loadtxt(os.path.join(new_path, subfolder, subfolder[:8] + \".tok\"), dtype=int, delimiter=\",\"))\n",
        "    file2 = len(np.loadtxt(os.path.join(new_path, subfolder, subfolder[9:] + \".tok\"), dtype=int, delimiter=\",\"))\n",
        "    if file1 > lenght:\n",
        "      lenght = file1\n",
        "    if file2 > lenght:\n",
        "      lenght = file2\n",
        "\n",
        "lenght"
      ],
      "metadata": {
        "colab": {
          "base_uri": "https://localhost:8080/"
        },
        "id": "3qiMs_BGhWOy",
        "outputId": "d02502af-e3b3-4d8f-cdfb-b2c03816077b"
      },
      "execution_count": null,
      "outputs": [
        {
          "output_type": "execute_result",
          "data": {
            "text/plain": [
              "4130"
            ]
          },
          "metadata": {},
          "execution_count": 31
        }
      ]
    },
    {
      "cell_type": "code",
      "execution_count": null,
      "metadata": {
        "colab": {
          "base_uri": "https://localhost:8080/"
        },
        "id": "85Ri27Rucok7",
        "outputId": "14fe0dea-6d28-483e-bb3c-a8184a23106b"
      },
      "outputs": [
        {
          "output_type": "stream",
          "name": "stdout",
          "text": [
            "[72 76 79 ...  0  0  0]\n",
            "[72 76 79 ...  0  0  0]\n",
            "[72 76 79 ...  0  0  0]\n",
            "[72 76 79 ...  0  0  0]\n",
            "[72 76 79 ...  0  0  0]\n",
            "[72 76 79 ...  0  0  0]\n",
            "[72 76 79 ...  0  0  0]\n",
            "[72 76 79 ...  0  0  0]\n",
            "[72 76 79 ...  0  0  0]\n",
            "[72 76 79 ...  0  0  0]\n",
            "[72 76 79 ...  0  0  0]\n",
            "[72 76 79 ...  0  0  0]\n",
            "[72 76 79 ...  0  0  0]\n",
            "[72 76 79 ...  0  0  0]\n",
            "[72 76 79 ...  0  0  0]\n",
            "[72 76 79 ...  0  0  0]\n",
            "[72 76 79 ...  0  0  0]\n",
            "[72 76 79 ...  0  0  0]\n",
            "[72 76 79 ...  0  0  0]\n",
            "[72 76 79 ...  0  0  0]\n",
            "[72 76 79 ...  0  0  0]\n",
            "[72 76 79 ...  0  0  0]\n",
            "[72 76 79 ...  0  0  0]\n",
            "[72 76 79 ...  0  0  0]\n",
            "[72 76 79 ...  0  0  0]\n",
            "[72 76 79 ...  0  0  0]\n",
            "[72 76 79 ...  0  0  0]\n",
            "[72 76 79 ...  0  0  0]\n",
            "[72 76 79 ...  0  0  0]\n",
            "[72 76 79 ...  0  0  0]\n",
            "[72 76 79 ...  0  0  0]\n",
            "[72 76 79 ...  0  0  0]\n",
            "[72 76 79 ...  0  0  0]\n",
            "[72 76 79 ...  0  0  0]\n",
            "[72 76 79 ...  0  0  0]\n",
            "[72 76 79 ...  0  0  0]\n",
            "[72 76 79 ...  0  0  0]\n",
            "[72 76 79 ...  0  0  0]\n",
            "[72 76 79 ...  0  0  0]\n",
            "[72 76 79 ...  0  0  0]\n",
            "[72 76 79 ...  0  0  0]\n",
            "[72 76 79 ...  0  0  0]\n",
            "[72 76 79 ...  0  0  0]\n",
            "[72 76 79 ...  0  0  0]\n",
            "[72 76 79 ...  0  0  0]\n",
            "[72 76 79 ...  0  0  0]\n",
            "[72 76 79 ...  0  0  0]\n",
            "[72 76 79 ...  0  0  0]\n",
            "[72 76 79 ...  0  0  0]\n",
            "[72 76 79 ...  0  0  0]\n",
            "[72 76 79 ...  0  0  0]\n",
            "[72 76 79 ...  0  0  0]\n",
            "[72 76 79 ...  0  0  0]\n",
            "[72 76 79 ...  0  0  0]\n",
            "[72 76 79 ...  0  0  0]\n",
            "[72 76 79 ...  0  0  0]\n",
            "[72 76 79 ...  0  0  0]\n",
            "[72 76 79 ...  0  0  0]\n",
            "[72 76 79 ...  0  0  0]\n",
            "[72 76 79 ...  0  0  0]\n",
            "[72 76 79 ...  0  0  0]\n",
            "[72 76 79 ...  0  0  0]\n",
            "[72 76 79 ...  0  0  0]\n",
            "[72 76 79 ...  0  0  0]\n",
            "[72 76 79 ...  0  0  0]\n",
            "[72 76 79 ...  0  0  0]\n",
            "[72 76 79 ...  0  0  0]\n",
            "[72 76 79 ...  0  0  0]\n",
            "[72 76 79 ...  0  0  0]\n",
            "[72 76 79 ...  0  0  0]\n",
            "[72 76 79 ...  0  0  0]\n",
            "[72 76 79 ...  0  0  0]\n",
            "[72 76 79 ...  0  0  0]\n",
            "[72 76 79 ...  0  0  0]\n",
            "[72 76 79 ...  0  0  0]\n",
            "[72 76 79 ...  0  0  0]\n",
            "[72 76 79 ...  0  0  0]\n",
            "[72 76 79 ...  0  0  0]\n",
            "[72 76 79 ...  0  0  0]\n",
            "[72 76 79 ...  0  0  0]\n",
            "[72 76 79 ...  0  0  0]\n",
            "[72 76 79 ...  0  0  0]\n",
            "[72 76 79 ...  0  0  0]\n",
            "[72 76 79 ...  0  0  0]\n",
            "[72 76 79 ...  0  0  0]\n",
            "[72 76 79 ...  0  0  0]\n",
            "[72 76 79 ...  0  0  0]\n",
            "[72 76 79 ...  0  0  0]\n",
            "[72 76 79 ...  0  0  0]\n",
            "[72 76 79 ...  0  0  0]\n",
            "[72 76 79 ...  0  0  0]\n",
            "[72 76 79 ...  0  0  0]\n",
            "[72 76 79 ...  0  0  0]\n",
            "[72 76 79 ...  0  0  0]\n",
            "[72 76 79 ...  0  0  0]\n",
            "[72 76 79 ...  0  0  0]\n",
            "[72 76 79 ...  0  0  0]\n",
            "[72 76 79 ...  0  0  0]\n",
            "[72 76 79 ...  0  0  0]\n",
            "[72 76 79 ...  0  0  0]\n",
            "[72 76 79 ...  0  0  0]\n",
            "[72 76 79 ...  0  0  0]\n",
            "[72 76 79 ...  0  0  0]\n",
            "[72 76 79 ...  0  0  0]\n",
            "[72 76 79 ...  0  0  0]\n",
            "[72 76 79 ...  0  0  0]\n",
            "[72 76 79 ...  0  0  0]\n",
            "[72 76 79 ...  0  0  0]\n",
            "[72 76 79 ...  0  0  0]\n",
            "[72 76 79 ...  0  0  0]\n",
            "[72 76 79 ...  0  0  0]\n",
            "[72 76 79 ...  0  0  0]\n",
            "[72 76 79 ...  0  0  0]\n",
            "[72 76 79 ...  0  0  0]\n",
            "[72 76 79 ...  0  0  0]\n",
            "[72 76 79 ...  0  0  0]\n",
            "[72 76 79 ...  0  0  0]\n",
            "[72 76 79 ...  0  0  0]\n",
            "[72 76 79 ...  0  0  0]\n",
            "[72 76 79 ...  0  0  0]\n",
            "[72 76 79 ...  0  0  0]\n",
            "[72 76 79 ...  0  0  0]\n",
            "[72 76 79 ...  0  0  0]\n",
            "[72 76 79 ...  0  0  0]\n",
            "[72 76 79 ...  0  0  0]\n",
            "[72 76 79 ...  0  0  0]\n",
            "[72 76 79 ...  0  0  0]\n",
            "[72 76 79 ...  0  0  0]\n",
            "[72 76 79 ...  0  0  0]\n",
            "[72 76 79 ...  0  0  0]\n",
            "[72 76 79 ...  0  0  0]\n",
            "[72 76 79 ...  0  0  0]\n",
            "[72 76 79 ...  0  0  0]\n",
            "[72 76 79 ...  0  0  0]\n",
            "[72 76 79 ...  0  0  0]\n",
            "[72 76 79 ...  0  0  0]\n",
            "[72 76 79 ...  0  0  0]\n",
            "[72 76 79 ...  0  0  0]\n",
            "[72 76 79 ...  0  0  0]\n",
            "[72 76 79 ...  0  0  0]\n",
            "[72 76 79 ...  0  0  0]\n",
            "[72 76 79 ...  0  0  0]\n",
            "[72 76 79 ...  0  0  0]\n",
            "[72 76 79 ...  0  0  0]\n",
            "[72 76 79 ...  0  0  0]\n",
            "[72 76 79 ...  0  0  0]\n",
            "[72 76 79 ...  0  0  0]\n",
            "[72 76 79 ...  0  0  0]\n",
            "[72 76 79 ...  0  0  0]\n",
            "[72 76 79 ...  0  0  0]\n",
            "[72 76 79 ...  0  0  0]\n",
            "[72 76 79 ...  0  0  0]\n",
            "[72 76 79 ...  0  0  0]\n",
            "[72 76 79 ...  0  0  0]\n",
            "[72 76 79 ...  0  0  0]\n",
            "[72 76 79 ...  0  0  0]\n",
            "[72 76 79 ...  0  0  0]\n",
            "[72 76 79 ...  0  0  0]\n",
            "[72 76 79 ...  0  0  0]\n",
            "[72 76 79 ...  0  0  0]\n",
            "[72 76 79 ...  0  0  0]\n",
            "[72 76 79 ...  0  0  0]\n",
            "[72 76 79 ...  0  0  0]\n",
            "[72 76 79 ...  0  0  0]\n",
            "[72 76 79 ...  0  0  0]\n",
            "[72 76 79 ...  0  0  0]\n",
            "[72 76 79 ...  0  0  0]\n",
            "[72 76 79 ...  0  0  0]\n",
            "[72 76 79 ...  0  0  0]\n",
            "[72 76 79 ...  0  0  0]\n",
            "[72 76 79 ...  0  0  0]\n",
            "[72 76 79 ...  0  0  0]\n",
            "[72 76 79 ...  0  0  0]\n",
            "[72 76 79 ...  0  0  0]\n",
            "[72 76 79 ...  0  0  0]\n",
            "[72 76 79 ...  0  0  0]\n",
            "[72 76 79 ...  0  0  0]\n",
            "[72 76 79 ...  0  0  0]\n",
            "[72 76 79 ...  0  0  0]\n",
            "[72 76 79 ...  0  0  0]\n",
            "[72 76 79 ...  0  0  0]\n",
            "[72 76 79 ...  0  0  0]\n",
            "[72 76 79 ...  0  0  0]\n",
            "[72 76 79 ...  0  0  0]\n",
            "[72 76 79 ...  0  0  0]\n",
            "[72 76 79 ...  0  0  0]\n",
            "[72 76 79 ...  0  0  0]\n",
            "[72 76 79 ...  0  0  0]\n",
            "[72 76 79 ...  0  0  0]\n",
            "[72 76 79 ...  0  0  0]\n",
            "[72 76 79 ...  0  0  0]\n",
            "[72 76 79 ...  0  0  0]\n",
            "[72 76 79 ...  0  0  0]\n",
            "[72 76 79 ...  0  0  0]\n",
            "[72 76 79 ...  0  0  0]\n",
            "[72 76 79 ...  0  0  0]\n",
            "[72 76 79 ...  0  0  0]\n",
            "[72 76 79 ...  0  0  0]\n",
            "[72 76 79 ...  0  0  0]\n",
            "[72 76 79 ...  0  0  0]\n",
            "[72 76 79 ...  0  0  0]\n",
            "[72 76 79 ...  0  0  0]\n",
            "[72 76 79 ...  0  0  0]\n",
            "[ 72  76  79 ... 269 269 271]\n",
            "[72 76 79 ...  0  0  0]\n",
            "[72 76 79 ...  0  0  0]\n",
            "[72 76 79 ...  0  0  0]\n",
            "[72 76 79 ...  0  0  0]\n",
            "[72 76 79 ...  0  0  0]\n",
            "[72 76 79 ...  0  0  0]\n",
            "[72 76 79 ...  0  0  0]\n",
            "[72 76 79 ...  0  0  0]\n",
            "[72 76 79 ...  0  0  0]\n",
            "[72 76 79 ...  0  0  0]\n",
            "[72 76 79 ...  0  0  0]\n",
            "[72 76 79 ...  0  0  0]\n",
            "[72 76 79 ...  0  0  0]\n",
            "[72 76 79 ...  0  0  0]\n",
            "[72 76 79 ...  0  0  0]\n",
            "[72 76 79 ...  0  0  0]\n",
            "[72 76 79 ...  0  0  0]\n",
            "[72 76 79 ...  0  0  0]\n",
            "[72 76 79 ...  0  0  0]\n",
            "[72 76 79 ...  0  0  0]\n",
            "[72 76 79 ...  0  0  0]\n",
            "[72 76 79 ...  0  0  0]\n",
            "[72 76 79 ...  0  0  0]\n",
            "[72 76 79 ...  0  0  0]\n",
            "[72 76 79 ...  0  0  0]\n",
            "[72 76 79 ...  0  0  0]\n",
            "[72 76 79 ...  0  0  0]\n",
            "[72 76 79 ...  0  0  0]\n",
            "[72 76 79 ...  0  0  0]\n",
            "[72 76 79 ...  0  0  0]\n",
            "[72 76 79 ...  0  0  0]\n",
            "[72 76 79 ...  0  0  0]\n",
            "[72 76 79 ...  0  0  0]\n",
            "[72 76 79 ...  0  0  0]\n",
            "[72 76 79 ...  0  0  0]\n",
            "[72 76 79 ...  0  0  0]\n",
            "[72 76 79 ...  0  0  0]\n",
            "[72 76 79 ...  0  0  0]\n",
            "[72 76 79 ...  0  0  0]\n",
            "[72 76 79 ...  0  0  0]\n",
            "[72 76 79 ...  0  0  0]\n",
            "[72 76 79 ...  0  0  0]\n",
            "[72 76 79 ...  0  0  0]\n",
            "[72 76 79 ...  0  0  0]\n",
            "[72 76 79 ...  0  0  0]\n",
            "[72 76 79 ...  0  0  0]\n",
            "[72 76 79 ...  0  0  0]\n",
            "[72 76 79 ...  0  0  0]\n",
            "[72 76 79 ...  0  0  0]\n",
            "[72 76 79 ...  0  0  0]\n",
            "[72 76 79 ...  0  0  0]\n",
            "[72 76 79 ...  0  0  0]\n",
            "[72 76 79 ...  0  0  0]\n",
            "[72 76 79 ...  0  0  0]\n",
            "[72 76 79 ...  0  0  0]\n",
            "[72 76 79 ...  0  0  0]\n",
            "[72 76 79 ...  0  0  0]\n",
            "[72 76 79 ...  0  0  0]\n",
            "[72 76 79 ...  0  0  0]\n",
            "[72 76 79 ...  0  0  0]\n",
            "[72 76 79 ...  0  0  0]\n",
            "[72 76 79 ...  0  0  0]\n",
            "[72 76 79 ...  0  0  0]\n",
            "[72 76 79 ...  0  0  0]\n",
            "[72 76 79 ...  0  0  0]\n",
            "[72 76 79 ...  0  0  0]\n",
            "[72 76 79 ...  0  0  0]\n",
            "[72 76 79 ...  0  0  0]\n",
            "[72 76 79 ...  0  0  0]\n",
            "[72 76 79 ...  0  0  0]\n",
            "[72 76 79 ...  0  0  0]\n",
            "[72 76 79 ...  0  0  0]\n",
            "[72 76 79 ...  0  0  0]\n",
            "[72 76 79 ...  0  0  0]\n",
            "[72 76 79 ...  0  0  0]\n",
            "[72 76 79 ...  0  0  0]\n",
            "[72 76 79 ...  0  0  0]\n",
            "[72 76 79 ...  0  0  0]\n",
            "[72 76 79 ...  0  0  0]\n",
            "[72 76 79 ...  0  0  0]\n",
            "[72 76 79 ...  0  0  0]\n",
            "[72 76 79 ...  0  0  0]\n",
            "[72 76 79 ...  0  0  0]\n",
            "[72 76 79 ...  0  0  0]\n",
            "[72 76 79 ...  0  0  0]\n",
            "[72 76 79 ...  0  0  0]\n",
            "[72 76 79 ...  0  0  0]\n",
            "[72 76 79 ...  0  0  0]\n",
            "[72 76 79 ...  0  0  0]\n",
            "[72 76 79 ...  0  0  0]\n",
            "[72 76 79 ...  0  0  0]\n",
            "[72 76 79 ...  0  0  0]\n",
            "[72 76 79 ...  0  0  0]\n",
            "[72 76 79 ...  0  0  0]\n",
            "[72 76 79 ...  0  0  0]\n",
            "[72 76 79 ...  0  0  0]\n",
            "[72 76 79 ...  0  0  0]\n",
            "[72 76 79 ...  0  0  0]\n",
            "[72 76 79 ...  0  0  0]\n",
            "[72 76 79 ...  0  0  0]\n",
            "[72 76 79 ...  0  0  0]\n",
            "[72 76 79 ...  0  0  0]\n",
            "[72 76 79 ...  0  0  0]\n",
            "[72 76 79 ...  0  0  0]\n",
            "[72 76 79 ...  0  0  0]\n",
            "[72 76 79 ...  0  0  0]\n",
            "[72 76 79 ...  0  0  0]\n",
            "[72 76 79 ...  0  0  0]\n",
            "[72 76 79 ...  0  0  0]\n",
            "[72 76 79 ...  0  0  0]\n",
            "[72 76 79 ...  0  0  0]\n",
            "[72 76 79 ...  0  0  0]\n",
            "[72 76 79 ...  0  0  0]\n",
            "[72 76 79 ...  0  0  0]\n",
            "[72 76 79 ...  0  0  0]\n",
            "[72 76 79 ...  0  0  0]\n",
            "[72 76 79 ...  0  0  0]\n",
            "[72 76 79 ...  0  0  0]\n",
            "[72 76 79 ...  0  0  0]\n",
            "[72 76 79 ...  0  0  0]\n",
            "[72 76 79 ...  0  0  0]\n",
            "[72 76 79 ...  0  0  0]\n",
            "[72 76 79 ...  0  0  0]\n",
            "[72 76 79 ...  0  0  0]\n",
            "[72 76 79 ...  0  0  0]\n",
            "[72 76 79 ...  0  0  0]\n",
            "[72 76 79 ...  0  0  0]\n",
            "[72 76 79 ...  0  0  0]\n",
            "[72 76 79 ...  0  0  0]\n",
            "[72 76 79 ...  0  0  0]\n",
            "[72 76 79 ...  0  0  0]\n",
            "[72 76 79 ...  0  0  0]\n",
            "[72 76 79 ...  0  0  0]\n",
            "[72 76 79 ...  0  0  0]\n",
            "[72 76 79 ...  0  0  0]\n",
            "[72 76 79 ...  0  0  0]\n",
            "[72 76 79 ...  0  0  0]\n",
            "[72 76 79 ...  0  0  0]\n",
            "[72 76 79 ...  0  0  0]\n",
            "[72 76 79 ...  0  0  0]\n",
            "[72 76 79 ...  0  0  0]\n",
            "[72 76 79 ...  0  0  0]\n",
            "[72 76 79 ...  0  0  0]\n",
            "[72 76 79 ...  0  0  0]\n",
            "[72 76 79 ...  0  0  0]\n",
            "[72 76 79 ...  0  0  0]\n",
            "[72 76 79 ...  0  0  0]\n",
            "[72 76 79 ...  0  0  0]\n",
            "[72 76 79 ...  0  0  0]\n",
            "[72 76 79 ...  0  0  0]\n",
            "[72 76 79 ...  0  0  0]\n",
            "[72 76 79 ...  0  0  0]\n",
            "[72 76 79 ...  0  0  0]\n",
            "[72 76 79 ...  0  0  0]\n",
            "[72 76 79 ...  0  0  0]\n",
            "[72 76 79 ...  0  0  0]\n",
            "[72 76 79 ...  0  0  0]\n",
            "[72 76 79 ...  0  0  0]\n",
            "[72 76 79 ...  0  0  0]\n",
            "[72 76 79 ...  0  0  0]\n",
            "[72 76 79 ...  0  0  0]\n",
            "[72 76 79 ...  0  0  0]\n",
            "[72 76 79 ...  0  0  0]\n",
            "[72 76 79 ...  0  0  0]\n",
            "[72 76 79 ...  0  0  0]\n",
            "[72 76 79 ...  0  0  0]\n",
            "[72 76 79 ...  0  0  0]\n",
            "[72 76 79 ...  0  0  0]\n",
            "[72 76 79 ...  0  0  0]\n",
            "[72 76 79 ...  0  0  0]\n",
            "[72 76 79 ...  0  0  0]\n",
            "[72 76 79 ...  0  0  0]\n",
            "[72 76 79 ...  0  0  0]\n",
            "[72 76 79 ...  0  0  0]\n",
            "[72 76 79 ...  0  0  0]\n",
            "[72 76 79 ...  0  0  0]\n",
            "[72 76 79 ...  0  0  0]\n",
            "[72 76 79 ...  0  0  0]\n",
            "[72 76 79 ...  0  0  0]\n",
            "[72 76 79 ...  0  0  0]\n",
            "[72 76 79 ...  0  0  0]\n",
            "[72 76 79 ...  0  0  0]\n",
            "[72 76 79 ...  0  0  0]\n",
            "[72 76 79 ...  0  0  0]\n",
            "[72 76 79 ...  0  0  0]\n",
            "[72 76 79 ...  0  0  0]\n",
            "[72 76 79 ...  0  0  0]\n",
            "[72 76 79 ...  0  0  0]\n",
            "[72 76 79 ...  0  0  0]\n",
            "[72 76 79 ...  0  0  0]\n",
            "[72 76 79 ...  0  0  0]\n",
            "[72 76 79 ...  0  0  0]\n",
            "[72 76 79 ...  0  0  0]\n",
            "[72 76 79 ...  0  0  0]\n",
            "[72 76 79 ...  0  0  0]\n",
            "[72 76 79 ...  0  0  0]\n",
            "[72 76 79 ...  0  0  0]\n",
            "[72 76 79 ...  0  0  0]\n",
            "[72 76 79 ...  0  0  0]\n",
            "[72 76 79 ...  0  0  0]\n",
            "[72 76 79 ...  0  0  0]\n",
            "[72 76 79 ...  0  0  0]\n",
            "[72 76 79 ...  0  0  0]\n",
            "[72 76 79 ...  0  0  0]\n",
            "[72 76 79 ...  0  0  0]\n",
            "[72 76 79 ...  0  0  0]\n",
            "[72 76 79 ...  0  0  0]\n",
            "[72 76 79 ...  0  0  0]\n",
            "[72 76 79 ...  0  0  0]\n",
            "[72 76 79 ...  0  0  0]\n",
            "[72 76 79 ...  0  0  0]\n",
            "[72 76 79 ...  0  0  0]\n",
            "[72 76 79 ...  0  0  0]\n",
            "[72 76 79 ...  0  0  0]\n",
            "[72 76 79 ...  0  0  0]\n",
            "[72 76 79 ...  0  0  0]\n",
            "[72 76 79 ...  0  0  0]\n",
            "[72 76 79 ...  0  0  0]\n",
            "[72 76 79 ...  0  0  0]\n",
            "[72 76 79 ...  0  0  0]\n",
            "[72 76 79 ...  0  0  0]\n",
            "[72 76 79 ...  0  0  0]\n",
            "[72 76 79 ...  0  0  0]\n",
            "[72 76 79 ...  0  0  0]\n",
            "[72 76 79 ...  0  0  0]\n",
            "[72 76 79 ...  0  0  0]\n",
            "[72 76 79 ...  0  0  0]\n",
            "[72 76 79 ...  0  0  0]\n",
            "[72 76 79 ...  0  0  0]\n",
            "[72 76 79 ...  0  0  0]\n",
            "[72 76 79 ...  0  0  0]\n",
            "[72 76 79 ...  0  0  0]\n",
            "[72 76 79 ...  0  0  0]\n",
            "[72 76 79 ...  0  0  0]\n",
            "[72 76 79 ...  0  0  0]\n",
            "[72 76 79 ...  0  0  0]\n",
            "[72 76 79 ...  0  0  0]\n",
            "[72 76 79 ...  0  0  0]\n",
            "[72 76 79 ...  0  0  0]\n",
            "[72 76 79 ...  0  0  0]\n",
            "[72 76 79 ...  0  0  0]\n",
            "[72 76 79 ...  0  0  0]\n",
            "[72 76 79 ...  0  0  0]\n",
            "[72 76 79 ...  0  0  0]\n",
            "[72 76 79 ...  0  0  0]\n",
            "[72 76 79 ...  0  0  0]\n",
            "[72 76 79 ...  0  0  0]\n",
            "[72 76 79 ...  0  0  0]\n",
            "[72 76 79 ...  0  0  0]\n",
            "[72 76 79 ...  0  0  0]\n",
            "[72 76 79 ...  0  0  0]\n",
            "[72 76 79 ...  0  0  0]\n",
            "[72 76 79 ...  0  0  0]\n",
            "[72 76 79 ...  0  0  0]\n",
            "[72 76 79 ...  0  0  0]\n",
            "[72 76 79 ...  0  0  0]\n",
            "[72 76 79 ...  0  0  0]\n",
            "[72 76 79 ...  0  0  0]\n",
            "[72 76 79 ...  0  0  0]\n",
            "[72 76 79 ...  0  0  0]\n",
            "[72 76 79 ...  0  0  0]\n",
            "[72 76 79 ...  0  0  0]\n",
            "[72 76 79 ...  0  0  0]\n",
            "[72 76 79 ...  0  0  0]\n",
            "[72 76 79 ...  0  0  0]\n",
            "[72 76 79 ...  0  0  0]\n",
            "[72 76 79 ...  0  0  0]\n",
            "[72 76 79 ...  0  0  0]\n",
            "[72 76 79 ...  0  0  0]\n",
            "[72 76 79 ...  0  0  0]\n",
            "[72 76 79 ...  0  0  0]\n",
            "[72 76 79 ...  0  0  0]\n",
            "[72 76 79 ...  0  0  0]\n",
            "[72 76 79 ...  0  0  0]\n",
            "[72 76 79 ...  0  0  0]\n",
            "[72 76 79 ...  0  0  0]\n",
            "[72 76 79 ...  0  0  0]\n",
            "[72 76 79 ...  0  0  0]\n",
            "[72 76 79 ...  0  0  0]\n",
            "[72 76 79 ...  0  0  0]\n",
            "[72 76 79 ...  0  0  0]\n",
            "[72 76 79 ...  0  0  0]\n",
            "[72 76 79 ...  0  0  0]\n",
            "[72 76 79 ...  0  0  0]\n",
            "[72 76 79 ...  0  0  0]\n",
            "[72 76 79 ...  0  0  0]\n",
            "[72 76 79 ...  0  0  0]\n",
            "[72 76 79 ...  0  0  0]\n",
            "[72 76 79 ...  0  0  0]\n",
            "[72 76 79 ...  0  0  0]\n",
            "[72 76 79 ...  0  0  0]\n",
            "[72 76 79 ...  0  0  0]\n",
            "[72 76 79 ...  0  0  0]\n",
            "[72 76 79 ...  0  0  0]\n",
            "[72 76 79 ...  0  0  0]\n",
            "[72 76 79 ...  0  0  0]\n",
            "[72 76 79 ...  0  0  0]\n",
            "[72 76 79 ...  0  0  0]\n"
          ]
        },
        {
          "output_type": "execute_result",
          "data": {
            "text/plain": [
              "(502, 8260)"
            ]
          },
          "metadata": {},
          "execution_count": 63
        }
      ],
      "source": [
        "import numpy as np\n",
        "# create empty lists to store the inputs and targets\n",
        "inputs = []\n",
        "targets = []\n",
        "# loop over the subfolders in the tokenized folder\n",
        "for subfolder in os.listdir(new_path):\n",
        "    # get the verdict from the dictionary\n",
        "    if subfolder in verdict_dict:\n",
        "      verdict = verdict_dict[subfolder]\n",
        "      #print(verdict)\n",
        "    else:\n",
        "      continue\n",
        "      #print(\"La clave no existe en el diccionario.\")\n",
        "    # load the two files and pad them with zeros\n",
        "    #print(new_path)\n",
        "    #print(subfolder)\n",
        "    file1 = np.loadtxt(os.path.join(new_path, subfolder, subfolder[:8] + \".tok\"), dtype=int, delimiter=\",\")\n",
        "    pad_width1 = lenght - len(file1)\n",
        "    file1 = np.pad(file1, (0, pad_width1), mode='constant')\n",
        "    file2 = np.loadtxt(os.path.join(new_path, subfolder, subfolder[9:] + \".tok\"), dtype=int, delimiter=\",\")\n",
        "    pad_width2 = lenght - len(file2)\n",
        "    file2 = np.pad(file2, (0, pad_width2), mode='constant')\n",
        "    # stack the arrays horizontally\n",
        "    input = np.concatenate((file1, file2))\n",
        "    print(input)\n",
        "    # append the input and target to the lists\n",
        "    inputs.append(input)\n",
        "    targets.append(verdict)\n",
        "# convert the lists to arrays\n",
        "inputs = np.array(inputs)\n",
        "targets = np.array(targets)\n",
        "\n",
        "inputs.shape"
      ]
    },
    {
      "cell_type": "code",
      "source": [
        "inputs"
      ],
      "metadata": {
        "colab": {
          "base_uri": "https://localhost:8080/"
        },
        "id": "cnSoFT33JXMo",
        "outputId": "69675e9a-d059-4775-e016-98b10f12f022"
      },
      "execution_count": null,
      "outputs": [
        {
          "output_type": "execute_result",
          "data": {
            "text/plain": [
              "array([[144, 152, 158, ...,   0,   0,   0],\n",
              "       [144, 152, 158, ...,   0,   0,   0],\n",
              "       [144, 152, 158, ...,   0,   0,   0],\n",
              "       ...,\n",
              "       [144, 152, 158, ...,   0,   0,   0],\n",
              "       [144, 152, 158, ...,   0,   0,   0],\n",
              "       [144, 152, 158, ...,   0,   0,   0]])"
            ]
          },
          "metadata": {},
          "execution_count": 53
        }
      ]
    },
    {
      "cell_type": "code",
      "source": [
        "# Dividir la columna de program por 305\n",
        "inputs = inputs / 305\n",
        "print(inputs[1])"
      ],
      "metadata": {
        "colab": {
          "base_uri": "https://localhost:8080/"
        },
        "id": "IDOkIfYeTiiw",
        "outputId": "7728a817-6612-4f86-c2da-b9f58c075208"
      },
      "execution_count": null,
      "outputs": [
        {
          "output_type": "stream",
          "name": "stdout",
          "text": [
            "[[0.23606557 0.23606557]\n",
            " [0.24918033 0.24918033]\n",
            " [0.25901639 0.25901639]\n",
            " ...\n",
            " [0.         0.        ]\n",
            " [0.         0.        ]\n",
            " [0.         0.        ]]\n"
          ]
        }
      ]
    },
    {
      "cell_type": "markdown",
      "metadata": {
        "id": "jdGammOitsm3"
      },
      "source": [
        "## Preparación de datos"
      ]
    },
    {
      "cell_type": "code",
      "execution_count": null,
      "metadata": {
        "id": "fSGiixoseC70"
      },
      "outputs": [],
      "source": [
        "from keras.engine import input_spec\n",
        "# Almacenar la columna program en una variable X\n",
        "X = inputs\n",
        "\n",
        "# Almacenar la columna verdict en una variable y\n",
        "y = targets"
      ]
    },
    {
      "cell_type": "code",
      "execution_count": null,
      "metadata": {
        "id": "07rrEljixmNw",
        "colab": {
          "base_uri": "https://localhost:8080/"
        },
        "outputId": "f98080b9-6bc7-49cb-d845-e31498e12744"
      },
      "outputs": [
        {
          "output_type": "execute_result",
          "data": {
            "text/plain": [
              "(401, 8260)"
            ]
          },
          "metadata": {},
          "execution_count": 65
        }
      ],
      "source": [
        "from sklearn.model_selection import train_test_split\n",
        "# split the data into training and testing sets\n",
        "X_train, X_test, y_train, y_test = train_test_split(X, y, test_size=0.2)\n",
        "X_train.shape"
      ]
    },
    {
      "cell_type": "code",
      "source": [
        "y_train.shape"
      ],
      "metadata": {
        "colab": {
          "base_uri": "https://localhost:8080/"
        },
        "id": "LJfKwMAlD0oU",
        "outputId": "5337b87d-4099-4037-f717-8986108d1882"
      },
      "execution_count": null,
      "outputs": [
        {
          "output_type": "execute_result",
          "data": {
            "text/plain": [
              "(401,)"
            ]
          },
          "metadata": {},
          "execution_count": 56
        }
      ]
    },
    {
      "cell_type": "code",
      "source": [
        "X_train"
      ],
      "metadata": {
        "colab": {
          "base_uri": "https://localhost:8080/"
        },
        "id": "F1vvUGFTL3FN",
        "outputId": "758852be-7b05-41f5-f9a7-cb26d3c24c1a"
      },
      "execution_count": null,
      "outputs": [
        {
          "output_type": "execute_result",
          "data": {
            "text/plain": [
              "array([[144, 152, 158, ...,   0,   0,   0],\n",
              "       [144, 152, 158, ...,   0,   0,   0],\n",
              "       [144, 152, 158, ...,   0,   0,   0],\n",
              "       ...,\n",
              "       [144, 152, 158, ...,   0,   0,   0],\n",
              "       [144, 152, 158, ...,   0,   0,   0],\n",
              "       [144, 152, 158, ...,   0,   0,   0]])"
            ]
          },
          "metadata": {},
          "execution_count": 57
        }
      ]
    },
    {
      "cell_type": "markdown",
      "metadata": {
        "id": "PE7isFZ-xfSZ"
      },
      "source": [
        "# Modelo de Capas Densas\n",
        "\n"
      ]
    },
    {
      "cell_type": "code",
      "execution_count": null,
      "metadata": {
        "colab": {
          "base_uri": "https://localhost:8080/"
        },
        "id": "q1imPUSjdozZ",
        "outputId": "c88fec41-b4ce-4420-e17b-77f7809902d0"
      },
      "outputs": [
        {
          "output_type": "stream",
          "name": "stdout",
          "text": [
            "Epoch 1/65\n",
            "13/13 [==============================] - 2s 6ms/step - loss: 61.6640 - acc: 0.5262\n",
            "Epoch 2/65\n",
            "13/13 [==============================] - 0s 6ms/step - loss: 26.0194 - acc: 0.4913\n",
            "Epoch 3/65\n",
            "13/13 [==============================] - 0s 6ms/step - loss: 24.2520 - acc: 0.5112\n",
            "Epoch 4/65\n",
            "13/13 [==============================] - 0s 6ms/step - loss: 13.4156 - acc: 0.5761\n",
            "Epoch 5/65\n",
            "13/13 [==============================] - 0s 6ms/step - loss: 11.6795 - acc: 0.5362\n",
            "Epoch 6/65\n",
            "13/13 [==============================] - 0s 5ms/step - loss: 8.3377 - acc: 0.5910\n",
            "Epoch 7/65\n",
            "13/13 [==============================] - 0s 5ms/step - loss: 5.6547 - acc: 0.5935\n",
            "Epoch 8/65\n",
            "13/13 [==============================] - 0s 5ms/step - loss: 4.4917 - acc: 0.5810\n",
            "Epoch 9/65\n",
            "13/13 [==============================] - 0s 5ms/step - loss: 2.2063 - acc: 0.5810\n",
            "Epoch 10/65\n",
            "13/13 [==============================] - 0s 6ms/step - loss: 1.5712 - acc: 0.5711\n",
            "Epoch 11/65\n",
            "13/13 [==============================] - 0s 5ms/step - loss: 1.2587 - acc: 0.5611\n",
            "Epoch 12/65\n",
            "13/13 [==============================] - 0s 6ms/step - loss: 0.9903 - acc: 0.5736\n",
            "Epoch 13/65\n",
            "13/13 [==============================] - 0s 5ms/step - loss: 0.9249 - acc: 0.5636\n",
            "Epoch 14/65\n",
            "13/13 [==============================] - 0s 6ms/step - loss: 0.7307 - acc: 0.5786\n",
            "Epoch 15/65\n",
            "13/13 [==============================] - 0s 5ms/step - loss: 0.7705 - acc: 0.5736\n",
            "Epoch 16/65\n",
            "13/13 [==============================] - 0s 6ms/step - loss: 0.6899 - acc: 0.5337\n",
            "Epoch 17/65\n",
            "13/13 [==============================] - 0s 6ms/step - loss: 0.7366 - acc: 0.5411\n",
            "Epoch 18/65\n",
            "13/13 [==============================] - 0s 5ms/step - loss: 0.7382 - acc: 0.5486\n",
            "Epoch 19/65\n",
            "13/13 [==============================] - 0s 6ms/step - loss: 0.6359 - acc: 0.6185\n",
            "Epoch 20/65\n",
            "13/13 [==============================] - 0s 6ms/step - loss: 0.6629 - acc: 0.5960\n",
            "Epoch 21/65\n",
            "13/13 [==============================] - 0s 5ms/step - loss: 0.6866 - acc: 0.5935\n",
            "Epoch 22/65\n",
            "13/13 [==============================] - 0s 6ms/step - loss: 0.6382 - acc: 0.6259\n",
            "Epoch 23/65\n",
            "13/13 [==============================] - 0s 6ms/step - loss: 0.6960 - acc: 0.6384\n",
            "Epoch 24/65\n",
            "13/13 [==============================] - 0s 6ms/step - loss: 0.7365 - acc: 0.5786\n",
            "Epoch 25/65\n",
            "13/13 [==============================] - 0s 6ms/step - loss: 0.7113 - acc: 0.6135\n",
            "Epoch 26/65\n",
            "13/13 [==============================] - 0s 6ms/step - loss: 0.7658 - acc: 0.6135\n",
            "Epoch 27/65\n",
            "13/13 [==============================] - 0s 5ms/step - loss: 0.6929 - acc: 0.6359\n",
            "Epoch 28/65\n",
            "13/13 [==============================] - 0s 6ms/step - loss: 0.6731 - acc: 0.6110\n",
            "Epoch 29/65\n",
            "13/13 [==============================] - 0s 5ms/step - loss: 0.6368 - acc: 0.6658\n",
            "Epoch 30/65\n",
            "13/13 [==============================] - 0s 6ms/step - loss: 0.6515 - acc: 0.6085\n",
            "Epoch 31/65\n",
            "13/13 [==============================] - 0s 5ms/step - loss: 0.6573 - acc: 0.6110\n",
            "Epoch 32/65\n",
            "13/13 [==============================] - 0s 5ms/step - loss: 0.6017 - acc: 0.6608\n",
            "Epoch 33/65\n",
            "13/13 [==============================] - 0s 5ms/step - loss: 0.6207 - acc: 0.6484\n",
            "Epoch 34/65\n",
            "13/13 [==============================] - 0s 6ms/step - loss: 0.6407 - acc: 0.6259\n",
            "Epoch 35/65\n",
            "13/13 [==============================] - 0s 6ms/step - loss: 0.6186 - acc: 0.6459\n",
            "Epoch 36/65\n",
            "13/13 [==============================] - 0s 6ms/step - loss: 0.5893 - acc: 0.6908\n",
            "Epoch 37/65\n",
            "13/13 [==============================] - 0s 6ms/step - loss: 0.6179 - acc: 0.6434\n",
            "Epoch 38/65\n",
            "13/13 [==============================] - 0s 5ms/step - loss: 0.6120 - acc: 0.6933\n",
            "Epoch 39/65\n",
            "13/13 [==============================] - 0s 6ms/step - loss: 0.6312 - acc: 0.6808\n",
            "Epoch 40/65\n",
            "13/13 [==============================] - 0s 6ms/step - loss: 0.5938 - acc: 0.6733\n",
            "Epoch 41/65\n",
            "13/13 [==============================] - 0s 5ms/step - loss: 0.6025 - acc: 0.6808\n",
            "Epoch 42/65\n",
            "13/13 [==============================] - 0s 6ms/step - loss: 0.6009 - acc: 0.6858\n",
            "Epoch 43/65\n",
            "13/13 [==============================] - 0s 5ms/step - loss: 0.5954 - acc: 0.6658\n",
            "Epoch 44/65\n",
            "13/13 [==============================] - 0s 5ms/step - loss: 0.5989 - acc: 0.6933\n",
            "Epoch 45/65\n",
            "13/13 [==============================] - 0s 8ms/step - loss: 0.5599 - acc: 0.7007\n",
            "Epoch 46/65\n",
            "13/13 [==============================] - 0s 7ms/step - loss: 0.5596 - acc: 0.6983\n",
            "Epoch 47/65\n",
            "13/13 [==============================] - 0s 7ms/step - loss: 0.5554 - acc: 0.7332\n",
            "Epoch 48/65\n",
            "13/13 [==============================] - 0s 7ms/step - loss: 0.5692 - acc: 0.7382\n",
            "Epoch 49/65\n",
            "13/13 [==============================] - 0s 7ms/step - loss: 0.5335 - acc: 0.7431\n",
            "Epoch 50/65\n",
            "13/13 [==============================] - 0s 7ms/step - loss: 0.5287 - acc: 0.7357\n",
            "Epoch 51/65\n",
            "13/13 [==============================] - 0s 7ms/step - loss: 0.5287 - acc: 0.7506\n",
            "Epoch 52/65\n",
            "13/13 [==============================] - 0s 7ms/step - loss: 0.5417 - acc: 0.7556\n",
            "Epoch 53/65\n",
            "13/13 [==============================] - 0s 7ms/step - loss: 0.5290 - acc: 0.7431\n",
            "Epoch 54/65\n",
            "13/13 [==============================] - 0s 7ms/step - loss: 0.6295 - acc: 0.7456\n",
            "Epoch 55/65\n",
            "13/13 [==============================] - 0s 7ms/step - loss: 0.5495 - acc: 0.7357\n",
            "Epoch 56/65\n",
            "13/13 [==============================] - 0s 7ms/step - loss: 0.5807 - acc: 0.7382\n",
            "Epoch 57/65\n",
            "13/13 [==============================] - 0s 9ms/step - loss: 0.6055 - acc: 0.7182\n",
            "Epoch 58/65\n",
            "13/13 [==============================] - 0s 7ms/step - loss: 0.5394 - acc: 0.7481\n",
            "Epoch 59/65\n",
            "13/13 [==============================] - 0s 7ms/step - loss: 0.6049 - acc: 0.7182\n",
            "Epoch 60/65\n",
            "13/13 [==============================] - 0s 6ms/step - loss: 0.5407 - acc: 0.7556\n",
            "Epoch 61/65\n",
            "13/13 [==============================] - 0s 6ms/step - loss: 0.5383 - acc: 0.7357\n",
            "Epoch 62/65\n",
            "13/13 [==============================] - 0s 6ms/step - loss: 1.1598 - acc: 0.7506\n",
            "Epoch 63/65\n",
            "13/13 [==============================] - 0s 6ms/step - loss: 0.7542 - acc: 0.7531\n",
            "Epoch 64/65\n",
            "13/13 [==============================] - 0s 9ms/step - loss: 0.9198 - acc: 0.7157\n",
            "Epoch 65/65\n",
            "13/13 [==============================] - 0s 6ms/step - loss: 0.5928 - acc: 0.7157\n"
          ]
        }
      ],
      "source": [
        "import tensorflow as tf\n",
        "from tensorflow.keras import optimizers\n",
        "from keras.models import Sequential\n",
        "from keras.layers import LSTM, Dense, Dropout\n",
        "\n",
        "\n",
        "model = Sequential()\n",
        "model.add(Dense(512, input_dim=8260, activation='relu'))\n",
        "model.add(Dropout(0.15))\n",
        "model.add(Dense(256, activation='relu'))\n",
        "model.add(Dense(128, activation='relu'))\n",
        "model.add(Dense(64, activation='relu'))\n",
        "model.add(Dropout(0.15))\n",
        "model.add(Dense(1, activation='sigmoid'))\n",
        "\n",
        "model.compile(optimizer=\"Adam\", loss=\"binary_crossentropy\", metrics=[\"acc\"])\n",
        "\n",
        "history = model.fit(X_train, y_train,\n",
        "                    batch_size=32,\n",
        "                    epochs = 65,\n",
        "                    verbose = 1,\n",
        "                    shuffle = False)"
      ]
    },
    {
      "cell_type": "code",
      "execution_count": null,
      "metadata": {
        "id": "UVoZBPKq2cOB",
        "colab": {
          "base_uri": "https://localhost:8080/",
          "height": 887
        },
        "outputId": "2a8b202b-7962-4665-8e3d-6dcffa3cdbe7"
      },
      "outputs": [
        {
          "output_type": "display_data",
          "data": {
            "text/plain": [
              "<Figure size 640x480 with 1 Axes>"
            ],
            "image/png": "[encoded data removed]"
          },
          "metadata": {}
        },
        {
          "output_type": "display_data",
          "data": {
            "text/plain": [
              "<Figure size 640x480 with 1 Axes>"
            ],
            "image/png": "[encoded data removed]"
          },
          "metadata": {}
        }
      ],
      "source": [
        "import matplotlib.pyplot as plt\n",
        "\n",
        "acc = history.history['acc']\n",
        "loss = history.history['loss']\n",
        "\n",
        "epochs = range(1, len(acc)+1)\n",
        "\n",
        "plt.plot(epochs, acc, 'b*-', label='train accuracy')\n",
        "plt.title('train acc')\n",
        "plt.legend()\n",
        "\n",
        "plt.figure()\n",
        "\n",
        "plt.plot(epochs, loss, 'b*-', label ='training loss')\n",
        "plt.title('train loss')\n",
        "plt.legend()\n",
        "\n",
        "plt.show()"
      ]
    },
    {
      "cell_type": "code",
      "execution_count": null,
      "metadata": {
        "colab": {
          "base_uri": "https://localhost:8080/"
        },
        "id": "uFgBW-onPu4k",
        "outputId": "d7eb5a1d-b7d4-4a14-c2de-c3797f82f21f"
      },
      "outputs": [
        {
          "output_type": "stream",
          "name": "stdout",
          "text": [
            "25/25 [==============================] - 0s 3ms/step - loss: 0.7419 - acc: 0.7200\n",
            "\n",
            "test acc :\n",
            " 0.7200000286102295\n"
          ]
        }
      ],
      "source": [
        "test_loss, test_acc = model.evaluate(X_test, y_test, batch_size=2, steps = 25)\n",
        "print('\\ntest acc :\\n', test_acc)"
      ]
    },
    {
      "cell_type": "markdown",
      "source": [
        "## Matriz de confusión"
      ],
      "metadata": {
        "id": "r2k_9omZ_9aH"
      }
    },
    {
      "cell_type": "code",
      "source": [
        "predictions = model.predict(X_test)\n",
        "classes_x = predictions.T\n",
        "classes_x = np.rint(classes_x)\n",
        "classes_x"
      ],
      "metadata": {
        "colab": {
          "base_uri": "https://localhost:8080/"
        },
        "id": "0vG3i0BzApDl",
        "outputId": "6caa42ae-5769-4088-e0c6-40744c89f512"
      },
      "execution_count": null,
      "outputs": [
        {
          "output_type": "stream",
          "name": "stdout",
          "text": [
            "4/4 [==============================] - 0s 3ms/step\n"
          ]
        },
        {
          "output_type": "execute_result",
          "data": {
            "text/plain": [
              "array([[0., 0., 1., 0., 0., 1., 0., 0., 0., 1., 0., 0., 0., 0., 0., 0.,\n",
              "        0., 0., 0., 1., 0., 1., 1., 0., 1., 1., 1., 0., 0., 0., 1., 1.,\n",
              "        1., 1., 0., 0., 0., 1., 1., 1., 0., 0., 0., 1., 0., 0., 0., 0.,\n",
              "        0., 0., 1., 0., 0., 0., 0., 1., 0., 0., 0., 0., 1., 1., 0., 0.,\n",
              "        0., 1., 0., 1., 1., 0., 1., 1., 1., 1., 1., 0., 1., 0., 0., 0.,\n",
              "        1., 1., 1., 1., 0., 0., 0., 0., 1., 0., 1., 1., 1., 1., 0., 1.,\n",
              "        1., 1., 0., 0., 1.]], dtype=float32)"
            ]
          },
          "metadata": {},
          "execution_count": 226
        }
      ]
    },
    {
      "cell_type": "code",
      "source": [
        "import seaborn as sns\n",
        "from sklearn import datasets\n",
        "from sklearn.linear_model import LogisticRegression\n",
        "from sklearn.model_selection import train_test_split\n",
        "from sklearn.metrics import confusion_matrix\n",
        "import pandas as pd\n",
        "\n",
        "mat = confusion_matrix(classes_x[0], y_test)\n",
        "\n",
        "df = pd.DataFrame(mat, index=['Pred Original', 'Pred Plagio'], columns=['Label Original', 'Label Plagio'])\n",
        "\n",
        "sns.heatmap(df, annot=True, cbar=None, cmap=\"Blues\")\n",
        "plt.title(\"Matriz de confusión\"), plt.tight_layout()\n",
        "plt.show()"
      ],
      "metadata": {
        "colab": {
          "base_uri": "https://localhost:8080/",
          "height": 487
        },
        "id": "2hJuQQkb__s0",
        "outputId": "cec0cc36-0176-435e-f745-dddc4bf3aca9"
      },
      "execution_count": null,
      "outputs": [
        {
          "output_type": "display_data",
          "data": {
            "text/plain": [
              "<Figure size 640x480 with 1 Axes>"
            ],
            "image/png": "[encoded data removed]"
          },
          "metadata": {}
        }
      ]
    }
  ],
  "metadata": {
    "colab": {
      "provenance": [],
      "gpuType": "T4"
    },
    "kernelspec": {
      "display_name": "Python 3",
      "name": "python3"
    },
    "language_info": {
      "name": "python"
    },
    "accelerator": "GPU"
  },
  "nbformat": 4,
  "nbformat_minor": 0
}