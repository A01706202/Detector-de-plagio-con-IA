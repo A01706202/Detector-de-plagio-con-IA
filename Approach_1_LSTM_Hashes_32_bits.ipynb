{
  "cells": [
    {
      "cell_type": "markdown",
      "metadata": {
        "id": "GA6YPW4PV5y6"
      },
      "source": [
        "# Detector de plagio\n",
        "### (Intento con Hashes de 32 bits)\n",
        "\n",
        "En este trabajo se busca realizar un detector de plagio de código utilizando técnicas del Deep Learning\n",
        "\n",
        "\n",
        "**Autores:**\n",
        "\n",
        "*   Michelle Aylin Calzada Montes\n",
        "*   Manolo Ramírez Pintor\n",
        "*   Eduardo Rodríguez Gill"
      ]
    },
    {
      "cell_type": "markdown",
      "metadata": {
        "id": "xkmgLWIkToyd"
      },
      "source": [
        "### Cada vez que se quiera trabajar, se tiene que correr esta celda para tener acceso a los archivos"
      ]
    },
    {
      "cell_type": "code",
      "execution_count": null,
      "metadata": {
        "colab": {
          "base_uri": "https://localhost:8080/"
        },
        "id": "m5r2DWf7SUB2",
        "outputId": "476d68f9-dff5-4282-b210-d3c39737967e"
      },
      "outputs": [
        {
          "name": "stdout",
          "output_type": "stream",
          "text": [
            "Mounted at /content/drive\n",
            "/content/drive/Shareddrives/AI/Reto\n",
            "Plagios_IA.zip\tReto.ipynb  version_2_tokenized.zip\n"
          ]
        }
      ],
      "source": [
        "# Accesar a Google Drive\n",
        "from google.colab import drive\n",
        "drive.mount('/content/drive')\n",
        "\n",
        "# Ir al directorio de los archivos\n",
        "%cd \"/content/drive/Shareddrives/AI/Reto\"\n",
        "!ls"
      ]
    },
    {
      "cell_type": "code",
      "execution_count": null,
      "metadata": {
        "id": "3xfa-NIQ_hAa"
      },
      "outputs": [],
      "source": [
        "# Eliminar todo por si queremos reiniciar\n",
        "!rm -rf \"/content/Plagios IA\"\n",
        "\n",
        "# Copiar zip de las carpetas al almacenamiento de colab\n",
        "!cp -r /content/drive/Shareddrives/AI/Reto/Plagios_IA.zip /content\n",
        "\n",
        "# Nuevo - Copiar zip del codigo tokenizado al almacenamiento de colab\n",
        "!cp -r /content/drive/Shareddrives/AI/Reto/version_2_tokenized.zip /content"
      ]
    },
    {
      "cell_type": "code",
      "execution_count": null,
      "metadata": {
        "id": "NTJvSNyuVomu"
      },
      "outputs": [],
      "source": [
        "# Extraer zip de Plagios IA\n",
        "%%capture\n",
        "%cd /content\n",
        "!unzip Plagios_IA.zip\n",
        "!unzip version_2_tokenized.zip"
      ]
    },
    {
      "cell_type": "code",
      "execution_count": null,
      "metadata": {
        "id": "5uoxIlKYVbtP"
      },
      "outputs": [],
      "source": [
        "# Eliminar archivos distractores\n",
        "!rm -rf sample_data\n",
        "!rm Plagios_IA.zip"
      ]
    },
    {
      "cell_type": "code",
      "execution_count": null,
      "metadata": {
        "id": "ZpRC4w1sci3m"
      },
      "outputs": [],
      "source": [
        "# Instalar code_tokenize\n",
        "%%capture\n",
        "!pip install code-tokenize"
      ]
    },
    {
      "cell_type": "markdown",
      "metadata": {
        "id": "XNFBj05eavwH"
      },
      "source": [
        "# **Ya no correr las siguientes celdas**\n",
        "## Revisando la info que contiene conplag en sus tablas\n",
        "\n"
      ]
    },
    {
      "cell_type": "code",
      "execution_count": null,
      "metadata": {
        "id": "gfbZisWR1-Oi"
      },
      "outputs": [],
      "source": [
        "# Ver info de conplag\n",
        "import pandas as pd\n",
        "df_conplag_labels = pd.read_csv(\"./Plagios IA/conplag/versions/labels.csv\")\n",
        "df_conplag_test = pd.read_csv(\"./Plagios IA/conplag/versions/test_pairs.csv\")\n",
        "df_conplag_train = pd.read_csv(\"./Plagios IA/conplag/versions/train_pairs.csv\")"
      ]
    },
    {
      "cell_type": "code",
      "execution_count": null,
      "metadata": {
        "colab": {
          "base_uri": "https://localhost:8080/",
          "height": 363
        },
        "id": "Tf15QUuy3TR3",
        "outputId": "6ac82660-466d-4126-f747-2ecba37337d0"
      },
      "outputs": [
        {
          "data": {
            "text/html": [
              "\n",
              "  <div id=\"df-b46a0be2-6428-4342-8552-d45fa8350dd5\">\n",
              "    <div class=\"colab-df-container\">\n",
              "      <div>\n",
              "<style scoped>\n",
              "    .dataframe tbody tr th:only-of-type {\n",
              "        vertical-align: middle;\n",
              "    }\n",
              "\n",
              "    .dataframe tbody tr th {\n",
              "        vertical-align: top;\n",
              "    }\n",
              "\n",
              "    .dataframe thead th {\n",
              "        text-align: right;\n",
              "    }\n",
              "</style>\n",
              "<table border=\"1\" class=\"dataframe\">\n",
              "  <thead>\n",
              "    <tr style=\"text-align: right;\">\n",
              "      <th></th>\n",
              "      <th>sub1</th>\n",
              "      <th>sub2</th>\n",
              "      <th>problem</th>\n",
              "      <th>verdict</th>\n",
              "    </tr>\n",
              "  </thead>\n",
              "  <tbody>\n",
              "    <tr>\n",
              "      <th>0</th>\n",
              "      <td>0fd5b95a</td>\n",
              "      <td>6490bbe8</td>\n",
              "      <td>19</td>\n",
              "      <td>0</td>\n",
              "    </tr>\n",
              "    <tr>\n",
              "      <th>1</th>\n",
              "      <td>464a03b8</td>\n",
              "      <td>ff1fc018</td>\n",
              "      <td>20</td>\n",
              "      <td>0</td>\n",
              "    </tr>\n",
              "    <tr>\n",
              "      <th>2</th>\n",
              "      <td>3e6def38</td>\n",
              "      <td>548ffb07</td>\n",
              "      <td>14</td>\n",
              "      <td>1</td>\n",
              "    </tr>\n",
              "    <tr>\n",
              "      <th>3</th>\n",
              "      <td>0b91922c</td>\n",
              "      <td>71a4f6d2</td>\n",
              "      <td>6</td>\n",
              "      <td>0</td>\n",
              "    </tr>\n",
              "    <tr>\n",
              "      <th>4</th>\n",
              "      <td>9291ca83</td>\n",
              "      <td>d6fb3b9e</td>\n",
              "      <td>15</td>\n",
              "      <td>0</td>\n",
              "    </tr>\n",
              "    <tr>\n",
              "      <th>5</th>\n",
              "      <td>213340b3</td>\n",
              "      <td>35f0c004</td>\n",
              "      <td>4</td>\n",
              "      <td>0</td>\n",
              "    </tr>\n",
              "    <tr>\n",
              "      <th>6</th>\n",
              "      <td>7bc92b7f</td>\n",
              "      <td>9028caf7</td>\n",
              "      <td>19</td>\n",
              "      <td>0</td>\n",
              "    </tr>\n",
              "    <tr>\n",
              "      <th>7</th>\n",
              "      <td>6f393cfe</td>\n",
              "      <td>b185d034</td>\n",
              "      <td>15</td>\n",
              "      <td>0</td>\n",
              "    </tr>\n",
              "    <tr>\n",
              "      <th>8</th>\n",
              "      <td>1dab88fb</td>\n",
              "      <td>bac616ee</td>\n",
              "      <td>3</td>\n",
              "      <td>0</td>\n",
              "    </tr>\n",
              "    <tr>\n",
              "      <th>9</th>\n",
              "      <td>115c99cb</td>\n",
              "      <td>921b6e4a</td>\n",
              "      <td>14</td>\n",
              "      <td>1</td>\n",
              "    </tr>\n",
              "  </tbody>\n",
              "</table>\n",
              "</div>\n",
              "      <button class=\"colab-df-convert\" onclick=\"convertToInteractive('df-b46a0be2-6428-4342-8552-d45fa8350dd5')\"\n",
              "              title=\"Convert this dataframe to an interactive table.\"\n",
              "              style=\"display:none;\">\n",
              "        \n",
              "  <svg xmlns=\"http://www.w3.org/2000/svg\" height=\"24px\"viewBox=\"0 0 24 24\"\n",
              "       width=\"24px\">\n",
              "    <path d=\"M0 0h24v24H0V0z\" fill=\"none\"/>\n",
              "    <path d=\"M18.56 5.44l.94 2.06.94-2.06 2.06-.94-2.06-.94-.94-2.06-.94 2.06-2.06.94zm-11 1L8.5 8.5l.94-2.06 2.06-.94-2.06-.94L8.5 2.5l-.94 2.06-2.06.94zm10 10l.94 2.06.94-2.06 2.06-.94-2.06-.94-.94-2.06-.94 2.06-2.06.94z\"/><path d=\"M17.41 7.96l-1.37-1.37c-.4-.4-.92-.59-1.43-.59-.52 0-1.04.2-1.43.59L10.3 9.45l-7.72 7.72c-.78.78-.78 2.05 0 2.83L4 21.41c.39.39.9.59 1.41.59.51 0 1.02-.2 1.41-.59l7.78-7.78 2.81-2.81c.8-.78.8-2.07 0-2.86zM5.41 20L4 18.59l7.72-7.72 1.47 1.35L5.41 20z\"/>\n",
              "  </svg>\n",
              "      </button>\n",
              "      \n",
              "  <style>\n",
              "    .colab-df-container {\n",
              "      display:flex;\n",
              "      flex-wrap:wrap;\n",
              "      gap: 12px;\n",
              "    }\n",
              "\n",
              "    .colab-df-convert {\n",
              "      background-color: #E8F0FE;\n",
              "      border: none;\n",
              "      border-radius: 50%;\n",
              "      cursor: pointer;\n",
              "      display: none;\n",
              "      fill: #1967D2;\n",
              "      height: 32px;\n",
              "      padding: 0 0 0 0;\n",
              "      width: 32px;\n",
              "    }\n",
              "\n",
              "    .colab-df-convert:hover {\n",
              "      background-color: #E2EBFA;\n",
              "      box-shadow: 0px 1px 2px rgba(60, 64, 67, 0.3), 0px 1px 3px 1px rgba(60, 64, 67, 0.15);\n",
              "      fill: #174EA6;\n",
              "    }\n",
              "\n",
              "    [theme=dark] .colab-df-convert {\n",
              "      background-color: #3B4455;\n",
              "      fill: #D2E3FC;\n",
              "    }\n",
              "\n",
              "    [theme=dark] .colab-df-convert:hover {\n",
              "      background-color: #434B5C;\n",
              "      box-shadow: 0px 1px 3px 1px rgba(0, 0, 0, 0.15);\n",
              "      filter: drop-shadow(0px 1px 2px rgba(0, 0, 0, 0.3));\n",
              "      fill: #FFFFFF;\n",
              "    }\n",
              "  </style>\n",
              "\n",
              "      <script>\n",
              "        const buttonEl =\n",
              "          document.querySelector('#df-b46a0be2-6428-4342-8552-d45fa8350dd5 button.colab-df-convert');\n",
              "        buttonEl.style.display =\n",
              "          google.colab.kernel.accessAllowed ? 'block' : 'none';\n",
              "\n",
              "        async function convertToInteractive(key) {\n",
              "          const element = document.querySelector('#df-b46a0be2-6428-4342-8552-d45fa8350dd5');\n",
              "          const dataTable =\n",
              "            await google.colab.kernel.invokeFunction('convertToInteractive',\n",
              "                                                     [key], {});\n",
              "          if (!dataTable) return;\n",
              "\n",
              "          const docLinkHtml = 'Like what you see? Visit the ' +\n",
              "            '<a target=\"_blank\" href=https://colab.research.google.com/notebooks/data_table.ipynb>data table notebook</a>'\n",
              "            + ' to learn more about interactive tables.';\n",
              "          element.innerHTML = '';\n",
              "          dataTable['output_type'] = 'display_data';\n",
              "          await google.colab.output.renderOutput(dataTable, element);\n",
              "          const docLink = document.createElement('div');\n",
              "          docLink.innerHTML = docLinkHtml;\n",
              "          element.appendChild(docLink);\n",
              "        }\n",
              "      </script>\n",
              "    </div>\n",
              "  </div>\n",
              "  "
            ],
            "text/plain": [
              "       sub1      sub2  problem  verdict\n",
              "0  0fd5b95a  6490bbe8       19        0\n",
              "1  464a03b8  ff1fc018       20        0\n",
              "2  3e6def38  548ffb07       14        1\n",
              "3  0b91922c  71a4f6d2        6        0\n",
              "4  9291ca83  d6fb3b9e       15        0\n",
              "5  213340b3  35f0c004        4        0\n",
              "6  7bc92b7f  9028caf7       19        0\n",
              "7  6f393cfe  b185d034       15        0\n",
              "8  1dab88fb  bac616ee        3        0\n",
              "9  115c99cb  921b6e4a       14        1"
            ]
          },
          "execution_count": 20,
          "metadata": {},
          "output_type": "execute_result"
        }
      ],
      "source": [
        "# Head de labels conplag\n",
        "df_conplag_labels.head(10)"
      ]
    },
    {
      "cell_type": "code",
      "execution_count": null,
      "metadata": {
        "colab": {
          "base_uri": "https://localhost:8080/",
          "height": 363
        },
        "id": "TQ8dhreB292b",
        "outputId": "d40410e8-1dbc-4270-81cd-a365f6f9208c"
      },
      "outputs": [
        {
          "data": {
            "text/html": [
              "\n",
              "  <div id=\"df-5dacbac2-0cd9-47d2-851a-8a1222d1da42\">\n",
              "    <div class=\"colab-df-container\">\n",
              "      <div>\n",
              "<style scoped>\n",
              "    .dataframe tbody tr th:only-of-type {\n",
              "        vertical-align: middle;\n",
              "    }\n",
              "\n",
              "    .dataframe tbody tr th {\n",
              "        vertical-align: top;\n",
              "    }\n",
              "\n",
              "    .dataframe thead th {\n",
              "        text-align: right;\n",
              "    }\n",
              "</style>\n",
              "<table border=\"1\" class=\"dataframe\">\n",
              "  <thead>\n",
              "    <tr style=\"text-align: right;\">\n",
              "      <th></th>\n",
              "      <th>464a03b8_ff1fc018</th>\n",
              "    </tr>\n",
              "  </thead>\n",
              "  <tbody>\n",
              "    <tr>\n",
              "      <th>0</th>\n",
              "      <td>3e6def38_548ffb07</td>\n",
              "    </tr>\n",
              "    <tr>\n",
              "      <th>1</th>\n",
              "      <td>213340b3_35f0c004</td>\n",
              "    </tr>\n",
              "    <tr>\n",
              "      <th>2</th>\n",
              "      <td>7bc92b7f_9028caf7</td>\n",
              "    </tr>\n",
              "    <tr>\n",
              "      <th>3</th>\n",
              "      <td>6f393cfe_b185d034</td>\n",
              "    </tr>\n",
              "    <tr>\n",
              "      <th>4</th>\n",
              "      <td>1dab88fb_bac616ee</td>\n",
              "    </tr>\n",
              "    <tr>\n",
              "      <th>5</th>\n",
              "      <td>115c99cb_921b6e4a</td>\n",
              "    </tr>\n",
              "    <tr>\n",
              "      <th>6</th>\n",
              "      <td>5be7547e_cb032314</td>\n",
              "    </tr>\n",
              "    <tr>\n",
              "      <th>7</th>\n",
              "      <td>4e9c4bf9_7011024d</td>\n",
              "    </tr>\n",
              "    <tr>\n",
              "      <th>8</th>\n",
              "      <td>680ba922_6e207cbf</td>\n",
              "    </tr>\n",
              "    <tr>\n",
              "      <th>9</th>\n",
              "      <td>14b0fb8e_8ddb5587</td>\n",
              "    </tr>\n",
              "  </tbody>\n",
              "</table>\n",
              "</div>\n",
              "      <button class=\"colab-df-convert\" onclick=\"convertToInteractive('df-5dacbac2-0cd9-47d2-851a-8a1222d1da42')\"\n",
              "              title=\"Convert this dataframe to an interactive table.\"\n",
              "              style=\"display:none;\">\n",
              "        \n",
              "  <svg xmlns=\"http://www.w3.org/2000/svg\" height=\"24px\"viewBox=\"0 0 24 24\"\n",
              "       width=\"24px\">\n",
              "    <path d=\"M0 0h24v24H0V0z\" fill=\"none\"/>\n",
              "    <path d=\"M18.56 5.44l.94 2.06.94-2.06 2.06-.94-2.06-.94-.94-2.06-.94 2.06-2.06.94zm-11 1L8.5 8.5l.94-2.06 2.06-.94-2.06-.94L8.5 2.5l-.94 2.06-2.06.94zm10 10l.94 2.06.94-2.06 2.06-.94-2.06-.94-.94-2.06-.94 2.06-2.06.94z\"/><path d=\"M17.41 7.96l-1.37-1.37c-.4-.4-.92-.59-1.43-.59-.52 0-1.04.2-1.43.59L10.3 9.45l-7.72 7.72c-.78.78-.78 2.05 0 2.83L4 21.41c.39.39.9.59 1.41.59.51 0 1.02-.2 1.41-.59l7.78-7.78 2.81-2.81c.8-.78.8-2.07 0-2.86zM5.41 20L4 18.59l7.72-7.72 1.47 1.35L5.41 20z\"/>\n",
              "  </svg>\n",
              "      </button>\n",
              "      \n",
              "  <style>\n",
              "    .colab-df-container {\n",
              "      display:flex;\n",
              "      flex-wrap:wrap;\n",
              "      gap: 12px;\n",
              "    }\n",
              "\n",
              "    .colab-df-convert {\n",
              "      background-color: #E8F0FE;\n",
              "      border: none;\n",
              "      border-radius: 50%;\n",
              "      cursor: pointer;\n",
              "      display: none;\n",
              "      fill: #1967D2;\n",
              "      height: 32px;\n",
              "      padding: 0 0 0 0;\n",
              "      width: 32px;\n",
              "    }\n",
              "\n",
              "    .colab-df-convert:hover {\n",
              "      background-color: #E2EBFA;\n",
              "      box-shadow: 0px 1px 2px rgba(60, 64, 67, 0.3), 0px 1px 3px 1px rgba(60, 64, 67, 0.15);\n",
              "      fill: #174EA6;\n",
              "    }\n",
              "\n",
              "    [theme=dark] .colab-df-convert {\n",
              "      background-color: #3B4455;\n",
              "      fill: #D2E3FC;\n",
              "    }\n",
              "\n",
              "    [theme=dark] .colab-df-convert:hover {\n",
              "      background-color: #434B5C;\n",
              "      box-shadow: 0px 1px 3px 1px rgba(0, 0, 0, 0.15);\n",
              "      filter: drop-shadow(0px 1px 2px rgba(0, 0, 0, 0.3));\n",
              "      fill: #FFFFFF;\n",
              "    }\n",
              "  </style>\n",
              "\n",
              "      <script>\n",
              "        const buttonEl =\n",
              "          document.querySelector('#df-5dacbac2-0cd9-47d2-851a-8a1222d1da42 button.colab-df-convert');\n",
              "        buttonEl.style.display =\n",
              "          google.colab.kernel.accessAllowed ? 'block' : 'none';\n",
              "\n",
              "        async function convertToInteractive(key) {\n",
              "          const element = document.querySelector('#df-5dacbac2-0cd9-47d2-851a-8a1222d1da42');\n",
              "          const dataTable =\n",
              "            await google.colab.kernel.invokeFunction('convertToInteractive',\n",
              "                                                     [key], {});\n",
              "          if (!dataTable) return;\n",
              "\n",
              "          const docLinkHtml = 'Like what you see? Visit the ' +\n",
              "            '<a target=\"_blank\" href=https://colab.research.google.com/notebooks/data_table.ipynb>data table notebook</a>'\n",
              "            + ' to learn more about interactive tables.';\n",
              "          element.innerHTML = '';\n",
              "          dataTable['output_type'] = 'display_data';\n",
              "          await google.colab.output.renderOutput(dataTable, element);\n",
              "          const docLink = document.createElement('div');\n",
              "          docLink.innerHTML = docLinkHtml;\n",
              "          element.appendChild(docLink);\n",
              "        }\n",
              "      </script>\n",
              "    </div>\n",
              "  </div>\n",
              "  "
            ],
            "text/plain": [
              "   464a03b8_ff1fc018\n",
              "0  3e6def38_548ffb07\n",
              "1  213340b3_35f0c004\n",
              "2  7bc92b7f_9028caf7\n",
              "3  6f393cfe_b185d034\n",
              "4  1dab88fb_bac616ee\n",
              "5  115c99cb_921b6e4a\n",
              "6  5be7547e_cb032314\n",
              "7  4e9c4bf9_7011024d\n",
              "8  680ba922_6e207cbf\n",
              "9  14b0fb8e_8ddb5587"
            ]
          },
          "execution_count": 18,
          "metadata": {},
          "output_type": "execute_result"
        }
      ],
      "source": [
        "# Head de test conplag\n",
        "df_conplag_test.head(10)"
      ]
    },
    {
      "cell_type": "code",
      "execution_count": null,
      "metadata": {
        "colab": {
          "base_uri": "https://localhost:8080/",
          "height": 363
        },
        "id": "0NV4NWfc2_XR",
        "outputId": "4c8e07f8-86e7-4fd1-cd4a-0c98efb94d9a"
      },
      "outputs": [
        {
          "data": {
            "text/html": [
              "\n",
              "  <div id=\"df-c4c27f2e-a71b-408d-913b-1627a397e911\">\n",
              "    <div class=\"colab-df-container\">\n",
              "      <div>\n",
              "<style scoped>\n",
              "    .dataframe tbody tr th:only-of-type {\n",
              "        vertical-align: middle;\n",
              "    }\n",
              "\n",
              "    .dataframe tbody tr th {\n",
              "        vertical-align: top;\n",
              "    }\n",
              "\n",
              "    .dataframe thead th {\n",
              "        text-align: right;\n",
              "    }\n",
              "</style>\n",
              "<table border=\"1\" class=\"dataframe\">\n",
              "  <thead>\n",
              "    <tr style=\"text-align: right;\">\n",
              "      <th></th>\n",
              "      <th>2470b521_f6ca6fc8</th>\n",
              "    </tr>\n",
              "  </thead>\n",
              "  <tbody>\n",
              "    <tr>\n",
              "      <th>0</th>\n",
              "      <td>a8e2cefc_ee270b2a</td>\n",
              "    </tr>\n",
              "    <tr>\n",
              "      <th>1</th>\n",
              "      <td>90f01508_e00b1794</td>\n",
              "    </tr>\n",
              "    <tr>\n",
              "      <th>2</th>\n",
              "      <td>16857116_f3d7ce08</td>\n",
              "    </tr>\n",
              "    <tr>\n",
              "      <th>3</th>\n",
              "      <td>51151974_c23278ec</td>\n",
              "    </tr>\n",
              "    <tr>\n",
              "      <th>4</th>\n",
              "      <td>00f79486_ce0b2178</td>\n",
              "    </tr>\n",
              "    <tr>\n",
              "      <th>5</th>\n",
              "      <td>976fe834_da54dec3</td>\n",
              "    </tr>\n",
              "    <tr>\n",
              "      <th>6</th>\n",
              "      <td>8d6f1bf5_e90a198b</td>\n",
              "    </tr>\n",
              "    <tr>\n",
              "      <th>7</th>\n",
              "      <td>9291ca83_d61f51c5</td>\n",
              "    </tr>\n",
              "    <tr>\n",
              "      <th>8</th>\n",
              "      <td>1386da0e_f87eb1b3</td>\n",
              "    </tr>\n",
              "    <tr>\n",
              "      <th>9</th>\n",
              "      <td>0fd5b95a_6490bbe8</td>\n",
              "    </tr>\n",
              "  </tbody>\n",
              "</table>\n",
              "</div>\n",
              "      <button class=\"colab-df-convert\" onclick=\"convertToInteractive('df-c4c27f2e-a71b-408d-913b-1627a397e911')\"\n",
              "              title=\"Convert this dataframe to an interactive table.\"\n",
              "              style=\"display:none;\">\n",
              "        \n",
              "  <svg xmlns=\"http://www.w3.org/2000/svg\" height=\"24px\"viewBox=\"0 0 24 24\"\n",
              "       width=\"24px\">\n",
              "    <path d=\"M0 0h24v24H0V0z\" fill=\"none\"/>\n",
              "    <path d=\"M18.56 5.44l.94 2.06.94-2.06 2.06-.94-2.06-.94-.94-2.06-.94 2.06-2.06.94zm-11 1L8.5 8.5l.94-2.06 2.06-.94-2.06-.94L8.5 2.5l-.94 2.06-2.06.94zm10 10l.94 2.06.94-2.06 2.06-.94-2.06-.94-.94-2.06-.94 2.06-2.06.94z\"/><path d=\"M17.41 7.96l-1.37-1.37c-.4-.4-.92-.59-1.43-.59-.52 0-1.04.2-1.43.59L10.3 9.45l-7.72 7.72c-.78.78-.78 2.05 0 2.83L4 21.41c.39.39.9.59 1.41.59.51 0 1.02-.2 1.41-.59l7.78-7.78 2.81-2.81c.8-.78.8-2.07 0-2.86zM5.41 20L4 18.59l7.72-7.72 1.47 1.35L5.41 20z\"/>\n",
              "  </svg>\n",
              "      </button>\n",
              "      \n",
              "  <style>\n",
              "    .colab-df-container {\n",
              "      display:flex;\n",
              "      flex-wrap:wrap;\n",
              "      gap: 12px;\n",
              "    }\n",
              "\n",
              "    .colab-df-convert {\n",
              "      background-color: #E8F0FE;\n",
              "      border: none;\n",
              "      border-radius: 50%;\n",
              "      cursor: pointer;\n",
              "      display: none;\n",
              "      fill: #1967D2;\n",
              "      height: 32px;\n",
              "      padding: 0 0 0 0;\n",
              "      width: 32px;\n",
              "    }\n",
              "\n",
              "    .colab-df-convert:hover {\n",
              "      background-color: #E2EBFA;\n",
              "      box-shadow: 0px 1px 2px rgba(60, 64, 67, 0.3), 0px 1px 3px 1px rgba(60, 64, 67, 0.15);\n",
              "      fill: #174EA6;\n",
              "    }\n",
              "\n",
              "    [theme=dark] .colab-df-convert {\n",
              "      background-color: #3B4455;\n",
              "      fill: #D2E3FC;\n",
              "    }\n",
              "\n",
              "    [theme=dark] .colab-df-convert:hover {\n",
              "      background-color: #434B5C;\n",
              "      box-shadow: 0px 1px 3px 1px rgba(0, 0, 0, 0.15);\n",
              "      filter: drop-shadow(0px 1px 2px rgba(0, 0, 0, 0.3));\n",
              "      fill: #FFFFFF;\n",
              "    }\n",
              "  </style>\n",
              "\n",
              "      <script>\n",
              "        const buttonEl =\n",
              "          document.querySelector('#df-c4c27f2e-a71b-408d-913b-1627a397e911 button.colab-df-convert');\n",
              "        buttonEl.style.display =\n",
              "          google.colab.kernel.accessAllowed ? 'block' : 'none';\n",
              "\n",
              "        async function convertToInteractive(key) {\n",
              "          const element = document.querySelector('#df-c4c27f2e-a71b-408d-913b-1627a397e911');\n",
              "          const dataTable =\n",
              "            await google.colab.kernel.invokeFunction('convertToInteractive',\n",
              "                                                     [key], {});\n",
              "          if (!dataTable) return;\n",
              "\n",
              "          const docLinkHtml = 'Like what you see? Visit the ' +\n",
              "            '<a target=\"_blank\" href=https://colab.research.google.com/notebooks/data_table.ipynb>data table notebook</a>'\n",
              "            + ' to learn more about interactive tables.';\n",
              "          element.innerHTML = '';\n",
              "          dataTable['output_type'] = 'display_data';\n",
              "          await google.colab.output.renderOutput(dataTable, element);\n",
              "          const docLink = document.createElement('div');\n",
              "          docLink.innerHTML = docLinkHtml;\n",
              "          element.appendChild(docLink);\n",
              "        }\n",
              "      </script>\n",
              "    </div>\n",
              "  </div>\n",
              "  "
            ],
            "text/plain": [
              "   2470b521_f6ca6fc8\n",
              "0  a8e2cefc_ee270b2a\n",
              "1  90f01508_e00b1794\n",
              "2  16857116_f3d7ce08\n",
              "3  51151974_c23278ec\n",
              "4  00f79486_ce0b2178\n",
              "5  976fe834_da54dec3\n",
              "6  8d6f1bf5_e90a198b\n",
              "7  9291ca83_d61f51c5\n",
              "8  1386da0e_f87eb1b3\n",
              "9  0fd5b95a_6490bbe8"
            ]
          },
          "execution_count": 19,
          "metadata": {},
          "output_type": "execute_result"
        }
      ],
      "source": [
        "# Head de train conplag\n",
        "df_conplag_train.head(10)"
      ]
    },
    {
      "cell_type": "code",
      "execution_count": null,
      "metadata": {
        "id": "yE8A7TjP8VqC"
      },
      "outputs": [],
      "source": [
        "# Quitar archivos si no lo hicimos bien\n",
        "!rm -rf \"Plagios IA/conplag/versions/version_2_tokenized\""
      ]
    },
    {
      "cell_type": "markdown",
      "metadata": {
        "id": "ilScD3s7l8wx"
      },
      "source": [
        "## Este bloque de código toma todos los archivos de conplag y los tokeniza\n",
        "* Los tokens se convierten a valores numéricos únicos con una función hash de 32 bits"
      ]
    },
    {
      "cell_type": "code",
      "execution_count": null,
      "metadata": {
        "id": "CsMK3ujR3wAi"
      },
      "outputs": [],
      "source": [
        "# Tokenización de código:\n",
        "import code_tokenize as ctok\n",
        "import os\n",
        "import hashlib\n",
        "import time # import the time module\n",
        "\n",
        "# Función hash\n",
        "def hash_string(string):\n",
        "    return zlib.adler32(string.encode('utf-8'))\n",
        "\n",
        "# Asegura que el resultado del hash sea el mismo sin importar\n",
        "# la máquina, el hardware, o la versión de Python en uso.\n",
        "os.environ['PYTHONHASHSEED'] = '0' \n",
        "\n",
        "path = \"./Plagios IA/conplag/versions/version_2\"\n",
        "new_path = \"./Plagios IA/conplag/versions/version_2_tokenized\"\n",
        "folders = [x[0] for x in os.walk(path)]\n",
        "\n",
        "for folder in folders:\n",
        "    files = os.listdir(folder)\n",
        "    new_folder = folder.replace(path, new_path) # replace the original path with the new one\n",
        "    if not os.path.exists(new_folder): # check if the folder exists\n",
        "        os.mkdir(new_folder) # create the folder only if it doesn't exist\n",
        "        for file in files:\n",
        "            time.sleep(1) # wait for one second\n",
        "            file_path = os.path.join(folder, file)\n",
        "            if os.path.isdir(file_path): # check if the file is actually a subfolder\n",
        "                subfiles = os.listdir(file_path) # get the files in the subfolder\n",
        "                new_subfolder = os.path.join(new_folder, file) # create a new subfolder with the same name\n",
        "                os.mkdir(new_subfolder)\n",
        "                for subfile in subfiles: # loop over the files in the subfolder\n",
        "                    subfile_path = os.path.join(file_path, subfile)\n",
        "                    with open(subfile_path, \"r\") as f:\n",
        "                        content = f.read()\n",
        "                    tokens = ctok.tokenize(content, lang=\"java\")\n",
        "                    tokens = [str(hash_string(str(i))) for i in tokens]\n",
        "                    new_subfile_path = os.path.join(new_subfolder, subfile[:-4] + \"tok\")\n",
        "                    with open(new_subfile_path, \"w\") as f:\n",
        "                        f.write(\" \".join(tokens))\n",
        "            else: # if the file is not a subfolder, proceed as before\n",
        "                with open(file_path, \"r\") as f:\n",
        "                    content = f.read()\n",
        "                tokens = ctok.tokenize(content, lang=\"java\")\n",
        "                tokens = [str(hash_string(str(i))) for i in tokens]\n",
        "                new_file_path = os.path.join(new_folder, file[:-4] + \"tok\")\n",
        "                with open(new_file_path, \"w\") as f:\n",
        "                    f.write(\" \".join(tokens))\n"
      ]
    },
    {
      "cell_type": "markdown",
      "metadata": {
        "id": "tg8_AYH5i2EX"
      },
      "source": [
        "## Estos (4) bloques de código almacena el código tokenizado a un zip y lo copia a Google Drive"
      ]
    },
    {
      "cell_type": "code",
      "execution_count": null,
      "metadata": {
        "colab": {
          "base_uri": "https://localhost:8080/"
        },
        "id": "qoT_QwpTYP0r",
        "outputId": "5d84a864-ed14-4fa1-9c28-0f47a10e3cd2"
      },
      "outputs": [
        {
          "name": "stdout",
          "output_type": "stream",
          "text": [
            "/content/Plagios IA/conplag/versions\n"
          ]
        }
      ],
      "source": [
        "# Almacenamos el código tokenizado\n",
        "%cd \"/content/Plagios IA/conplag/versions/\""
      ]
    },
    {
      "cell_type": "code",
      "execution_count": null,
      "metadata": {
        "id": "olkXxuhthYdG"
      },
      "outputs": [],
      "source": [
        "%%capture\n",
        "!zip -r /content/version_2_tokenized.zip \"version_2_tokenized\""
      ]
    },
    {
      "cell_type": "code",
      "execution_count": null,
      "metadata": {
        "colab": {
          "base_uri": "https://localhost:8080/"
        },
        "id": "xl-weNRmhaYh",
        "outputId": "f389cdc0-5e79-487c-e1d1-b979948d6748"
      },
      "outputs": [
        {
          "name": "stdout",
          "output_type": "stream",
          "text": [
            "/content\n"
          ]
        }
      ],
      "source": [
        "%cd /content"
      ]
    },
    {
      "cell_type": "code",
      "execution_count": null,
      "metadata": {
        "id": "Nc74fWZNjVbP"
      },
      "outputs": [],
      "source": [
        "!cp version_2_tokenized.zip /content/drive/Shareddrives/AI/Reto # Copy to GDrive"
      ]
    },
    {
      "cell_type": "markdown",
      "metadata": {
        "id": "oULdY58dndxA"
      },
      "source": [
        "### Método de verificación (por si acaso)\n",
        "Valida que el número de carpetas y de archivos sea el mismo entre la carpeta original y la carpeta tokenizada."
      ]
    },
    {
      "cell_type": "code",
      "execution_count": null,
      "metadata": {
        "colab": {
          "base_uri": "https://localhost:8080/"
        },
        "id": "RqcHcPHHXTlQ",
        "outputId": "6cbf4c40-b8dd-423b-8d3d-6702cf82837b"
      },
      "outputs": [
        {
          "name": "stdout",
          "output_type": "stream",
          "text": [
            "Number of folders in ./Plagios IA/conplag/versions/version_2: 912\n",
            "Number of files in ./Plagios IA/conplag/versions/version_2: 1822\n",
            "Number of folders in ./Plagios IA/conplag/versions/version_2_tokenized: 912\n",
            "Number of files in ./Plagios IA/conplag/versions/version_2_tokenized: 1822\n"
          ]
        }
      ],
      "source": [
        "# Verificar que todo está correcto en carpetas y archivos\n",
        "import os\n",
        "\n",
        "path1 = \"./Plagios IA/conplag/versions/version_2\"\n",
        "path2 = \"./Plagios IA/conplag/versions/version_2_tokenized\"\n",
        "\n",
        "folder_count1 = 0\n",
        "file_count1 = 0\n",
        "folder_count2 = 0\n",
        "file_count2 = 0\n",
        "\n",
        "for folder, subfolders, files in os.walk(path1):\n",
        "    folder_count1 += 1 # increment the folder count\n",
        "    file_count1 += len(files) # add the number of files in the folder\n",
        "\n",
        "for folder, subfolders, files in os.walk(path2):\n",
        "    folder_count2 += 1 # increment the folder count\n",
        "    file_count2 += len(files) # add the number of files in the folder\n",
        "\n",
        "print(f\"Number of folders in {path1}: {folder_count1}\")\n",
        "print(f\"Number of files in {path1}: {file_count1}\")\n",
        "print(f\"Number of folders in {path2}: {folder_count2}\")\n",
        "print(f\"Number of files in {path2}: {file_count2}\")"
      ]
    },
    {
      "cell_type": "markdown",
      "metadata": {
        "id": "_YFU4J1ZoxoJ"
      },
      "source": [
        "# **Continuar ejecución de celdas a partir de aquí:**\n",
        "## Creación de un dataframe para iniciar el entrenamiento"
      ]
    },
    {
      "cell_type": "code",
      "execution_count": null,
      "metadata": {
        "id": "2PdXddOSc3UH"
      },
      "outputs": [],
      "source": [
        "# Retomar los paths de trabajo \n",
        "import os\n",
        "path = \"./Plagios IA/conplag/versions/version_2\"\n",
        "new_path = \"./version_2_tokenized\""
      ]
    },
    {
      "cell_type": "code",
      "execution_count": null,
      "metadata": {
        "id": "km7FEN1DoxE_"
      },
      "outputs": [],
      "source": [
        "import pandas as pd\n",
        "# read the table\n",
        "df_conplag_labels = pd.read_csv(\"./Plagios IA/conplag/versions/labels.csv\")\n",
        "\n",
        "# create a dictionary that maps each pair of files to their verdict\n",
        "verdict_dict = {}\n",
        "for index, row in df_conplag_labels.iterrows():\n",
        "    sub1 = row[\"sub1\"]\n",
        "    sub2 = row[\"sub2\"]\n",
        "    verdict = row[\"verdict\"]\n",
        "    verdict_dict[f\"{sub1}_{sub2}\"] = verdict\n",
        "\n",
        "#print(verdict_dict)"
      ]
    },
    {
      "cell_type": "code",
      "execution_count": null,
      "metadata": {
        "colab": {
          "base_uri": "https://localhost:8080/",
          "height": 480
        },
        "id": "85Ri27Rucok7",
        "outputId": "1fd6ba75-ac78-4bc3-86d2-be355b459c9c"
      },
      "outputs": [
        {
          "name": "stderr",
          "output_type": "stream",
          "text": [
            "<ipython-input-8-dd5ef6057582>:17: VisibleDeprecationWarning: Creating an ndarray from ragged nested sequences (which is a list-or-tuple of lists-or-tuples-or ndarrays with different lengths or shapes) is deprecated. If you meant to do this, you must specify 'dtype=object' when creating the ndarray.\n",
            "  inputs = np.array(inputs)\n"
          ]
        },
        {
          "data": {
            "text/html": [
              "\n",
              "  <div id=\"df-d69587e7-ae4c-463a-bdd7-b52a06925a53\">\n",
              "    <div class=\"colab-df-container\">\n",
              "      <div>\n",
              "<style scoped>\n",
              "    .dataframe tbody tr th:only-of-type {\n",
              "        vertical-align: middle;\n",
              "    }\n",
              "\n",
              "    .dataframe tbody tr th {\n",
              "        vertical-align: top;\n",
              "    }\n",
              "\n",
              "    .dataframe thead th {\n",
              "        text-align: right;\n",
              "    }\n",
              "</style>\n",
              "<table border=\"1\" class=\"dataframe\">\n",
              "  <thead>\n",
              "    <tr style=\"text-align: right;\">\n",
              "      <th></th>\n",
              "      <th>programs</th>\n",
              "      <th>veredict</th>\n",
              "    </tr>\n",
              "  </thead>\n",
              "  <tbody>\n",
              "    <tr>\n",
              "      <th>0</th>\n",
              "      <td>[151126684, 68944291, 3080239, 74580415, 30802...</td>\n",
              "      <td>1</td>\n",
              "    </tr>\n",
              "    <tr>\n",
              "      <th>1</th>\n",
              "      <td>[151126684, 68944291, 3080239, 74580415, 30802...</td>\n",
              "      <td>1</td>\n",
              "    </tr>\n",
              "    <tr>\n",
              "      <th>2</th>\n",
              "      <td>[151126684, 68944291, 3080239, 74580415, 30802...</td>\n",
              "      <td>0</td>\n",
              "    </tr>\n",
              "    <tr>\n",
              "      <th>3</th>\n",
              "      <td>[151126684, 68944291, 3080239, 74580415, 30802...</td>\n",
              "      <td>0</td>\n",
              "    </tr>\n",
              "    <tr>\n",
              "      <th>4</th>\n",
              "      <td>[151126684, 68944291, 3080239, 21168345, 30802...</td>\n",
              "      <td>1</td>\n",
              "    </tr>\n",
              "    <tr>\n",
              "      <th>...</th>\n",
              "      <td>...</td>\n",
              "      <td>...</td>\n",
              "    </tr>\n",
              "    <tr>\n",
              "      <th>906</th>\n",
              "      <td>[151126684, 68944291, 3080239, 74580415, 30802...</td>\n",
              "      <td>0</td>\n",
              "    </tr>\n",
              "    <tr>\n",
              "      <th>907</th>\n",
              "      <td>[151126684, 68944291, 3080239, 21168345, 30802...</td>\n",
              "      <td>0</td>\n",
              "    </tr>\n",
              "    <tr>\n",
              "      <th>908</th>\n",
              "      <td>[151126684, 68944291, 3080239, 74580415, 30802...</td>\n",
              "      <td>0</td>\n",
              "    </tr>\n",
              "    <tr>\n",
              "      <th>909</th>\n",
              "      <td>[151126684, 68944291, 3080239, 74580415, 30802...</td>\n",
              "      <td>0</td>\n",
              "    </tr>\n",
              "    <tr>\n",
              "      <th>910</th>\n",
              "      <td>[151126684, 152109705, 68944291, 3080239, 6881...</td>\n",
              "      <td>0</td>\n",
              "    </tr>\n",
              "  </tbody>\n",
              "</table>\n",
              "<p>911 rows × 2 columns</p>\n",
              "</div>\n",
              "      <button class=\"colab-df-convert\" onclick=\"convertToInteractive('df-d69587e7-ae4c-463a-bdd7-b52a06925a53')\"\n",
              "              title=\"Convert this dataframe to an interactive table.\"\n",
              "              style=\"display:none;\">\n",
              "        \n",
              "  <svg xmlns=\"http://www.w3.org/2000/svg\" height=\"24px\"viewBox=\"0 0 24 24\"\n",
              "       width=\"24px\">\n",
              "    <path d=\"M0 0h24v24H0V0z\" fill=\"none\"/>\n",
              "    <path d=\"M18.56 5.44l.94 2.06.94-2.06 2.06-.94-2.06-.94-.94-2.06-.94 2.06-2.06.94zm-11 1L8.5 8.5l.94-2.06 2.06-.94-2.06-.94L8.5 2.5l-.94 2.06-2.06.94zm10 10l.94 2.06.94-2.06 2.06-.94-2.06-.94-.94-2.06-.94 2.06-2.06.94z\"/><path d=\"M17.41 7.96l-1.37-1.37c-.4-.4-.92-.59-1.43-.59-.52 0-1.04.2-1.43.59L10.3 9.45l-7.72 7.72c-.78.78-.78 2.05 0 2.83L4 21.41c.39.39.9.59 1.41.59.51 0 1.02-.2 1.41-.59l7.78-7.78 2.81-2.81c.8-.78.8-2.07 0-2.86zM5.41 20L4 18.59l7.72-7.72 1.47 1.35L5.41 20z\"/>\n",
              "  </svg>\n",
              "      </button>\n",
              "      \n",
              "  <style>\n",
              "    .colab-df-container {\n",
              "      display:flex;\n",
              "      flex-wrap:wrap;\n",
              "      gap: 12px;\n",
              "    }\n",
              "\n",
              "    .colab-df-convert {\n",
              "      background-color: #E8F0FE;\n",
              "      border: none;\n",
              "      border-radius: 50%;\n",
              "      cursor: pointer;\n",
              "      display: none;\n",
              "      fill: #1967D2;\n",
              "      height: 32px;\n",
              "      padding: 0 0 0 0;\n",
              "      width: 32px;\n",
              "    }\n",
              "\n",
              "    .colab-df-convert:hover {\n",
              "      background-color: #E2EBFA;\n",
              "      box-shadow: 0px 1px 2px rgba(60, 64, 67, 0.3), 0px 1px 3px 1px rgba(60, 64, 67, 0.15);\n",
              "      fill: #174EA6;\n",
              "    }\n",
              "\n",
              "    [theme=dark] .colab-df-convert {\n",
              "      background-color: #3B4455;\n",
              "      fill: #D2E3FC;\n",
              "    }\n",
              "\n",
              "    [theme=dark] .colab-df-convert:hover {\n",
              "      background-color: #434B5C;\n",
              "      box-shadow: 0px 1px 3px 1px rgba(0, 0, 0, 0.15);\n",
              "      filter: drop-shadow(0px 1px 2px rgba(0, 0, 0, 0.3));\n",
              "      fill: #FFFFFF;\n",
              "    }\n",
              "  </style>\n",
              "\n",
              "      <script>\n",
              "        const buttonEl =\n",
              "          document.querySelector('#df-d69587e7-ae4c-463a-bdd7-b52a06925a53 button.colab-df-convert');\n",
              "        buttonEl.style.display =\n",
              "          google.colab.kernel.accessAllowed ? 'block' : 'none';\n",
              "\n",
              "        async function convertToInteractive(key) {\n",
              "          const element = document.querySelector('#df-d69587e7-ae4c-463a-bdd7-b52a06925a53');\n",
              "          const dataTable =\n",
              "            await google.colab.kernel.invokeFunction('convertToInteractive',\n",
              "                                                     [key], {});\n",
              "          if (!dataTable) return;\n",
              "\n",
              "          const docLinkHtml = 'Like what you see? Visit the ' +\n",
              "            '<a target=\"_blank\" href=https://colab.research.google.com/notebooks/data_table.ipynb>data table notebook</a>'\n",
              "            + ' to learn more about interactive tables.';\n",
              "          element.innerHTML = '';\n",
              "          dataTable['output_type'] = 'display_data';\n",
              "          await google.colab.output.renderOutput(dataTable, element);\n",
              "          const docLink = document.createElement('div');\n",
              "          docLink.innerHTML = docLinkHtml;\n",
              "          element.appendChild(docLink);\n",
              "        }\n",
              "      </script>\n",
              "    </div>\n",
              "  </div>\n",
              "  "
            ],
            "text/plain": [
              "                                              programs  veredict\n",
              "0    [151126684, 68944291, 3080239, 74580415, 30802...         1\n",
              "1    [151126684, 68944291, 3080239, 74580415, 30802...         1\n",
              "2    [151126684, 68944291, 3080239, 74580415, 30802...         0\n",
              "3    [151126684, 68944291, 3080239, 74580415, 30802...         0\n",
              "4    [151126684, 68944291, 3080239, 21168345, 30802...         1\n",
              "..                                                 ...       ...\n",
              "906  [151126684, 68944291, 3080239, 74580415, 30802...         0\n",
              "907  [151126684, 68944291, 3080239, 21168345, 30802...         0\n",
              "908  [151126684, 68944291, 3080239, 74580415, 30802...         0\n",
              "909  [151126684, 68944291, 3080239, 74580415, 30802...         0\n",
              "910  [151126684, 152109705, 68944291, 3080239, 6881...         0\n",
              "\n",
              "[911 rows x 2 columns]"
            ]
          },
          "execution_count": 8,
          "metadata": {},
          "output_type": "execute_result"
        }
      ],
      "source": [
        "import numpy as np\n",
        "# create empty lists to store the inputs and targets\n",
        "inputs = []\n",
        "targets = []\n",
        "# loop over the subfolders in the tokenized folder\n",
        "for subfolder in os.listdir(new_path):\n",
        "    # get the verdict from the dictionary\n",
        "    verdict = verdict_dict[subfolder]\n",
        "    # load the two files and concatenate them\n",
        "    file1 = np.loadtxt(os.path.join(new_path, subfolder, subfolder[:8] + \".tok\"), dtype=int)\n",
        "    file2 = np.loadtxt(os.path.join(new_path, subfolder, subfolder[9:] + \".tok\"), dtype=int)\n",
        "    input = np.concatenate((file1, file2))\n",
        "    # append the input and target to the lists\n",
        "    inputs.append(input)\n",
        "    targets.append(verdict)\n",
        "# convert the lists to arrays\n",
        "inputs = np.array(inputs)\n",
        "targets = np.array(targets)\n",
        "\n",
        "# Crear dataframe\n",
        "df_tokenizado = pd.DataFrame({\"programs\": inputs, \"veredict\": targets})\n",
        "df_tokenizado"
      ]
    },
    {
      "cell_type": "markdown",
      "metadata": {
        "id": "jdGammOitsm3"
      },
      "source": [
        "## Preparación de datos"
      ]
    },
    {
      "cell_type": "code",
      "execution_count": null,
      "metadata": {
        "id": "fSGiixoseC70"
      },
      "outputs": [],
      "source": [
        "# Hacer que los datos estén en nuevas variables\n",
        "X = inputs\n",
        "y = targets"
      ]
    },
    {
      "cell_type": "code",
      "execution_count": null,
      "metadata": {
        "colab": {
          "base_uri": "https://localhost:8080/"
        },
        "id": "Pu7N7fGuwfD4",
        "outputId": "c80894a6-6819-47b0-ee6e-ae81819d1904"
      },
      "outputs": [
        {
          "name": "stdout",
          "output_type": "stream",
          "text": [
            "Tamaño de X: (911, 12448)\n",
            "Tamaño de y: (911,)\n"
          ]
        }
      ],
      "source": [
        "from keras.utils import pad_sequences\n",
        "# pad the programs with zeros to make them have the same length\n",
        "X = pad_sequences(X, padding='post')\n",
        "# La shape de X (los programas en cuestión) deberían ser 911 y 12448\n",
        "print(\"Tamaño de X:\", X.shape)\n",
        "# La shape de y sólo son los veredictos de si es plagio o no (911)\n",
        "print(\"Tamaño de y:\",y.shape)"
      ]
    },
    {
      "cell_type": "code",
      "execution_count": null,
      "metadata": {
        "id": "07rrEljixmNw"
      },
      "outputs": [],
      "source": [
        "from sklearn.model_selection import train_test_split\n",
        "# split the data into training and testing sets\n",
        "X_train, X_test, y_train, y_test = train_test_split(X, y, test_size=0.2)"
      ]
    },
    {
      "cell_type": "markdown",
      "metadata": {
        "id": "PE7isFZ-xfSZ"
      },
      "source": [
        "# Modelo LSTM\n",
        "\n"
      ]
    },
    {
      "cell_type": "code",
      "execution_count": null,
      "metadata": {
        "colab": {
          "base_uri": "https://localhost:8080/"
        },
        "id": "q1imPUSjdozZ",
        "outputId": "53ac6947-cc82-4d9b-afbb-b19c6f2f0725"
      },
      "outputs": [
        {
          "name": "stdout",
          "output_type": "stream",
          "text": [
            "Epoch 1/20\n",
            "73/73 - 113s - loss: 0.6734 - acc: 0.7280 - 113s/epoch - 2s/step\n",
            "Epoch 2/20\n",
            "73/73 - 91s - loss: 0.5900 - acc: 0.7308 - 91s/epoch - 1s/step\n",
            "Epoch 3/20\n",
            "73/73 - 93s - loss: 0.5885 - acc: 0.7308 - 93s/epoch - 1s/step\n",
            "Epoch 4/20\n",
            "73/73 - 90s - loss: 0.5863 - acc: 0.7308 - 90s/epoch - 1s/step\n",
            "Epoch 5/20\n",
            "73/73 - 92s - loss: 0.5858 - acc: 0.7308 - 92s/epoch - 1s/step\n",
            "Epoch 6/20\n",
            "73/73 - 90s - loss: 0.5855 - acc: 0.7308 - 90s/epoch - 1s/step\n",
            "Epoch 7/20\n",
            "73/73 - 91s - loss: 0.5853 - acc: 0.7308 - 91s/epoch - 1s/step\n",
            "Epoch 8/20\n",
            "73/73 - 91s - loss: 0.5854 - acc: 0.7308 - 91s/epoch - 1s/step\n",
            "Epoch 9/20\n",
            "73/73 - 91s - loss: 0.5851 - acc: 0.7308 - 91s/epoch - 1s/step\n",
            "Epoch 10/20\n",
            "73/73 - 91s - loss: 0.5850 - acc: 0.7308 - 91s/epoch - 1s/step\n",
            "Epoch 11/20\n",
            "73/73 - 92s - loss: 0.5849 - acc: 0.7308 - 92s/epoch - 1s/step\n",
            "Epoch 12/20\n",
            "73/73 - 90s - loss: 0.5848 - acc: 0.7308 - 90s/epoch - 1s/step\n",
            "Epoch 13/20\n",
            "73/73 - 92s - loss: 0.5850 - acc: 0.7308 - 92s/epoch - 1s/step\n",
            "Epoch 14/20\n",
            "73/73 - 90s - loss: 0.5848 - acc: 0.7308 - 90s/epoch - 1s/step\n",
            "Epoch 15/20\n",
            "73/73 - 91s - loss: 0.5847 - acc: 0.7308 - 91s/epoch - 1s/step\n",
            "Epoch 16/20\n",
            "73/73 - 91s - loss: 0.5846 - acc: 0.7308 - 91s/epoch - 1s/step\n",
            "Epoch 17/20\n",
            "73/73 - 92s - loss: 0.5846 - acc: 0.7308 - 92s/epoch - 1s/step\n",
            "Epoch 18/20\n"
          ]
        }
      ],
      "source": [
        "from keras.models import Sequential\n",
        "from keras.layers import LSTM, Dense\n",
        "\n",
        "\n",
        "model = Sequential()\n",
        "model.add(LSTM(256, return_sequences=True, batch_input_shape=(None, 12448, 1)))\n",
        "model.add(LSTM(128, return_sequences=True))\n",
        "model.add(LSTM(64, return_sequences=True))\n",
        "model.add(LSTM(32))\n",
        "model.add(Dense(42, activation='relu'))\n",
        "model.add(Dense(20, activation='relu'))\n",
        "model.add(Dense(1, activation='sigmoid'))\n",
        "\n",
        "model.compile(loss='binary_crossentropy', optimizer='adam', metrics=['acc'])\n",
        "\n",
        "\n",
        "history = model.fit(X_train, y_train,\n",
        "                    batch_size=10,\n",
        "                    epochs = 20,\n",
        "                    verbose = 2,\n",
        "                    shuffle = False)"
      ]
    },
    {
      "cell_type": "code",
      "execution_count": null,
      "metadata": {
        "colab": {
          "base_uri": "https://localhost:8080/",
          "height": 887
        },
        "id": "m8VyONEM6rJp",
        "outputId": "52975e3d-6548-415b-f224-893b234cf40f"
      },
      "outputs": [
        {
          "data": {
            "image/png": "[encoded data removed]",
            "text/plain": [
              "<Figure size 640x480 with 1 Axes>"
            ]
          },
          "metadata": {},
          "output_type": "display_data"
        },
        {
          "data": {
            "image/png": "[encoded data removed]",
            "text/plain": [
              "<Figure size 640x480 with 1 Axes>"
            ]
          },
          "metadata": {},
          "output_type": "display_data"
        }
      ],
      "source": [
        "import matplotlib.pyplot as plt\n",
        "\n",
        "acc = history.history['acc']\n",
        "loss = history.history['loss']\n",
        "\n",
        "epochs = range(1, len(acc)+1)\n",
        "\n",
        "plt.plot(epochs, acc, 'b*-', label='train accuracy')\n",
        "plt.title('train acc')\n",
        "plt.legend()\n",
        "\n",
        "plt.figure()\n",
        "\n",
        "plt.plot(epochs, loss, 'b*-', label ='training loss')\n",
        "plt.title('train loss')\n",
        "plt.legend()\n",
        "\n",
        "plt.show()"
      ]
    },
    {
      "cell_type": "code",
      "execution_count": null,
      "metadata": {
        "colab": {
          "base_uri": "https://localhost:8080/"
        },
        "id": "6Db402PnSPX2",
        "outputId": "2b4ed46f-c19d-4256-a0b5-105dda254fe3"
      },
      "outputs": [
        {
          "name": "stdout",
          "output_type": "stream",
          "text": [
            "\r 1/25 [>.............................] - ETA: 0s - loss: 0.2274 - acc: 0.0000e+00"
          ]
        },
        {
          "name": "stderr",
          "output_type": "stream",
          "text": [
            "WARNING:tensorflow:Your input ran out of data; interrupting training. Make sure that your dataset or generator can generate at least `steps_per_epoch * epochs` batches (in this case, 25 batches). You may need to use the repeat() function when building your dataset.\n"
          ]
        },
        {
          "name": "stdout",
          "output_type": "stream",
          "text": [
            "\b\b\b\b\b\b\b\b\b\b\b\b\b\b\b\b\b\b\b\b\b\b\b\b\b\b\b\b\b\b\b\b\b\b\b\b\b\b\b\b\b\b\b\b\b\b\b\b\b\b\b\b\b\b\b\b\b\b\b\b\b\b\b\b\b\b\b\b\b\b\b\b\b\b\b\b\b\b\b\b\b\r25/25 [==============================] - 0s 4ms/step - loss: 0.2274 - acc: 0.0000e+00\n",
            "\n",
            "test acc :\n",
            " 0.0\n"
          ]
        }
      ],
      "source": [
        "test_loss, test_acc = model.evaluate(X_test, batch_size=10, steps = 25)\n",
        "print('\\ntest acc :\\n', test_acc)"
      ]
    },
    {
      "cell_type": "code",
      "execution_count": null,
      "metadata": {
        "colab": {
          "base_uri": "https://localhost:8080/"
        },
        "id": "E34pKo7yV6ZM",
        "outputId": "204969b6-22ba-4e26-9569-5221f803f2e9"
      },
      "outputs": [
        {
          "name": "stdout",
          "output_type": "stream",
          "text": [
            "6/6 [==============================] - 4s 617ms/step\n"
          ]
        },
        {
          "data": {
            "text/plain": [
              "array([[0., 0., 0., 0., 0., 0., 0., 0., 0., 0., 0., 0., 0., 0., 0., 0.,\n",
              "        0., 0., 0., 0., 0., 0., 0., 0., 0., 0., 0., 0., 0., 0., 0., 0.,\n",
              "        0., 0., 0., 0., 0., 0., 0., 0., 0., 0., 0., 0., 0., 0., 0., 0.,\n",
              "        0., 0., 0., 0., 0., 0., 0., 0., 0., 0., 0., 0., 0., 0., 0., 0.,\n",
              "        0., 0., 0., 0., 0., 0., 0., 0., 0., 0., 0., 0., 0., 0., 0., 0.,\n",
              "        0., 0., 0., 0., 0., 0., 0., 0., 0., 0., 0., 0., 0., 0., 0., 0.,\n",
              "        0., 0., 0., 0., 0., 0., 0., 0., 0., 0., 0., 0., 0., 0., 0., 0.,\n",
              "        0., 0., 0., 0., 0., 0., 0., 0., 0., 0., 0., 0., 0., 0., 0., 0.,\n",
              "        0., 0., 0., 0., 0., 0., 0., 0., 0., 0., 0., 0., 0., 0., 0., 0.,\n",
              "        0., 0., 0., 0., 0., 0., 0., 0., 0., 0., 0., 0., 0., 0., 0., 0.,\n",
              "        0., 0., 0., 0., 0., 0., 0., 0., 0., 0., 0., 0., 0., 0., 0., 0.,\n",
              "        0., 0., 0., 0., 0., 0., 0.]], dtype=float32)"
            ]
          },
          "execution_count": 71,
          "metadata": {},
          "output_type": "execute_result"
        }
      ],
      "source": [
        "predictions = model.predict(X_test)\n",
        "classes_x = predictions.T\n",
        "classes_x = np.rint(classes_x)\n",
        "classes_x"
      ]
    },
    {
      "cell_type": "code",
      "execution_count": null,
      "metadata": {
        "colab": {
          "base_uri": "https://localhost:8080/",
          "height": 487
        },
        "id": "we6kDzr9OTG7",
        "outputId": "e1e7b17d-28bd-48ca-ca50-959b0f521673"
      },
      "outputs": [
        {
          "data": {
            "image/png": "[encoded data removed]",
            "text/plain": [
              "<Figure size 640x480 with 1 Axes>"
            ]
          },
          "metadata": {},
          "output_type": "display_data"
        }
      ],
      "source": [
        "import seaborn as sns\n",
        "from sklearn import datasets\n",
        "from sklearn.linear_model import LogisticRegression\n",
        "from sklearn.model_selection import train_test_split\n",
        "from sklearn.metrics import confusion_matrix\n",
        "import pandas as pd\n",
        "\n",
        "mat = confusion_matrix(classes_x[0], y_test)\n",
        "\n",
        "df = pd.DataFrame(mat, index=['Predicción Original', 'Predicción Plagio'], columns=['Label Original', 'Label Plagio'])\n",
        "\n",
        "sns.heatmap(df, annot=True, cbar=None, cmap=\"Blues\")\n",
        "plt.title(\"Matriz de confusión\"), plt.tight_layout()\n",
        "plt.show()"
      ]
    },
    {
      "cell_type": "code",
      "execution_count": null,
      "metadata": {
        "colab": {
          "base_uri": "https://localhost:8080/"
        },
        "id": "rFFtxhYNOTPz",
        "outputId": "290da0ff-c5e5-4963-831b-7f707ed98e8e"
      },
      "outputs": [
        {
          "data": {
            "text/plain": [
              "(728, 12448)"
            ]
          },
          "execution_count": 55,
          "metadata": {},
          "output_type": "execute_result"
        }
      ],
      "source": [
        "X_train.shape"
      ]
    },
    {
      "cell_type": "code",
      "execution_count": null,
      "metadata": {
        "colab": {
          "base_uri": "https://localhost:8080/"
        },
        "id": "co8EXD1QOThU",
        "outputId": "748d159a-790f-4b51-d223-4775104ed30e"
      },
      "outputs": [
        {
          "name": "stdout",
          "output_type": "stream",
          "text": [
            "Epoch 1/60\n",
            "37/37 [==============================] - 2s 5ms/step - loss: 19777582.0000 - acc: 0.5893\n",
            "Epoch 2/60\n",
            "37/37 [==============================] - 0s 5ms/step - loss: 11663411.0000 - acc: 0.6085\n",
            "Epoch 3/60\n",
            "37/37 [==============================] - 0s 5ms/step - loss: 8952485.0000 - acc: 0.6154\n",
            "Epoch 4/60\n",
            "37/37 [==============================] - 0s 5ms/step - loss: 5926198.0000 - acc: 0.6250\n",
            "Epoch 5/60\n",
            "37/37 [==============================] - 0s 5ms/step - loss: 5983078.0000 - acc: 0.6085\n",
            "Epoch 6/60\n",
            "37/37 [==============================] - 0s 5ms/step - loss: 4454266.0000 - acc: 0.6264\n",
            "Epoch 7/60\n",
            "37/37 [==============================] - 0s 5ms/step - loss: 4385557.5000 - acc: 0.6071\n",
            "Epoch 8/60\n",
            "37/37 [==============================] - 0s 5ms/step - loss: 3388435.7500 - acc: 0.6319\n",
            "Epoch 9/60\n",
            "37/37 [==============================] - 0s 5ms/step - loss: 1801835.7500 - acc: 0.6497\n",
            "Epoch 10/60\n",
            "37/37 [==============================] - 0s 5ms/step - loss: 2793861.0000 - acc: 0.6813\n",
            "Epoch 11/60\n",
            "37/37 [==============================] - 0s 5ms/step - loss: 1129507.2500 - acc: 0.6676\n",
            "Epoch 12/60\n",
            "37/37 [==============================] - 0s 5ms/step - loss: 1278954.8750 - acc: 0.6717\n",
            "Epoch 13/60\n",
            "37/37 [==============================] - 0s 5ms/step - loss: 1085632.3750 - acc: 0.6854\n",
            "Epoch 14/60\n",
            "37/37 [==============================] - 0s 5ms/step - loss: 912372.7500 - acc: 0.6593\n",
            "Epoch 15/60\n",
            "37/37 [==============================] - 0s 5ms/step - loss: 1290527.6250 - acc: 0.6648\n",
            "Epoch 16/60\n",
            "37/37 [==============================] - 0s 5ms/step - loss: 1964178.2500 - acc: 0.6854\n",
            "Epoch 17/60\n",
            "37/37 [==============================] - 0s 5ms/step - loss: 386548.1875 - acc: 0.6937\n",
            "Epoch 18/60\n",
            "37/37 [==============================] - 0s 5ms/step - loss: 420289.8438 - acc: 0.6868\n",
            "Epoch 19/60\n",
            "37/37 [==============================] - 0s 5ms/step - loss: 1269804.5000 - acc: 0.6813\n",
            "Epoch 20/60\n",
            "37/37 [==============================] - 0s 5ms/step - loss: 387953.7188 - acc: 0.6964\n",
            "Epoch 21/60\n",
            "37/37 [==============================] - 0s 5ms/step - loss: 237252.3750 - acc: 0.7060\n",
            "Epoch 22/60\n",
            "37/37 [==============================] - 0s 5ms/step - loss: 1366190.1250 - acc: 0.6992\n",
            "Epoch 23/60\n",
            "37/37 [==============================] - 0s 4ms/step - loss: 611684.0625 - acc: 0.6937\n",
            "Epoch 24/60\n",
            "37/37 [==============================] - 0s 5ms/step - loss: 898238.8750 - acc: 0.7019\n",
            "Epoch 25/60\n",
            "37/37 [==============================] - 0s 4ms/step - loss: 2826035.7500 - acc: 0.7088\n",
            "Epoch 26/60\n",
            "37/37 [==============================] - 0s 4ms/step - loss: 238529.3594 - acc: 0.7074\n",
            "Epoch 27/60\n",
            "37/37 [==============================] - 0s 5ms/step - loss: 176402.4219 - acc: 0.7074\n",
            "Epoch 28/60\n",
            "37/37 [==============================] - 0s 4ms/step - loss: 1526969.3750 - acc: 0.7019\n",
            "Epoch 29/60\n",
            "37/37 [==============================] - 0s 5ms/step - loss: 237924.1719 - acc: 0.7019\n",
            "Epoch 30/60\n",
            "37/37 [==============================] - 0s 4ms/step - loss: 894445.0000 - acc: 0.7019\n",
            "Epoch 31/60\n",
            "37/37 [==============================] - 0s 4ms/step - loss: 345057.8750 - acc: 0.6978\n",
            "Epoch 32/60\n",
            "37/37 [==============================] - 0s 4ms/step - loss: 118543.7266 - acc: 0.7060\n",
            "Epoch 33/60\n",
            "37/37 [==============================] - 0s 5ms/step - loss: 138758.9375 - acc: 0.7198\n",
            "Epoch 34/60\n",
            "37/37 [==============================] - 0s 4ms/step - loss: 134641.6875 - acc: 0.6992\n",
            "Epoch 35/60\n",
            "37/37 [==============================] - 0s 4ms/step - loss: 255189.9375 - acc: 0.7170\n",
            "Epoch 36/60\n",
            "37/37 [==============================] - 0s 4ms/step - loss: 89164.9531 - acc: 0.7170\n",
            "Epoch 37/60\n",
            "37/37 [==============================] - 0s 4ms/step - loss: 342628.3750 - acc: 0.7074\n",
            "Epoch 38/60\n",
            "37/37 [==============================] - 0s 4ms/step - loss: 98009.9922 - acc: 0.7047\n",
            "Epoch 39/60\n",
            "37/37 [==============================] - 0s 4ms/step - loss: 71520.5781 - acc: 0.7088\n",
            "Epoch 40/60\n",
            "37/37 [==============================] - 0s 5ms/step - loss: 97804.3203 - acc: 0.7157\n",
            "Epoch 41/60\n",
            "37/37 [==============================] - 0s 5ms/step - loss: 13118.8369 - acc: 0.7129\n",
            "Epoch 42/60\n",
            "37/37 [==============================] - 0s 6ms/step - loss: 99165.8203 - acc: 0.7060\n",
            "Epoch 43/60\n",
            "37/37 [==============================] - 0s 5ms/step - loss: 229678.1094 - acc: 0.7005\n",
            "Epoch 44/60\n",
            "37/37 [==============================] - 0s 5ms/step - loss: 21016.6172 - acc: 0.7019\n",
            "Epoch 45/60\n",
            "37/37 [==============================] - 0s 7ms/step - loss: 23769.7168 - acc: 0.7129\n",
            "Epoch 46/60\n",
            "37/37 [==============================] - 0s 7ms/step - loss: 124102.3828 - acc: 0.7143\n",
            "Epoch 47/60\n",
            "37/37 [==============================] - 0s 7ms/step - loss: 242338.6562 - acc: 0.7033\n",
            "Epoch 48/60\n",
            "37/37 [==============================] - 0s 7ms/step - loss: 48976.5781 - acc: 0.7047\n",
            "Epoch 49/60\n",
            "37/37 [==============================] - 0s 7ms/step - loss: 312530.4688 - acc: 0.7088\n",
            "Epoch 50/60\n",
            "37/37 [==============================] - 0s 7ms/step - loss: 229282.0938 - acc: 0.7102\n",
            "Epoch 51/60\n",
            "37/37 [==============================] - 0s 7ms/step - loss: 143964.0625 - acc: 0.7157\n",
            "Epoch 52/60\n",
            "37/37 [==============================] - 0s 7ms/step - loss: 61208.6367 - acc: 0.7115\n",
            "Epoch 53/60\n",
            "37/37 [==============================] - 0s 7ms/step - loss: 91814.5078 - acc: 0.6978\n",
            "Epoch 54/60\n",
            "37/37 [==============================] - 0s 8ms/step - loss: 354778.1875 - acc: 0.7102\n",
            "Epoch 55/60\n",
            "37/37 [==============================] - 0s 7ms/step - loss: 63911.6875 - acc: 0.7047\n",
            "Epoch 56/60\n",
            "37/37 [==============================] - 0s 7ms/step - loss: 61593.5039 - acc: 0.7143\n",
            "Epoch 57/60\n",
            "37/37 [==============================] - 0s 8ms/step - loss: 12706.5918 - acc: 0.7157\n",
            "Epoch 58/60\n",
            "37/37 [==============================] - 0s 7ms/step - loss: 156044.0938 - acc: 0.6964\n",
            "Epoch 59/60\n",
            "37/37 [==============================] - 0s 7ms/step - loss: 148765.5781 - acc: 0.7115\n",
            "Epoch 60/60\n",
            "37/37 [==============================] - 0s 7ms/step - loss: 51430.4297 - acc: 0.7102\n"
          ]
        }
      ],
      "source": [
        "from keras.api._v2.keras import callbacks\n",
        "from keras.models import Sequential\n",
        "from keras.layers import LSTM, Dense, Dropout\n",
        "import tensorflow as tf\n",
        "\n",
        "\n",
        "early_stopping_callback = tf.keras.callbacks.EarlyStopping(\n",
        "    monitor='loss',     # Métrica a monitorear (en este caso, pérdida de entrenamiento)\n",
        "    patience=3,         # Número de epochs sin mejora antes de detener el entrenamiento\n",
        "    restore_best_weights=True  # Restaurar los pesos del mejor modelo\n",
        ")\n",
        "\n",
        "model = Sequential()\n",
        "model.add(Dense(256, activation='relu', batch_input_shape=(X.shape)))\n",
        "model.add(Dropout(.5))\n",
        "#model.add(LSTM(128, return_sequences=True, kernel_regularizer='l1'))\n",
        "#model.add(LSTM(64, return_sequences=True, kernel_regularizer='l1'))\n",
        "#model.add(LSTM(32, kernel_regularizer='l1'))\n",
        "model.add(Dense(42, activation='relu'))\n",
        "model.add(Dropout(.5))\n",
        "model.add(Dense(20, activation='relu'))\n",
        "model.add(Dropout(.5))\n",
        "model.add(Dense(1, activation='sigmoid'))\n",
        "\n",
        "model.compile(loss='binary_crossentropy', optimizer='adam', metrics=['acc'])\n",
        "\n",
        "\n",
        "history = model.fit(X_train, y_train,\n",
        "                    batch_size=20,\n",
        "                    epochs = 60\n",
        "                    )"
      ]
    },
    {
      "cell_type": "code",
      "execution_count": null,
      "metadata": {
        "colab": {
          "base_uri": "https://localhost:8080/"
        },
        "id": "uFgBW-onPu4k",
        "outputId": "134ccc8f-33e4-4ae6-dd60-7482fc5acbbd"
      },
      "outputs": [
        {
          "name": "stdout",
          "output_type": "stream",
          "text": [
            "\r 1/25 [>.............................] - ETA: 3s - loss: 0.6044 - acc: 0.7000"
          ]
        },
        {
          "name": "stderr",
          "output_type": "stream",
          "text": [
            "WARNING:tensorflow:Your input ran out of data; interrupting training. Make sure that your dataset or generator can generate at least `steps_per_epoch * epochs` batches (in this case, 25 batches). You may need to use the repeat() function when building your dataset.\n"
          ]
        },
        {
          "name": "stdout",
          "output_type": "stream",
          "text": [
            "\b\b\b\b\b\b\b\b\b\b\b\b\b\b\b\b\b\b\b\b\b\b\b\b\b\b\b\b\b\b\b\b\b\b\b\b\b\b\b\b\b\b\b\b\b\b\b\b\b\b\b\b\b\b\b\b\b\b\b\b\b\b\b\b\b\b\b\b\b\b\b\b\b\b\b\b\b\r25/25 [==============================] - 0s 3ms/step - loss: 0.5433 - acc: 0.7760\n",
            "\n",
            "test acc :\n",
            " 0.7759562730789185\n"
          ]
        }
      ],
      "source": [
        "test_loss, test_acc = model.evaluate(X_test, y_test, batch_size=10, steps = 25)\n",
        "print('\\ntest acc :\\n', test_acc)"
      ]
    }
  ],
  "metadata": {
    "accelerator": "GPU",
    "colab": {
      "provenance": []
    },
    "kernelspec": {
      "display_name": "Python 3",
      "name": "python3"
    },
    "language_info": {
      "name": "python"
    }
  },
  "nbformat": 4,
  "nbformat_minor": 0
}