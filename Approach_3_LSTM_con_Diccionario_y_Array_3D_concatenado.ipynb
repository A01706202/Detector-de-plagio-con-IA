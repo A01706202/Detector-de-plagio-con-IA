{
  "cells": [
    {
      "cell_type": "markdown",
      "metadata": {
        "id": "GA6YPW4PV5y6"
      },
      "source": [
        "# Detector de plagio\n",
        "### (LSTM con Diccionario y Array 3D concatenado)\n",
        "\n",
        "En este trabajo se busca realizar un detector de plagio de código utilizando técnicas del Deep Learning\n",
        "\n",
        "\n",
        "**Autores:**\n",
        "\n",
        "*   Michelle Aylin Calzada Montes\n",
        "*   Manolo Ramírez Pintor\n",
        "*   Eduardo Rodríguez Gill"
      ]
    },
    {
      "cell_type": "markdown",
      "metadata": {
        "id": "xkmgLWIkToyd"
      },
      "source": [
        "### Cada vez que se quiera trabajar, se tiene que correr esta celda para tener acceso a los archivos"
      ]
    },
    {
      "cell_type": "code",
      "execution_count": null,
      "metadata": {
        "colab": {
          "base_uri": "https://localhost:8080/"
        },
        "id": "m5r2DWf7SUB2",
        "outputId": "78a8f0fb-45a5-43dd-ef81-52aa5fae7be8"
      },
      "outputs": [
        {
          "output_type": "stream",
          "name": "stdout",
          "text": [
            "Mounted at /content/drive\n",
            "/content/drive/Shareddrives/AI/Reto\n",
            "'Approach 1 - LSTM Hashes 32 bits.ipynb'\n",
            "'Approach2 - LSTM con Diccionario personalizado.ipynb'\n",
            "'Approach 3 - LSTM con Diccionario y Array 3D concatenado.ipynb'\n",
            "'Approach 4 - LSTM 3D, 2 columnas.ipynb'\n",
            "'Approach 5 - Clasificador con coseno del ángulo.ipynb'\n",
            "'Approach 6 - Modelo con Capas Densas.ipynb'\n",
            " mi_tokenizer.zip\n",
            " Plagios_IA.zip\n",
            " version_2_tokenized_dicc.zip\n",
            " version_2_tokenized.zip\n"
          ]
        }
      ],
      "source": [
        "# Accesar a Google Drive\n",
        "from google.colab import drive\n",
        "drive.mount('/content/drive')\n",
        "\n",
        "# Ir al directorio de los archivos\n",
        "%cd \"/content/drive/Shareddrives/AI/Reto\"\n",
        "!ls"
      ]
    },
    {
      "cell_type": "code",
      "execution_count": null,
      "metadata": {
        "id": "3xfa-NIQ_hAa"
      },
      "outputs": [],
      "source": [
        "# Eliminar todo por si queremos reiniciar\n",
        "!rm -rf \"/content/Plagios IA\"\n",
        "\n",
        "# Copiar zip de las carpetas al almacenamiento de colab\n",
        "!cp -r /content/drive/Shareddrives/AI/Reto/Plagios_IA.zip /content\n",
        "\n",
        "# Nuevo - Copiar zip del codigo tokenizado al almacenamiento de colab\n",
        "!cp -r /content/drive/Shareddrives/AI/Reto/version_2_tokenized_dicc.zip /content"
      ]
    },
    {
      "cell_type": "code",
      "execution_count": null,
      "metadata": {
        "id": "NTJvSNyuVomu"
      },
      "outputs": [],
      "source": [
        "# Extraer zip de Plagios IA\n",
        "%%capture\n",
        "%cd /content\n",
        "!unzip Plagios_IA.zip\n",
        "!unzip version_2_tokenized_dicc.zip"
      ]
    },
    {
      "cell_type": "code",
      "execution_count": null,
      "metadata": {
        "id": "5uoxIlKYVbtP"
      },
      "outputs": [],
      "source": [
        "# Eliminar archivos distractores\n",
        "!rm -rf sample_data\n",
        "!rm Plagios_IA.zip"
      ]
    },
    {
      "cell_type": "markdown",
      "metadata": {
        "id": "XNFBj05eavwH"
      },
      "source": [
        "# **Ya no correr las siguientes celdas**\n",
        "## Revisando la info que contiene conplag en sus tablas\n",
        "\n"
      ]
    },
    {
      "cell_type": "code",
      "execution_count": null,
      "metadata": {
        "id": "ZpRC4w1sci3m"
      },
      "outputs": [],
      "source": [
        "# Instalar code_tokenize\n",
        "%%capture\n",
        "!pip install code-tokenize"
      ]
    },
    {
      "cell_type": "code",
      "execution_count": null,
      "metadata": {
        "id": "gfbZisWR1-Oi"
      },
      "outputs": [],
      "source": [
        "# Ver info de conplag\n",
        "import pandas as pd\n",
        "df_conplag_labels = pd.read_csv(\"./Plagios IA/conplag/versions/labels.csv\")\n",
        "df_conplag_test = pd.read_csv(\"./Plagios IA/conplag/versions/test_pairs.csv\")\n",
        "df_conplag_train = pd.read_csv(\"./Plagios IA/conplag/versions/train_pairs.csv\")"
      ]
    },
    {
      "cell_type": "code",
      "execution_count": null,
      "metadata": {
        "colab": {
          "base_uri": "https://localhost:8080/",
          "height": 424
        },
        "id": "Tf15QUuy3TR3",
        "outputId": "5301d3a8-4a26-4253-d23e-b54173304428"
      },
      "outputs": [
        {
          "output_type": "execute_result",
          "data": {
            "text/plain": [
              "         sub1      sub2  problem  verdict\n",
              "0    0fd5b95a  6490bbe8       19        0\n",
              "1    464a03b8  ff1fc018       20        0\n",
              "2    3e6def38  548ffb07       14        1\n",
              "3    0b91922c  71a4f6d2        6        0\n",
              "4    9291ca83  d6fb3b9e       15        0\n",
              "..        ...       ...      ...      ...\n",
              "906  11c2ab99  28c2d81a        8        1\n",
              "907  550335a3  6d7d5dd7        4        0\n",
              "908  558df7d4  d8654140       17        0\n",
              "909  3088ca9c  6f393cfe       15        1\n",
              "910  213340b3  870e16d9        4        0\n",
              "\n",
              "[911 rows x 4 columns]"
            ],
            "text/html": [
              "\n",
              "  <div id=\"df-8af44238-0511-42a3-b005-0dde28450334\">\n",
              "    <div class=\"colab-df-container\">\n",
              "      <div>\n",
              "<style scoped>\n",
              "    .dataframe tbody tr th:only-of-type {\n",
              "        vertical-align: middle;\n",
              "    }\n",
              "\n",
              "    .dataframe tbody tr th {\n",
              "        vertical-align: top;\n",
              "    }\n",
              "\n",
              "    .dataframe thead th {\n",
              "        text-align: right;\n",
              "    }\n",
              "</style>\n",
              "<table border=\"1\" class=\"dataframe\">\n",
              "  <thead>\n",
              "    <tr style=\"text-align: right;\">\n",
              "      <th></th>\n",
              "      <th>sub1</th>\n",
              "      <th>sub2</th>\n",
              "      <th>problem</th>\n",
              "      <th>verdict</th>\n",
              "    </tr>\n",
              "  </thead>\n",
              "  <tbody>\n",
              "    <tr>\n",
              "      <th>0</th>\n",
              "      <td>0fd5b95a</td>\n",
              "      <td>6490bbe8</td>\n",
              "      <td>19</td>\n",
              "      <td>0</td>\n",
              "    </tr>\n",
              "    <tr>\n",
              "      <th>1</th>\n",
              "      <td>464a03b8</td>\n",
              "      <td>ff1fc018</td>\n",
              "      <td>20</td>\n",
              "      <td>0</td>\n",
              "    </tr>\n",
              "    <tr>\n",
              "      <th>2</th>\n",
              "      <td>3e6def38</td>\n",
              "      <td>548ffb07</td>\n",
              "      <td>14</td>\n",
              "      <td>1</td>\n",
              "    </tr>\n",
              "    <tr>\n",
              "      <th>3</th>\n",
              "      <td>0b91922c</td>\n",
              "      <td>71a4f6d2</td>\n",
              "      <td>6</td>\n",
              "      <td>0</td>\n",
              "    </tr>\n",
              "    <tr>\n",
              "      <th>4</th>\n",
              "      <td>9291ca83</td>\n",
              "      <td>d6fb3b9e</td>\n",
              "      <td>15</td>\n",
              "      <td>0</td>\n",
              "    </tr>\n",
              "    <tr>\n",
              "      <th>...</th>\n",
              "      <td>...</td>\n",
              "      <td>...</td>\n",
              "      <td>...</td>\n",
              "      <td>...</td>\n",
              "    </tr>\n",
              "    <tr>\n",
              "      <th>906</th>\n",
              "      <td>11c2ab99</td>\n",
              "      <td>28c2d81a</td>\n",
              "      <td>8</td>\n",
              "      <td>1</td>\n",
              "    </tr>\n",
              "    <tr>\n",
              "      <th>907</th>\n",
              "      <td>550335a3</td>\n",
              "      <td>6d7d5dd7</td>\n",
              "      <td>4</td>\n",
              "      <td>0</td>\n",
              "    </tr>\n",
              "    <tr>\n",
              "      <th>908</th>\n",
              "      <td>558df7d4</td>\n",
              "      <td>d8654140</td>\n",
              "      <td>17</td>\n",
              "      <td>0</td>\n",
              "    </tr>\n",
              "    <tr>\n",
              "      <th>909</th>\n",
              "      <td>3088ca9c</td>\n",
              "      <td>6f393cfe</td>\n",
              "      <td>15</td>\n",
              "      <td>1</td>\n",
              "    </tr>\n",
              "    <tr>\n",
              "      <th>910</th>\n",
              "      <td>213340b3</td>\n",
              "      <td>870e16d9</td>\n",
              "      <td>4</td>\n",
              "      <td>0</td>\n",
              "    </tr>\n",
              "  </tbody>\n",
              "</table>\n",
              "<p>911 rows × 4 columns</p>\n",
              "</div>\n",
              "      <button class=\"colab-df-convert\" onclick=\"convertToInteractive('df-8af44238-0511-42a3-b005-0dde28450334')\"\n",
              "              title=\"Convert this dataframe to an interactive table.\"\n",
              "              style=\"display:none;\">\n",
              "        \n",
              "  <svg xmlns=\"http://www.w3.org/2000/svg\" height=\"24px\"viewBox=\"0 0 24 24\"\n",
              "       width=\"24px\">\n",
              "    <path d=\"M0 0h24v24H0V0z\" fill=\"none\"/>\n",
              "    <path d=\"M18.56 5.44l.94 2.06.94-2.06 2.06-.94-2.06-.94-.94-2.06-.94 2.06-2.06.94zm-11 1L8.5 8.5l.94-2.06 2.06-.94-2.06-.94L8.5 2.5l-.94 2.06-2.06.94zm10 10l.94 2.06.94-2.06 2.06-.94-2.06-.94-.94-2.06-.94 2.06-2.06.94z\"/><path d=\"M17.41 7.96l-1.37-1.37c-.4-.4-.92-.59-1.43-.59-.52 0-1.04.2-1.43.59L10.3 9.45l-7.72 7.72c-.78.78-.78 2.05 0 2.83L4 21.41c.39.39.9.59 1.41.59.51 0 1.02-.2 1.41-.59l7.78-7.78 2.81-2.81c.8-.78.8-2.07 0-2.86zM5.41 20L4 18.59l7.72-7.72 1.47 1.35L5.41 20z\"/>\n",
              "  </svg>\n",
              "      </button>\n",
              "      \n",
              "  <style>\n",
              "    .colab-df-container {\n",
              "      display:flex;\n",
              "      flex-wrap:wrap;\n",
              "      gap: 12px;\n",
              "    }\n",
              "\n",
              "    .colab-df-convert {\n",
              "      background-color: #E8F0FE;\n",
              "      border: none;\n",
              "      border-radius: 50%;\n",
              "      cursor: pointer;\n",
              "      display: none;\n",
              "      fill: #1967D2;\n",
              "      height: 32px;\n",
              "      padding: 0 0 0 0;\n",
              "      width: 32px;\n",
              "    }\n",
              "\n",
              "    .colab-df-convert:hover {\n",
              "      background-color: #E2EBFA;\n",
              "      box-shadow: 0px 1px 2px rgba(60, 64, 67, 0.3), 0px 1px 3px 1px rgba(60, 64, 67, 0.15);\n",
              "      fill: #174EA6;\n",
              "    }\n",
              "\n",
              "    [theme=dark] .colab-df-convert {\n",
              "      background-color: #3B4455;\n",
              "      fill: #D2E3FC;\n",
              "    }\n",
              "\n",
              "    [theme=dark] .colab-df-convert:hover {\n",
              "      background-color: #434B5C;\n",
              "      box-shadow: 0px 1px 3px 1px rgba(0, 0, 0, 0.15);\n",
              "      filter: drop-shadow(0px 1px 2px rgba(0, 0, 0, 0.3));\n",
              "      fill: #FFFFFF;\n",
              "    }\n",
              "  </style>\n",
              "\n",
              "      <script>\n",
              "        const buttonEl =\n",
              "          document.querySelector('#df-8af44238-0511-42a3-b005-0dde28450334 button.colab-df-convert');\n",
              "        buttonEl.style.display =\n",
              "          google.colab.kernel.accessAllowed ? 'block' : 'none';\n",
              "\n",
              "        async function convertToInteractive(key) {\n",
              "          const element = document.querySelector('#df-8af44238-0511-42a3-b005-0dde28450334');\n",
              "          const dataTable =\n",
              "            await google.colab.kernel.invokeFunction('convertToInteractive',\n",
              "                                                     [key], {});\n",
              "          if (!dataTable) return;\n",
              "\n",
              "          const docLinkHtml = 'Like what you see? Visit the ' +\n",
              "            '<a target=\"_blank\" href=https://colab.research.google.com/notebooks/data_table.ipynb>data table notebook</a>'\n",
              "            + ' to learn more about interactive tables.';\n",
              "          element.innerHTML = '';\n",
              "          dataTable['output_type'] = 'display_data';\n",
              "          await google.colab.output.renderOutput(dataTable, element);\n",
              "          const docLink = document.createElement('div');\n",
              "          docLink.innerHTML = docLinkHtml;\n",
              "          element.appendChild(docLink);\n",
              "        }\n",
              "      </script>\n",
              "    </div>\n",
              "  </div>\n",
              "  "
            ]
          },
          "metadata": {},
          "execution_count": 7
        }
      ],
      "source": [
        "# Head de labels conplag\n",
        "df_conplag_labels"
      ]
    },
    {
      "cell_type": "code",
      "execution_count": null,
      "metadata": {
        "id": "yE8A7TjP8VqC"
      },
      "outputs": [],
      "source": [
        "# Quitar archivos si no lo hicimos bien\n",
        "!rm -rf \"Plagios IA/conplag/versions/version_2_tokenized\""
      ]
    },
    {
      "cell_type": "markdown",
      "metadata": {
        "id": "ilScD3s7l8wx"
      },
      "source": [
        "## Este bloque de código toma todos los archivos de conplag y los tokeniza\n",
        "* Los tokens se convierten a valores numéricos únicos con una función hash de 32 bits"
      ]
    },
    {
      "cell_type": "code",
      "execution_count": null,
      "metadata": {
        "id": "CsMK3ujR3wAi",
        "colab": {
          "base_uri": "https://localhost:8080/"
        },
        "outputId": "33e8ca32-239f-48be-a770-28d1fb9c2b28"
      },
      "outputs": [
        {
          "output_type": "execute_result",
          "data": {
            "text/plain": [
              "1822"
            ]
          },
          "metadata": {},
          "execution_count": 9
        }
      ],
      "source": [
        "# Tokenización de código:\n",
        "import code_tokenize as ctok\n",
        "import os\n",
        "\n",
        "path = \"./Plagios IA/conplag/versions/version_2\"\n",
        "new_path = \"./Plagios IA/conplag/versions/version_2_tokenized\"\n",
        "folders = [x[0] for x in os.walk(path)]\n",
        "todos_los_archivos = []\n",
        "\n",
        "for folder in folders:\n",
        "    files = os.listdir(folder)\n",
        "    new_folder = folder.replace(path, new_path) # replace the original path with the new one\n",
        "    if not os.path.exists(new_folder): # check if the folder exists\n",
        "        os.mkdir(new_folder) # create the folder only if it doesn't exist\n",
        "        for file in files:\n",
        "            file_path = os.path.join(folder, file)\n",
        "            if os.path.isdir(file_path): # check if the file is actually a subfolder\n",
        "                subfiles = os.listdir(file_path) # get the files in the subfolder\n",
        "                new_subfolder = os.path.join(new_folder, file) # create a new subfolder with the same name\n",
        "                os.mkdir(new_subfolder)\n",
        "                for subfile in subfiles: # loop over the files in the subfolder\n",
        "                    subfile_path = os.path.join(file_path, subfile)\n",
        "                    todos_los_archivos.append(subfile_path)\n",
        "            else: # if the file is not a subfolder, proceed as before\n",
        "                with open(file_path, \"r\") as f:\n",
        "                    content = f.read()\n",
        "                todos_los_archivos.append(subfile_path)\n",
        "\n",
        "len(todos_los_archivos)"
      ]
    },
    {
      "cell_type": "code",
      "source": [
        "# Quitar carpetas\n",
        "!rm -rf \"Plagios IA/conplag/versions/version_2_tokenized\""
      ],
      "metadata": {
        "id": "Um_WH3sLCrju"
      },
      "execution_count": null,
      "outputs": []
    },
    {
      "cell_type": "code",
      "source": [
        "# Instalar tokenizers para hacer un diccionario\n",
        "%%capture\n",
        "!pip install tokenizers"
      ],
      "metadata": {
        "id": "1KA0w6LC__yu"
      },
      "execution_count": null,
      "outputs": []
    },
    {
      "cell_type": "code",
      "source": [
        "# Crear directorio para el diccionario\n",
        "!mkdir mi_tokenizer"
      ],
      "metadata": {
        "id": "a63LLgX-AOvF"
      },
      "execution_count": null,
      "outputs": []
    },
    {
      "cell_type": "code",
      "source": [
        "# Importar libreria del diccionario\n",
        "from tokenizers import CharBPETokenizer\n",
        "\n",
        "# Crear un tokenizer vacío\n",
        "tokenizer = CharBPETokenizer()\n",
        "# Entrenar el tokenizer con un conjunto de archivos de código (por ejemplo, en C++)\n",
        "tokenizer.train(files=todos_los_archivos, vocab_size=0)\n",
        "# Guardar el tokenizer y su vocabulario\n",
        "tokenizer.save_model(\"./mi_tokenizer\")\n",
        "\n",
        "# Cargar el tokenizer desde el disco a una variable\n",
        "tokenizer = CharBPETokenizer(\"mi_tokenizer/vocab.json\", \"mi_tokenizer/merges.txt\")\n",
        "\n",
        "# Probar con algún código de Java\n",
        "#tokens = tokenizer.encode(\"\"\"    static class Pair implements Comparable<Pair> {\n",
        "#        int id;\n",
        "#        long sum=0;\n",
        "#        public Pair(int id) {\n",
        "#            this.id=id;\n",
        "#        }\"\"\")\n",
        "#print(tokens.ids) # [1, 2, 3, 4]\n",
        "# print(tokens.tokens) # [\"print\", \"(\", \"\\\"Hola\\\"\", \")\"]\n"
      ],
      "metadata": {
        "id": "zOkVmahMAEw9"
      },
      "execution_count": null,
      "outputs": []
    },
    {
      "cell_type": "code",
      "source": [
        "# Tokenizar un nuevo archivo de código\n",
        "\n",
        "# Tokenización de código:\n",
        "import code_tokenize as ctok\n",
        "import os\n",
        "\n",
        "path = \"./Plagios IA/conplag/versions/version_2\"\n",
        "new_path = \"./Plagios IA/conplag/versions/version_2_tokenized\"\n",
        "folders = [x[0] for x in os.walk(path)]\n",
        "todos_los_archivos = []\n",
        "\n",
        "for folder in folders:\n",
        "    files = os.listdir(folder)\n",
        "    new_folder = folder.replace(path, new_path) # replace the original path with the new one\n",
        "    if not os.path.exists(new_folder): # check if the folder exists\n",
        "        os.mkdir(new_folder) # create the folder only if it doesn't exist\n",
        "        for file in files:\n",
        "            file_path = os.path.join(folder, file)\n",
        "            if os.path.isdir(file_path): # check if the file is actually a subfolder\n",
        "                subfiles = os.listdir(file_path) # get the files in the subfolder\n",
        "                new_subfolder = os.path.join(new_folder, file) # create a new subfolder with the same name\n",
        "                os.mkdir(new_subfolder)\n",
        "                for subfile in subfiles: # loop over the files in the subfolder\n",
        "                    subfile_path = os.path.join(file_path, subfile)\n",
        "                    todos_los_archivos.append(subfile_path)\n",
        "                    with open(subfile_path, \"r\") as f:\n",
        "                        content = f.read()\n",
        "                    tokens = tokenizer.encode(content)\n",
        "                    tokens_finales = str(tokens.ids).strip(\"[]\")\n",
        "                    new_subfile_path = os.path.join(new_subfolder, subfile[:-4] + \"tok\")\n",
        "                    with open(new_subfile_path, \"w\") as f:\n",
        "                        f.write(\"\".join(tokens_finales))\n",
        "            else: # if the file is not a subfolder, proceed as before\n",
        "                with open(file_path, \"r\") as f:\n",
        "                    content = f.read()\n",
        "                #print(file_path)\n",
        "                tokens = tokenizer.encode(content)\n",
        "                new_file_path = os.path.join(new_folder, file[:-4] + \"tok\")\n",
        "                todos_los_archivos.append(subfile_path)\n",
        "                tokens_finales = str(tokens.ids).strip(\"[]\")\n",
        "                with open(new_file_path, \"w\") as f:\n",
        "                    f.write(\"\".join(tokens_finales))"
      ],
      "metadata": {
        "id": "FNPtpheKBUzD"
      },
      "execution_count": null,
      "outputs": []
    },
    {
      "cell_type": "markdown",
      "metadata": {
        "id": "tg8_AYH5i2EX"
      },
      "source": [
        "## Estos (4) bloques de código almacena el código tokenizado a un zip y lo copia a Google Drive"
      ]
    },
    {
      "cell_type": "code",
      "execution_count": null,
      "metadata": {
        "colab": {
          "base_uri": "https://localhost:8080/"
        },
        "id": "qoT_QwpTYP0r",
        "outputId": "12707d94-1767-46f7-a00b-c08577658720"
      },
      "outputs": [
        {
          "output_type": "stream",
          "name": "stdout",
          "text": [
            "/content/Plagios IA/conplag/versions\n"
          ]
        }
      ],
      "source": [
        "# Nos dirigimos a la carpeta para almacenaje\n",
        "%cd \"/content/Plagios IA/conplag/versions/\""
      ]
    },
    {
      "cell_type": "code",
      "execution_count": null,
      "metadata": {
        "id": "olkXxuhthYdG"
      },
      "outputs": [],
      "source": [
        "# Lo zippeamos\n",
        "%%capture\n",
        "!zip -r /content/version_2_tokenized_dicc.zip \"version_2_tokenized\""
      ]
    },
    {
      "cell_type": "code",
      "execution_count": null,
      "metadata": {
        "colab": {
          "base_uri": "https://localhost:8080/"
        },
        "id": "xl-weNRmhaYh",
        "outputId": "626fa630-f1f7-4036-f7f6-09c30ef89091"
      },
      "outputs": [
        {
          "output_type": "stream",
          "name": "stdout",
          "text": [
            "/content\n"
          ]
        }
      ],
      "source": [
        "# Nos regresamos a nuestra raiz para evitar accidentes\n",
        "%cd /content"
      ]
    },
    {
      "cell_type": "code",
      "execution_count": null,
      "metadata": {
        "id": "Nc74fWZNjVbP"
      },
      "outputs": [],
      "source": [
        "!cp version_2_tokenized_dicc.zip /content/drive/Shareddrives/AI/Reto # Copy to GDrive"
      ]
    },
    {
      "cell_type": "code",
      "source": [
        "%%capture\n",
        "!rm -rf version_2_tokenized"
      ],
      "metadata": {
        "id": "Qzx-X-o2Ik1j"
      },
      "execution_count": null,
      "outputs": []
    },
    {
      "cell_type": "markdown",
      "metadata": {
        "id": "oULdY58dndxA"
      },
      "source": [
        "### Método de verificación (por si acaso)\n",
        "Valida que el número de carpetas y de archivos sea el mismo entre la carpeta original y la carpeta tokenizada."
      ]
    },
    {
      "cell_type": "code",
      "execution_count": null,
      "metadata": {
        "colab": {
          "base_uri": "https://localhost:8080/"
        },
        "id": "RqcHcPHHXTlQ",
        "outputId": "75e48e02-816c-44b3-bc44-43e196d98245"
      },
      "outputs": [
        {
          "output_type": "stream",
          "name": "stdout",
          "text": [
            "Number of folders in ./Plagios IA/conplag/versions/version_2: 912\n",
            "Number of files in ./Plagios IA/conplag/versions/version_2: 1822\n",
            "Number of folders in ./Plagios IA/conplag/versions/version_2_tokenized: 912\n",
            "Number of files in ./Plagios IA/conplag/versions/version_2_tokenized: 1822\n"
          ]
        }
      ],
      "source": [
        "# Verificar que todo está correcto en carpetas y archivos\n",
        "import os\n",
        "\n",
        "path1 = \"./Plagios IA/conplag/versions/version_2\"\n",
        "path2 = \"./Plagios IA/conplag/versions/version_2_tokenized\"\n",
        "\n",
        "folder_count1 = 0\n",
        "file_count1 = 0\n",
        "folder_count2 = 0\n",
        "file_count2 = 0\n",
        "\n",
        "for folder, subfolders, files in os.walk(path1):\n",
        "    folder_count1 += 1 # increment the folder count\n",
        "    file_count1 += len(files) # add the number of files in the folder\n",
        "\n",
        "for folder, subfolders, files in os.walk(path2):\n",
        "    folder_count2 += 1 # increment the folder count\n",
        "    file_count2 += len(files) # add the number of files in the folder\n",
        "\n",
        "print(f\"Number of folders in {path1}: {folder_count1}\")\n",
        "print(f\"Number of files in {path1}: {file_count1}\")\n",
        "print(f\"Number of folders in {path2}: {folder_count2}\")\n",
        "print(f\"Number of files in {path2}: {file_count2}\")"
      ]
    },
    {
      "cell_type": "markdown",
      "metadata": {
        "id": "_YFU4J1ZoxoJ"
      },
      "source": [
        "# **Continuar ejecución de celdas a partir de aquí:**\n",
        "## Creación de un dataframe para iniciar el entrenamiento"
      ]
    },
    {
      "cell_type": "code",
      "execution_count": null,
      "metadata": {
        "id": "2PdXddOSc3UH"
      },
      "outputs": [],
      "source": [
        "# Retomar los paths de trabajo \n",
        "import os\n",
        "path = \"./Plagios IA/conplag/versions/version_2\"\n",
        "new_path = \"./version_2_tokenized\""
      ]
    },
    {
      "cell_type": "code",
      "execution_count": null,
      "metadata": {
        "id": "km7FEN1DoxE_"
      },
      "outputs": [],
      "source": [
        "import pandas as pd\n",
        "# read the table\n",
        "df_conplag_labels = pd.read_csv(\"./Plagios IA/conplag/versions/labels.csv\")\n",
        "\n",
        "# create a dictionary that maps each pair of files to their verdict\n",
        "verdict_dict = {}\n",
        "for index, row in df_conplag_labels.iterrows():\n",
        "    sub1 = row[\"sub1\"]\n",
        "    sub2 = row[\"sub2\"]\n",
        "    verdict = row[\"verdict\"]\n",
        "    verdict_dict[f\"{sub1}_{sub2}\"] = verdict\n",
        "\n",
        "#print(verdict_dict)"
      ]
    },
    {
      "cell_type": "code",
      "execution_count": null,
      "metadata": {
        "id": "85Ri27Rucok7"
      },
      "outputs": [],
      "source": [
        "import numpy as np\n",
        "# create empty lists to store the inputs and targets\n",
        "inputs = []\n",
        "targets = []\n",
        "lenght = 0\n",
        "for subfolder in os.listdir(new_path):\n",
        "    if subfolder in verdict_dict:\n",
        "      verdict = verdict_dict[subfolder]\n",
        "    else:\n",
        "      continue\n",
        "    file1 = len(np.loadtxt(os.path.join(new_path, subfolder, subfolder[:8] + \".tok\"), dtype=int, delimiter=\",\"))\n",
        "    file2 = len(np.loadtxt(os.path.join(new_path, subfolder, subfolder[9:] + \".tok\"), dtype=int, delimiter=\",\"))\n",
        "    if file1 > lenght:\n",
        "      lenght = file1\n",
        "    if file2 > lenght:\n",
        "      lenght = file2\n"
      ]
    },
    {
      "cell_type": "code",
      "source": [
        "import numpy as np\n",
        "# create empty lists to store the inputs and targets\n",
        "inputs = []\n",
        "targets = []\n",
        "# loop over the subfolders in the tokenized folder\n",
        "for subfolder in os.listdir(new_path):\n",
        "    # get the verdict from the dictionary\n",
        "    if subfolder in verdict_dict:\n",
        "      verdict = verdict_dict[subfolder]\n",
        "      #print(verdict)\n",
        "    else:\n",
        "      continue\n",
        "      #print(\"La clave no existe en el diccionario.\")\n",
        "    # load the two files and pad them with zeros\n",
        "    #print(new_path)\n",
        "    #print(subfolder)\n",
        "    file1 = np.loadtxt(os.path.join(new_path, subfolder, subfolder[:8] + \".tok\"), dtype=int, delimiter=\",\")\n",
        "    pad_width1 = lenght - len(file1)\n",
        "    file1 = np.pad(file1, (0, pad_width1), mode='constant')\n",
        "    file2 = np.loadtxt(os.path.join(new_path, subfolder, subfolder[9:] + \".tok\"), dtype=int, delimiter=\",\")\n",
        "    pad_width2 = lenght - len(file2)\n",
        "    file2 = np.pad(file2, (0, pad_width2), mode='constant')\n",
        "    # stack the arrays horizontally\n",
        "    input = np.concatenate((file1, file2))\n",
        "    # append the input and target to the lists\n",
        "    inputs.append(input)\n",
        "    targets.append(verdict)\n",
        "# convert the lists to arrays\n",
        "inputs = np.array(inputs)\n",
        "targets = np.array(targets)\n",
        "\n",
        "inputs.shape"
      ],
      "metadata": {
        "colab": {
          "base_uri": "https://localhost:8080/"
        },
        "id": "-fMUnzmOm0A0",
        "outputId": "07040cfd-096e-4936-aba9-4cb4c936c127"
      },
      "execution_count": null,
      "outputs": [
        {
          "output_type": "execute_result",
          "data": {
            "text/plain": [
              "(911, 33278)"
            ]
          },
          "metadata": {},
          "execution_count": 9
        }
      ]
    },
    {
      "cell_type": "markdown",
      "metadata": {
        "id": "jdGammOitsm3"
      },
      "source": [
        "## Preparación de datos"
      ]
    },
    {
      "cell_type": "code",
      "execution_count": null,
      "metadata": {
        "id": "fSGiixoseC70"
      },
      "outputs": [],
      "source": [
        "# Almacenar la columna program en una variable X\n",
        "X = np.array(inputs)\n",
        "\n",
        "# Almacenar la columna verdict en una variable y\n",
        "y = np.array(targets)"
      ]
    },
    {
      "cell_type": "code",
      "execution_count": null,
      "metadata": {
        "id": "07rrEljixmNw",
        "colab": {
          "base_uri": "https://localhost:8080/"
        },
        "outputId": "eb67dc11-f568-4784-8fc7-bcd1d14bcba2"
      },
      "outputs": [
        {
          "output_type": "execute_result",
          "data": {
            "text/plain": [
              "(728, 33278)"
            ]
          },
          "metadata": {},
          "execution_count": 12
        }
      ],
      "source": [
        "from sklearn.model_selection import train_test_split\n",
        "# split the data into training and testing sets\n",
        "X_train, X_test, y_train, y_test = train_test_split(X, y, test_size=0.2)\n",
        "X_train.shape"
      ]
    },
    {
      "cell_type": "code",
      "source": [
        "X_train = X_train.reshape((-1, 1, 33278))\n",
        "X_test = X_test.reshape((-1, 1, 33278))"
      ],
      "metadata": {
        "id": "R_XOPPXxAZv8"
      },
      "execution_count": null,
      "outputs": []
    },
    {
      "cell_type": "code",
      "source": [
        "X_train.shape"
      ],
      "metadata": {
        "colab": {
          "base_uri": "https://localhost:8080/"
        },
        "id": "6ex8K3a7JZ8U",
        "outputId": "a86b76e9-8369-4a63-eb28-808bdb58af31"
      },
      "execution_count": null,
      "outputs": [
        {
          "output_type": "execute_result",
          "data": {
            "text/plain": [
              "(728, 1, 33278)"
            ]
          },
          "metadata": {},
          "execution_count": 14
        }
      ]
    },
    {
      "cell_type": "code",
      "source": [
        "X_train"
      ],
      "metadata": {
        "colab": {
          "base_uri": "https://localhost:8080/"
        },
        "id": "F1vvUGFTL3FN",
        "outputId": "0058dc81-ba1a-46bf-877b-923a78bc2b8c"
      },
      "execution_count": null,
      "outputs": [
        {
          "output_type": "execute_result",
          "data": {
            "text/plain": [
              "array([[[72, 76, 79, ...,  0,  0,  0]],\n",
              "\n",
              "       [[72, 76, 79, ...,  0,  0,  0]],\n",
              "\n",
              "       [[72, 76, 79, ...,  0,  0,  0]],\n",
              "\n",
              "       ...,\n",
              "\n",
              "       [[72, 76, 79, ...,  0,  0,  0]],\n",
              "\n",
              "       [[72, 76, 79, ...,  0,  0,  0]],\n",
              "\n",
              "       [[72, 76, 79, ...,  0,  0,  0]]])"
            ]
          },
          "metadata": {},
          "execution_count": 15
        }
      ]
    },
    {
      "cell_type": "markdown",
      "metadata": {
        "id": "PE7isFZ-xfSZ"
      },
      "source": [
        "# Modelo LSTM\n",
        "\n"
      ]
    },
    {
      "cell_type": "code",
      "execution_count": null,
      "metadata": {
        "colab": {
          "base_uri": "https://localhost:8080/"
        },
        "id": "q1imPUSjdozZ",
        "outputId": "cca84cfb-e209-4230-c789-7cbf7e222cb4"
      },
      "outputs": [
        {
          "output_type": "stream",
          "name": "stdout",
          "text": [
            "Epoch 1/100\n",
            "4/4 [==============================] - 13s 55ms/step - loss: 0.6927 - acc: 0.6168\n",
            "Epoch 2/100\n",
            "4/4 [==============================] - 0s 58ms/step - loss: 0.6909 - acc: 0.7294\n",
            "Epoch 3/100\n",
            "4/4 [==============================] - 0s 57ms/step - loss: 0.6893 - acc: 0.7294\n",
            "Epoch 4/100\n",
            "4/4 [==============================] - 0s 66ms/step - loss: 0.6877 - acc: 0.7294\n",
            "Epoch 5/100\n",
            "4/4 [==============================] - 0s 79ms/step - loss: 0.6860 - acc: 0.7294\n",
            "Epoch 6/100\n",
            "4/4 [==============================] - 0s 72ms/step - loss: 0.6844 - acc: 0.7294\n",
            "Epoch 7/100\n",
            "4/4 [==============================] - 0s 71ms/step - loss: 0.6827 - acc: 0.7294\n",
            "Epoch 8/100\n",
            "4/4 [==============================] - 0s 80ms/step - loss: 0.6808 - acc: 0.7294\n",
            "Epoch 9/100\n",
            "4/4 [==============================] - 0s 74ms/step - loss: 0.6788 - acc: 0.7294\n",
            "Epoch 10/100\n",
            "4/4 [==============================] - 0s 74ms/step - loss: 0.6765 - acc: 0.7294\n",
            "Epoch 11/100\n",
            "4/4 [==============================] - 0s 81ms/step - loss: 0.6740 - acc: 0.7294\n",
            "Epoch 12/100\n",
            "4/4 [==============================] - 0s 80ms/step - loss: 0.6713 - acc: 0.7294\n",
            "Epoch 13/100\n",
            "4/4 [==============================] - 0s 68ms/step - loss: 0.6683 - acc: 0.7294\n",
            "Epoch 14/100\n",
            "4/4 [==============================] - 0s 70ms/step - loss: 0.6649 - acc: 0.7294\n",
            "Epoch 15/100\n",
            "4/4 [==============================] - 0s 73ms/step - loss: 0.6612 - acc: 0.7294\n",
            "Epoch 16/100\n",
            "4/4 [==============================] - 0s 80ms/step - loss: 0.6571 - acc: 0.7294\n",
            "Epoch 17/100\n",
            "4/4 [==============================] - 0s 69ms/step - loss: 0.6525 - acc: 0.7294\n",
            "Epoch 18/100\n",
            "4/4 [==============================] - 0s 73ms/step - loss: 0.6476 - acc: 0.7294\n",
            "Epoch 19/100\n",
            "4/4 [==============================] - 0s 43ms/step - loss: 0.6422 - acc: 0.7294\n",
            "Epoch 20/100\n",
            "4/4 [==============================] - 0s 47ms/step - loss: 0.6364 - acc: 0.7294\n",
            "Epoch 21/100\n",
            "4/4 [==============================] - 0s 44ms/step - loss: 0.6303 - acc: 0.7294\n",
            "Epoch 22/100\n",
            "4/4 [==============================] - 0s 43ms/step - loss: 0.6239 - acc: 0.7294\n",
            "Epoch 23/100\n",
            "4/4 [==============================] - 0s 53ms/step - loss: 0.6173 - acc: 0.7294\n",
            "Epoch 24/100\n",
            "4/4 [==============================] - 0s 51ms/step - loss: 0.6108 - acc: 0.7294\n",
            "Epoch 25/100\n",
            "4/4 [==============================] - 0s 47ms/step - loss: 0.6043 - acc: 0.7294\n",
            "Epoch 26/100\n",
            "4/4 [==============================] - 0s 43ms/step - loss: 0.5982 - acc: 0.7294\n",
            "Epoch 27/100\n",
            "4/4 [==============================] - 0s 44ms/step - loss: 0.5929 - acc: 0.7294\n",
            "Epoch 28/100\n",
            "4/4 [==============================] - 0s 44ms/step - loss: 0.5883 - acc: 0.7294\n",
            "Epoch 29/100\n",
            "4/4 [==============================] - 0s 53ms/step - loss: 0.5849 - acc: 0.7294\n",
            "Epoch 30/100\n",
            "4/4 [==============================] - 0s 46ms/step - loss: 0.5821 - acc: 0.7294\n",
            "Epoch 31/100\n",
            "4/4 [==============================] - 0s 43ms/step - loss: 0.5795 - acc: 0.7294\n",
            "Epoch 32/100\n",
            "4/4 [==============================] - 0s 43ms/step - loss: 0.5776 - acc: 0.7294\n",
            "Epoch 33/100\n",
            "4/4 [==============================] - 0s 44ms/step - loss: 0.5761 - acc: 0.7294\n",
            "Epoch 34/100\n",
            "4/4 [==============================] - 0s 49ms/step - loss: 0.5750 - acc: 0.7294\n",
            "Epoch 35/100\n",
            "4/4 [==============================] - 0s 50ms/step - loss: 0.5743 - acc: 0.7294\n",
            "Epoch 36/100\n",
            "4/4 [==============================] - 0s 43ms/step - loss: 0.5727 - acc: 0.7294\n",
            "Epoch 37/100\n",
            "4/4 [==============================] - 0s 48ms/step - loss: 0.5718 - acc: 0.7294\n",
            "Epoch 38/100\n",
            "4/4 [==============================] - 0s 44ms/step - loss: 0.5711 - acc: 0.7294\n",
            "Epoch 39/100\n",
            "4/4 [==============================] - 0s 45ms/step - loss: 0.5703 - acc: 0.7294\n",
            "Epoch 40/100\n",
            "4/4 [==============================] - 0s 52ms/step - loss: 0.5695 - acc: 0.7294\n",
            "Epoch 41/100\n",
            "4/4 [==============================] - 0s 42ms/step - loss: 0.5680 - acc: 0.7294\n",
            "Epoch 42/100\n",
            "4/4 [==============================] - 0s 47ms/step - loss: 0.5663 - acc: 0.7294\n",
            "Epoch 43/100\n",
            "4/4 [==============================] - 0s 45ms/step - loss: 0.5647 - acc: 0.7294\n",
            "Epoch 44/100\n",
            "4/4 [==============================] - 0s 49ms/step - loss: 0.5632 - acc: 0.7294\n",
            "Epoch 45/100\n",
            "4/4 [==============================] - 0s 47ms/step - loss: 0.5623 - acc: 0.7294\n",
            "Epoch 46/100\n",
            "4/4 [==============================] - 0s 44ms/step - loss: 0.5601 - acc: 0.7294\n",
            "Epoch 47/100\n",
            "4/4 [==============================] - 0s 47ms/step - loss: 0.5579 - acc: 0.7294\n",
            "Epoch 48/100\n",
            "4/4 [==============================] - 0s 44ms/step - loss: 0.5550 - acc: 0.7294\n",
            "Epoch 49/100\n",
            "4/4 [==============================] - 0s 44ms/step - loss: 0.5534 - acc: 0.7294\n",
            "Epoch 50/100\n",
            "4/4 [==============================] - 0s 43ms/step - loss: 0.5513 - acc: 0.7294\n",
            "Epoch 51/100\n",
            "4/4 [==============================] - 0s 56ms/step - loss: 0.5489 - acc: 0.7294\n",
            "Epoch 52/100\n",
            "4/4 [==============================] - 0s 44ms/step - loss: 0.5460 - acc: 0.7294\n",
            "Epoch 53/100\n",
            "4/4 [==============================] - 0s 45ms/step - loss: 0.5430 - acc: 0.7294\n",
            "Epoch 54/100\n",
            "4/4 [==============================] - 0s 45ms/step - loss: 0.5397 - acc: 0.7294\n",
            "Epoch 55/100\n",
            "4/4 [==============================] - 0s 47ms/step - loss: 0.5391 - acc: 0.7294\n",
            "Epoch 56/100\n",
            "4/4 [==============================] - 0s 55ms/step - loss: 0.5393 - acc: 0.7294\n",
            "Epoch 57/100\n",
            "4/4 [==============================] - 0s 46ms/step - loss: 0.5368 - acc: 0.7294\n",
            "Epoch 58/100\n",
            "4/4 [==============================] - 0s 45ms/step - loss: 0.5342 - acc: 0.7294\n",
            "Epoch 59/100\n",
            "4/4 [==============================] - 0s 47ms/step - loss: 0.5308 - acc: 0.7294\n",
            "Epoch 60/100\n",
            "4/4 [==============================] - 0s 52ms/step - loss: 0.5303 - acc: 0.7294\n",
            "Epoch 61/100\n",
            "4/4 [==============================] - 0s 45ms/step - loss: 0.5286 - acc: 0.7294\n",
            "Epoch 62/100\n",
            "4/4 [==============================] - 0s 45ms/step - loss: 0.5280 - acc: 0.7294\n",
            "Epoch 63/100\n",
            "4/4 [==============================] - 0s 44ms/step - loss: 0.5276 - acc: 0.7294\n",
            "Epoch 64/100\n",
            "4/4 [==============================] - 0s 44ms/step - loss: 0.5270 - acc: 0.7294\n",
            "Epoch 65/100\n",
            "4/4 [==============================] - 0s 44ms/step - loss: 0.5241 - acc: 0.7294\n",
            "Epoch 66/100\n",
            "4/4 [==============================] - 0s 45ms/step - loss: 0.5237 - acc: 0.7294\n",
            "Epoch 67/100\n",
            "4/4 [==============================] - 0s 49ms/step - loss: 0.5223 - acc: 0.7459\n",
            "Epoch 68/100\n",
            "4/4 [==============================] - 0s 44ms/step - loss: 0.5176 - acc: 0.7610\n",
            "Epoch 69/100\n",
            "4/4 [==============================] - 0s 44ms/step - loss: 0.5179 - acc: 0.7734\n",
            "Epoch 70/100\n",
            "4/4 [==============================] - 0s 43ms/step - loss: 0.5151 - acc: 0.7788\n",
            "Epoch 71/100\n",
            "4/4 [==============================] - 0s 59ms/step - loss: 0.5135 - acc: 0.7830\n",
            "Epoch 72/100\n",
            "4/4 [==============================] - 0s 77ms/step - loss: 0.5137 - acc: 0.7843\n",
            "Epoch 73/100\n",
            "4/4 [==============================] - 0s 67ms/step - loss: 0.5111 - acc: 0.8008\n",
            "Epoch 74/100\n",
            "4/4 [==============================] - 0s 75ms/step - loss: 0.5104 - acc: 0.7967\n",
            "Epoch 75/100\n",
            "4/4 [==============================] - 0s 79ms/step - loss: 0.5088 - acc: 0.7830\n",
            "Epoch 76/100\n",
            "4/4 [==============================] - 0s 65ms/step - loss: 0.5068 - acc: 0.7940\n",
            "Epoch 77/100\n",
            "4/4 [==============================] - 0s 63ms/step - loss: 0.5071 - acc: 0.8049\n",
            "Epoch 78/100\n",
            "4/4 [==============================] - 0s 65ms/step - loss: 0.5087 - acc: 0.7953\n",
            "Epoch 79/100\n",
            "4/4 [==============================] - 1s 166ms/step - loss: 0.5081 - acc: 0.8049\n",
            "Epoch 80/100\n",
            "4/4 [==============================] - 1s 148ms/step - loss: 0.5060 - acc: 0.8104\n",
            "Epoch 81/100\n",
            "4/4 [==============================] - 1s 128ms/step - loss: 0.5040 - acc: 0.8118\n",
            "Epoch 82/100\n",
            "4/4 [==============================] - 0s 86ms/step - loss: 0.5002 - acc: 0.8091\n",
            "Epoch 83/100\n",
            "4/4 [==============================] - 0s 68ms/step - loss: 0.5005 - acc: 0.8063\n",
            "Epoch 84/100\n",
            "4/4 [==============================] - 0s 62ms/step - loss: 0.5007 - acc: 0.8091\n",
            "Epoch 85/100\n",
            "4/4 [==============================] - 0s 45ms/step - loss: 0.4991 - acc: 0.8077\n",
            "Epoch 86/100\n",
            "4/4 [==============================] - 0s 44ms/step - loss: 0.4956 - acc: 0.8173\n",
            "Epoch 87/100\n",
            "4/4 [==============================] - 0s 50ms/step - loss: 0.4943 - acc: 0.8214\n",
            "Epoch 88/100\n",
            "4/4 [==============================] - 0s 46ms/step - loss: 0.4927 - acc: 0.8173\n",
            "Epoch 89/100\n",
            "4/4 [==============================] - 0s 49ms/step - loss: 0.4919 - acc: 0.8214\n",
            "Epoch 90/100\n",
            "4/4 [==============================] - 0s 44ms/step - loss: 0.4899 - acc: 0.8201\n",
            "Epoch 91/100\n",
            "4/4 [==============================] - 0s 46ms/step - loss: 0.4870 - acc: 0.8269\n",
            "Epoch 92/100\n",
            "4/4 [==============================] - 0s 52ms/step - loss: 0.4865 - acc: 0.8214\n",
            "Epoch 93/100\n",
            "4/4 [==============================] - 0s 49ms/step - loss: 0.4847 - acc: 0.8242\n",
            "Epoch 94/100\n",
            "4/4 [==============================] - 0s 53ms/step - loss: 0.4807 - acc: 0.8310\n",
            "Epoch 95/100\n",
            "4/4 [==============================] - 0s 50ms/step - loss: 0.4816 - acc: 0.8283\n",
            "Epoch 96/100\n",
            "4/4 [==============================] - 0s 47ms/step - loss: 0.4811 - acc: 0.8269\n",
            "Epoch 97/100\n",
            "4/4 [==============================] - 0s 50ms/step - loss: 0.4762 - acc: 0.8269\n",
            "Epoch 98/100\n",
            "4/4 [==============================] - 0s 45ms/step - loss: 0.4718 - acc: 0.8310\n",
            "Epoch 99/100\n",
            "4/4 [==============================] - 0s 50ms/step - loss: 0.4713 - acc: 0.8338\n",
            "Epoch 100/100\n",
            "4/4 [==============================] - 0s 46ms/step - loss: 0.4648 - acc: 0.8352\n"
          ]
        }
      ],
      "source": [
        "import tensorflow as tf\n",
        "from tensorflow.keras import optimizers\n",
        "from keras.models import Sequential\n",
        "from keras.layers import LSTM, Dense\n",
        "\n",
        "\n",
        "model = Sequential()\n",
        "model.add(LSTM(256, return_sequences=True, batch_input_shape=(X_train.shape)))\n",
        "model.add(LSTM(128, return_sequences=True))\n",
        "model.add(LSTM(64, return_sequences=True))\n",
        "model.add(LSTM(32))\n",
        "model.add(Dense(42, activation='relu'))\n",
        "model.add(Dense(20, activation='relu'))\n",
        "model.add(Dense(1, activation='sigmoid'))\n",
        "\n",
        "model.compile(optimizer=tf.keras.optimizers.Adam(learning_rate=10e-5), loss=\"binary_crossentropy\", metrics=[\"acc\"])\n",
        "\n",
        "\n",
        "history = model.fit(X_train, y_train,\n",
        "                    batch_size=182,\n",
        "                    epochs = 100,\n",
        "                    verbose = 1,\n",
        "                    shuffle = False)"
      ]
    },
    {
      "cell_type": "code",
      "source": [
        "# Contar el número de 1s y 0s en la columna veredicto\n",
        "conteo = df_tokenizado['veredict'].value_counts()\n",
        "conteo"
      ],
      "metadata": {
        "colab": {
          "base_uri": "https://localhost:8080/"
        },
        "id": "6MiBFgagb4OP",
        "outputId": "5510fea0-7d6d-4610-bf53-0b39375e0c73"
      },
      "execution_count": null,
      "outputs": [
        {
          "output_type": "execute_result",
          "data": {
            "text/plain": [
              "0    659\n",
              "1    251\n",
              "Name: veredict, dtype: int64"
            ]
          },
          "metadata": {},
          "execution_count": 20
        }
      ]
    },
    {
      "cell_type": "code",
      "source": [
        "# Ok...\n",
        "print(659+251)\n",
        "print(659/910)"
      ],
      "metadata": {
        "colab": {
          "base_uri": "https://localhost:8080/"
        },
        "id": "AitS_p2Eb6YI",
        "outputId": "cd6a10e2-4a51-46ac-f6de-118e529d4bfa"
      },
      "execution_count": null,
      "outputs": [
        {
          "output_type": "stream",
          "name": "stdout",
          "text": [
            "910\n",
            "0.7241758241758242\n"
          ]
        }
      ]
    },
    {
      "cell_type": "code",
      "execution_count": null,
      "metadata": {
        "id": "UVoZBPKq2cOB",
        "colab": {
          "base_uri": "https://localhost:8080/",
          "height": 887
        },
        "outputId": "6c98e4f0-8fe7-49c6-97df-710aff095fc5"
      },
      "outputs": [
        {
          "output_type": "display_data",
          "data": {
            "text/plain": [
              "<Figure size 640x480 with 1 Axes>"
            ],
            "image/png": "[encoded data removed]"
          },
          "metadata": {}
        },
        {
          "output_type": "display_data",
          "data": {
            "text/plain": [
              "<Figure size 640x480 with 1 Axes>"
            ],
            "image/png": "[encoded data removed]"
          },
          "metadata": {}
        }
      ],
      "source": [
        "import matplotlib.pyplot as plt\n",
        "\n",
        "acc = history.history['acc']\n",
        "loss = history.history['loss']\n",
        "\n",
        "epochs = range(1, len(acc)+1)\n",
        "\n",
        "plt.plot(epochs, acc, 'b*-', label='train accuracy')\n",
        "plt.title('train acc')\n",
        "plt.legend()\n",
        "\n",
        "plt.figure()\n",
        "\n",
        "plt.plot(epochs, loss, 'b*-', label ='training loss')\n",
        "plt.title('train loss')\n",
        "plt.legend()\n",
        "\n",
        "plt.show()"
      ]
    },
    {
      "cell_type": "code",
      "execution_count": null,
      "metadata": {
        "colab": {
          "base_uri": "https://localhost:8080/"
        },
        "id": "uFgBW-onPu4k",
        "outputId": "0cc6a3b7-7de5-46c9-c069-b0c8406db052"
      },
      "outputs": [
        {
          "output_type": "stream",
          "name": "stdout",
          "text": [
            "16/25 [==================>...........] - ETA: 0s - loss: 0.6299 - acc: 0.6938"
          ]
        },
        {
          "output_type": "stream",
          "name": "stderr",
          "text": [
            "WARNING:tensorflow:Your input ran out of data; interrupting training. Make sure that your dataset or generator can generate at least `steps_per_epoch * epochs` batches (in this case, 25 batches). You may need to use the repeat() function when building your dataset.\n"
          ]
        },
        {
          "output_type": "stream",
          "name": "stdout",
          "text": [
            "\b\b\b\b\b\b\b\b\b\b\b\b\b\b\b\b\b\b\b\b\b\b\b\b\b\b\b\b\b\b\b\b\b\b\b\b\b\b\b\b\b\b\b\b\b\b\b\b\b\b\b\b\b\b\b\b\b\b\b\b\b\b\b\b\b\b\b\b\b\b\b\b\b\b\b\b\b\r25/25 [==============================] - 2s 10ms/step - loss: 0.5945 - acc: 0.7158\n",
            "\n",
            "test acc :\n",
            " 0.7158470153808594\n"
          ]
        }
      ],
      "source": [
        "test_loss, test_acc = model.evaluate(X_test, y_test, batch_size=10, steps = 25)\n",
        "print('\\ntest acc :\\n', test_acc)"
      ]
    },
    {
      "cell_type": "code",
      "source": [
        "predictions = model.predict(X_test)\n",
        "classes_x = predictions.T\n",
        "classes_x = np.rint(classes_x)\n",
        "classes_x"
      ],
      "metadata": {
        "id": "5GehLMwriRmT",
        "colab": {
          "base_uri": "https://localhost:8080/"
        },
        "outputId": "876574c2-8c26-4f9c-e052-3fd14edc8623"
      },
      "execution_count": null,
      "outputs": [
        {
          "output_type": "stream",
          "name": "stdout",
          "text": [
            "6/6 [==============================] - 2s 10ms/step\n"
          ]
        },
        {
          "output_type": "execute_result",
          "data": {
            "text/plain": [
              "array([[0., 0., 0., 0., 0., 0., 0., 0., 0., 0., 0., 0., 0., 0., 1., 0.,\n",
              "        0., 0., 0., 0., 0., 0., 0., 0., 0., 0., 0., 0., 1., 0., 0., 0.,\n",
              "        1., 0., 0., 0., 0., 0., 0., 0., 0., 0., 0., 0., 0., 0., 0., 1.,\n",
              "        0., 0., 0., 0., 0., 0., 0., 0., 0., 0., 0., 0., 0., 0., 0., 0.,\n",
              "        0., 0., 0., 0., 0., 0., 0., 0., 0., 0., 0., 0., 0., 0., 1., 0.,\n",
              "        0., 0., 0., 0., 0., 0., 0., 0., 0., 0., 0., 0., 0., 0., 0., 0.,\n",
              "        0., 0., 0., 0., 0., 0., 0., 0., 0., 0., 0., 0., 0., 0., 0., 0.,\n",
              "        0., 0., 0., 0., 0., 0., 0., 1., 1., 0., 0., 0., 0., 0., 0., 0.,\n",
              "        0., 0., 0., 0., 0., 0., 0., 0., 0., 0., 1., 0., 0., 0., 0., 0.,\n",
              "        0., 0., 0., 1., 0., 0., 0., 0., 0., 0., 0., 0., 0., 0., 0., 0.,\n",
              "        0., 0., 0., 0., 1., 1., 0., 0., 0., 0., 0., 1., 0., 0., 0., 0.,\n",
              "        0., 0., 0., 0., 0., 0., 0.]], dtype=float32)"
            ]
          },
          "metadata": {},
          "execution_count": 20
        }
      ]
    },
    {
      "cell_type": "code",
      "source": [
        "Zimport seaborn as sns\n",
        "from sklearn import datasets\n",
        "from sklearn.linear_model import LogisticRegression\n",
        "from sklearn.model_selection import train_test_split\n",
        "from sklearn.metrics import confusion_matrix\n",
        "import pandas as pd\n",
        "\n",
        "mat = confusion_matrix(classes_x[0], y_test)\n",
        "\n",
        "df = pd.DataFrame(mat, index=['Pred Original', 'Pred Plagio'], columns=['Label Original', 'Label Plagio'])\n",
        "\n",
        "sns.heatmap(df, annot=True, cbar=None, cmap=\"Blues\")\n",
        "plt.title(\"Matriz de confusión\"), plt.tight_layout()\n",
        "plt.show()"
      ],
      "metadata": {
        "id": "YNYNG3W6iVCW",
        "colab": {
          "base_uri": "https://localhost:8080/",
          "height": 487
        },
        "outputId": "eec9f353-09b9-42ce-91b0-e76b519366ac"
      },
      "execution_count": null,
      "outputs": [
        {
          "output_type": "display_data",
          "data": {
            "text/plain": [
              "<Figure size 640x480 with 1 Axes>"
            ],
            "image/png": "[encoded data removed]"
          },
          "metadata": {}
        }
      ]
    }
  ],
  "metadata": {
    "colab": {
      "provenance": [],
      "gpuType": "T4"
    },
    "kernelspec": {
      "display_name": "Python 3",
      "name": "python3"
    },
    "language_info": {
      "name": "python"
    },
    "accelerator": "GPU"
  },
  "nbformat": 4,
  "nbformat_minor": 0
}